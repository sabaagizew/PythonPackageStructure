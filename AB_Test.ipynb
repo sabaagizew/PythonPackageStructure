{
  "nbformat": 4,
  "nbformat_minor": 0,
  "metadata": {
    "colab": {
      "name": "AB_Test.ipynb",
      "provenance": [],
      "mount_file_id": "1mR81P3ldI8Fuz31VwVSzitJKxso81T4d",
      "authorship_tag": "ABX9TyPzqL9Rc5dGxUpMtvF+zK6o",
      "include_colab_link": true
    },
    "kernelspec": {
      "name": "python3",
      "display_name": "Python 3"
    },
    "language_info": {
      "name": "python"
    }
  },
  "cells": [
    {
      "cell_type": "markdown",
      "metadata": {
        "id": "view-in-github",
        "colab_type": "text"
      },
      "source": [
        "<a href=\"https://colab.research.google.com/github/sabaagizew/PythonPackageStructure/blob/main/AB_Test.ipynb\" target=\"_parent\"><img src=\"https://colab.research.google.com/assets/colab-badge.svg\" alt=\"Open In Colab\"/></a>"
      ]
    },
    {
      "cell_type": "code",
      "metadata": {
        "id": "KL-iQrmePAb1"
      },
      "source": [
        "from pydrive.auth import GoogleAuth\n",
        "from pydrive.drive import GoogleDrive\n",
        "from google.colab import auth\n",
        "from oauth2client.client import GoogleCredentials"
      ],
      "execution_count": 72,
      "outputs": []
    },
    {
      "cell_type": "code",
      "metadata": {
        "id": "ip1b6FTuS3HM"
      },
      "source": [
        "import math as mt\n",
        "import numpy as np\n",
        "import pandas as pd\n",
        "from scipy.stats import norm"
      ],
      "execution_count": 73,
      "outputs": []
    },
    {
      "cell_type": "code",
      "metadata": {
        "id": "FBUxcyaYPnem"
      },
      "source": [
        "auth.authenticate_user()\n",
        "gauth = GoogleAuth()\n",
        "gauth.credentials = GoogleCredentials.get_application_default()\n",
        "drive = GoogleDrive(gauth)"
      ],
      "execution_count": 74,
      "outputs": []
    },
    {
      "cell_type": "code",
      "metadata": {
        "colab": {
          "base_uri": "https://localhost:8080/"
        },
        "id": "bBr8HYJLXKWu",
        "outputId": "2d6ff8f3-b628-4cb3-d5fa-aee5d61c7df8"
      },
      "source": [
        "# Packages imports\n",
        "import numpy as np\n",
        "import pandas as pd\n",
        "import scipy.stats as stats\n",
        "import statsmodels.stats.api as sms\n",
        "import matplotlib as mpl\n",
        "import matplotlib.pyplot as plt\n",
        "import seaborn as sns\n",
        "from math import ceil\n",
        "\n",
        "%matplotlib inline\n",
        "\n",
        "# Some plot styling preferences\n",
        "plt.style.use('seaborn-whitegrid')\n",
        "font = {'family' : 'Helvetica',\n",
        "        'weight' : 'bold',\n",
        "        'size'   : 14}\n",
        "\n",
        "mpl.rc('font', **font)\n",
        "effect_size = sms.proportion_effectsize(0.13, 0.15)    # Calculating effect size based on our expected rates\n",
        "\n",
        "required_n = sms.NormalIndPower().solve_power(\n",
        "    effect_size, \n",
        "    power=0.8, \n",
        "    alpha=0.05, \n",
        "    ratio=1\n",
        "    )                                                  # Calculating sample size needed\n",
        "\n",
        "required_n = ceil(required_n)                          # Rounding up to next whole number                          \n",
        "\n",
        "print(required_n)"
      ],
      "execution_count": 75,
      "outputs": [
        {
          "output_type": "stream",
          "text": [
            "4720\n"
          ],
          "name": "stdout"
        }
      ]
    },
    {
      "cell_type": "code",
      "metadata": {
        "id": "ZbfvKpfTQ6hl"
      },
      "source": [
        "pd.set_option('max_column', None)\n",
        "df= pd.read_csv('drive/MyDrive/AdSmartABdata.csv')"
      ],
      "execution_count": 76,
      "outputs": []
    },
    {
      "cell_type": "code",
      "metadata": {
        "colab": {
          "base_uri": "https://localhost:8080/",
          "height": 204
        },
        "id": "-a8Hn8WnQ9IW",
        "outputId": "d736f799-1617-4cb9-f47e-22df0828e3e8"
      },
      "source": [
        "df.head(5)\n"
      ],
      "execution_count": 77,
      "outputs": [
        {
          "output_type": "execute_result",
          "data": {
            "text/html": [
              "<div>\n",
              "<style scoped>\n",
              "    .dataframe tbody tr th:only-of-type {\n",
              "        vertical-align: middle;\n",
              "    }\n",
              "\n",
              "    .dataframe tbody tr th {\n",
              "        vertical-align: top;\n",
              "    }\n",
              "\n",
              "    .dataframe thead th {\n",
              "        text-align: right;\n",
              "    }\n",
              "</style>\n",
              "<table border=\"1\" class=\"dataframe\">\n",
              "  <thead>\n",
              "    <tr style=\"text-align: right;\">\n",
              "      <th></th>\n",
              "      <th>auction_id</th>\n",
              "      <th>experiment</th>\n",
              "      <th>date</th>\n",
              "      <th>hour</th>\n",
              "      <th>device_make</th>\n",
              "      <th>platform_os</th>\n",
              "      <th>browser</th>\n",
              "      <th>yes</th>\n",
              "      <th>no</th>\n",
              "    </tr>\n",
              "  </thead>\n",
              "  <tbody>\n",
              "    <tr>\n",
              "      <th>0</th>\n",
              "      <td>0008ef63-77a7-448b-bd1e-075f42c55e39</td>\n",
              "      <td>exposed</td>\n",
              "      <td>2020-07-10</td>\n",
              "      <td>8</td>\n",
              "      <td>Generic Smartphone</td>\n",
              "      <td>6</td>\n",
              "      <td>Chrome Mobile</td>\n",
              "      <td>0</td>\n",
              "      <td>0</td>\n",
              "    </tr>\n",
              "    <tr>\n",
              "      <th>1</th>\n",
              "      <td>000eabc5-17ce-4137-8efe-44734d914446</td>\n",
              "      <td>exposed</td>\n",
              "      <td>2020-07-07</td>\n",
              "      <td>10</td>\n",
              "      <td>Generic Smartphone</td>\n",
              "      <td>6</td>\n",
              "      <td>Chrome Mobile</td>\n",
              "      <td>0</td>\n",
              "      <td>0</td>\n",
              "    </tr>\n",
              "    <tr>\n",
              "      <th>2</th>\n",
              "      <td>0016d14a-ae18-4a02-a204-6ba53b52f2ed</td>\n",
              "      <td>exposed</td>\n",
              "      <td>2020-07-05</td>\n",
              "      <td>2</td>\n",
              "      <td>E5823</td>\n",
              "      <td>6</td>\n",
              "      <td>Chrome Mobile WebView</td>\n",
              "      <td>0</td>\n",
              "      <td>1</td>\n",
              "    </tr>\n",
              "    <tr>\n",
              "      <th>3</th>\n",
              "      <td>00187412-2932-4542-a8ef-3633901c98d9</td>\n",
              "      <td>control</td>\n",
              "      <td>2020-07-03</td>\n",
              "      <td>15</td>\n",
              "      <td>Samsung SM-A705FN</td>\n",
              "      <td>6</td>\n",
              "      <td>Facebook</td>\n",
              "      <td>0</td>\n",
              "      <td>0</td>\n",
              "    </tr>\n",
              "    <tr>\n",
              "      <th>4</th>\n",
              "      <td>001a7785-d3fe-4e11-a344-c8735acacc2c</td>\n",
              "      <td>control</td>\n",
              "      <td>2020-07-03</td>\n",
              "      <td>15</td>\n",
              "      <td>Generic Smartphone</td>\n",
              "      <td>6</td>\n",
              "      <td>Chrome Mobile</td>\n",
              "      <td>0</td>\n",
              "      <td>0</td>\n",
              "    </tr>\n",
              "  </tbody>\n",
              "</table>\n",
              "</div>"
            ],
            "text/plain": [
              "                             auction_id experiment        date  hour  \\\n",
              "0  0008ef63-77a7-448b-bd1e-075f42c55e39    exposed  2020-07-10     8   \n",
              "1  000eabc5-17ce-4137-8efe-44734d914446    exposed  2020-07-07    10   \n",
              "2  0016d14a-ae18-4a02-a204-6ba53b52f2ed    exposed  2020-07-05     2   \n",
              "3  00187412-2932-4542-a8ef-3633901c98d9    control  2020-07-03    15   \n",
              "4  001a7785-d3fe-4e11-a344-c8735acacc2c    control  2020-07-03    15   \n",
              "\n",
              "          device_make  platform_os                browser  yes  no  \n",
              "0  Generic Smartphone            6          Chrome Mobile    0   0  \n",
              "1  Generic Smartphone            6          Chrome Mobile    0   0  \n",
              "2               E5823            6  Chrome Mobile WebView    0   1  \n",
              "3   Samsung SM-A705FN            6               Facebook    0   0  \n",
              "4  Generic Smartphone            6          Chrome Mobile    0   0  "
            ]
          },
          "metadata": {
            "tags": []
          },
          "execution_count": 77
        }
      ]
    },
    {
      "cell_type": "code",
      "metadata": {
        "colab": {
          "base_uri": "https://localhost:8080/"
        },
        "id": "10h1aN7bDTY7",
        "outputId": "afb00f9b-cc56-4a2f-9123-cef6a366d7d4"
      },
      "source": [
        "df.info()"
      ],
      "execution_count": 78,
      "outputs": [
        {
          "output_type": "stream",
          "text": [
            "<class 'pandas.core.frame.DataFrame'>\n",
            "RangeIndex: 8077 entries, 0 to 8076\n",
            "Data columns (total 9 columns):\n",
            " #   Column       Non-Null Count  Dtype \n",
            "---  ------       --------------  ----- \n",
            " 0   auction_id   8077 non-null   object\n",
            " 1   experiment   8077 non-null   object\n",
            " 2   date         8077 non-null   object\n",
            " 3   hour         8077 non-null   int64 \n",
            " 4   device_make  8077 non-null   object\n",
            " 5   platform_os  8077 non-null   int64 \n",
            " 6   browser      8077 non-null   object\n",
            " 7   yes          8077 non-null   int64 \n",
            " 8   no           8077 non-null   int64 \n",
            "dtypes: int64(4), object(5)\n",
            "memory usage: 568.0+ KB\n"
          ],
          "name": "stdout"
        }
      ]
    },
    {
      "cell_type": "code",
      "metadata": {
        "id": "qksUpedpV3wT"
      },
      "source": [
        ""
      ],
      "execution_count": null,
      "outputs": []
    },
    {
      "cell_type": "code",
      "metadata": {
        "colab": {
          "base_uri": "https://localhost:8080/"
        },
        "id": "-P8yFrtBETSi",
        "outputId": "788a5a33-a533-49eb-db61-cb1df87a846d"
      },
      "source": [
        "df.shape"
      ],
      "execution_count": 79,
      "outputs": [
        {
          "output_type": "execute_result",
          "data": {
            "text/plain": [
              "(8077, 9)"
            ]
          },
          "metadata": {
            "tags": []
          },
          "execution_count": 79
        }
      ]
    },
    {
      "cell_type": "code",
      "metadata": {
        "colab": {
          "base_uri": "https://localhost:8080/"
        },
        "id": "y8v0bygQTVPE",
        "outputId": "126f05e4-3df8-4577-bdb3-2e4e10c7e7af"
      },
      "source": [
        "df.isna().sum()\n",
        "#number of records that has no value"
      ],
      "execution_count": 80,
      "outputs": [
        {
          "output_type": "execute_result",
          "data": {
            "text/plain": [
              "auction_id     0\n",
              "experiment     0\n",
              "date           0\n",
              "hour           0\n",
              "device_make    0\n",
              "platform_os    0\n",
              "browser        0\n",
              "yes            0\n",
              "no             0\n",
              "dtype: int64"
            ]
          },
          "metadata": {
            "tags": []
          },
          "execution_count": 80
        }
      ]
    },
    {
      "cell_type": "code",
      "metadata": {
        "colab": {
          "base_uri": "https://localhost:8080/"
        },
        "id": "y4aJDdhDTgUM",
        "outputId": "56d84f78-8d31-4c2a-ce05-d926cc98bf86"
      },
      "source": [
        "# Calculate total number of cells in dataframe\n",
        "totalCells = np.product(df.shape)\n",
        "\n",
        "    # Count number of missing values per column\n",
        "missingCount = df.isnull().sum()\n",
        "\n",
        "    # Calculate total number of missing values\n",
        "totalMissing = missingCount.sum()\n",
        "\n",
        "    # Calculate percentage of missing values\n",
        "print(\"The AdSmartABdata dataset contains\", round(((totalMissing/totalCells) * 100), 2), \"%\", \"missing values.\")"
      ],
      "execution_count": 81,
      "outputs": [
        {
          "output_type": "stream",
          "text": [
            "The AdSmartABdata dataset contains 0.0 % missing values.\n"
          ],
          "name": "stdout"
        }
      ]
    },
    {
      "cell_type": "code",
      "metadata": {
        "colab": {
          "base_uri": "https://localhost:8080/"
        },
        "id": "WZkmbSDHHLFe",
        "outputId": "2fb8c941-35bf-4586-cca8-a2b1ede9d476"
      },
      "source": [
        "for col in df.columns:\n",
        "    print(col)\n",
        "\n",
        "#print(df.columns)\n",
        "# other way of listing the columns"
      ],
      "execution_count": 82,
      "outputs": [
        {
          "output_type": "stream",
          "text": [
            "auction_id\n",
            "experiment\n",
            "date\n",
            "hour\n",
            "device_make\n",
            "platform_os\n",
            "browser\n",
            "yes\n",
            "no\n"
          ],
          "name": "stdout"
        }
      ]
    },
    {
      "cell_type": "code",
      "metadata": {
        "colab": {
          "base_uri": "https://localhost:8080/",
          "height": 176
        },
        "id": "z0N3JVeSTIBu",
        "outputId": "a7072e82-ada0-48cb-c99e-cef11b8fb85a"
      },
      "source": [
        "# To make sure all the control group are seeing the old page and viceversa\n",
        "\n",
        "pd.crosstab(df['experiment'], df['browser'])"
      ],
      "execution_count": 96,
      "outputs": [
        {
          "output_type": "execute_result",
          "data": {
            "text/html": [
              "<div>\n",
              "<style scoped>\n",
              "    .dataframe tbody tr th:only-of-type {\n",
              "        vertical-align: middle;\n",
              "    }\n",
              "\n",
              "    .dataframe tbody tr th {\n",
              "        vertical-align: top;\n",
              "    }\n",
              "\n",
              "    .dataframe thead th {\n",
              "        text-align: right;\n",
              "    }\n",
              "</style>\n",
              "<table border=\"1\" class=\"dataframe\">\n",
              "  <thead>\n",
              "    <tr style=\"text-align: right;\">\n",
              "      <th>browser</th>\n",
              "      <th>Android</th>\n",
              "      <th>Chrome</th>\n",
              "      <th>Chrome Mobile</th>\n",
              "      <th>Chrome Mobile WebView</th>\n",
              "      <th>Chrome Mobile iOS</th>\n",
              "      <th>Edge Mobile</th>\n",
              "      <th>Facebook</th>\n",
              "      <th>Firefox Mobile</th>\n",
              "      <th>Mobile Safari</th>\n",
              "      <th>Mobile Safari UI/WKWebView</th>\n",
              "      <th>Opera Mini</th>\n",
              "      <th>Opera Mobile</th>\n",
              "      <th>Pinterest</th>\n",
              "      <th>Puffin</th>\n",
              "      <th>Samsung Internet</th>\n",
              "    </tr>\n",
              "    <tr>\n",
              "      <th>experiment</th>\n",
              "      <th></th>\n",
              "      <th></th>\n",
              "      <th></th>\n",
              "      <th></th>\n",
              "      <th></th>\n",
              "      <th></th>\n",
              "      <th></th>\n",
              "      <th></th>\n",
              "      <th></th>\n",
              "      <th></th>\n",
              "      <th></th>\n",
              "      <th></th>\n",
              "      <th></th>\n",
              "      <th></th>\n",
              "      <th></th>\n",
              "    </tr>\n",
              "  </thead>\n",
              "  <tbody>\n",
              "    <tr>\n",
              "      <th>control</th>\n",
              "      <td>1</td>\n",
              "      <td>1</td>\n",
              "      <td>2410</td>\n",
              "      <td>292</td>\n",
              "      <td>34</td>\n",
              "      <td>0</td>\n",
              "      <td>561</td>\n",
              "      <td>0</td>\n",
              "      <td>246</td>\n",
              "      <td>30</td>\n",
              "      <td>1</td>\n",
              "      <td>0</td>\n",
              "      <td>2</td>\n",
              "      <td>1</td>\n",
              "      <td>492</td>\n",
              "    </tr>\n",
              "    <tr>\n",
              "      <th>exposed</th>\n",
              "      <td>0</td>\n",
              "      <td>2</td>\n",
              "      <td>2144</td>\n",
              "      <td>1197</td>\n",
              "      <td>17</td>\n",
              "      <td>1</td>\n",
              "      <td>203</td>\n",
              "      <td>1</td>\n",
              "      <td>91</td>\n",
              "      <td>14</td>\n",
              "      <td>0</td>\n",
              "      <td>3</td>\n",
              "      <td>1</td>\n",
              "      <td>0</td>\n",
              "      <td>332</td>\n",
              "    </tr>\n",
              "  </tbody>\n",
              "</table>\n",
              "</div>"
            ],
            "text/plain": [
              "browser     Android  Chrome  Chrome Mobile  Chrome Mobile WebView  \\\n",
              "experiment                                                          \n",
              "control           1       1           2410                    292   \n",
              "exposed           0       2           2144                   1197   \n",
              "\n",
              "browser     Chrome Mobile iOS  Edge Mobile  Facebook  Firefox Mobile  \\\n",
              "experiment                                                             \n",
              "control                    34            0       561               0   \n",
              "exposed                    17            1       203               1   \n",
              "\n",
              "browser     Mobile Safari  Mobile Safari UI/WKWebView  Opera Mini  \\\n",
              "experiment                                                          \n",
              "control               246                          30           1   \n",
              "exposed                91                          14           0   \n",
              "\n",
              "browser     Opera Mobile  Pinterest  Puffin  Samsung Internet  \n",
              "experiment                                                     \n",
              "control                0          2       1               492  \n",
              "exposed                3          1       0               332  "
            ]
          },
          "metadata": {
            "tags": []
          },
          "execution_count": 96
        }
      ]
    },
    {
      "cell_type": "code",
      "metadata": {
        "colab": {
          "base_uri": "https://localhost:8080/"
        },
        "id": "j1hy60KwP8MD",
        "outputId": "c56ed0b6-4354-4eff-f8be-ce1b29ba2f25"
      },
      "source": [
        "session_counts= df['auction_id'].value_counts(ascending=False)\n",
        "multi_users = session_counts[session_counts > 1].count()\n",
        "\n",
        "print(f'There are {multi_users} users that appear multiple times in the dataset')"
      ],
      "execution_count": 103,
      "outputs": [
        {
          "output_type": "stream",
          "text": [
            "There are 0 users that appear multiple times in the dataset\n"
          ],
          "name": "stdout"
        }
      ]
    },
    {
      "cell_type": "code",
      "metadata": {
        "colab": {
          "base_uri": "https://localhost:8080/"
        },
        "id": "nMt0aAL8P8Tq",
        "outputId": "5e65f596-e88e-44c5-adf3-3add96513e82"
      },
      "source": [
        "users_to_drop = session_counts[session_counts > 1].index\n",
        "\n",
        "df = df[~df['auction_id'].isin(users_to_drop)]\n",
        "print(f'The updated dataset now has {df.shape[0]} entries')"
      ],
      "execution_count": 121,
      "outputs": [
        {
          "output_type": "stream",
          "text": [
            "The updated dataset now has 8077 entries\n"
          ],
          "name": "stdout"
        }
      ]
    },
    {
      "cell_type": "code",
      "metadata": {
        "colab": {
          "base_uri": "https://localhost:8080/",
          "height": 129
        },
        "id": "Sow_7vI0eoHg",
        "outputId": "a6401029-95f2-4731-e87f-037e97ba25cd"
      },
      "source": [
        "control_sample = df[df['experiment'] == ['control'].sample(n=required_n, random_state=22)\n",
        "exposed_sample = df[df['experiment'] == ['exposed'].sample(n=required_n, random_state=22)\n",
        "\n",
        "AdSmartABdata_test = pd.concat([control_sample, exposed_sample], axis=0)\n",
        "AdSmartABdata_test.reset_index(drop=True, inplace=True)\n",
        "AdSmartABdata_test"
      ],
      "execution_count": 123,
      "outputs": [
        {
          "output_type": "error",
          "ename": "SyntaxError",
          "evalue": "ignored",
          "traceback": [
            "\u001b[0;36m  File \u001b[0;32m\"<ipython-input-123-cc5bd3954e71>\"\u001b[0;36m, line \u001b[0;32m2\u001b[0m\n\u001b[0;31m    exposed_sample = df[df['experiment'] == ['exposed'].sample(n=required_n, random_state=22)\u001b[0m\n\u001b[0m                 ^\u001b[0m\n\u001b[0;31mSyntaxError\u001b[0m\u001b[0;31m:\u001b[0m invalid syntax\n"
          ]
        }
      ]
    },
    {
      "cell_type": "code",
      "metadata": {
        "id": "rpr0mc02kDpg"
      },
      "source": [
        ""
      ],
      "execution_count": null,
      "outputs": []
    },
    {
      "cell_type": "code",
      "metadata": {
        "id": "U32VCxs2UIBi"
      },
      "source": [
        ""
      ],
      "execution_count": null,
      "outputs": []
    },
    {
      "cell_type": "code",
      "metadata": {
        "id": "I8w7ZNa8VaJM"
      },
      "source": [
        ""
      ],
      "execution_count": null,
      "outputs": []
    },
    {
      "cell_type": "code",
      "metadata": {
        "id": "Wsy36SORVaXj"
      },
      "source": [
        ""
      ],
      "execution_count": null,
      "outputs": []
    },
    {
      "cell_type": "code",
      "metadata": {
        "colab": {
          "base_uri": "https://localhost:8080/",
          "height": 204
        },
        "id": "O9QonBkCHb2V",
        "outputId": "d99d9a38-5939-492b-8029-6251e2734f9a"
      },
      "source": [
        "df = pd.read_csv('drive/MyDrive/ab_data.csv')\n",
        "\n",
        "df.head()"
      ],
      "execution_count": 42,
      "outputs": [
        {
          "output_type": "execute_result",
          "data": {
            "text/html": [
              "<div>\n",
              "<style scoped>\n",
              "    .dataframe tbody tr th:only-of-type {\n",
              "        vertical-align: middle;\n",
              "    }\n",
              "\n",
              "    .dataframe tbody tr th {\n",
              "        vertical-align: top;\n",
              "    }\n",
              "\n",
              "    .dataframe thead th {\n",
              "        text-align: right;\n",
              "    }\n",
              "</style>\n",
              "<table border=\"1\" class=\"dataframe\">\n",
              "  <thead>\n",
              "    <tr style=\"text-align: right;\">\n",
              "      <th></th>\n",
              "      <th>user_id</th>\n",
              "      <th>timestamp</th>\n",
              "      <th>group</th>\n",
              "      <th>landing_page</th>\n",
              "      <th>converted</th>\n",
              "    </tr>\n",
              "  </thead>\n",
              "  <tbody>\n",
              "    <tr>\n",
              "      <th>0</th>\n",
              "      <td>851104</td>\n",
              "      <td>11:48.6</td>\n",
              "      <td>control</td>\n",
              "      <td>old_page</td>\n",
              "      <td>0</td>\n",
              "    </tr>\n",
              "    <tr>\n",
              "      <th>1</th>\n",
              "      <td>804228</td>\n",
              "      <td>01:45.2</td>\n",
              "      <td>control</td>\n",
              "      <td>old_page</td>\n",
              "      <td>0</td>\n",
              "    </tr>\n",
              "    <tr>\n",
              "      <th>2</th>\n",
              "      <td>661590</td>\n",
              "      <td>55:06.2</td>\n",
              "      <td>treatment</td>\n",
              "      <td>new_page</td>\n",
              "      <td>0</td>\n",
              "    </tr>\n",
              "    <tr>\n",
              "      <th>3</th>\n",
              "      <td>853541</td>\n",
              "      <td>28:03.1</td>\n",
              "      <td>treatment</td>\n",
              "      <td>new_page</td>\n",
              "      <td>0</td>\n",
              "    </tr>\n",
              "    <tr>\n",
              "      <th>4</th>\n",
              "      <td>864975</td>\n",
              "      <td>52:26.2</td>\n",
              "      <td>control</td>\n",
              "      <td>old_page</td>\n",
              "      <td>1</td>\n",
              "    </tr>\n",
              "  </tbody>\n",
              "</table>\n",
              "</div>"
            ],
            "text/plain": [
              "   user_id timestamp      group landing_page  converted\n",
              "0   851104   11:48.6    control     old_page          0\n",
              "1   804228   01:45.2    control     old_page          0\n",
              "2   661590   55:06.2  treatment     new_page          0\n",
              "3   853541   28:03.1  treatment     new_page          0\n",
              "4   864975   52:26.2    control     old_page          1"
            ]
          },
          "metadata": {
            "tags": []
          },
          "execution_count": 42
        }
      ]
    },
    {
      "cell_type": "code",
      "metadata": {
        "colab": {
          "base_uri": "https://localhost:8080/"
        },
        "id": "IrIEvxB_OAfi",
        "outputId": "757d2ba9-0600-4f5c-c825-f5c8bf0e7b51"
      },
      "source": [
        "df.info()"
      ],
      "execution_count": 48,
      "outputs": [
        {
          "output_type": "stream",
          "text": [
            "<class 'pandas.core.frame.DataFrame'>\n",
            "RangeIndex: 294478 entries, 0 to 294477\n",
            "Data columns (total 5 columns):\n",
            " #   Column        Non-Null Count   Dtype \n",
            "---  ------        --------------   ----- \n",
            " 0   user_id       294478 non-null  int64 \n",
            " 1   timestamp     294478 non-null  object\n",
            " 2   group         294478 non-null  object\n",
            " 3   landing_page  294478 non-null  object\n",
            " 4   converted     294478 non-null  int64 \n",
            "dtypes: int64(2), object(3)\n",
            "memory usage: 11.2+ MB\n"
          ],
          "name": "stdout"
        }
      ]
    },
    {
      "cell_type": "code",
      "metadata": {
        "id": "AjZ7Mhu0OeZR"
      },
      "source": [
        ""
      ],
      "execution_count": null,
      "outputs": []
    },
    {
      "cell_type": "code",
      "metadata": {
        "id": "s4p7kk3mOAre"
      },
      "source": [
        ""
      ],
      "execution_count": null,
      "outputs": []
    },
    {
      "cell_type": "code",
      "metadata": {
        "id": "XElkPlbWYe43"
      },
      "source": [
        "#@title\n",
        "#REFERENCE\n",
        "# A Conditional Sequential Test for the Equality of Two Binomial Proportions\n",
        "# William Q. Meeker, Jr\n",
        "# Journal of the Royal Statistical Society. Series C (Applied Statistics)\n",
        "# Vol. 30, No. 2 (1981), pp. 109-115\n",
        "def ConditionalSPRT(self,x,y,t1,alpha=0.05,beta=0.10,stop=None):\n",
        "        if t1<=1:\n",
        "            printLog('warning',\"Odd ratio should exceed 1.\")\n",
        "        if (alpha >0.5) | (beta >0.5):\n",
        "            printLog('warning',\"Unrealistic values of alpha or beta were passed.\"\n",
        "                     +\" You should have good reason to use large alpha & beta values\")\n",
        "        if stop!=None:\n",
        "            stop=math.floor(n0)\n",
        "\n",
        "        def comb(n, k):\n",
        "            return factorial(n) // factorial(k) // factorial(n - k)\n",
        "        \n",
        "        def lchoose(b, j):\n",
        "            a=[]\n",
        "            if (type(j) is list) | (isinstance(j,np.ndarray)==True):\n",
        "                if len(j)<2:\n",
        "                    j=j[0]\n",
        "            if (type(j) is list) | (isinstance(j,np.ndarray)==True):\n",
        "                for k in j:\n",
        "                    n=b\n",
        "                    if (0 <= k) & (k<= n):\n",
        "                        a.append(math.log(comb(n,k)))\n",
        "                    else:\n",
        "                        a.append(0)\n",
        "            else:\n",
        "                n=b\n",
        "                k=j\n",
        "                if (0 <= k) & (k<= n):\n",
        "                    a.append(math.log(comb(n,k)))\n",
        "                else:\n",
        "                    a.append(0)\n",
        "\n",
        "            return np.array(a)\n",
        "\n",
        "        def g(x,r,n,t1,t0=1):\n",
        "            return -math.log(h(x,r,n,t1))+math.log(h(x,r,n,t0))\n",
        "\n",
        "        def h(x,r,n,t=1):\n",
        "            return f(r,n,t,offset=ftermlog(x,r,n,t))\n",
        "\n",
        "        def f(r,n,t,offset=0):\n",
        "            upper=max(0,r-n)\n",
        "            lower=min(n,r)\n",
        "            rng=list(range(upper,lower+1))\n",
        "            return np.sum(fterm(rng,r,n,t,offset))\n",
        "\n",
        "        def fterm(j,r,n,t,offset=0):\n",
        "            ftlog=ftermlog(j,r,n,t,offset)\n",
        "            return np.array([math.exp(ex) for ex in ftlog])\n",
        "\n",
        "        def ftermlog(j,r,n,t,offset=0):\n",
        "            xx=r-j\n",
        "            lch=lchoose(n,j)\n",
        "            lchdiff=lchoose(n,xx)\n",
        "            lg=np.array(j)*math.log(t)\n",
        "            lgsum=lch+lchdiff\n",
        "            lgsum2=lgsum+lg\n",
        "            lgdiff=lgsum2-offset\n",
        "\n",
        "            return lgdiff\n",
        "\n",
        "        def logf(r,n,t,offset=0):\n",
        "\n",
        "            z=f(r,n,t,offset)\n",
        "            if z>0:\n",
        "                return math.log(z)\n",
        "            else:\n",
        "                return np.nan\n",
        "\n",
        "        def clowerUpper(r,n,t1c,t0=1,alpha=0.05,beta=0.10):\n",
        "            offset=ftermlog(math.ceil(r/2),r,n,t1c)\n",
        "            z=logf(r,n,t1c,logf(r,n,t0,offset)+offset)\n",
        "            a=-math.log(alpha/(1-beta))\n",
        "            b=math.log(beta/(1-alpha))\n",
        "            lower=b\n",
        "            upper=1+a\n",
        "            return (np.array([lower,upper])+z)/math.log(t1c/t0)\n",
        "            \n",
        "        l=math.log(beta/(1-alpha))\n",
        "        u=-math.log(alpha/(1-beta))\n",
        "        sample_size=min(len(x),len(y))\n",
        "        n=np.array(range(1,sample_size+1))\n",
        "\n",
        "        if stop!=None:\n",
        "            n=np.array([z for z in n if z<=stop])\n",
        "        x1=np.cumsum(x[n-1])\n",
        "        r=x1+np.cumsum(y[n-1])\n",
        "        stats=np.array(list(map(g,x1, r, n, [t1]*len(x1)))) #recurcively calls g\n",
        "\n",
        "        clu=list(map(clowerUpper,r,n,[t1]*len(r),[1]*len(r),[alpha]*len(r), [beta]*len(r)))\n",
        "        limits=[]\n",
        "        for v in clu:\n",
        "            inArray=[]\n",
        "            for vin in v:\n",
        "                inArray.append(math.floor(vin))\n",
        "            limits.append(np.array(inArray))\n",
        "        limits=np.array(limits)\n",
        "\n",
        "        k=np.where((stats>=u) | (stats<=l))\n",
        "        cvalues=stats[k]\n",
        "        if cvalues.shape[0]<1:\n",
        "            k= np.nan\n",
        "            outcome='Unable to conclude.Needs more sample.'\n",
        "        else:\n",
        "            k=np.min(k)\n",
        "            if stats[k]>=u:\n",
        "                outcome=f'Exposed group produced a statistically significant increase.'\n",
        "            else:\n",
        "                outcome='Their is no statistically significant difference between two test groups'\n",
        "        if (stop!=None) & (k==np.nan):\n",
        "            c1=clowerUpper(r,stop,t1,alpha,beta)\n",
        "            c1=math.floor(np.mean(c1)-0.5)\n",
        "            if x1[n0]<=c1:\n",
        "                truncate_decision='h0'\n",
        "                outcome='Maximum Limit Decision. The aproximate decision point shows their is no statistically significant difference between two test groups'\n",
        "            else:\n",
        "                truncate_decision='h1'\n",
        "                outcome=f'Maximum Limit Decision. The aproximate decision point shows exposed group produced a statistically significant increase.'\n",
        "            truncated=stop\n",
        "        else:\n",
        "            truncate_decision='Non'\n",
        "            truncated=np.nan\n",
        "        return (outcome,n, k,l,u,truncated,truncate_decision,x1,r,stats,limits)"
      ],
      "execution_count": null,
      "outputs": []
    },
    {
      "cell_type": "code",
      "metadata": {
        "id": "q5iIioRevG8s"
      },
      "source": [
        "## your code here. include other necessary functions as you want.\n",
        "class SequentialTest:\n",
        "  def __init__(self,exposed,control):\n",
        "    '''\n",
        "    initialise startup variables\n",
        "    '''\n",
        "\n",
        "  \n",
        "  def stoppingRule(self,):\n",
        "    '''\n",
        "    This function should take current observation and return statistical decision made. \n",
        "    Consider truncate rule for longer tests\n",
        "    '''\n",
        "    S, a, b,\n",
        "\n",
        "  def computeBoundaries(self,):\n",
        "    '''\n",
        "    This function shoud compute boundaries \n",
        "    '''\n",
        "\n",
        "  def plotTest(self,):\n",
        "    '''\n",
        "    showing the cumulative statistical test (e.g., log probability ratio) and the uper and lower limits.\n",
        "    '''\n",
        "\n",
        "  def plotBoundaries(self,):\n",
        "    '''cumulative sums of exposed successes, bounded by the critical limits.\n",
        "    '''\n"
      ],
      "execution_count": null,
      "outputs": []
    },
    {
      "cell_type": "code",
      "metadata": {
        "id": "n8rksn0AvHGp"
      },
      "source": [
        "def transform_data(df):\n",
        "  '''\n",
        "  segment data into exposed and control groups\n",
        "  consider that SmartAd runs the experment hourly, group data into hours. \n",
        "      Hint: create new column to hold date+hour and use df.column.map(lambda x:  pd.Timestamp(x,tz=None).strftime('%Y-%m-%d:%H'))\n",
        "  create two dataframes with bernouli series 1 for posetive(yes) and 0 for negative(no)\n",
        "    Hint: Given engagement(sum of yes and no until current observation as an array) and success (yes countas an array), the method generates random binomial distribution\n",
        "        #Example\n",
        "           engagement = np.array([5, 3, 3])\n",
        "           yes = np.array([2, 0, 3])       \n",
        "         Output is \"[1] 1 0 1 0 0 0 0 0 1 1 1\", showing a binary array of 5+3+3 values\n",
        "         of which 2 of the first 5 are ones, 0 of the next 3 are ones, and all 3 of\n",
        "         the last 3 are ones where position the ones is randomly distributed within each group.\n",
        "  '''\n",
        "  return exposed,control\n",
        "\n",
        "def plotDataSummary(exposed, control):\n",
        "  'This function plots cummulated success'\n",
        "\n",
        "def pretyPrintTestResult(self, test):\n",
        "  '''This function print final test result. Json format is recommended. For example\n",
        "  {\n",
        "    \"name\": \"\",\n",
        "    \"engagementCountControl\": ,\n",
        "    \"engagementCountExposed\": ,\n",
        "    \"positiveCountControl\": ,\n",
        "    \"positiveCountExposed\": ,\n",
        "    \"ControlSuccessProbability\": ,\n",
        "    \"ExposedSuccessProbability\": ,\n",
        "    \"basePositiveRate\": ,\n",
        "    \"significanceSign\": \".\",\n",
        "    \"lift\": ,\n",
        "    \"oddRatio\": ,\n",
        "    \"exactSuccessOddRate\":,\n",
        "    \"confidenceIntervalLevel\": ,\n",
        "    \"alpha\": ,\n",
        "    \"beta\": ,\n",
        "    \"power\": ,\n",
        "    \"criticalValue\": ,\n",
        "    \"lower critical(a)\": \n",
        "    \"upper critical(b)\": ,\n",
        "    \"TotalObservation\": \n",
        "  }'''"
      ],
      "execution_count": null,
      "outputs": []
    },
    {
      "cell_type": "code",
      "metadata": {
        "id": "ttcpzKMbvHKF"
      },
      "source": [
        "######################################\n",
        "'Define statistical parameters such as alpha, beta, sample size if evan approach is used, odd ratio for SPRT'\n",
        "alpha=\n",
        "beta=\n",
        "#other variables here\n",
        "'Compute statistical lower and upper decision points such as a and b'\n",
        "a=\n",
        "b=\n",
        "#other variables here\n",
        "\n",
        "##data processing here\n",
        "exposed,control=transform_data(data)\n",
        "##plot data summary\n",
        "plotDataSummary(exposed,control)\n",
        "\n",
        "'Perform test. Loop over each of data entry and perform test. Accumulate result into dataframe and print out test journey'\n",
        "test=SequentialTest(...)\n",
        "\n",
        "'Print test result.'\n",
        "pretyPrintTestResult(resultObject)"
      ],
      "execution_count": null,
      "outputs": []
    }
  ]
}