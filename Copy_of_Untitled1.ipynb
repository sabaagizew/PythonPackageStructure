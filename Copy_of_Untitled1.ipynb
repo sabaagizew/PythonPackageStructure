{
  "nbformat": 4,
  "nbformat_minor": 0,
  "metadata": {
    "colab": {
      "name": "Copy of Untitled1.ipynb",
      "provenance": [],
      "collapsed_sections": [],
      "mount_file_id": "1PPdX4tP8FSbEFtuAcFqR-37ryGbKHhFD",
      "authorship_tag": "ABX9TyMoUBb6HSwjOddudnRpjQN4",
      "include_colab_link": true
    },
    "kernelspec": {
      "name": "python3",
      "display_name": "Python 3"
    },
    "language_info": {
      "name": "python"
    }
  },
  "cells": [
    {
      "cell_type": "markdown",
      "metadata": {
        "id": "view-in-github",
        "colab_type": "text"
      },
      "source": [
        "<a href=\"https://colab.research.google.com/github/sabaagizew/PythonPackageStructure/blob/main/Copy_of_Untitled1.ipynb\" target=\"_parent\"><img src=\"https://colab.research.google.com/assets/colab-badge.svg\" alt=\"Open In Colab\"/></a>"
      ]
    },
    {
      "cell_type": "code",
      "metadata": {
        "id": "SxdXU8l_YrlC"
      },
      "source": [
        "import pandas as pd\n",
        "import numpy as np"
      ],
      "execution_count": 45,
      "outputs": []
    },
    {
      "cell_type": "code",
      "metadata": {
        "colab": {
          "base_uri": "https://localhost:8080/",
          "height": 513
        },
        "id": "9r7kYQlUhpnS",
        "outputId": "cd06f98b-1656-47b0-94e5-f3f5d997d4ce"
      },
      "source": [
        "df=pd.read_csv('drive/MyDrive/Week1_challenge_data_source(CSV).csv')\n",
        "df.head()"
      ],
      "execution_count": 46,
      "outputs": [
        {
          "output_type": "execute_result",
          "data": {
            "text/html": [
              "<div>\n",
              "<style scoped>\n",
              "    .dataframe tbody tr th:only-of-type {\n",
              "        vertical-align: middle;\n",
              "    }\n",
              "\n",
              "    .dataframe tbody tr th {\n",
              "        vertical-align: top;\n",
              "    }\n",
              "\n",
              "    .dataframe thead th {\n",
              "        text-align: right;\n",
              "    }\n",
              "</style>\n",
              "<table border=\"1\" class=\"dataframe\">\n",
              "  <thead>\n",
              "    <tr style=\"text-align: right;\">\n",
              "      <th></th>\n",
              "      <th>Bearer Id</th>\n",
              "      <th>Start</th>\n",
              "      <th>Start ms</th>\n",
              "      <th>End</th>\n",
              "      <th>End ms</th>\n",
              "      <th>Dur. (ms)</th>\n",
              "      <th>IMSI</th>\n",
              "      <th>MSISDN/Number</th>\n",
              "      <th>IMEI</th>\n",
              "      <th>Last Location Name</th>\n",
              "      <th>Avg RTT DL (ms)</th>\n",
              "      <th>Avg RTT UL (ms)</th>\n",
              "      <th>Avg Bearer TP DL (kbps)</th>\n",
              "      <th>Avg Bearer TP UL (kbps)</th>\n",
              "      <th>TCP DL Retrans. Vol (Bytes)</th>\n",
              "      <th>TCP UL Retrans. Vol (Bytes)</th>\n",
              "      <th>DL TP &lt; 50 Kbps (%)</th>\n",
              "      <th>50 Kbps &lt; DL TP &lt; 250 Kbps (%)</th>\n",
              "      <th>250 Kbps &lt; DL TP &lt; 1 Mbps (%)</th>\n",
              "      <th>DL TP &gt; 1 Mbps (%)</th>\n",
              "      <th>UL TP &lt; 10 Kbps (%)</th>\n",
              "      <th>10 Kbps &lt; UL TP &lt; 50 Kbps (%)</th>\n",
              "      <th>50 Kbps &lt; UL TP &lt; 300 Kbps (%)</th>\n",
              "      <th>UL TP &gt; 300 Kbps (%)</th>\n",
              "      <th>HTTP DL (Bytes)</th>\n",
              "      <th>HTTP UL (Bytes)</th>\n",
              "      <th>Activity Duration DL (ms)</th>\n",
              "      <th>Activity Duration UL (ms)</th>\n",
              "      <th>Dur. (ms).1</th>\n",
              "      <th>Handset Manufacturer</th>\n",
              "      <th>Handset Type</th>\n",
              "      <th>Nb of sec with 125000B &lt; Vol DL</th>\n",
              "      <th>Nb of sec with 1250B &lt; Vol UL &lt; 6250B</th>\n",
              "      <th>Nb of sec with 31250B &lt; Vol DL &lt; 125000B</th>\n",
              "      <th>Nb of sec with 37500B &lt; Vol UL</th>\n",
              "      <th>Nb of sec with 6250B &lt; Vol DL &lt; 31250B</th>\n",
              "      <th>Nb of sec with 6250B &lt; Vol UL &lt; 37500B</th>\n",
              "      <th>Nb of sec with Vol DL &lt; 6250B</th>\n",
              "      <th>Nb of sec with Vol UL &lt; 1250B</th>\n",
              "      <th>Social Media DL (Bytes)</th>\n",
              "      <th>Social Media UL (Bytes)</th>\n",
              "      <th>Google DL (Bytes)</th>\n",
              "      <th>Google UL (Bytes)</th>\n",
              "      <th>Email DL (Bytes)</th>\n",
              "      <th>Email UL (Bytes)</th>\n",
              "      <th>Youtube DL (Bytes)</th>\n",
              "      <th>Youtube UL (Bytes)</th>\n",
              "      <th>Netflix DL (Bytes)</th>\n",
              "      <th>Netflix UL (Bytes)</th>\n",
              "      <th>Gaming DL (Bytes)</th>\n",
              "      <th>Gaming UL (Bytes)</th>\n",
              "      <th>Other DL (Bytes)</th>\n",
              "      <th>Other UL (Bytes)</th>\n",
              "      <th>Total UL (Bytes)</th>\n",
              "      <th>Total DL (Bytes)</th>\n",
              "    </tr>\n",
              "  </thead>\n",
              "  <tbody>\n",
              "    <tr>\n",
              "      <th>0</th>\n",
              "      <td>1.311448e+19</td>\n",
              "      <td>4/4/2019 12:01</td>\n",
              "      <td>770.0</td>\n",
              "      <td>4/25/2019 14:35</td>\n",
              "      <td>662.0</td>\n",
              "      <td>1823652.0</td>\n",
              "      <td>2.082014e+14</td>\n",
              "      <td>3.366496e+10</td>\n",
              "      <td>3.552121e+13</td>\n",
              "      <td>9.16456699548519E+015</td>\n",
              "      <td>42.0</td>\n",
              "      <td>5.0</td>\n",
              "      <td>23.0</td>\n",
              "      <td>44.0</td>\n",
              "      <td>NaN</td>\n",
              "      <td>NaN</td>\n",
              "      <td>100.0</td>\n",
              "      <td>0.0</td>\n",
              "      <td>0.0</td>\n",
              "      <td>0.0</td>\n",
              "      <td>100.0</td>\n",
              "      <td>0.0</td>\n",
              "      <td>0.0</td>\n",
              "      <td>0.0</td>\n",
              "      <td>NaN</td>\n",
              "      <td>NaN</td>\n",
              "      <td>37624.0</td>\n",
              "      <td>38787.0</td>\n",
              "      <td>1.823653e+09</td>\n",
              "      <td>Samsung</td>\n",
              "      <td>Samsung Galaxy A5 Sm-A520F</td>\n",
              "      <td>NaN</td>\n",
              "      <td>NaN</td>\n",
              "      <td>NaN</td>\n",
              "      <td>NaN</td>\n",
              "      <td>NaN</td>\n",
              "      <td>NaN</td>\n",
              "      <td>213.0</td>\n",
              "      <td>214.0</td>\n",
              "      <td>1545765.0</td>\n",
              "      <td>24420.0</td>\n",
              "      <td>1634479.0</td>\n",
              "      <td>1271433.0</td>\n",
              "      <td>3563542.0</td>\n",
              "      <td>137762.0</td>\n",
              "      <td>15854611.0</td>\n",
              "      <td>2501332.0</td>\n",
              "      <td>8198936.0</td>\n",
              "      <td>9656251.0</td>\n",
              "      <td>278082303.0</td>\n",
              "      <td>14344150.0</td>\n",
              "      <td>171744450.0</td>\n",
              "      <td>8814393.0</td>\n",
              "      <td>36749741.0</td>\n",
              "      <td>308879636.0</td>\n",
              "    </tr>\n",
              "    <tr>\n",
              "      <th>1</th>\n",
              "      <td>1.311448e+19</td>\n",
              "      <td>4/9/2019 13:04</td>\n",
              "      <td>235.0</td>\n",
              "      <td>4/25/2019 8:15</td>\n",
              "      <td>606.0</td>\n",
              "      <td>1365104.0</td>\n",
              "      <td>2.082019e+14</td>\n",
              "      <td>3.368185e+10</td>\n",
              "      <td>3.579401e+13</td>\n",
              "      <td>L77566A</td>\n",
              "      <td>65.0</td>\n",
              "      <td>5.0</td>\n",
              "      <td>16.0</td>\n",
              "      <td>26.0</td>\n",
              "      <td>NaN</td>\n",
              "      <td>NaN</td>\n",
              "      <td>100.0</td>\n",
              "      <td>0.0</td>\n",
              "      <td>0.0</td>\n",
              "      <td>0.0</td>\n",
              "      <td>100.0</td>\n",
              "      <td>0.0</td>\n",
              "      <td>0.0</td>\n",
              "      <td>0.0</td>\n",
              "      <td>NaN</td>\n",
              "      <td>NaN</td>\n",
              "      <td>168.0</td>\n",
              "      <td>3560.0</td>\n",
              "      <td>1.365104e+09</td>\n",
              "      <td>Samsung</td>\n",
              "      <td>Samsung Galaxy J5 (Sm-J530)</td>\n",
              "      <td>NaN</td>\n",
              "      <td>NaN</td>\n",
              "      <td>NaN</td>\n",
              "      <td>NaN</td>\n",
              "      <td>NaN</td>\n",
              "      <td>NaN</td>\n",
              "      <td>971.0</td>\n",
              "      <td>1022.0</td>\n",
              "      <td>1926113.0</td>\n",
              "      <td>7165.0</td>\n",
              "      <td>3493924.0</td>\n",
              "      <td>920172.0</td>\n",
              "      <td>629046.0</td>\n",
              "      <td>308339.0</td>\n",
              "      <td>20247395.0</td>\n",
              "      <td>19111729.0</td>\n",
              "      <td>18338413.0</td>\n",
              "      <td>17227132.0</td>\n",
              "      <td>608750074.0</td>\n",
              "      <td>1170709.0</td>\n",
              "      <td>526904238.0</td>\n",
              "      <td>15055145.0</td>\n",
              "      <td>53800391.0</td>\n",
              "      <td>653384965.0</td>\n",
              "    </tr>\n",
              "    <tr>\n",
              "      <th>2</th>\n",
              "      <td>1.311448e+19</td>\n",
              "      <td>4/9/2019 17:42</td>\n",
              "      <td>1.0</td>\n",
              "      <td>4/25/2019 11:58</td>\n",
              "      <td>652.0</td>\n",
              "      <td>1361762.0</td>\n",
              "      <td>2.082003e+14</td>\n",
              "      <td>3.376063e+10</td>\n",
              "      <td>3.528151e+13</td>\n",
              "      <td>D42335A</td>\n",
              "      <td>NaN</td>\n",
              "      <td>NaN</td>\n",
              "      <td>6.0</td>\n",
              "      <td>9.0</td>\n",
              "      <td>NaN</td>\n",
              "      <td>NaN</td>\n",
              "      <td>100.0</td>\n",
              "      <td>0.0</td>\n",
              "      <td>0.0</td>\n",
              "      <td>0.0</td>\n",
              "      <td>100.0</td>\n",
              "      <td>0.0</td>\n",
              "      <td>0.0</td>\n",
              "      <td>0.0</td>\n",
              "      <td>NaN</td>\n",
              "      <td>NaN</td>\n",
              "      <td>0.0</td>\n",
              "      <td>0.0</td>\n",
              "      <td>1.361763e+09</td>\n",
              "      <td>Samsung</td>\n",
              "      <td>Samsung Galaxy A8 (2018)</td>\n",
              "      <td>NaN</td>\n",
              "      <td>NaN</td>\n",
              "      <td>NaN</td>\n",
              "      <td>NaN</td>\n",
              "      <td>NaN</td>\n",
              "      <td>NaN</td>\n",
              "      <td>751.0</td>\n",
              "      <td>695.0</td>\n",
              "      <td>1684053.0</td>\n",
              "      <td>42224.0</td>\n",
              "      <td>8535055.0</td>\n",
              "      <td>1694064.0</td>\n",
              "      <td>2690151.0</td>\n",
              "      <td>672973.0</td>\n",
              "      <td>19725661.0</td>\n",
              "      <td>14699576.0</td>\n",
              "      <td>17587794.0</td>\n",
              "      <td>6163408.0</td>\n",
              "      <td>229584621.0</td>\n",
              "      <td>395630.0</td>\n",
              "      <td>410692588.0</td>\n",
              "      <td>4215763.0</td>\n",
              "      <td>27883638.0</td>\n",
              "      <td>279807335.0</td>\n",
              "    </tr>\n",
              "    <tr>\n",
              "      <th>3</th>\n",
              "      <td>1.311448e+19</td>\n",
              "      <td>4/10/2019 0:31</td>\n",
              "      <td>486.0</td>\n",
              "      <td>4/25/2019 7:36</td>\n",
              "      <td>171.0</td>\n",
              "      <td>1321509.0</td>\n",
              "      <td>2.082014e+14</td>\n",
              "      <td>3.375034e+10</td>\n",
              "      <td>3.535661e+13</td>\n",
              "      <td>T21824A</td>\n",
              "      <td>NaN</td>\n",
              "      <td>NaN</td>\n",
              "      <td>44.0</td>\n",
              "      <td>44.0</td>\n",
              "      <td>NaN</td>\n",
              "      <td>NaN</td>\n",
              "      <td>100.0</td>\n",
              "      <td>0.0</td>\n",
              "      <td>0.0</td>\n",
              "      <td>0.0</td>\n",
              "      <td>100.0</td>\n",
              "      <td>0.0</td>\n",
              "      <td>0.0</td>\n",
              "      <td>0.0</td>\n",
              "      <td>NaN</td>\n",
              "      <td>NaN</td>\n",
              "      <td>3330.0</td>\n",
              "      <td>37882.0</td>\n",
              "      <td>1.321510e+09</td>\n",
              "      <td>undefined</td>\n",
              "      <td>undefined</td>\n",
              "      <td>NaN</td>\n",
              "      <td>NaN</td>\n",
              "      <td>NaN</td>\n",
              "      <td>NaN</td>\n",
              "      <td>NaN</td>\n",
              "      <td>NaN</td>\n",
              "      <td>17.0</td>\n",
              "      <td>207.0</td>\n",
              "      <td>644121.0</td>\n",
              "      <td>13372.0</td>\n",
              "      <td>9023734.0</td>\n",
              "      <td>2788027.0</td>\n",
              "      <td>1439754.0</td>\n",
              "      <td>631229.0</td>\n",
              "      <td>21388122.0</td>\n",
              "      <td>15146643.0</td>\n",
              "      <td>13994646.0</td>\n",
              "      <td>1097942.0</td>\n",
              "      <td>799538153.0</td>\n",
              "      <td>10849722.0</td>\n",
              "      <td>749039933.0</td>\n",
              "      <td>12797283.0</td>\n",
              "      <td>43324218.0</td>\n",
              "      <td>846028530.0</td>\n",
              "    </tr>\n",
              "    <tr>\n",
              "      <th>4</th>\n",
              "      <td>1.311448e+19</td>\n",
              "      <td>4/12/2019 20:10</td>\n",
              "      <td>565.0</td>\n",
              "      <td>4/25/2019 10:40</td>\n",
              "      <td>954.0</td>\n",
              "      <td>1089009.0</td>\n",
              "      <td>2.082014e+14</td>\n",
              "      <td>3.369980e+10</td>\n",
              "      <td>3.540701e+13</td>\n",
              "      <td>D88865A</td>\n",
              "      <td>NaN</td>\n",
              "      <td>NaN</td>\n",
              "      <td>6.0</td>\n",
              "      <td>9.0</td>\n",
              "      <td>NaN</td>\n",
              "      <td>NaN</td>\n",
              "      <td>100.0</td>\n",
              "      <td>0.0</td>\n",
              "      <td>0.0</td>\n",
              "      <td>0.0</td>\n",
              "      <td>100.0</td>\n",
              "      <td>0.0</td>\n",
              "      <td>0.0</td>\n",
              "      <td>0.0</td>\n",
              "      <td>NaN</td>\n",
              "      <td>NaN</td>\n",
              "      <td>0.0</td>\n",
              "      <td>0.0</td>\n",
              "      <td>1.089009e+09</td>\n",
              "      <td>Samsung</td>\n",
              "      <td>Samsung Sm-G390F</td>\n",
              "      <td>NaN</td>\n",
              "      <td>NaN</td>\n",
              "      <td>NaN</td>\n",
              "      <td>NaN</td>\n",
              "      <td>NaN</td>\n",
              "      <td>NaN</td>\n",
              "      <td>607.0</td>\n",
              "      <td>604.0</td>\n",
              "      <td>862600.0</td>\n",
              "      <td>50188.0</td>\n",
              "      <td>6248284.0</td>\n",
              "      <td>1500559.0</td>\n",
              "      <td>1936496.0</td>\n",
              "      <td>173853.0</td>\n",
              "      <td>15259380.0</td>\n",
              "      <td>18962873.0</td>\n",
              "      <td>17124581.0</td>\n",
              "      <td>415218.0</td>\n",
              "      <td>527707248.0</td>\n",
              "      <td>3529801.0</td>\n",
              "      <td>550709500.0</td>\n",
              "      <td>13910322.0</td>\n",
              "      <td>38542814.0</td>\n",
              "      <td>569138589.0</td>\n",
              "    </tr>\n",
              "  </tbody>\n",
              "</table>\n",
              "</div>"
            ],
            "text/plain": [
              "      Bearer Id            Start  Start ms              End  End ms  \\\n",
              "0  1.311448e+19   4/4/2019 12:01     770.0  4/25/2019 14:35   662.0   \n",
              "1  1.311448e+19   4/9/2019 13:04     235.0   4/25/2019 8:15   606.0   \n",
              "2  1.311448e+19   4/9/2019 17:42       1.0  4/25/2019 11:58   652.0   \n",
              "3  1.311448e+19   4/10/2019 0:31     486.0   4/25/2019 7:36   171.0   \n",
              "4  1.311448e+19  4/12/2019 20:10     565.0  4/25/2019 10:40   954.0   \n",
              "\n",
              "   Dur. (ms)          IMSI  MSISDN/Number          IMEI  \\\n",
              "0  1823652.0  2.082014e+14   3.366496e+10  3.552121e+13   \n",
              "1  1365104.0  2.082019e+14   3.368185e+10  3.579401e+13   \n",
              "2  1361762.0  2.082003e+14   3.376063e+10  3.528151e+13   \n",
              "3  1321509.0  2.082014e+14   3.375034e+10  3.535661e+13   \n",
              "4  1089009.0  2.082014e+14   3.369980e+10  3.540701e+13   \n",
              "\n",
              "      Last Location Name  Avg RTT DL (ms)  Avg RTT UL (ms)  \\\n",
              "0  9.16456699548519E+015             42.0              5.0   \n",
              "1                L77566A             65.0              5.0   \n",
              "2                D42335A              NaN              NaN   \n",
              "3                T21824A              NaN              NaN   \n",
              "4                D88865A              NaN              NaN   \n",
              "\n",
              "   Avg Bearer TP DL (kbps)  Avg Bearer TP UL (kbps)  \\\n",
              "0                     23.0                     44.0   \n",
              "1                     16.0                     26.0   \n",
              "2                      6.0                      9.0   \n",
              "3                     44.0                     44.0   \n",
              "4                      6.0                      9.0   \n",
              "\n",
              "   TCP DL Retrans. Vol (Bytes)  TCP UL Retrans. Vol (Bytes)  \\\n",
              "0                          NaN                          NaN   \n",
              "1                          NaN                          NaN   \n",
              "2                          NaN                          NaN   \n",
              "3                          NaN                          NaN   \n",
              "4                          NaN                          NaN   \n",
              "\n",
              "   DL TP < 50 Kbps (%)  50 Kbps < DL TP < 250 Kbps (%)  \\\n",
              "0                100.0                             0.0   \n",
              "1                100.0                             0.0   \n",
              "2                100.0                             0.0   \n",
              "3                100.0                             0.0   \n",
              "4                100.0                             0.0   \n",
              "\n",
              "   250 Kbps < DL TP < 1 Mbps (%)  DL TP > 1 Mbps (%)  UL TP < 10 Kbps (%)  \\\n",
              "0                            0.0                 0.0                100.0   \n",
              "1                            0.0                 0.0                100.0   \n",
              "2                            0.0                 0.0                100.0   \n",
              "3                            0.0                 0.0                100.0   \n",
              "4                            0.0                 0.0                100.0   \n",
              "\n",
              "   10 Kbps < UL TP < 50 Kbps (%)  50 Kbps < UL TP < 300 Kbps (%)  \\\n",
              "0                            0.0                             0.0   \n",
              "1                            0.0                             0.0   \n",
              "2                            0.0                             0.0   \n",
              "3                            0.0                             0.0   \n",
              "4                            0.0                             0.0   \n",
              "\n",
              "   UL TP > 300 Kbps (%)  HTTP DL (Bytes)  HTTP UL (Bytes)  \\\n",
              "0                   0.0              NaN              NaN   \n",
              "1                   0.0              NaN              NaN   \n",
              "2                   0.0              NaN              NaN   \n",
              "3                   0.0              NaN              NaN   \n",
              "4                   0.0              NaN              NaN   \n",
              "\n",
              "   Activity Duration DL (ms)  Activity Duration UL (ms)   Dur. (ms).1  \\\n",
              "0                    37624.0                    38787.0  1.823653e+09   \n",
              "1                      168.0                     3560.0  1.365104e+09   \n",
              "2                        0.0                        0.0  1.361763e+09   \n",
              "3                     3330.0                    37882.0  1.321510e+09   \n",
              "4                        0.0                        0.0  1.089009e+09   \n",
              "\n",
              "  Handset Manufacturer                 Handset Type  \\\n",
              "0              Samsung   Samsung Galaxy A5 Sm-A520F   \n",
              "1              Samsung  Samsung Galaxy J5 (Sm-J530)   \n",
              "2              Samsung     Samsung Galaxy A8 (2018)   \n",
              "3            undefined                    undefined   \n",
              "4              Samsung             Samsung Sm-G390F   \n",
              "\n",
              "   Nb of sec with 125000B < Vol DL  Nb of sec with 1250B < Vol UL < 6250B  \\\n",
              "0                              NaN                                    NaN   \n",
              "1                              NaN                                    NaN   \n",
              "2                              NaN                                    NaN   \n",
              "3                              NaN                                    NaN   \n",
              "4                              NaN                                    NaN   \n",
              "\n",
              "   Nb of sec with 31250B < Vol DL < 125000B  Nb of sec with 37500B < Vol UL  \\\n",
              "0                                       NaN                             NaN   \n",
              "1                                       NaN                             NaN   \n",
              "2                                       NaN                             NaN   \n",
              "3                                       NaN                             NaN   \n",
              "4                                       NaN                             NaN   \n",
              "\n",
              "   Nb of sec with 6250B < Vol DL < 31250B  \\\n",
              "0                                     NaN   \n",
              "1                                     NaN   \n",
              "2                                     NaN   \n",
              "3                                     NaN   \n",
              "4                                     NaN   \n",
              "\n",
              "   Nb of sec with 6250B < Vol UL < 37500B  Nb of sec with Vol DL < 6250B  \\\n",
              "0                                     NaN                          213.0   \n",
              "1                                     NaN                          971.0   \n",
              "2                                     NaN                          751.0   \n",
              "3                                     NaN                           17.0   \n",
              "4                                     NaN                          607.0   \n",
              "\n",
              "   Nb of sec with Vol UL < 1250B  Social Media DL (Bytes)  \\\n",
              "0                          214.0                1545765.0   \n",
              "1                         1022.0                1926113.0   \n",
              "2                          695.0                1684053.0   \n",
              "3                          207.0                 644121.0   \n",
              "4                          604.0                 862600.0   \n",
              "\n",
              "   Social Media UL (Bytes)  Google DL (Bytes)  Google UL (Bytes)  \\\n",
              "0                  24420.0          1634479.0          1271433.0   \n",
              "1                   7165.0          3493924.0           920172.0   \n",
              "2                  42224.0          8535055.0          1694064.0   \n",
              "3                  13372.0          9023734.0          2788027.0   \n",
              "4                  50188.0          6248284.0          1500559.0   \n",
              "\n",
              "   Email DL (Bytes)  Email UL (Bytes)  Youtube DL (Bytes)  Youtube UL (Bytes)  \\\n",
              "0         3563542.0          137762.0          15854611.0           2501332.0   \n",
              "1          629046.0          308339.0          20247395.0          19111729.0   \n",
              "2         2690151.0          672973.0          19725661.0          14699576.0   \n",
              "3         1439754.0          631229.0          21388122.0          15146643.0   \n",
              "4         1936496.0          173853.0          15259380.0          18962873.0   \n",
              "\n",
              "   Netflix DL (Bytes)  Netflix UL (Bytes)  Gaming DL (Bytes)  \\\n",
              "0           8198936.0           9656251.0        278082303.0   \n",
              "1          18338413.0          17227132.0        608750074.0   \n",
              "2          17587794.0           6163408.0        229584621.0   \n",
              "3          13994646.0           1097942.0        799538153.0   \n",
              "4          17124581.0            415218.0        527707248.0   \n",
              "\n",
              "   Gaming UL (Bytes)  Other DL (Bytes)  Other UL (Bytes)  Total UL (Bytes)  \\\n",
              "0         14344150.0       171744450.0         8814393.0        36749741.0   \n",
              "1          1170709.0       526904238.0        15055145.0        53800391.0   \n",
              "2           395630.0       410692588.0         4215763.0        27883638.0   \n",
              "3         10849722.0       749039933.0        12797283.0        43324218.0   \n",
              "4          3529801.0       550709500.0        13910322.0        38542814.0   \n",
              "\n",
              "   Total DL (Bytes)  \n",
              "0       308879636.0  \n",
              "1       653384965.0  \n",
              "2       279807335.0  \n",
              "3       846028530.0  \n",
              "4       569138589.0  "
            ]
          },
          "metadata": {
            "tags": []
          },
          "execution_count": 46
        }
      ]
    },
    {
      "cell_type": "code",
      "metadata": {
        "colab": {
          "base_uri": "https://localhost:8080/"
        },
        "id": "EvM0kKFWjy5T",
        "outputId": "73e0d6f2-fc0d-407f-a597-70bd0bdb41c9"
      },
      "source": [
        "df.shape"
      ],
      "execution_count": 47,
      "outputs": [
        {
          "output_type": "execute_result",
          "data": {
            "text/plain": [
              "(150001, 55)"
            ]
          },
          "metadata": {
            "tags": []
          },
          "execution_count": 47
        }
      ]
    },
    {
      "cell_type": "code",
      "metadata": {
        "colab": {
          "base_uri": "https://localhost:8080/"
        },
        "id": "lfbWkSuxk_uu",
        "outputId": "80feebd0-fe5c-43aa-9352-54068ca7cbbc"
      },
      "source": [
        "# column names\n",
        "df.columns.tolist()"
      ],
      "execution_count": 48,
      "outputs": [
        {
          "output_type": "execute_result",
          "data": {
            "text/plain": [
              "['Bearer Id',\n",
              " 'Start',\n",
              " 'Start ms',\n",
              " 'End',\n",
              " 'End ms',\n",
              " 'Dur. (ms)',\n",
              " 'IMSI',\n",
              " 'MSISDN/Number',\n",
              " 'IMEI',\n",
              " 'Last Location Name',\n",
              " 'Avg RTT DL (ms)',\n",
              " 'Avg RTT UL (ms)',\n",
              " 'Avg Bearer TP DL (kbps)',\n",
              " 'Avg Bearer TP UL (kbps)',\n",
              " 'TCP DL Retrans. Vol (Bytes)',\n",
              " 'TCP UL Retrans. Vol (Bytes)',\n",
              " 'DL TP < 50 Kbps (%)',\n",
              " '50 Kbps < DL TP < 250 Kbps (%)',\n",
              " '250 Kbps < DL TP < 1 Mbps (%)',\n",
              " 'DL TP > 1 Mbps (%)',\n",
              " 'UL TP < 10 Kbps (%)',\n",
              " '10 Kbps < UL TP < 50 Kbps (%)',\n",
              " '50 Kbps < UL TP < 300 Kbps (%)',\n",
              " 'UL TP > 300 Kbps (%)',\n",
              " 'HTTP DL (Bytes)',\n",
              " 'HTTP UL (Bytes)',\n",
              " 'Activity Duration DL (ms)',\n",
              " 'Activity Duration UL (ms)',\n",
              " 'Dur. (ms).1',\n",
              " 'Handset Manufacturer',\n",
              " 'Handset Type',\n",
              " 'Nb of sec with 125000B < Vol DL',\n",
              " 'Nb of sec with 1250B < Vol UL < 6250B',\n",
              " 'Nb of sec with 31250B < Vol DL < 125000B',\n",
              " 'Nb of sec with 37500B < Vol UL',\n",
              " 'Nb of sec with 6250B < Vol DL < 31250B',\n",
              " 'Nb of sec with 6250B < Vol UL < 37500B',\n",
              " 'Nb of sec with Vol DL < 6250B',\n",
              " 'Nb of sec with Vol UL < 1250B',\n",
              " 'Social Media DL (Bytes)',\n",
              " 'Social Media UL (Bytes)',\n",
              " 'Google DL (Bytes)',\n",
              " 'Google UL (Bytes)',\n",
              " 'Email DL (Bytes)',\n",
              " 'Email UL (Bytes)',\n",
              " 'Youtube DL (Bytes)',\n",
              " 'Youtube UL (Bytes)',\n",
              " 'Netflix DL (Bytes)',\n",
              " 'Netflix UL (Bytes)',\n",
              " 'Gaming DL (Bytes)',\n",
              " 'Gaming UL (Bytes)',\n",
              " 'Other DL (Bytes)',\n",
              " 'Other UL (Bytes)',\n",
              " 'Total UL (Bytes)',\n",
              " 'Total DL (Bytes)']"
            ]
          },
          "metadata": {
            "tags": []
          },
          "execution_count": 48
        }
      ]
    },
    {
      "cell_type": "code",
      "metadata": {
        "colab": {
          "base_uri": "https://localhost:8080/"
        },
        "id": "eOHgux8mrOeE",
        "outputId": "b92ae127-1637-4369-ca95-b3a4b9a33b83"
      },
      "source": [
        "# number of data points\n",
        "print(f\" There are {df.shape[0]} rows and {df.shape[1]} columns\")"
      ],
      "execution_count": 49,
      "outputs": [
        {
          "output_type": "stream",
          "text": [
            " There are 150001 rows and 55 columns\n"
          ],
          "name": "stdout"
        }
      ]
    },
    {
      "cell_type": "code",
      "metadata": {
        "colab": {
          "base_uri": "https://localhost:8080/"
        },
        "id": "xS6imnnIsUlL",
        "outputId": "bac0df52-b1ab-438c-f8fa-f84276024434"
      },
      "source": [
        "# how many missing values exist or better still what is the % of missing values in the dataset?\n",
        "def percent_missing(df):\n",
        "\n",
        "    # Calculate total number of cells in dataframe\n",
        "    totalCells = np.product(df.shape)\n",
        "\n",
        "    # Count number of missing values per column\n",
        "    missingCount = df.isnull().sum()\n",
        "\n",
        "    # Calculate total number of missing values\n",
        "    totalMissing = missingCount.sum()\n",
        "\n",
        "    # Calculate percentage of missing values\n",
        "    print(\"The Week1 challenge data source(CSV).csv dataset contains\", round(((totalMissing/totalCells) * 100), 2), \"%\", \"missing values.\")\n",
        "\n",
        "percent_missing(df)"
      ],
      "execution_count": 50,
      "outputs": [
        {
          "output_type": "stream",
          "text": [
            "The Week1 challenge data source(CSV).csv dataset contains 12.5 % missing values.\n"
          ],
          "name": "stdout"
        }
      ]
    },
    {
      "cell_type": "code",
      "metadata": {
        "colab": {
          "base_uri": "https://localhost:8080/"
        },
        "id": "l0x-IRfr4IaI",
        "outputId": "ad74ca3e-b948-409b-a056-dda222e59dc6"
      },
      "source": [
        "# Now which column(s) has missing values\n",
        "df.isna().sum()"
      ],
      "execution_count": 51,
      "outputs": [
        {
          "output_type": "execute_result",
          "data": {
            "text/plain": [
              "Bearer Id                                      991\n",
              "Start                                            1\n",
              "Start ms                                         1\n",
              "End                                              1\n",
              "End ms                                           1\n",
              "Dur. (ms)                                        1\n",
              "IMSI                                           570\n",
              "MSISDN/Number                                 1066\n",
              "IMEI                                           572\n",
              "Last Location Name                            1153\n",
              "Avg RTT DL (ms)                              27829\n",
              "Avg RTT UL (ms)                              27812\n",
              "Avg Bearer TP DL (kbps)                          1\n",
              "Avg Bearer TP UL (kbps)                          1\n",
              "TCP DL Retrans. Vol (Bytes)                  88146\n",
              "TCP UL Retrans. Vol (Bytes)                  96649\n",
              "DL TP < 50 Kbps (%)                            754\n",
              "50 Kbps < DL TP < 250 Kbps (%)                 754\n",
              "250 Kbps < DL TP < 1 Mbps (%)                  754\n",
              "DL TP > 1 Mbps (%)                             754\n",
              "UL TP < 10 Kbps (%)                            792\n",
              "10 Kbps < UL TP < 50 Kbps (%)                  792\n",
              "50 Kbps < UL TP < 300 Kbps (%)                 792\n",
              "UL TP > 300 Kbps (%)                           792\n",
              "HTTP DL (Bytes)                              81474\n",
              "HTTP UL (Bytes)                              81810\n",
              "Activity Duration DL (ms)                        1\n",
              "Activity Duration UL (ms)                        1\n",
              "Dur. (ms).1                                      1\n",
              "Handset Manufacturer                           572\n",
              "Handset Type                                   572\n",
              "Nb of sec with 125000B < Vol DL              97538\n",
              "Nb of sec with 1250B < Vol UL < 6250B        92894\n",
              "Nb of sec with 31250B < Vol DL < 125000B     93586\n",
              "Nb of sec with 37500B < Vol UL              130254\n",
              "Nb of sec with 6250B < Vol DL < 31250B       88317\n",
              "Nb of sec with 6250B < Vol UL < 37500B      111843\n",
              "Nb of sec with Vol DL < 6250B                  755\n",
              "Nb of sec with Vol UL < 1250B                  793\n",
              "Social Media DL (Bytes)                          0\n",
              "Social Media UL (Bytes)                          0\n",
              "Google DL (Bytes)                                0\n",
              "Google UL (Bytes)                                0\n",
              "Email DL (Bytes)                                 0\n",
              "Email UL (Bytes)                                 0\n",
              "Youtube DL (Bytes)                               0\n",
              "Youtube UL (Bytes)                               0\n",
              "Netflix DL (Bytes)                               0\n",
              "Netflix UL (Bytes)                               0\n",
              "Gaming DL (Bytes)                                0\n",
              "Gaming UL (Bytes)                                0\n",
              "Other DL (Bytes)                                 0\n",
              "Other UL (Bytes)                                 0\n",
              "Total UL (Bytes)                                 1\n",
              "Total DL (Bytes)                                 1\n",
              "dtype: int64"
            ]
          },
          "metadata": {
            "tags": []
          },
          "execution_count": 51
        }
      ]
    },
    {
      "cell_type": "code",
      "metadata": {
        "colab": {
          "base_uri": "https://localhost:8080/",
          "height": 296
        },
        "id": "qUyIwNIAoXB2",
        "outputId": "e05201f5-32b7-4987-a835-14de14918992"
      },
      "source": [
        "# Checking for skewness on one of the column specifically on the \"IMSI\"\n",
        "import seaborn as sns\n",
        "#\n",
        "# Box plot\n",
        "#\n",
        "sns.boxplot(df.IMSI)\n",
        "#\n",
        "# Distribution plot\n",
        "#\n",
        "sns.distplot(df.IMSI)"
      ],
      "execution_count": 52,
      "outputs": [
        {
          "output_type": "execute_result",
          "data": {
            "text/plain": [
              "<matplotlib.axes._subplots.AxesSubplot at 0x7fd772527310>"
            ]
          },
          "metadata": {
            "tags": []
          },
          "execution_count": 52
        },
        {
          "output_type": "display_data",
          "data": {
            "image/png": "[encoded data removed]",
            "text/plain": [
              "<Figure size 432x288 with 1 Axes>"
            ]
          },
          "metadata": {
            "tags": [],
            "needs_background": "light"
          }
        }
      ]
    },
    {
      "cell_type": "code",
      "metadata": {
        "colab": {
          "base_uri": "https://localhost:8080/",
          "height": 405
        },
        "id": "Ou5qZBFbowg5",
        "outputId": "f4c65eae-1ea1-422e-a188-e5d3d9d1d774"
      },
      "source": [
        "from matplotlib import pyplot as plt\n",
        "fig, ax = plt.subplots(figsize=(10,6))\n",
        "sns.boxplot(df.IMSI)"
      ],
      "execution_count": 53,
      "outputs": [
        {
          "output_type": "execute_result",
          "data": {
            "text/plain": [
              "<matplotlib.axes._subplots.AxesSubplot at 0x7fd753c94d10>"
            ]
          },
          "metadata": {
            "tags": []
          },
          "execution_count": 53
        },
        {
          "output_type": "display_data",
          "data": {
            "image/png": "[encoded data removed]",
            "text/plain": [
              "<Figure size 720x432 with 1 Axes>"
            ]
          },
          "metadata": {
            "tags": [],
            "needs_background": "light"
          }
        }
      ]
    },
    {
      "cell_type": "code",
      "metadata": {
        "colab": {
          "base_uri": "https://localhost:8080/",
          "height": 525
        },
        "id": "3T8--_Veo45V",
        "outputId": "7de35f0f-0f44-4ae1-be08-c91147610f12"
      },
      "source": [
        "fig, ax = plt.subplots(figsize=(10,8))\n",
        "sns.distplot(df.IMSI)"
      ],
      "execution_count": 54,
      "outputs": [
        {
          "output_type": "execute_result",
          "data": {
            "text/plain": [
              "<matplotlib.axes._subplots.AxesSubplot at 0x7fd772d4b7d0>"
            ]
          },
          "metadata": {
            "tags": []
          },
          "execution_count": 54
        },
        {
          "output_type": "display_data",
          "data": {
            "image/png": "[encoded data removed]",
            "text/plain": [
              "<Figure size 720x576 with 1 Axes>"
            ]
          },
          "metadata": {
            "tags": [],
            "needs_background": "light"
          }
        }
      ]
    },
    {
      "cell_type": "code",
      "metadata": {
        "colab": {
          "base_uri": "https://localhost:8080/"
        },
        "id": "Vpk1CdV4qK9G",
        "outputId": "26346871-2ce6-4b5f-d7c3-4b3f68ea8e6d"
      },
      "source": [
        "df.IMSI.mode()"
      ],
      "execution_count": 55,
      "outputs": [
        {
          "output_type": "execute_result",
          "data": {
            "text/plain": [
              "0    2.082014e+14\n",
              "dtype: float64"
            ]
          },
          "metadata": {
            "tags": []
          },
          "execution_count": 55
        }
      ]
    },
    {
      "cell_type": "code",
      "metadata": {
        "colab": {
          "base_uri": "https://localhost:8080/"
        },
        "id": "UyN2SLTIqYwe",
        "outputId": "40025193-0b53-4117-d4a9-2f796339dbbc"
      },
      "source": [
        "# To see the percentage of missing values of every columns\n",
        "def every_column_percent_missing(df):\n",
        "    percent_missing = df.isnull().sum() * 100 / len(df)\n",
        "    missing_value_df = pd.DataFrame({'column_name': df.columns,\n",
        "                                     'percent_missing': percent_missing})\n",
        "\n",
        "    missing_value_df.sort_values('percent_missing', inplace=True)\n",
        "\n",
        "    print(missing_value_df)\n",
        "\n",
        "\n",
        "every_column_percent_missing(df)"
      ],
      "execution_count": 56,
      "outputs": [
        {
          "output_type": "stream",
          "text": [
            "                                                                       column_name  \\\n",
            "Youtube DL (Bytes)                                              Youtube DL (Bytes)   \n",
            "Other UL (Bytes)                                                  Other UL (Bytes)   \n",
            "Other DL (Bytes)                                                  Other DL (Bytes)   \n",
            "Gaming UL (Bytes)                                                Gaming UL (Bytes)   \n",
            "Gaming DL (Bytes)                                                Gaming DL (Bytes)   \n",
            "Netflix UL (Bytes)                                              Netflix UL (Bytes)   \n",
            "Netflix DL (Bytes)                                              Netflix DL (Bytes)   \n",
            "Youtube UL (Bytes)                                              Youtube UL (Bytes)   \n",
            "Email UL (Bytes)                                                  Email UL (Bytes)   \n",
            "Email DL (Bytes)                                                  Email DL (Bytes)   \n",
            "Google UL (Bytes)                                                Google UL (Bytes)   \n",
            "Google DL (Bytes)                                                Google DL (Bytes)   \n",
            "Social Media UL (Bytes)                                    Social Media UL (Bytes)   \n",
            "Social Media DL (Bytes)                                    Social Media DL (Bytes)   \n",
            "Dur. (ms).1                                                            Dur. (ms).1   \n",
            "Activity Duration UL (ms)                                Activity Duration UL (ms)   \n",
            "Total UL (Bytes)                                                  Total UL (Bytes)   \n",
            "Activity Duration DL (ms)                                Activity Duration DL (ms)   \n",
            "Total DL (Bytes)                                                  Total DL (Bytes)   \n",
            "Avg Bearer TP UL (kbps)                                    Avg Bearer TP UL (kbps)   \n",
            "Avg Bearer TP DL (kbps)                                    Avg Bearer TP DL (kbps)   \n",
            "Dur. (ms)                                                                Dur. (ms)   \n",
            "Start                                                                        Start   \n",
            "Start ms                                                                  Start ms   \n",
            "End ms                                                                      End ms   \n",
            "End                                                                            End   \n",
            "IMSI                                                                          IMSI   \n",
            "IMEI                                                                          IMEI   \n",
            "Handset Type                                                          Handset Type   \n",
            "Handset Manufacturer                                          Handset Manufacturer   \n",
            "DL TP < 50 Kbps (%)                                            DL TP < 50 Kbps (%)   \n",
            "50 Kbps < DL TP < 250 Kbps (%)                      50 Kbps < DL TP < 250 Kbps (%)   \n",
            "250 Kbps < DL TP < 1 Mbps (%)                        250 Kbps < DL TP < 1 Mbps (%)   \n",
            "DL TP > 1 Mbps (%)                                              DL TP > 1 Mbps (%)   \n",
            "Nb of sec with Vol DL < 6250B                        Nb of sec with Vol DL < 6250B   \n",
            "UL TP > 300 Kbps (%)                                          UL TP > 300 Kbps (%)   \n",
            "50 Kbps < UL TP < 300 Kbps (%)                      50 Kbps < UL TP < 300 Kbps (%)   \n",
            "10 Kbps < UL TP < 50 Kbps (%)                        10 Kbps < UL TP < 50 Kbps (%)   \n",
            "UL TP < 10 Kbps (%)                                            UL TP < 10 Kbps (%)   \n",
            "Nb of sec with Vol UL < 1250B                        Nb of sec with Vol UL < 1250B   \n",
            "Bearer Id                                                                Bearer Id   \n",
            "MSISDN/Number                                                        MSISDN/Number   \n",
            "Last Location Name                                              Last Location Name   \n",
            "Avg RTT UL (ms)                                                    Avg RTT UL (ms)   \n",
            "Avg RTT DL (ms)                                                    Avg RTT DL (ms)   \n",
            "HTTP DL (Bytes)                                                    HTTP DL (Bytes)   \n",
            "HTTP UL (Bytes)                                                    HTTP UL (Bytes)   \n",
            "TCP DL Retrans. Vol (Bytes)                            TCP DL Retrans. Vol (Bytes)   \n",
            "Nb of sec with 6250B < Vol DL < 31250B      Nb of sec with 6250B < Vol DL < 31250B   \n",
            "Nb of sec with 1250B < Vol UL < 6250B        Nb of sec with 1250B < Vol UL < 6250B   \n",
            "Nb of sec with 31250B < Vol DL < 125000B  Nb of sec with 31250B < Vol DL < 125000B   \n",
            "TCP UL Retrans. Vol (Bytes)                            TCP UL Retrans. Vol (Bytes)   \n",
            "Nb of sec with 125000B < Vol DL                    Nb of sec with 125000B < Vol DL   \n",
            "Nb of sec with 6250B < Vol UL < 37500B      Nb of sec with 6250B < Vol UL < 37500B   \n",
            "Nb of sec with 37500B < Vol UL                      Nb of sec with 37500B < Vol UL   \n",
            "\n",
            "                                          percent_missing  \n",
            "Youtube DL (Bytes)                               0.000000  \n",
            "Other UL (Bytes)                                 0.000000  \n",
            "Other DL (Bytes)                                 0.000000  \n",
            "Gaming UL (Bytes)                                0.000000  \n",
            "Gaming DL (Bytes)                                0.000000  \n",
            "Netflix UL (Bytes)                               0.000000  \n",
            "Netflix DL (Bytes)                               0.000000  \n",
            "Youtube UL (Bytes)                               0.000000  \n",
            "Email UL (Bytes)                                 0.000000  \n",
            "Email DL (Bytes)                                 0.000000  \n",
            "Google UL (Bytes)                                0.000000  \n",
            "Google DL (Bytes)                                0.000000  \n",
            "Social Media UL (Bytes)                          0.000000  \n",
            "Social Media DL (Bytes)                          0.000000  \n",
            "Dur. (ms).1                                      0.000667  \n",
            "Activity Duration UL (ms)                        0.000667  \n",
            "Total UL (Bytes)                                 0.000667  \n",
            "Activity Duration DL (ms)                        0.000667  \n",
            "Total DL (Bytes)                                 0.000667  \n",
            "Avg Bearer TP UL (kbps)                          0.000667  \n",
            "Avg Bearer TP DL (kbps)                          0.000667  \n",
            "Dur. (ms)                                        0.000667  \n",
            "Start                                            0.000667  \n",
            "Start ms                                         0.000667  \n",
            "End ms                                           0.000667  \n",
            "End                                              0.000667  \n",
            "IMSI                                             0.379997  \n",
            "IMEI                                             0.381331  \n",
            "Handset Type                                     0.381331  \n",
            "Handset Manufacturer                             0.381331  \n",
            "DL TP < 50 Kbps (%)                              0.502663  \n",
            "50 Kbps < DL TP < 250 Kbps (%)                   0.502663  \n",
            "250 Kbps < DL TP < 1 Mbps (%)                    0.502663  \n",
            "DL TP > 1 Mbps (%)                               0.502663  \n",
            "Nb of sec with Vol DL < 6250B                    0.503330  \n",
            "UL TP > 300 Kbps (%)                             0.527996  \n",
            "50 Kbps < UL TP < 300 Kbps (%)                   0.527996  \n",
            "10 Kbps < UL TP < 50 Kbps (%)                    0.527996  \n",
            "UL TP < 10 Kbps (%)                              0.527996  \n",
            "Nb of sec with Vol UL < 1250B                    0.528663  \n",
            "Bearer Id                                        0.660662  \n",
            "MSISDN/Number                                    0.710662  \n",
            "Last Location Name                               0.768662  \n",
            "Avg RTT UL (ms)                                 18.541210  \n",
            "Avg RTT DL (ms)                                 18.552543  \n",
            "HTTP DL (Bytes)                                 54.315638  \n",
            "HTTP UL (Bytes)                                 54.539636  \n",
            "TCP DL Retrans. Vol (Bytes)                     58.763608  \n",
            "Nb of sec with 6250B < Vol DL < 31250B          58.877607  \n",
            "Nb of sec with 1250B < Vol UL < 6250B           61.928920  \n",
            "Nb of sec with 31250B < Vol DL < 125000B        62.390251  \n",
            "TCP UL Retrans. Vol (Bytes)                     64.432237  \n",
            "Nb of sec with 125000B < Vol DL                 65.024900  \n",
            "Nb of sec with 6250B < Vol UL < 37500B          74.561503  \n",
            "Nb of sec with 37500B < Vol UL                  86.835421  \n"
          ],
          "name": "stdout"
        }
      ]
    },
    {
      "cell_type": "code",
      "metadata": {
        "colab": {
          "base_uri": "https://localhost:8080/"
        },
        "id": "HNDMRuD2qlPO",
        "outputId": "fce6f121-a46a-41b6-c543-0b1afec5b8ac"
      },
      "source": [
        "# drop columns with more than 50% missing values\n",
        "df_clean = df.drop(['HTTP DL (Bytes)', 'HTTP UL (Bytes)', 'TCP DL Retrans. Vol (Bytes)', 'Nb of sec with 6250B < Vol DL < 31250B', 'Nb of sec with 1250B < Vol UL < 6250B', 'Nb of sec with 31250B < Vol DL < 125000B', 'TCP UL Retrans. Vol (Bytes)', 'Nb of sec with 125000B < Vol DL', 'Nb of sec with 6250B < Vol UL < 37500B', 'Nb of sec with 37500B < Vol UL'], axis=1)\n",
        "\n",
        "df_clean.shape"
      ],
      "execution_count": 57,
      "outputs": [
        {
          "output_type": "execute_result",
          "data": {
            "text/plain": [
              "(150001, 45)"
            ]
          },
          "metadata": {
            "tags": []
          },
          "execution_count": 57
        }
      ]
    },
    {
      "cell_type": "code",
      "metadata": {
        "colab": {
          "base_uri": "https://localhost:8080/"
        },
        "id": "6LjJ6B8EqydP",
        "outputId": "2546281d-5852-4e88-ad8a-7af3b47e00d1"
      },
      "source": [
        "df_clean.isna().sum()"
      ],
      "execution_count": 58,
      "outputs": [
        {
          "output_type": "execute_result",
          "data": {
            "text/plain": [
              "Bearer Id                           991\n",
              "Start                                 1\n",
              "Start ms                              1\n",
              "End                                   1\n",
              "End ms                                1\n",
              "Dur. (ms)                             1\n",
              "IMSI                                570\n",
              "MSISDN/Number                      1066\n",
              "IMEI                                572\n",
              "Last Location Name                 1153\n",
              "Avg RTT DL (ms)                   27829\n",
              "Avg RTT UL (ms)                   27812\n",
              "Avg Bearer TP DL (kbps)               1\n",
              "Avg Bearer TP UL (kbps)               1\n",
              "DL TP < 50 Kbps (%)                 754\n",
              "50 Kbps < DL TP < 250 Kbps (%)      754\n",
              "250 Kbps < DL TP < 1 Mbps (%)       754\n",
              "DL TP > 1 Mbps (%)                  754\n",
              "UL TP < 10 Kbps (%)                 792\n",
              "10 Kbps < UL TP < 50 Kbps (%)       792\n",
              "50 Kbps < UL TP < 300 Kbps (%)      792\n",
              "UL TP > 300 Kbps (%)                792\n",
              "Activity Duration DL (ms)             1\n",
              "Activity Duration UL (ms)             1\n",
              "Dur. (ms).1                           1\n",
              "Handset Manufacturer                572\n",
              "Handset Type                        572\n",
              "Nb of sec with Vol DL < 6250B       755\n",
              "Nb of sec with Vol UL < 1250B       793\n",
              "Social Media DL (Bytes)               0\n",
              "Social Media UL (Bytes)               0\n",
              "Google DL (Bytes)                     0\n",
              "Google UL (Bytes)                     0\n",
              "Email DL (Bytes)                      0\n",
              "Email UL (Bytes)                      0\n",
              "Youtube DL (Bytes)                    0\n",
              "Youtube UL (Bytes)                    0\n",
              "Netflix DL (Bytes)                    0\n",
              "Netflix UL (Bytes)                    0\n",
              "Gaming DL (Bytes)                     0\n",
              "Gaming UL (Bytes)                     0\n",
              "Other DL (Bytes)                      0\n",
              "Other UL (Bytes)                      0\n",
              "Total UL (Bytes)                      1\n",
              "Total DL (Bytes)                      1\n",
              "dtype: int64"
            ]
          },
          "metadata": {
            "tags": []
          },
          "execution_count": 58
        }
      ]
    },
    {
      "cell_type": "code",
      "metadata": {
        "colab": {
          "base_uri": "https://localhost:8080/"
        },
        "id": "RYF8lJAaq6Q2",
        "outputId": "c8bdad52-4b4d-482a-d1b4-e0e7289ce2ce"
      },
      "source": [
        "df_clean.columns.tolist()"
      ],
      "execution_count": 59,
      "outputs": [
        {
          "output_type": "execute_result",
          "data": {
            "text/plain": [
              "['Bearer Id',\n",
              " 'Start',\n",
              " 'Start ms',\n",
              " 'End',\n",
              " 'End ms',\n",
              " 'Dur. (ms)',\n",
              " 'IMSI',\n",
              " 'MSISDN/Number',\n",
              " 'IMEI',\n",
              " 'Last Location Name',\n",
              " 'Avg RTT DL (ms)',\n",
              " 'Avg RTT UL (ms)',\n",
              " 'Avg Bearer TP DL (kbps)',\n",
              " 'Avg Bearer TP UL (kbps)',\n",
              " 'DL TP < 50 Kbps (%)',\n",
              " '50 Kbps < DL TP < 250 Kbps (%)',\n",
              " '250 Kbps < DL TP < 1 Mbps (%)',\n",
              " 'DL TP > 1 Mbps (%)',\n",
              " 'UL TP < 10 Kbps (%)',\n",
              " '10 Kbps < UL TP < 50 Kbps (%)',\n",
              " '50 Kbps < UL TP < 300 Kbps (%)',\n",
              " 'UL TP > 300 Kbps (%)',\n",
              " 'Activity Duration DL (ms)',\n",
              " 'Activity Duration UL (ms)',\n",
              " 'Dur. (ms).1',\n",
              " 'Handset Manufacturer',\n",
              " 'Handset Type',\n",
              " 'Nb of sec with Vol DL < 6250B',\n",
              " 'Nb of sec with Vol UL < 1250B',\n",
              " 'Social Media DL (Bytes)',\n",
              " 'Social Media UL (Bytes)',\n",
              " 'Google DL (Bytes)',\n",
              " 'Google UL (Bytes)',\n",
              " 'Email DL (Bytes)',\n",
              " 'Email UL (Bytes)',\n",
              " 'Youtube DL (Bytes)',\n",
              " 'Youtube UL (Bytes)',\n",
              " 'Netflix DL (Bytes)',\n",
              " 'Netflix UL (Bytes)',\n",
              " 'Gaming DL (Bytes)',\n",
              " 'Gaming UL (Bytes)',\n",
              " 'Other DL (Bytes)',\n",
              " 'Other UL (Bytes)',\n",
              " 'Total UL (Bytes)',\n",
              " 'Total DL (Bytes)']"
            ]
          },
          "metadata": {
            "tags": []
          },
          "execution_count": 59
        }
      ]
    },
    {
      "cell_type": "code",
      "metadata": {
        "colab": {
          "base_uri": "https://localhost:8080/"
        },
        "id": "ReX1czIfrBUo",
        "outputId": "c3bf2510-4dc5-4bd8-83fa-6bfe015ae064"
      },
      "source": [
        "# how many missing values exist on the new cleaned dataset on percentage ?\n",
        "\n",
        "percent_missing(df_clean)"
      ],
      "execution_count": 60,
      "outputs": [
        {
          "output_type": "stream",
          "text": [
            "The Week1 challenge data source(CSV).csv dataset contains 1.02 % missing values.\n"
          ],
          "name": "stdout"
        }
      ]
    },
    {
      "cell_type": "code",
      "metadata": {
        "colab": {
          "base_uri": "https://localhost:8080/"
        },
        "id": "NRfO0LRvrI6Z",
        "outputId": "8b1e0ac7-ee57-4219-e378-25e20ee619b3"
      },
      "source": [
        "every_column_percent_missing(df_clean)"
      ],
      "execution_count": 61,
      "outputs": [
        {
          "output_type": "stream",
          "text": [
            "                                                   column_name  \\\n",
            "Youtube DL (Bytes)                          Youtube DL (Bytes)   \n",
            "Other UL (Bytes)                              Other UL (Bytes)   \n",
            "Other DL (Bytes)                              Other DL (Bytes)   \n",
            "Gaming UL (Bytes)                            Gaming UL (Bytes)   \n",
            "Gaming DL (Bytes)                            Gaming DL (Bytes)   \n",
            "Netflix UL (Bytes)                          Netflix UL (Bytes)   \n",
            "Netflix DL (Bytes)                          Netflix DL (Bytes)   \n",
            "Youtube UL (Bytes)                          Youtube UL (Bytes)   \n",
            "Email UL (Bytes)                              Email UL (Bytes)   \n",
            "Email DL (Bytes)                              Email DL (Bytes)   \n",
            "Google UL (Bytes)                            Google UL (Bytes)   \n",
            "Google DL (Bytes)                            Google DL (Bytes)   \n",
            "Social Media UL (Bytes)                Social Media UL (Bytes)   \n",
            "Social Media DL (Bytes)                Social Media DL (Bytes)   \n",
            "Dur. (ms).1                                        Dur. (ms).1   \n",
            "Activity Duration DL (ms)            Activity Duration DL (ms)   \n",
            "Activity Duration UL (ms)            Activity Duration UL (ms)   \n",
            "Total UL (Bytes)                              Total UL (Bytes)   \n",
            "Total DL (Bytes)                              Total DL (Bytes)   \n",
            "Avg Bearer TP DL (kbps)                Avg Bearer TP DL (kbps)   \n",
            "Start                                                    Start   \n",
            "Start ms                                              Start ms   \n",
            "End                                                        End   \n",
            "Avg Bearer TP UL (kbps)                Avg Bearer TP UL (kbps)   \n",
            "End ms                                                  End ms   \n",
            "Dur. (ms)                                            Dur. (ms)   \n",
            "IMSI                                                      IMSI   \n",
            "Handset Manufacturer                      Handset Manufacturer   \n",
            "Handset Type                                      Handset Type   \n",
            "IMEI                                                      IMEI   \n",
            "DL TP > 1 Mbps (%)                          DL TP > 1 Mbps (%)   \n",
            "250 Kbps < DL TP < 1 Mbps (%)    250 Kbps < DL TP < 1 Mbps (%)   \n",
            "50 Kbps < DL TP < 250 Kbps (%)  50 Kbps < DL TP < 250 Kbps (%)   \n",
            "DL TP < 50 Kbps (%)                        DL TP < 50 Kbps (%)   \n",
            "Nb of sec with Vol DL < 6250B    Nb of sec with Vol DL < 6250B   \n",
            "10 Kbps < UL TP < 50 Kbps (%)    10 Kbps < UL TP < 50 Kbps (%)   \n",
            "UL TP < 10 Kbps (%)                        UL TP < 10 Kbps (%)   \n",
            "UL TP > 300 Kbps (%)                      UL TP > 300 Kbps (%)   \n",
            "50 Kbps < UL TP < 300 Kbps (%)  50 Kbps < UL TP < 300 Kbps (%)   \n",
            "Nb of sec with Vol UL < 1250B    Nb of sec with Vol UL < 1250B   \n",
            "Bearer Id                                            Bearer Id   \n",
            "MSISDN/Number                                    MSISDN/Number   \n",
            "Last Location Name                          Last Location Name   \n",
            "Avg RTT UL (ms)                                Avg RTT UL (ms)   \n",
            "Avg RTT DL (ms)                                Avg RTT DL (ms)   \n",
            "\n",
            "                                percent_missing  \n",
            "Youtube DL (Bytes)                     0.000000  \n",
            "Other UL (Bytes)                       0.000000  \n",
            "Other DL (Bytes)                       0.000000  \n",
            "Gaming UL (Bytes)                      0.000000  \n",
            "Gaming DL (Bytes)                      0.000000  \n",
            "Netflix UL (Bytes)                     0.000000  \n",
            "Netflix DL (Bytes)                     0.000000  \n",
            "Youtube UL (Bytes)                     0.000000  \n",
            "Email UL (Bytes)                       0.000000  \n",
            "Email DL (Bytes)                       0.000000  \n",
            "Google UL (Bytes)                      0.000000  \n",
            "Google DL (Bytes)                      0.000000  \n",
            "Social Media UL (Bytes)                0.000000  \n",
            "Social Media DL (Bytes)                0.000000  \n",
            "Dur. (ms).1                            0.000667  \n",
            "Activity Duration DL (ms)              0.000667  \n",
            "Activity Duration UL (ms)              0.000667  \n",
            "Total UL (Bytes)                       0.000667  \n",
            "Total DL (Bytes)                       0.000667  \n",
            "Avg Bearer TP DL (kbps)                0.000667  \n",
            "Start                                  0.000667  \n",
            "Start ms                               0.000667  \n",
            "End                                    0.000667  \n",
            "Avg Bearer TP UL (kbps)                0.000667  \n",
            "End ms                                 0.000667  \n",
            "Dur. (ms)                              0.000667  \n",
            "IMSI                                   0.379997  \n",
            "Handset Manufacturer                   0.381331  \n",
            "Handset Type                           0.381331  \n",
            "IMEI                                   0.381331  \n",
            "DL TP > 1 Mbps (%)                     0.502663  \n",
            "250 Kbps < DL TP < 1 Mbps (%)          0.502663  \n",
            "50 Kbps < DL TP < 250 Kbps (%)         0.502663  \n",
            "DL TP < 50 Kbps (%)                    0.502663  \n",
            "Nb of sec with Vol DL < 6250B          0.503330  \n",
            "10 Kbps < UL TP < 50 Kbps (%)          0.527996  \n",
            "UL TP < 10 Kbps (%)                    0.527996  \n",
            "UL TP > 300 Kbps (%)                   0.527996  \n",
            "50 Kbps < UL TP < 300 Kbps (%)         0.527996  \n",
            "Nb of sec with Vol UL < 1250B          0.528663  \n",
            "Bearer Id                              0.660662  \n",
            "MSISDN/Number                          0.710662  \n",
            "Last Location Name                     0.768662  \n",
            "Avg RTT UL (ms)                       18.541210  \n",
            "Avg RTT DL (ms)                       18.552543  \n"
          ],
          "name": "stdout"
        }
      ]
    },
    {
      "cell_type": "code",
      "metadata": {
        "colab": {
          "base_uri": "https://localhost:8080/",
          "height": 296
        },
        "id": "jzRGjPgrrUd4",
        "outputId": "14a0f947-ff58-4308-93fb-3486e24e3b4d"
      },
      "source": [
        "# Distribution plot to check for skewness\n",
        "\n",
        "sns.boxplot(df['Avg RTT UL (ms)'])\n",
        "\n",
        "sns.distplot(df['Avg RTT UL (ms)'])"
      ],
      "execution_count": 62,
      "outputs": [
        {
          "output_type": "execute_result",
          "data": {
            "text/plain": [
              "<matplotlib.axes._subplots.AxesSubplot at 0x7fd772fa4690>"
            ]
          },
          "metadata": {
            "tags": []
          },
          "execution_count": 62
        },
        {
          "output_type": "display_data",
          "data": {
            "image/png": "[encoded data removed]",
            "text/plain": [
              "<Figure size 432x288 with 1 Axes>"
            ]
          },
          "metadata": {
            "tags": [],
            "needs_background": "light"
          }
        }
      ]
    },
    {
      "cell_type": "code",
      "metadata": {
        "colab": {
          "base_uri": "https://localhost:8080/",
          "height": 405
        },
        "id": "S4IFfEv5sLW5",
        "outputId": "f6b12419-409a-468c-9939-381e58774f26"
      },
      "source": [
        "fig, ax = plt.subplots(figsize=(10,6))\n",
        "sns.boxplot(df['Avg RTT UL (ms)'])"
      ],
      "execution_count": 63,
      "outputs": [
        {
          "output_type": "execute_result",
          "data": {
            "text/plain": [
              "<matplotlib.axes._subplots.AxesSubplot at 0x7fd772692c10>"
            ]
          },
          "metadata": {
            "tags": []
          },
          "execution_count": 63
        },
        {
          "output_type": "display_data",
          "data": {
            "image/png": "[encoded data removed]",
            "text/plain": [
              "<Figure size 720x432 with 1 Axes>"
            ]
          },
          "metadata": {
            "tags": [],
            "needs_background": "light"
          }
        }
      ]
    },
    {
      "cell_type": "code",
      "metadata": {
        "colab": {
          "base_uri": "https://localhost:8080/",
          "height": 514
        },
        "id": "KkQMBzRqsseO",
        "outputId": "5311651c-5f61-461c-d1be-f1419d0070c1"
      },
      "source": [
        "fig, ax = plt.subplots(figsize=(10,8))\n",
        "sns.distplot(df['Avg RTT UL (ms)'])"
      ],
      "execution_count": 64,
      "outputs": [
        {
          "output_type": "execute_result",
          "data": {
            "text/plain": [
              "<matplotlib.axes._subplots.AxesSubplot at 0x7fd772739690>"
            ]
          },
          "metadata": {
            "tags": []
          },
          "execution_count": 64
        },
        {
          "output_type": "display_data",
          "data": {
            "image/png": "[encoded data removed]",
            "text/plain": [
              "<Figure size 720x576 with 1 Axes>"
            ]
          },
          "metadata": {
            "tags": [],
            "needs_background": "light"
          }
        }
      ]
    },
    {
      "cell_type": "code",
      "metadata": {
        "id": "JiRlk9dXs1Xl"
      },
      "source": [
        "#df_clean['# fill missing with ffill method for columns ()\n",
        "\n",
        "def fix_missing_ffill(df, col):\n",
        "    df[col] = df[col].fillna(method='ffill')\n",
        "    return df[col]\n",
        "\n",
        "\n",
        "def fix_missing_bfill(df, col):\n",
        "    df[col] = df[col].fillna(method='bfill')\n",
        "    return df[col]\n",
        "\n",
        "df_clean['Dur. (ms).1'] = fix_missing_ffill(df_clean, 'Dur. (ms).1')\n",
        "df_clean['Activity Duration DL (ms)'] = fix_missing_ffill(df_clean, 'Activity Duration DL (ms)')\n",
        "df_clean['Activity Duration UL (ms)'] = fix_missing_ffill(df_clean, 'Activity Duration UL (ms)')\n",
        "df_clean['Total UL (Bytes)'] = fix_missing_ffill(df_clean, 'Total UL (Bytes)')\n",
        "df_clean['Total DL (Bytes)'] = fix_missing_ffill(df_clean, 'Total DL (Bytes)')\n",
        "df_clean['Avg Bearer TP DL (kbps)'] = fix_missing_ffill(df_clean, 'Avg Bearer TP DL (kbps)')\n",
        "df_clean['Start'] = fix_missing_ffill(df_clean, 'Start')\n",
        "df_clean['Start ms'] = fix_missing_ffill(df_clean, 'Start ms')\n",
        "df_clean['End'] = fix_missing_ffill(df_clean, 'End')\n",
        "df_clean['Avg Bearer TP UL (kbps)'] = fix_missing_ffill(df_clean, 'Avg Bearer TP UL (kbps)')\n",
        "df_clean['End ms'] = fix_missing_ffill(df_clean, 'End ms')\n",
        "df_clean['Dur. (ms)'] = fix_missing_ffill(df_clean, 'Dur. (ms)')\n",
        "df_clean['IMSI'] = fix_missing_ffill(df_clean, 'IMSI')\n",
        "df_clean['DL TP > 1 Mbps (%)'] = fix_missing_ffill(df_clean, 'DL TP > 1 Mbps (%)')\n",
        "df_clean['250 Kbps < DL TP < 1 Mbps (%)'] = fix_missing_ffill(df_clean, '250 Kbps < DL TP < 1 Mbps (%)')\n",
        "df_clean['50 Kbps < DL TP < 250 Kbps (%)'] = fix_missing_ffill(df_clean, '50 Kbps < DL TP < 250 Kbps (%)')\n",
        "df_clean['DL TP < 50 Kbps (%)'] = fix_missing_ffill(df_clean, 'DL TP < 50 Kbps (%)')\n",
        "df_clean['Nb of sec with Vol DL < 6250B'] = fix_missing_ffill(df_clean, 'Nb of sec with Vol DL < 6250B')\n",
        "df_clean['10 Kbps < UL TP < 50 Kbps (%)'] = fix_missing_ffill(df_clean, '10 Kbps < UL TP < 50 Kbps (%)')\n",
        "df_clean['UL TP < 10 Kbps (%)'] = fix_missing_ffill(df_clean, 'UL TP < 10 Kbps (%)')\n",
        "df_clean['UL TP > 300 Kbps (%)'] = fix_missing_ffill(df_clean, 'UL TP > 300 Kbps (%)')\n",
        "df_clean['50 Kbps < UL TP < 300 Kbps (%)'] = fix_missing_ffill(df_clean, '50 Kbps < UL TP < 300 Kbps (%)')\n",
        "df_clean['Nb of sec with Vol UL < 1250B'] = fix_missing_ffill(df_clean, 'Nb of sec with Vol UL < 1250B')\n",
        "df_clean['Bearer Id'] = fix_missing_ffill(df_clean, 'Bearer Id')\n",
        "df_clean['Last Location Name'] = fix_missing_ffill(df_clean, 'Last Location Name')\n",
        "\n",
        "# fill 'Handset Type, Handset Manufacturer, IMEI & MSISDN/Number' column with mode \n",
        "df_clean['Handset Manufacturer'] = df_clean['Handset Manufacturer'].fillna(df_clean['Handset Manufacturer'].mode()[0])\n",
        "df_clean['Handset Type'] = df_clean['Handset Type'].fillna(df_clean['Handset Type'].mode()[0])\n",
        "df_clean['IMEI'] = df_clean['IMEI'].fillna(df_clean['IMEI'].mode()[0])\n",
        "df_clean['MSISDN/Number'] = df_clean['MSISDN/Number'].fillna(df_clean['MSISDN/Number'].mode()[0])"
      ],
      "execution_count": 65,
      "outputs": []
    },
    {
      "cell_type": "code",
      "metadata": {
        "id": "tDqmSBrvxOlE",
        "colab": {
          "base_uri": "https://localhost:8080/"
        },
        "outputId": "1994a241-4645-4511-a787-67c5125edae7"
      },
      "source": [
        "percent_missing(df_clean)\n",
        "every_column_percent_missing(df_clean)"
      ],
      "execution_count": 66,
      "outputs": [
        {
          "output_type": "stream",
          "text": [
            "The Week1 challenge data source(CSV).csv dataset contains 0.82 % missing values.\n",
            "                                                   column_name  \\\n",
            "Bearer Id                                            Bearer Id   \n",
            "Dur. (ms).1                                        Dur. (ms).1   \n",
            "Handset Manufacturer                      Handset Manufacturer   \n",
            "Handset Type                                      Handset Type   \n",
            "Nb of sec with Vol DL < 6250B    Nb of sec with Vol DL < 6250B   \n",
            "Nb of sec with Vol UL < 1250B    Nb of sec with Vol UL < 1250B   \n",
            "Social Media DL (Bytes)                Social Media DL (Bytes)   \n",
            "Social Media UL (Bytes)                Social Media UL (Bytes)   \n",
            "Google DL (Bytes)                            Google DL (Bytes)   \n",
            "Google UL (Bytes)                            Google UL (Bytes)   \n",
            "Email DL (Bytes)                              Email DL (Bytes)   \n",
            "Email UL (Bytes)                              Email UL (Bytes)   \n",
            "Youtube DL (Bytes)                          Youtube DL (Bytes)   \n",
            "Youtube UL (Bytes)                          Youtube UL (Bytes)   \n",
            "Netflix DL (Bytes)                          Netflix DL (Bytes)   \n",
            "Netflix UL (Bytes)                          Netflix UL (Bytes)   \n",
            "Gaming DL (Bytes)                            Gaming DL (Bytes)   \n",
            "Gaming UL (Bytes)                            Gaming UL (Bytes)   \n",
            "Other DL (Bytes)                              Other DL (Bytes)   \n",
            "Other UL (Bytes)                              Other UL (Bytes)   \n",
            "Activity Duration UL (ms)            Activity Duration UL (ms)   \n",
            "Total UL (Bytes)                              Total UL (Bytes)   \n",
            "Activity Duration DL (ms)            Activity Duration DL (ms)   \n",
            "50 Kbps < UL TP < 300 Kbps (%)  50 Kbps < UL TP < 300 Kbps (%)   \n",
            "Start                                                    Start   \n",
            "Start ms                                              Start ms   \n",
            "End                                                        End   \n",
            "End ms                                                  End ms   \n",
            "Dur. (ms)                                            Dur. (ms)   \n",
            "IMSI                                                      IMSI   \n",
            "MSISDN/Number                                    MSISDN/Number   \n",
            "IMEI                                                      IMEI   \n",
            "Last Location Name                          Last Location Name   \n",
            "Total DL (Bytes)                              Total DL (Bytes)   \n",
            "Avg Bearer TP DL (kbps)                Avg Bearer TP DL (kbps)   \n",
            "Avg Bearer TP UL (kbps)                Avg Bearer TP UL (kbps)   \n",
            "DL TP < 50 Kbps (%)                        DL TP < 50 Kbps (%)   \n",
            "50 Kbps < DL TP < 250 Kbps (%)  50 Kbps < DL TP < 250 Kbps (%)   \n",
            "250 Kbps < DL TP < 1 Mbps (%)    250 Kbps < DL TP < 1 Mbps (%)   \n",
            "DL TP > 1 Mbps (%)                          DL TP > 1 Mbps (%)   \n",
            "UL TP < 10 Kbps (%)                        UL TP < 10 Kbps (%)   \n",
            "10 Kbps < UL TP < 50 Kbps (%)    10 Kbps < UL TP < 50 Kbps (%)   \n",
            "UL TP > 300 Kbps (%)                      UL TP > 300 Kbps (%)   \n",
            "Avg RTT UL (ms)                                Avg RTT UL (ms)   \n",
            "Avg RTT DL (ms)                                Avg RTT DL (ms)   \n",
            "\n",
            "                                percent_missing  \n",
            "Bearer Id                              0.000000  \n",
            "Dur. (ms).1                            0.000000  \n",
            "Handset Manufacturer                   0.000000  \n",
            "Handset Type                           0.000000  \n",
            "Nb of sec with Vol DL < 6250B          0.000000  \n",
            "Nb of sec with Vol UL < 1250B          0.000000  \n",
            "Social Media DL (Bytes)                0.000000  \n",
            "Social Media UL (Bytes)                0.000000  \n",
            "Google DL (Bytes)                      0.000000  \n",
            "Google UL (Bytes)                      0.000000  \n",
            "Email DL (Bytes)                       0.000000  \n",
            "Email UL (Bytes)                       0.000000  \n",
            "Youtube DL (Bytes)                     0.000000  \n",
            "Youtube UL (Bytes)                     0.000000  \n",
            "Netflix DL (Bytes)                     0.000000  \n",
            "Netflix UL (Bytes)                     0.000000  \n",
            "Gaming DL (Bytes)                      0.000000  \n",
            "Gaming UL (Bytes)                      0.000000  \n",
            "Other DL (Bytes)                       0.000000  \n",
            "Other UL (Bytes)                       0.000000  \n",
            "Activity Duration UL (ms)              0.000000  \n",
            "Total UL (Bytes)                       0.000000  \n",
            "Activity Duration DL (ms)              0.000000  \n",
            "50 Kbps < UL TP < 300 Kbps (%)         0.000000  \n",
            "Start                                  0.000000  \n",
            "Start ms                               0.000000  \n",
            "End                                    0.000000  \n",
            "End ms                                 0.000000  \n",
            "Dur. (ms)                              0.000000  \n",
            "IMSI                                   0.000000  \n",
            "MSISDN/Number                          0.000000  \n",
            "IMEI                                   0.000000  \n",
            "Last Location Name                     0.000000  \n",
            "Total DL (Bytes)                       0.000000  \n",
            "Avg Bearer TP DL (kbps)                0.000000  \n",
            "Avg Bearer TP UL (kbps)                0.000000  \n",
            "DL TP < 50 Kbps (%)                    0.000000  \n",
            "50 Kbps < DL TP < 250 Kbps (%)         0.000000  \n",
            "250 Kbps < DL TP < 1 Mbps (%)          0.000000  \n",
            "DL TP > 1 Mbps (%)                     0.000000  \n",
            "UL TP < 10 Kbps (%)                    0.000000  \n",
            "10 Kbps < UL TP < 50 Kbps (%)          0.000000  \n",
            "UL TP > 300 Kbps (%)                   0.000000  \n",
            "Avg RTT UL (ms)                       18.541210  \n",
            "Avg RTT DL (ms)                       18.552543  \n"
          ],
          "name": "stdout"
        }
      ]
    },
    {
      "cell_type": "code",
      "metadata": {
        "colab": {
          "base_uri": "https://localhost:8080/",
          "height": 204
        },
        "id": "tD9tT8dCxg63",
        "outputId": "21b801b5-ff03-429c-95bd-7a613c44e850"
      },
      "source": [
        "from sklearn.preprocessing import MinMaxScaler\n",
        "\n",
        "minmax_scaler = MinMaxScaler()\n",
        "\n",
        "# generate 1000 data points randomly drawn from an exponential distribution\n",
        "original_data = pd.DataFrame(np.random.exponential(200, size=2000))\n",
        "\n",
        "original_data.sample(5)"
      ],
      "execution_count": 67,
      "outputs": [
        {
          "output_type": "execute_result",
          "data": {
            "text/html": [
              "<div>\n",
              "<style scoped>\n",
              "    .dataframe tbody tr th:only-of-type {\n",
              "        vertical-align: middle;\n",
              "    }\n",
              "\n",
              "    .dataframe tbody tr th {\n",
              "        vertical-align: top;\n",
              "    }\n",
              "\n",
              "    .dataframe thead th {\n",
              "        text-align: right;\n",
              "    }\n",
              "</style>\n",
              "<table border=\"1\" class=\"dataframe\">\n",
              "  <thead>\n",
              "    <tr style=\"text-align: right;\">\n",
              "      <th></th>\n",
              "      <th>0</th>\n",
              "    </tr>\n",
              "  </thead>\n",
              "  <tbody>\n",
              "    <tr>\n",
              "      <th>99</th>\n",
              "      <td>130.426605</td>\n",
              "    </tr>\n",
              "    <tr>\n",
              "      <th>1294</th>\n",
              "      <td>229.983620</td>\n",
              "    </tr>\n",
              "    <tr>\n",
              "      <th>1068</th>\n",
              "      <td>13.188148</td>\n",
              "    </tr>\n",
              "    <tr>\n",
              "      <th>432</th>\n",
              "      <td>250.516142</td>\n",
              "    </tr>\n",
              "    <tr>\n",
              "      <th>42</th>\n",
              "      <td>125.515513</td>\n",
              "    </tr>\n",
              "  </tbody>\n",
              "</table>\n",
              "</div>"
            ],
            "text/plain": [
              "               0\n",
              "99    130.426605\n",
              "1294  229.983620\n",
              "1068   13.188148\n",
              "432   250.516142\n",
              "42    125.515513"
            ]
          },
          "metadata": {
            "tags": []
          },
          "execution_count": 67
        }
      ]
    },
    {
      "cell_type": "code",
      "metadata": {
        "colab": {
          "base_uri": "https://localhost:8080/"
        },
        "id": "cWiNxlCyxqry",
        "outputId": "f96dd2d6-6bd2-4160-babd-210be4613e61"
      },
      "source": [
        "original_data[0].min(), original_data[0].max()"
      ],
      "execution_count": 68,
      "outputs": [
        {
          "output_type": "execute_result",
          "data": {
            "text/plain": [
              "(0.09218865136952169, 2055.3579022613862)"
            ]
          },
          "metadata": {
            "tags": []
          },
          "execution_count": 68
        }
      ]
    },
    {
      "cell_type": "code",
      "metadata": {
        "colab": {
          "base_uri": "https://localhost:8080/",
          "height": 265
        },
        "id": "jxfoRBJtxwih",
        "outputId": "7d51a1f3-7aa0-41af-bd39-ded4ce47dddc"
      },
      "source": [
        "count, bins, ignored = plt.hist(original_data, 14)\n",
        "plt.show()"
      ],
      "execution_count": 69,
      "outputs": [
        {
          "output_type": "display_data",
          "data": {
            "image/png": "[encoded data removed]",
            "text/plain": [
              "<Figure size 432x288 with 1 Axes>"
            ]
          },
          "metadata": {
            "tags": [],
            "needs_background": "light"
          }
        }
      ]
    },
    {
      "cell_type": "code",
      "metadata": {
        "id": "GNdBgWK-nf8Z"
      },
      "source": [
        "%matplotlib inline\n",
        "import numpy as np\n",
        "import matplotlib.pyplot as plt\n",
        "plt.style.use('seaborn-white')\n",
        "\n",
        "data = np.random.randn(1000)"
      ],
      "execution_count": 70,
      "outputs": []
    },
    {
      "cell_type": "code",
      "metadata": {
        "id": "JPMayCxLnaZV",
        "colab": {
          "base_uri": "https://localhost:8080/",
          "height": 262
        },
        "outputId": "d5b2dba3-228a-400c-e873-4c5bc8cb477a"
      },
      "source": [
        "plt.hist(data);"
      ],
      "execution_count": null,
      "outputs": [
        {
          "output_type": "display_data",
          "data": {
            "image/png": "[encoded data removed]",
            "text/plain": [
              "<Figure size 432x288 with 1 Axes>"
            ]
          },
          "metadata": {
            "tags": []
          }
        }
      ]
    },
    {
      "cell_type": "code",
      "metadata": {
        "colab": {
          "base_uri": "https://localhost:8080/",
          "height": 285
        },
        "id": "sb4mU_MSueHG",
        "outputId": "bbeff045-cfa7-42df-b3ed-9cb1321dc4ca"
      },
      "source": [
        "import pandas as pd\n",
        "import numpy as np\n",
        "import sklearn\n",
        "from scipy import stats\n",
        "import matplotlib.pyplot as plt\n",
        "import os\n",
        "import seaborn as sns\n",
        "\n",
        "\n",
        "sns.set(); np.random.seed(0)\n",
        "x = np.random.randn(100)\n",
        "\n",
        "sns.distplot(x)"
      ],
      "execution_count": 71,
      "outputs": [
        {
          "output_type": "execute_result",
          "data": {
            "text/plain": [
              "<matplotlib.axes._subplots.AxesSubplot at 0x7fd77d001690>"
            ]
          },
          "metadata": {
            "tags": []
          },
          "execution_count": 71
        },
        {
          "output_type": "display_data",
          "data": {
            "image/png": "[encoded data removed]",
            "text/plain": [
              "<Figure size 432x288 with 1 Axes>"
            ]
          },
          "metadata": {
            "tags": []
          }
        }
      ]
    },
    {
      "cell_type": "code",
      "metadata": {
        "colab": {
          "base_uri": "https://localhost:8080/",
          "height": 393
        },
        "id": "DxQb7XkUsdCe",
        "outputId": "49246874-10bf-48a4-d09f-7224e33c5a21"
      },
      "source": [
        "# mix-max scale the data between 0 and 1\n",
        "def scaler(df):\n",
        "    scaled_data = minmax_scaler.fit_transform(df)\n",
        "\n",
        "    # plot both together to compare\n",
        "    fig, ax = plt.subplots(1,2, figsize=(10, 6))\n",
        "    sns.histplot(original_data, ax=ax[0])\n",
        "    ax[0].set_title(\"Original Data\")\n",
        "    sns.histplot(scaled_data, ax=ax[1])\n",
        "    ax[1].set_title(\"Scaled_data\")\n",
        "    \n",
        "scaler(original_data)"
      ],
      "execution_count": 72,
      "outputs": [
        {
          "output_type": "display_data",
          "data": {
            "image/png": "[encoded data removed]",
            "text/plain": [
              "<Figure size 720x432 with 2 Axes>"
            ]
          },
          "metadata": {
            "tags": []
          }
        }
      ]
    },
    {
      "cell_type": "code",
      "metadata": {
        "colab": {
          "base_uri": "https://localhost:8080/",
          "height": 393
        },
        "id": "JKvcHluLuv4w",
        "outputId": "eb7dc778-f246-4140-a735-1d9321bcfe18"
      },
      "source": [
        "from sklearn.preprocessing import Normalizer\n",
        "\n",
        "def normalizer(df):\n",
        "    norm = Normalizer()\n",
        "    # normalize the exponential data with boxcox\n",
        "    normalized_data = norm.fit_transform(df)\n",
        "\n",
        "    # plot both together to compare\n",
        "    fig, ax=plt.subplots(1,2, figsize=(10, 6))\n",
        "    sns.histplot(df, ax=ax[0])\n",
        "    ax[0].set_title(\"Original Data\")\n",
        "    sns.histplot(normalized_data[0], ax=ax[1])\n",
        "    ax[1].set_title(\"Normalized data\")\n",
        "\n",
        "normalizer(original_data)"
      ],
      "execution_count": 73,
      "outputs": [
        {
          "output_type": "display_data",
          "data": {
            "image/png": "[encoded data removed]",
            "text/plain": [
              "<Figure size 720x432 with 2 Axes>"
            ]
          },
          "metadata": {
            "tags": []
          }
        }
      ]
    },
    {
      "cell_type": "code",
      "metadata": {
        "colab": {
          "base_uri": "https://localhost:8080/"
        },
        "id": "LAPwvcRdyqLT",
        "outputId": "864903ad-1e29-4e51-9c5e-a5413f30ba94"
      },
      "source": [
        "df_clean.info()"
      ],
      "execution_count": 74,
      "outputs": [
        {
          "output_type": "stream",
          "text": [
            "<class 'pandas.core.frame.DataFrame'>\n",
            "RangeIndex: 150001 entries, 0 to 150000\n",
            "Data columns (total 45 columns):\n",
            " #   Column                          Non-Null Count   Dtype  \n",
            "---  ------                          --------------   -----  \n",
            " 0   Bearer Id                       150001 non-null  float64\n",
            " 1   Start                           150001 non-null  object \n",
            " 2   Start ms                        150001 non-null  float64\n",
            " 3   End                             150001 non-null  object \n",
            " 4   End ms                          150001 non-null  float64\n",
            " 5   Dur. (ms)                       150001 non-null  float64\n",
            " 6   IMSI                            150001 non-null  float64\n",
            " 7   MSISDN/Number                   150001 non-null  float64\n",
            " 8   IMEI                            150001 non-null  float64\n",
            " 9   Last Location Name              150001 non-null  object \n",
            " 10  Avg RTT DL (ms)                 122172 non-null  float64\n",
            " 11  Avg RTT UL (ms)                 122189 non-null  float64\n",
            " 12  Avg Bearer TP DL (kbps)         150001 non-null  float64\n",
            " 13  Avg Bearer TP UL (kbps)         150001 non-null  float64\n",
            " 14  DL TP < 50 Kbps (%)             150001 non-null  float64\n",
            " 15  50 Kbps < DL TP < 250 Kbps (%)  150001 non-null  float64\n",
            " 16  250 Kbps < DL TP < 1 Mbps (%)   150001 non-null  float64\n",
            " 17  DL TP > 1 Mbps (%)              150001 non-null  float64\n",
            " 18  UL TP < 10 Kbps (%)             150001 non-null  float64\n",
            " 19  10 Kbps < UL TP < 50 Kbps (%)   150001 non-null  float64\n",
            " 20  50 Kbps < UL TP < 300 Kbps (%)  150001 non-null  float64\n",
            " 21  UL TP > 300 Kbps (%)            150001 non-null  float64\n",
            " 22  Activity Duration DL (ms)       150001 non-null  float64\n",
            " 23  Activity Duration UL (ms)       150001 non-null  float64\n",
            " 24  Dur. (ms).1                     150001 non-null  float64\n",
            " 25  Handset Manufacturer            150001 non-null  object \n",
            " 26  Handset Type                    150001 non-null  object \n",
            " 27  Nb of sec with Vol DL < 6250B   150001 non-null  float64\n",
            " 28  Nb of sec with Vol UL < 1250B   150001 non-null  float64\n",
            " 29  Social Media DL (Bytes)         150001 non-null  float64\n",
            " 30  Social Media UL (Bytes)         150001 non-null  float64\n",
            " 31  Google DL (Bytes)               150001 non-null  float64\n",
            " 32  Google UL (Bytes)               150001 non-null  float64\n",
            " 33  Email DL (Bytes)                150001 non-null  float64\n",
            " 34  Email UL (Bytes)                150001 non-null  float64\n",
            " 35  Youtube DL (Bytes)              150001 non-null  float64\n",
            " 36  Youtube UL (Bytes)              150001 non-null  float64\n",
            " 37  Netflix DL (Bytes)              150001 non-null  float64\n",
            " 38  Netflix UL (Bytes)              150001 non-null  float64\n",
            " 39  Gaming DL (Bytes)               150001 non-null  float64\n",
            " 40  Gaming UL (Bytes)               150001 non-null  float64\n",
            " 41  Other DL (Bytes)                150001 non-null  float64\n",
            " 42  Other UL (Bytes)                150001 non-null  float64\n",
            " 43  Total UL (Bytes)                150001 non-null  float64\n",
            " 44  Total DL (Bytes)                150001 non-null  float64\n",
            "dtypes: float64(40), object(5)\n",
            "memory usage: 51.5+ MB\n"
          ],
          "name": "stdout"
        }
      ]
    },
    {
      "cell_type": "code",
      "metadata": {
        "id": "EZoaPJdp4rKD"
      },
      "source": [
        "import pandas as pd                     \n",
        "import matplotlib.pyplot as plt          # plotting\n",
        "import numpy as np                       # dense matrices\n",
        "from scipy.sparse import csr_matrix      # sparse matrices\n",
        "%matplotlib inline"
      ],
      "execution_count": 76,
      "outputs": []
    },
    {
      "cell_type": "code",
      "metadata": {
        "id": "JtXqYElb4Blc"
      },
      "source": [
        "# Function to calculate missing values by column\n",
        "def missing_values_table(df):\n",
        "    # Total missing values\n",
        "    mis_val = df.isnull().sum()\n",
        "\n",
        "    # Percentage of missing values\n",
        "    mis_val_percent = 100 * df.isnull().sum() / len(df)\n",
        "\n",
        "    # dtype of missing values\n",
        "    mis_val_dtype = df.dtypes\n",
        "\n",
        "    # Make a table with the results\n",
        "    mis_val_table = pd.concat([mis_val, mis_val_percent, mis_val_dtype], axis=1)\n",
        "\n",
        "    # Rename the columns\n",
        "    mis_val_table_ren_columns = mis_val_table.rename(\n",
        "    columns = {0 : 'Missing Values', 1 : '% of Total Values', 2: 'Dtype'})\n",
        "\n",
        "    # Sort the table by percentage of missing descending\n",
        "    mis_val_table_ren_columns = mis_val_table_ren_columns[\n",
        "        mis_val_table_ren_columns.iloc[:,1] != 0].sort_values(\n",
        "    '% of Total Values', ascending=False).round(1)\n",
        "\n",
        "    # Print some summary information\n",
        "    print (\"Your selected dataframe has \" + str(df.shape[1]) + \" columns.\\n\"      \n",
        "        \"There are \" + str(mis_val_table_ren_columns.shape[0]) +\n",
        "          \" columns that have missing values.\")\n",
        "\n",
        "    # Return the dataframe with missing information\n",
        "    return mis_val_table_ren_columns\n",
        "\n",
        "def format_float(value):\n",
        "    return f'{value:,.2f}'\n",
        "\n",
        "def find_agg(df:pd.DataFrame, agg_column:str, agg_metric:str, col_name:str, top:int, order=False )->pd.DataFrame:\n",
        "    \n",
        "    new_df = df.groupby(agg_column)[agg_column].agg(agg_metric).reset_index(name=col_name).\\\n",
        "                        sort_values(by=col_name, ascending=order)[:top]\n",
        "    \n",
        "    return new_df\n",
        "\n",
        "def convert_bytes_to_megabytes(df, bytes_data):\n",
        "    \"\"\"\n",
        "        This function takes the dataframe and the column which has the bytes values\n",
        "        returns the megabytesof that value\n",
        "        \n",
        "        Args:\n",
        "        -----\n",
        "        df: dataframe\n",
        "        bytes_data: column with bytes values\n",
        "        \n",
        "        Returns:\n",
        "        --------\n",
        "        A series\n",
        "    \"\"\"\n",
        "    \n",
        "    megabyte = 1*10e+5\n",
        "    df[bytes_data] = df[bytes_data] / megabyte\n",
        "    \n",
        "    return df[bytes_data]\n",
        "\n",
        "pd.options.display.float_format = format_float"
      ],
      "execution_count": 77,
      "outputs": []
    },
    {
      "cell_type": "code",
      "metadata": {
        "id": "nS-5bRdQ0U9m"
      },
      "source": [
        "pd.set_option('max_column', None)\n",
        "df=pd.read_csv('drive/MyDrive/Week1_challenge_data_source(CSV).csv')\n",
        "df.head()"
      ],
      "execution_count": null,
      "outputs": []
    }
  ]
}