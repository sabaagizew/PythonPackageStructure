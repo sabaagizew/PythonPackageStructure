{
  "nbformat": 4,
  "nbformat_minor": 0,
  "metadata": {
    "colab": {
      "name": "Copy of Untitled1.ipynb",
      "provenance": [],
      "collapsed_sections": [],
      "mount_file_id": "https://github.com/sabaagizew/PythonPackageStructure/blob/main/Copy_of_Untitled1.ipynb",
      "authorship_tag": "ABX9TyMcohwdXE0ZwZ4AJEjb98pE",
      "include_colab_link": true
    },
    "kernelspec": {
      "name": "python3",
      "display_name": "Python 3"
    },
    "language_info": {
      "name": "python"
    }
  },
  "cells": [
    {
      "cell_type": "markdown",
      "metadata": {
        "id": "view-in-github",
        "colab_type": "text"
      },
      "source": [
        "<a href=\"https://colab.research.google.com/github/sabaagizew/PythonPackageStructure/blob/main/Copy_of_Untitled1.ipynb\" target=\"_parent\"><img src=\"https://colab.research.google.com/assets/colab-badge.svg\" alt=\"Open In Colab\"/></a>"
      ]
    },
    {
      "cell_type": "code",
      "metadata": {
        "id": "SxdXU8l_YrlC"
      },
      "source": [
        "import pandas as pd\n",
        "import numpy as np"
      ],
      "execution_count": 1,
      "outputs": []
    },
    {
      "cell_type": "code",
      "metadata": {
        "colab": {
          "base_uri": "https://localhost:8080/",
          "height": 513
        },
        "id": "9r7kYQlUhpnS",
        "outputId": "e7ae776e-6775-4196-fa7c-5989a0f04fba"
      },
      "source": [
        "df=pd.read_csv('drive/MyDrive/Week1_challenge_data_source(CSV).csv')\n",
        "df.head()"
      ],
      "execution_count": 2,
      "outputs": [
        {
          "output_type": "execute_result",
          "data": {
            "text/html": [
              "<div>\n",
              "<style scoped>\n",
              "    .dataframe tbody tr th:only-of-type {\n",
              "        vertical-align: middle;\n",
              "    }\n",
              "\n",
              "    .dataframe tbody tr th {\n",
              "        vertical-align: top;\n",
              "    }\n",
              "\n",
              "    .dataframe thead th {\n",
              "        text-align: right;\n",
              "    }\n",
              "</style>\n",
              "<table border=\"1\" class=\"dataframe\">\n",
              "  <thead>\n",
              "    <tr style=\"text-align: right;\">\n",
              "      <th></th>\n",
              "      <th>Bearer Id</th>\n",
              "      <th>Start</th>\n",
              "      <th>Start ms</th>\n",
              "      <th>End</th>\n",
              "      <th>End ms</th>\n",
              "      <th>Dur. (ms)</th>\n",
              "      <th>IMSI</th>\n",
              "      <th>MSISDN/Number</th>\n",
              "      <th>IMEI</th>\n",
              "      <th>Last Location Name</th>\n",
              "      <th>Avg RTT DL (ms)</th>\n",
              "      <th>Avg RTT UL (ms)</th>\n",
              "      <th>Avg Bearer TP DL (kbps)</th>\n",
              "      <th>Avg Bearer TP UL (kbps)</th>\n",
              "      <th>TCP DL Retrans. Vol (Bytes)</th>\n",
              "      <th>TCP UL Retrans. Vol (Bytes)</th>\n",
              "      <th>DL TP &lt; 50 Kbps (%)</th>\n",
              "      <th>50 Kbps &lt; DL TP &lt; 250 Kbps (%)</th>\n",
              "      <th>250 Kbps &lt; DL TP &lt; 1 Mbps (%)</th>\n",
              "      <th>DL TP &gt; 1 Mbps (%)</th>\n",
              "      <th>UL TP &lt; 10 Kbps (%)</th>\n",
              "      <th>10 Kbps &lt; UL TP &lt; 50 Kbps (%)</th>\n",
              "      <th>50 Kbps &lt; UL TP &lt; 300 Kbps (%)</th>\n",
              "      <th>UL TP &gt; 300 Kbps (%)</th>\n",
              "      <th>HTTP DL (Bytes)</th>\n",
              "      <th>HTTP UL (Bytes)</th>\n",
              "      <th>Activity Duration DL (ms)</th>\n",
              "      <th>Activity Duration UL (ms)</th>\n",
              "      <th>Dur. (ms).1</th>\n",
              "      <th>Handset Manufacturer</th>\n",
              "      <th>Handset Type</th>\n",
              "      <th>Nb of sec with 125000B &lt; Vol DL</th>\n",
              "      <th>Nb of sec with 1250B &lt; Vol UL &lt; 6250B</th>\n",
              "      <th>Nb of sec with 31250B &lt; Vol DL &lt; 125000B</th>\n",
              "      <th>Nb of sec with 37500B &lt; Vol UL</th>\n",
              "      <th>Nb of sec with 6250B &lt; Vol DL &lt; 31250B</th>\n",
              "      <th>Nb of sec with 6250B &lt; Vol UL &lt; 37500B</th>\n",
              "      <th>Nb of sec with Vol DL &lt; 6250B</th>\n",
              "      <th>Nb of sec with Vol UL &lt; 1250B</th>\n",
              "      <th>Social Media DL (Bytes)</th>\n",
              "      <th>Social Media UL (Bytes)</th>\n",
              "      <th>Google DL (Bytes)</th>\n",
              "      <th>Google UL (Bytes)</th>\n",
              "      <th>Email DL (Bytes)</th>\n",
              "      <th>Email UL (Bytes)</th>\n",
              "      <th>Youtube DL (Bytes)</th>\n",
              "      <th>Youtube UL (Bytes)</th>\n",
              "      <th>Netflix DL (Bytes)</th>\n",
              "      <th>Netflix UL (Bytes)</th>\n",
              "      <th>Gaming DL (Bytes)</th>\n",
              "      <th>Gaming UL (Bytes)</th>\n",
              "      <th>Other DL (Bytes)</th>\n",
              "      <th>Other UL (Bytes)</th>\n",
              "      <th>Total UL (Bytes)</th>\n",
              "      <th>Total DL (Bytes)</th>\n",
              "    </tr>\n",
              "  </thead>\n",
              "  <tbody>\n",
              "    <tr>\n",
              "      <th>0</th>\n",
              "      <td>1.311448e+19</td>\n",
              "      <td>4/4/2019 12:01</td>\n",
              "      <td>770.0</td>\n",
              "      <td>4/25/2019 14:35</td>\n",
              "      <td>662.0</td>\n",
              "      <td>1823652.0</td>\n",
              "      <td>2.082014e+14</td>\n",
              "      <td>3.366496e+10</td>\n",
              "      <td>3.552121e+13</td>\n",
              "      <td>9.16456699548519E+015</td>\n",
              "      <td>42.0</td>\n",
              "      <td>5.0</td>\n",
              "      <td>23.0</td>\n",
              "      <td>44.0</td>\n",
              "      <td>NaN</td>\n",
              "      <td>NaN</td>\n",
              "      <td>100.0</td>\n",
              "      <td>0.0</td>\n",
              "      <td>0.0</td>\n",
              "      <td>0.0</td>\n",
              "      <td>100.0</td>\n",
              "      <td>0.0</td>\n",
              "      <td>0.0</td>\n",
              "      <td>0.0</td>\n",
              "      <td>NaN</td>\n",
              "      <td>NaN</td>\n",
              "      <td>37624.0</td>\n",
              "      <td>38787.0</td>\n",
              "      <td>1.823653e+09</td>\n",
              "      <td>Samsung</td>\n",
              "      <td>Samsung Galaxy A5 Sm-A520F</td>\n",
              "      <td>NaN</td>\n",
              "      <td>NaN</td>\n",
              "      <td>NaN</td>\n",
              "      <td>NaN</td>\n",
              "      <td>NaN</td>\n",
              "      <td>NaN</td>\n",
              "      <td>213.0</td>\n",
              "      <td>214.0</td>\n",
              "      <td>1545765.0</td>\n",
              "      <td>24420.0</td>\n",
              "      <td>1634479.0</td>\n",
              "      <td>1271433.0</td>\n",
              "      <td>3563542.0</td>\n",
              "      <td>137762.0</td>\n",
              "      <td>15854611.0</td>\n",
              "      <td>2501332.0</td>\n",
              "      <td>8198936.0</td>\n",
              "      <td>9656251.0</td>\n",
              "      <td>278082303.0</td>\n",
              "      <td>14344150.0</td>\n",
              "      <td>171744450.0</td>\n",
              "      <td>8814393.0</td>\n",
              "      <td>36749741.0</td>\n",
              "      <td>308879636.0</td>\n",
              "    </tr>\n",
              "    <tr>\n",
              "      <th>1</th>\n",
              "      <td>1.311448e+19</td>\n",
              "      <td>4/9/2019 13:04</td>\n",
              "      <td>235.0</td>\n",
              "      <td>4/25/2019 8:15</td>\n",
              "      <td>606.0</td>\n",
              "      <td>1365104.0</td>\n",
              "      <td>2.082019e+14</td>\n",
              "      <td>3.368185e+10</td>\n",
              "      <td>3.579401e+13</td>\n",
              "      <td>L77566A</td>\n",
              "      <td>65.0</td>\n",
              "      <td>5.0</td>\n",
              "      <td>16.0</td>\n",
              "      <td>26.0</td>\n",
              "      <td>NaN</td>\n",
              "      <td>NaN</td>\n",
              "      <td>100.0</td>\n",
              "      <td>0.0</td>\n",
              "      <td>0.0</td>\n",
              "      <td>0.0</td>\n",
              "      <td>100.0</td>\n",
              "      <td>0.0</td>\n",
              "      <td>0.0</td>\n",
              "      <td>0.0</td>\n",
              "      <td>NaN</td>\n",
              "      <td>NaN</td>\n",
              "      <td>168.0</td>\n",
              "      <td>3560.0</td>\n",
              "      <td>1.365104e+09</td>\n",
              "      <td>Samsung</td>\n",
              "      <td>Samsung Galaxy J5 (Sm-J530)</td>\n",
              "      <td>NaN</td>\n",
              "      <td>NaN</td>\n",
              "      <td>NaN</td>\n",
              "      <td>NaN</td>\n",
              "      <td>NaN</td>\n",
              "      <td>NaN</td>\n",
              "      <td>971.0</td>\n",
              "      <td>1022.0</td>\n",
              "      <td>1926113.0</td>\n",
              "      <td>7165.0</td>\n",
              "      <td>3493924.0</td>\n",
              "      <td>920172.0</td>\n",
              "      <td>629046.0</td>\n",
              "      <td>308339.0</td>\n",
              "      <td>20247395.0</td>\n",
              "      <td>19111729.0</td>\n",
              "      <td>18338413.0</td>\n",
              "      <td>17227132.0</td>\n",
              "      <td>608750074.0</td>\n",
              "      <td>1170709.0</td>\n",
              "      <td>526904238.0</td>\n",
              "      <td>15055145.0</td>\n",
              "      <td>53800391.0</td>\n",
              "      <td>653384965.0</td>\n",
              "    </tr>\n",
              "    <tr>\n",
              "      <th>2</th>\n",
              "      <td>1.311448e+19</td>\n",
              "      <td>4/9/2019 17:42</td>\n",
              "      <td>1.0</td>\n",
              "      <td>4/25/2019 11:58</td>\n",
              "      <td>652.0</td>\n",
              "      <td>1361762.0</td>\n",
              "      <td>2.082003e+14</td>\n",
              "      <td>3.376063e+10</td>\n",
              "      <td>3.528151e+13</td>\n",
              "      <td>D42335A</td>\n",
              "      <td>NaN</td>\n",
              "      <td>NaN</td>\n",
              "      <td>6.0</td>\n",
              "      <td>9.0</td>\n",
              "      <td>NaN</td>\n",
              "      <td>NaN</td>\n",
              "      <td>100.0</td>\n",
              "      <td>0.0</td>\n",
              "      <td>0.0</td>\n",
              "      <td>0.0</td>\n",
              "      <td>100.0</td>\n",
              "      <td>0.0</td>\n",
              "      <td>0.0</td>\n",
              "      <td>0.0</td>\n",
              "      <td>NaN</td>\n",
              "      <td>NaN</td>\n",
              "      <td>0.0</td>\n",
              "      <td>0.0</td>\n",
              "      <td>1.361763e+09</td>\n",
              "      <td>Samsung</td>\n",
              "      <td>Samsung Galaxy A8 (2018)</td>\n",
              "      <td>NaN</td>\n",
              "      <td>NaN</td>\n",
              "      <td>NaN</td>\n",
              "      <td>NaN</td>\n",
              "      <td>NaN</td>\n",
              "      <td>NaN</td>\n",
              "      <td>751.0</td>\n",
              "      <td>695.0</td>\n",
              "      <td>1684053.0</td>\n",
              "      <td>42224.0</td>\n",
              "      <td>8535055.0</td>\n",
              "      <td>1694064.0</td>\n",
              "      <td>2690151.0</td>\n",
              "      <td>672973.0</td>\n",
              "      <td>19725661.0</td>\n",
              "      <td>14699576.0</td>\n",
              "      <td>17587794.0</td>\n",
              "      <td>6163408.0</td>\n",
              "      <td>229584621.0</td>\n",
              "      <td>395630.0</td>\n",
              "      <td>410692588.0</td>\n",
              "      <td>4215763.0</td>\n",
              "      <td>27883638.0</td>\n",
              "      <td>279807335.0</td>\n",
              "    </tr>\n",
              "    <tr>\n",
              "      <th>3</th>\n",
              "      <td>1.311448e+19</td>\n",
              "      <td>4/10/2019 0:31</td>\n",
              "      <td>486.0</td>\n",
              "      <td>4/25/2019 7:36</td>\n",
              "      <td>171.0</td>\n",
              "      <td>1321509.0</td>\n",
              "      <td>2.082014e+14</td>\n",
              "      <td>3.375034e+10</td>\n",
              "      <td>3.535661e+13</td>\n",
              "      <td>T21824A</td>\n",
              "      <td>NaN</td>\n",
              "      <td>NaN</td>\n",
              "      <td>44.0</td>\n",
              "      <td>44.0</td>\n",
              "      <td>NaN</td>\n",
              "      <td>NaN</td>\n",
              "      <td>100.0</td>\n",
              "      <td>0.0</td>\n",
              "      <td>0.0</td>\n",
              "      <td>0.0</td>\n",
              "      <td>100.0</td>\n",
              "      <td>0.0</td>\n",
              "      <td>0.0</td>\n",
              "      <td>0.0</td>\n",
              "      <td>NaN</td>\n",
              "      <td>NaN</td>\n",
              "      <td>3330.0</td>\n",
              "      <td>37882.0</td>\n",
              "      <td>1.321510e+09</td>\n",
              "      <td>undefined</td>\n",
              "      <td>undefined</td>\n",
              "      <td>NaN</td>\n",
              "      <td>NaN</td>\n",
              "      <td>NaN</td>\n",
              "      <td>NaN</td>\n",
              "      <td>NaN</td>\n",
              "      <td>NaN</td>\n",
              "      <td>17.0</td>\n",
              "      <td>207.0</td>\n",
              "      <td>644121.0</td>\n",
              "      <td>13372.0</td>\n",
              "      <td>9023734.0</td>\n",
              "      <td>2788027.0</td>\n",
              "      <td>1439754.0</td>\n",
              "      <td>631229.0</td>\n",
              "      <td>21388122.0</td>\n",
              "      <td>15146643.0</td>\n",
              "      <td>13994646.0</td>\n",
              "      <td>1097942.0</td>\n",
              "      <td>799538153.0</td>\n",
              "      <td>10849722.0</td>\n",
              "      <td>749039933.0</td>\n",
              "      <td>12797283.0</td>\n",
              "      <td>43324218.0</td>\n",
              "      <td>846028530.0</td>\n",
              "    </tr>\n",
              "    <tr>\n",
              "      <th>4</th>\n",
              "      <td>1.311448e+19</td>\n",
              "      <td>4/12/2019 20:10</td>\n",
              "      <td>565.0</td>\n",
              "      <td>4/25/2019 10:40</td>\n",
              "      <td>954.0</td>\n",
              "      <td>1089009.0</td>\n",
              "      <td>2.082014e+14</td>\n",
              "      <td>3.369980e+10</td>\n",
              "      <td>3.540701e+13</td>\n",
              "      <td>D88865A</td>\n",
              "      <td>NaN</td>\n",
              "      <td>NaN</td>\n",
              "      <td>6.0</td>\n",
              "      <td>9.0</td>\n",
              "      <td>NaN</td>\n",
              "      <td>NaN</td>\n",
              "      <td>100.0</td>\n",
              "      <td>0.0</td>\n",
              "      <td>0.0</td>\n",
              "      <td>0.0</td>\n",
              "      <td>100.0</td>\n",
              "      <td>0.0</td>\n",
              "      <td>0.0</td>\n",
              "      <td>0.0</td>\n",
              "      <td>NaN</td>\n",
              "      <td>NaN</td>\n",
              "      <td>0.0</td>\n",
              "      <td>0.0</td>\n",
              "      <td>1.089009e+09</td>\n",
              "      <td>Samsung</td>\n",
              "      <td>Samsung Sm-G390F</td>\n",
              "      <td>NaN</td>\n",
              "      <td>NaN</td>\n",
              "      <td>NaN</td>\n",
              "      <td>NaN</td>\n",
              "      <td>NaN</td>\n",
              "      <td>NaN</td>\n",
              "      <td>607.0</td>\n",
              "      <td>604.0</td>\n",
              "      <td>862600.0</td>\n",
              "      <td>50188.0</td>\n",
              "      <td>6248284.0</td>\n",
              "      <td>1500559.0</td>\n",
              "      <td>1936496.0</td>\n",
              "      <td>173853.0</td>\n",
              "      <td>15259380.0</td>\n",
              "      <td>18962873.0</td>\n",
              "      <td>17124581.0</td>\n",
              "      <td>415218.0</td>\n",
              "      <td>527707248.0</td>\n",
              "      <td>3529801.0</td>\n",
              "      <td>550709500.0</td>\n",
              "      <td>13910322.0</td>\n",
              "      <td>38542814.0</td>\n",
              "      <td>569138589.0</td>\n",
              "    </tr>\n",
              "  </tbody>\n",
              "</table>\n",
              "</div>"
            ],
            "text/plain": [
              "      Bearer Id            Start  ...  Total UL (Bytes) Total DL (Bytes)\n",
              "0  1.311448e+19   4/4/2019 12:01  ...        36749741.0      308879636.0\n",
              "1  1.311448e+19   4/9/2019 13:04  ...        53800391.0      653384965.0\n",
              "2  1.311448e+19   4/9/2019 17:42  ...        27883638.0      279807335.0\n",
              "3  1.311448e+19   4/10/2019 0:31  ...        43324218.0      846028530.0\n",
              "4  1.311448e+19  4/12/2019 20:10  ...        38542814.0      569138589.0\n",
              "\n",
              "[5 rows x 55 columns]"
            ]
          },
          "metadata": {
            "tags": []
          },
          "execution_count": 2
        }
      ]
    },
    {
      "cell_type": "code",
      "metadata": {
        "colab": {
          "base_uri": "https://localhost:8080/"
        },
        "id": "EvM0kKFWjy5T",
        "outputId": "edde4e92-027d-421d-c58e-a9b5d954771b"
      },
      "source": [
        "df.shape"
      ],
      "execution_count": 3,
      "outputs": [
        {
          "output_type": "execute_result",
          "data": {
            "text/plain": [
              "(150001, 55)"
            ]
          },
          "metadata": {
            "tags": []
          },
          "execution_count": 3
        }
      ]
    },
    {
      "cell_type": "code",
      "metadata": {
        "colab": {
          "base_uri": "https://localhost:8080/"
        },
        "id": "lfbWkSuxk_uu",
        "outputId": "65e966b0-6049-474c-e88f-6d701312b1e7"
      },
      "source": [
        "# column names\n",
        "df.columns.tolist()"
      ],
      "execution_count": 4,
      "outputs": [
        {
          "output_type": "execute_result",
          "data": {
            "text/plain": [
              "['Bearer Id',\n",
              " 'Start',\n",
              " 'Start ms',\n",
              " 'End',\n",
              " 'End ms',\n",
              " 'Dur. (ms)',\n",
              " 'IMSI',\n",
              " 'MSISDN/Number',\n",
              " 'IMEI',\n",
              " 'Last Location Name',\n",
              " 'Avg RTT DL (ms)',\n",
              " 'Avg RTT UL (ms)',\n",
              " 'Avg Bearer TP DL (kbps)',\n",
              " 'Avg Bearer TP UL (kbps)',\n",
              " 'TCP DL Retrans. Vol (Bytes)',\n",
              " 'TCP UL Retrans. Vol (Bytes)',\n",
              " 'DL TP < 50 Kbps (%)',\n",
              " '50 Kbps < DL TP < 250 Kbps (%)',\n",
              " '250 Kbps < DL TP < 1 Mbps (%)',\n",
              " 'DL TP > 1 Mbps (%)',\n",
              " 'UL TP < 10 Kbps (%)',\n",
              " '10 Kbps < UL TP < 50 Kbps (%)',\n",
              " '50 Kbps < UL TP < 300 Kbps (%)',\n",
              " 'UL TP > 300 Kbps (%)',\n",
              " 'HTTP DL (Bytes)',\n",
              " 'HTTP UL (Bytes)',\n",
              " 'Activity Duration DL (ms)',\n",
              " 'Activity Duration UL (ms)',\n",
              " 'Dur. (ms).1',\n",
              " 'Handset Manufacturer',\n",
              " 'Handset Type',\n",
              " 'Nb of sec with 125000B < Vol DL',\n",
              " 'Nb of sec with 1250B < Vol UL < 6250B',\n",
              " 'Nb of sec with 31250B < Vol DL < 125000B',\n",
              " 'Nb of sec with 37500B < Vol UL',\n",
              " 'Nb of sec with 6250B < Vol DL < 31250B',\n",
              " 'Nb of sec with 6250B < Vol UL < 37500B',\n",
              " 'Nb of sec with Vol DL < 6250B',\n",
              " 'Nb of sec with Vol UL < 1250B',\n",
              " 'Social Media DL (Bytes)',\n",
              " 'Social Media UL (Bytes)',\n",
              " 'Google DL (Bytes)',\n",
              " 'Google UL (Bytes)',\n",
              " 'Email DL (Bytes)',\n",
              " 'Email UL (Bytes)',\n",
              " 'Youtube DL (Bytes)',\n",
              " 'Youtube UL (Bytes)',\n",
              " 'Netflix DL (Bytes)',\n",
              " 'Netflix UL (Bytes)',\n",
              " 'Gaming DL (Bytes)',\n",
              " 'Gaming UL (Bytes)',\n",
              " 'Other DL (Bytes)',\n",
              " 'Other UL (Bytes)',\n",
              " 'Total UL (Bytes)',\n",
              " 'Total DL (Bytes)']"
            ]
          },
          "metadata": {
            "tags": []
          },
          "execution_count": 4
        }
      ]
    },
    {
      "cell_type": "code",
      "metadata": {
        "colab": {
          "base_uri": "https://localhost:8080/"
        },
        "id": "eOHgux8mrOeE",
        "outputId": "ccb23964-7fb4-4b5d-e50d-571e06c3d5a5"
      },
      "source": [
        "# number of data points\n",
        "print(f\" There are {df.shape[0]} rows and {df.shape[1]} columns\")"
      ],
      "execution_count": 5,
      "outputs": [
        {
          "output_type": "stream",
          "text": [
            " There are 150001 rows and 55 columns\n"
          ],
          "name": "stdout"
        }
      ]
    },
    {
      "cell_type": "code",
      "metadata": {
        "colab": {
          "base_uri": "https://localhost:8080/"
        },
        "id": "xS6imnnIsUlL",
        "outputId": "b580b2ee-a4f1-49a8-c77c-58cd5021a8bd"
      },
      "source": [
        "# how many missing values exist or better still what is the % of missing values in the dataset?\n",
        "def percent_missing(df):\n",
        "\n",
        "    # Calculate total number of cells in dataframe\n",
        "    totalCells = np.product(df.shape)\n",
        "\n",
        "    # Count number of missing values per column\n",
        "    missingCount = df.isnull().sum()\n",
        "\n",
        "    # Calculate total number of missing values\n",
        "    totalMissing = missingCount.sum()\n",
        "\n",
        "    # Calculate percentage of missing values\n",
        "    print(\"The Week1 challenge data source(CSV).csv dataset contains\", round(((totalMissing/totalCells) * 100), 2), \"%\", \"missing values.\")\n",
        "\n",
        "percent_missing(df)"
      ],
      "execution_count": 6,
      "outputs": [
        {
          "output_type": "stream",
          "text": [
            "The Week1 challenge data source(CSV).csv dataset contains 12.5 % missing values.\n"
          ],
          "name": "stdout"
        }
      ]
    },
    {
      "cell_type": "code",
      "metadata": {
        "colab": {
          "base_uri": "https://localhost:8080/"
        },
        "id": "l0x-IRfr4IaI",
        "outputId": "97516935-e8ad-49fa-9652-083311e5c7bf"
      },
      "source": [
        "# Now which column(s) has missing values\n",
        "df.isna().sum()"
      ],
      "execution_count": 7,
      "outputs": [
        {
          "output_type": "execute_result",
          "data": {
            "text/plain": [
              "Bearer Id                                      991\n",
              "Start                                            1\n",
              "Start ms                                         1\n",
              "End                                              1\n",
              "End ms                                           1\n",
              "Dur. (ms)                                        1\n",
              "IMSI                                           570\n",
              "MSISDN/Number                                 1066\n",
              "IMEI                                           572\n",
              "Last Location Name                            1153\n",
              "Avg RTT DL (ms)                              27829\n",
              "Avg RTT UL (ms)                              27812\n",
              "Avg Bearer TP DL (kbps)                          1\n",
              "Avg Bearer TP UL (kbps)                          1\n",
              "TCP DL Retrans. Vol (Bytes)                  88146\n",
              "TCP UL Retrans. Vol (Bytes)                  96649\n",
              "DL TP < 50 Kbps (%)                            754\n",
              "50 Kbps < DL TP < 250 Kbps (%)                 754\n",
              "250 Kbps < DL TP < 1 Mbps (%)                  754\n",
              "DL TP > 1 Mbps (%)                             754\n",
              "UL TP < 10 Kbps (%)                            792\n",
              "10 Kbps < UL TP < 50 Kbps (%)                  792\n",
              "50 Kbps < UL TP < 300 Kbps (%)                 792\n",
              "UL TP > 300 Kbps (%)                           792\n",
              "HTTP DL (Bytes)                              81474\n",
              "HTTP UL (Bytes)                              81810\n",
              "Activity Duration DL (ms)                        1\n",
              "Activity Duration UL (ms)                        1\n",
              "Dur. (ms).1                                      1\n",
              "Handset Manufacturer                           572\n",
              "Handset Type                                   572\n",
              "Nb of sec with 125000B < Vol DL              97538\n",
              "Nb of sec with 1250B < Vol UL < 6250B        92894\n",
              "Nb of sec with 31250B < Vol DL < 125000B     93586\n",
              "Nb of sec with 37500B < Vol UL              130254\n",
              "Nb of sec with 6250B < Vol DL < 31250B       88317\n",
              "Nb of sec with 6250B < Vol UL < 37500B      111843\n",
              "Nb of sec with Vol DL < 6250B                  755\n",
              "Nb of sec with Vol UL < 1250B                  793\n",
              "Social Media DL (Bytes)                          0\n",
              "Social Media UL (Bytes)                          0\n",
              "Google DL (Bytes)                                0\n",
              "Google UL (Bytes)                                0\n",
              "Email DL (Bytes)                                 0\n",
              "Email UL (Bytes)                                 0\n",
              "Youtube DL (Bytes)                               0\n",
              "Youtube UL (Bytes)                               0\n",
              "Netflix DL (Bytes)                               0\n",
              "Netflix UL (Bytes)                               0\n",
              "Gaming DL (Bytes)                                0\n",
              "Gaming UL (Bytes)                                0\n",
              "Other DL (Bytes)                                 0\n",
              "Other UL (Bytes)                                 0\n",
              "Total UL (Bytes)                                 1\n",
              "Total DL (Bytes)                                 1\n",
              "dtype: int64"
            ]
          },
          "metadata": {
            "tags": []
          },
          "execution_count": 7
        }
      ]
    },
    {
      "cell_type": "code",
      "metadata": {
        "colab": {
          "base_uri": "https://localhost:8080/",
          "height": 384
        },
        "id": "qUyIwNIAoXB2",
        "outputId": "2bd7305a-581f-4628-bd1a-220c611b9adf"
      },
      "source": [
        "# Checking for skewness on one of the column specifically on the \"IMSI\"\n",
        "import seaborn as sns\n",
        "#\n",
        "# Box plot\n",
        "#\n",
        "sns.boxplot(df.IMSI)\n",
        "#\n",
        "# Distribution plot\n",
        "#\n",
        "sns.distplot(df.IMSI)"
      ],
      "execution_count": 8,
      "outputs": [
        {
          "output_type": "stream",
          "text": [
            "/usr/local/lib/python3.7/dist-packages/seaborn/_decorators.py:43: FutureWarning: Pass the following variable as a keyword arg: x. From version 0.12, the only valid positional argument will be `data`, and passing other arguments without an explicit keyword will result in an error or misinterpretation.\n",
            "  FutureWarning\n",
            "/usr/local/lib/python3.7/dist-packages/seaborn/distributions.py:2557: FutureWarning: `distplot` is a deprecated function and will be removed in a future version. Please adapt your code to use either `displot` (a figure-level function with similar flexibility) or `histplot` (an axes-level function for histograms).\n",
            "  warnings.warn(msg, FutureWarning)\n"
          ],
          "name": "stderr"
        },
        {
          "output_type": "execute_result",
          "data": {
            "text/plain": [
              "<matplotlib.axes._subplots.AxesSubplot at 0x7fb80390b7d0>"
            ]
          },
          "metadata": {
            "tags": []
          },
          "execution_count": 8
        },
        {
          "output_type": "display_data",
          "data": {
            "image/png": "[encoded data removed]",
            "text/plain": [
              "<Figure size 432x288 with 1 Axes>"
            ]
          },
          "metadata": {
            "tags": [],
            "needs_background": "light"
          }
        }
      ]
    },
    {
      "cell_type": "code",
      "metadata": {
        "colab": {
          "base_uri": "https://localhost:8080/",
          "height": 459
        },
        "id": "Ou5qZBFbowg5",
        "outputId": "f42e8b36-4fb7-4b15-b762-11d4d6c40138"
      },
      "source": [
        "from matplotlib import pyplot as plt\n",
        "fig, ax = plt.subplots(figsize=(10,6))\n",
        "sns.boxplot(df.IMSI)"
      ],
      "execution_count": 9,
      "outputs": [
        {
          "output_type": "stream",
          "text": [
            "/usr/local/lib/python3.7/dist-packages/seaborn/_decorators.py:43: FutureWarning: Pass the following variable as a keyword arg: x. From version 0.12, the only valid positional argument will be `data`, and passing other arguments without an explicit keyword will result in an error or misinterpretation.\n",
            "  FutureWarning\n"
          ],
          "name": "stderr"
        },
        {
          "output_type": "execute_result",
          "data": {
            "text/plain": [
              "<matplotlib.axes._subplots.AxesSubplot at 0x7fb8038f2dd0>"
            ]
          },
          "metadata": {
            "tags": []
          },
          "execution_count": 9
        },
        {
          "output_type": "display_data",
          "data": {
            "image/png": "[encoded data removed]",
            "text/plain": [
              "<Figure size 720x432 with 1 Axes>"
            ]
          },
          "metadata": {
            "tags": [],
            "needs_background": "light"
          }
        }
      ]
    },
    {
      "cell_type": "code",
      "metadata": {
        "colab": {
          "base_uri": "https://localhost:8080/",
          "height": 579
        },
        "id": "3T8--_Veo45V",
        "outputId": "cf7923b8-0d12-4f42-d22a-063cad263cda"
      },
      "source": [
        "fig, ax = plt.subplots(figsize=(10,8))\n",
        "sns.distplot(df.IMSI)"
      ],
      "execution_count": 10,
      "outputs": [
        {
          "output_type": "stream",
          "text": [
            "/usr/local/lib/python3.7/dist-packages/seaborn/distributions.py:2557: FutureWarning: `distplot` is a deprecated function and will be removed in a future version. Please adapt your code to use either `displot` (a figure-level function with similar flexibility) or `histplot` (an axes-level function for histograms).\n",
            "  warnings.warn(msg, FutureWarning)\n"
          ],
          "name": "stderr"
        },
        {
          "output_type": "execute_result",
          "data": {
            "text/plain": [
              "<matplotlib.axes._subplots.AxesSubplot at 0x7fb7f7ffbcd0>"
            ]
          },
          "metadata": {
            "tags": []
          },
          "execution_count": 10
        },
        {
          "output_type": "display_data",
          "data": {
            "image/png": "[encoded data removed]",
            "text/plain": [
              "<Figure size 720x576 with 1 Axes>"
            ]
          },
          "metadata": {
            "tags": [],
            "needs_background": "light"
          }
        }
      ]
    },
    {
      "cell_type": "code",
      "metadata": {
        "colab": {
          "base_uri": "https://localhost:8080/"
        },
        "id": "Vpk1CdV4qK9G",
        "outputId": "febb1482-dc81-4247-9b42-ebfb058d8e55"
      },
      "source": [
        "df.IMSI.mode()"
      ],
      "execution_count": 11,
      "outputs": [
        {
          "output_type": "execute_result",
          "data": {
            "text/plain": [
              "0    2.082014e+14\n",
              "dtype: float64"
            ]
          },
          "metadata": {
            "tags": []
          },
          "execution_count": 11
        }
      ]
    },
    {
      "cell_type": "code",
      "metadata": {
        "colab": {
          "base_uri": "https://localhost:8080/"
        },
        "id": "UyN2SLTIqYwe",
        "outputId": "409473a7-a747-444b-ed91-873d017c7534"
      },
      "source": [
        "# To see the percentage of missing values of every columns\n",
        "def every_column_percent_missing(df):\n",
        "    percent_missing = df.isnull().sum() * 100 / len(df)\n",
        "    missing_value_df = pd.DataFrame({'column_name': df.columns,\n",
        "                                     'percent_missing': percent_missing})\n",
        "\n",
        "    missing_value_df.sort_values('percent_missing', inplace=True)\n",
        "\n",
        "    print(missing_value_df)\n",
        "\n",
        "\n",
        "every_column_percent_missing(df)"
      ],
      "execution_count": 12,
      "outputs": [
        {
          "output_type": "stream",
          "text": [
            "                                                                       column_name  percent_missing\n",
            "Youtube DL (Bytes)                                              Youtube DL (Bytes)         0.000000\n",
            "Other UL (Bytes)                                                  Other UL (Bytes)         0.000000\n",
            "Other DL (Bytes)                                                  Other DL (Bytes)         0.000000\n",
            "Gaming UL (Bytes)                                                Gaming UL (Bytes)         0.000000\n",
            "Gaming DL (Bytes)                                                Gaming DL (Bytes)         0.000000\n",
            "Netflix UL (Bytes)                                              Netflix UL (Bytes)         0.000000\n",
            "Netflix DL (Bytes)                                              Netflix DL (Bytes)         0.000000\n",
            "Youtube UL (Bytes)                                              Youtube UL (Bytes)         0.000000\n",
            "Email UL (Bytes)                                                  Email UL (Bytes)         0.000000\n",
            "Email DL (Bytes)                                                  Email DL (Bytes)         0.000000\n",
            "Google UL (Bytes)                                                Google UL (Bytes)         0.000000\n",
            "Google DL (Bytes)                                                Google DL (Bytes)         0.000000\n",
            "Social Media UL (Bytes)                                    Social Media UL (Bytes)         0.000000\n",
            "Social Media DL (Bytes)                                    Social Media DL (Bytes)         0.000000\n",
            "Dur. (ms).1                                                            Dur. (ms).1         0.000667\n",
            "Activity Duration UL (ms)                                Activity Duration UL (ms)         0.000667\n",
            "Total UL (Bytes)                                                  Total UL (Bytes)         0.000667\n",
            "Activity Duration DL (ms)                                Activity Duration DL (ms)         0.000667\n",
            "Total DL (Bytes)                                                  Total DL (Bytes)         0.000667\n",
            "Avg Bearer TP UL (kbps)                                    Avg Bearer TP UL (kbps)         0.000667\n",
            "Avg Bearer TP DL (kbps)                                    Avg Bearer TP DL (kbps)         0.000667\n",
            "Dur. (ms)                                                                Dur. (ms)         0.000667\n",
            "Start                                                                        Start         0.000667\n",
            "Start ms                                                                  Start ms         0.000667\n",
            "End ms                                                                      End ms         0.000667\n",
            "End                                                                            End         0.000667\n",
            "IMSI                                                                          IMSI         0.379997\n",
            "IMEI                                                                          IMEI         0.381331\n",
            "Handset Type                                                          Handset Type         0.381331\n",
            "Handset Manufacturer                                          Handset Manufacturer         0.381331\n",
            "DL TP < 50 Kbps (%)                                            DL TP < 50 Kbps (%)         0.502663\n",
            "50 Kbps < DL TP < 250 Kbps (%)                      50 Kbps < DL TP < 250 Kbps (%)         0.502663\n",
            "250 Kbps < DL TP < 1 Mbps (%)                        250 Kbps < DL TP < 1 Mbps (%)         0.502663\n",
            "DL TP > 1 Mbps (%)                                              DL TP > 1 Mbps (%)         0.502663\n",
            "Nb of sec with Vol DL < 6250B                        Nb of sec with Vol DL < 6250B         0.503330\n",
            "UL TP > 300 Kbps (%)                                          UL TP > 300 Kbps (%)         0.527996\n",
            "50 Kbps < UL TP < 300 Kbps (%)                      50 Kbps < UL TP < 300 Kbps (%)         0.527996\n",
            "10 Kbps < UL TP < 50 Kbps (%)                        10 Kbps < UL TP < 50 Kbps (%)         0.527996\n",
            "UL TP < 10 Kbps (%)                                            UL TP < 10 Kbps (%)         0.527996\n",
            "Nb of sec with Vol UL < 1250B                        Nb of sec with Vol UL < 1250B         0.528663\n",
            "Bearer Id                                                                Bearer Id         0.660662\n",
            "MSISDN/Number                                                        MSISDN/Number         0.710662\n",
            "Last Location Name                                              Last Location Name         0.768662\n",
            "Avg RTT UL (ms)                                                    Avg RTT UL (ms)        18.541210\n",
            "Avg RTT DL (ms)                                                    Avg RTT DL (ms)        18.552543\n",
            "HTTP DL (Bytes)                                                    HTTP DL (Bytes)        54.315638\n",
            "HTTP UL (Bytes)                                                    HTTP UL (Bytes)        54.539636\n",
            "TCP DL Retrans. Vol (Bytes)                            TCP DL Retrans. Vol (Bytes)        58.763608\n",
            "Nb of sec with 6250B < Vol DL < 31250B      Nb of sec with 6250B < Vol DL < 31250B        58.877607\n",
            "Nb of sec with 1250B < Vol UL < 6250B        Nb of sec with 1250B < Vol UL < 6250B        61.928920\n",
            "Nb of sec with 31250B < Vol DL < 125000B  Nb of sec with 31250B < Vol DL < 125000B        62.390251\n",
            "TCP UL Retrans. Vol (Bytes)                            TCP UL Retrans. Vol (Bytes)        64.432237\n",
            "Nb of sec with 125000B < Vol DL                    Nb of sec with 125000B < Vol DL        65.024900\n",
            "Nb of sec with 6250B < Vol UL < 37500B      Nb of sec with 6250B < Vol UL < 37500B        74.561503\n",
            "Nb of sec with 37500B < Vol UL                      Nb of sec with 37500B < Vol UL        86.835421\n"
          ],
          "name": "stdout"
        }
      ]
    },
    {
      "cell_type": "code",
      "metadata": {
        "colab": {
          "base_uri": "https://localhost:8080/"
        },
        "id": "HNDMRuD2qlPO",
        "outputId": "e80ab683-897f-4244-a6d9-56a2b773fe96"
      },
      "source": [
        "# drop columns with more than 50% missing values\n",
        "df_clean = df.drop(['HTTP DL (Bytes)', 'HTTP UL (Bytes)', 'TCP DL Retrans. Vol (Bytes)', 'Nb of sec with 6250B < Vol DL < 31250B', 'Nb of sec with 1250B < Vol UL < 6250B', 'Nb of sec with 31250B < Vol DL < 125000B', 'TCP UL Retrans. Vol (Bytes)', 'Nb of sec with 125000B < Vol DL', 'Nb of sec with 6250B < Vol UL < 37500B', 'Nb of sec with 37500B < Vol UL'], axis=1)\n",
        "\n",
        "df_clean.shape"
      ],
      "execution_count": 13,
      "outputs": [
        {
          "output_type": "execute_result",
          "data": {
            "text/plain": [
              "(150001, 45)"
            ]
          },
          "metadata": {
            "tags": []
          },
          "execution_count": 13
        }
      ]
    },
    {
      "cell_type": "code",
      "metadata": {
        "colab": {
          "base_uri": "https://localhost:8080/"
        },
        "id": "6LjJ6B8EqydP",
        "outputId": "4a24c010-6bfd-483e-de70-0fccea5e24da"
      },
      "source": [
        "df_clean.isna().sum()"
      ],
      "execution_count": 14,
      "outputs": [
        {
          "output_type": "execute_result",
          "data": {
            "text/plain": [
              "Bearer Id                           991\n",
              "Start                                 1\n",
              "Start ms                              1\n",
              "End                                   1\n",
              "End ms                                1\n",
              "Dur. (ms)                             1\n",
              "IMSI                                570\n",
              "MSISDN/Number                      1066\n",
              "IMEI                                572\n",
              "Last Location Name                 1153\n",
              "Avg RTT DL (ms)                   27829\n",
              "Avg RTT UL (ms)                   27812\n",
              "Avg Bearer TP DL (kbps)               1\n",
              "Avg Bearer TP UL (kbps)               1\n",
              "DL TP < 50 Kbps (%)                 754\n",
              "50 Kbps < DL TP < 250 Kbps (%)      754\n",
              "250 Kbps < DL TP < 1 Mbps (%)       754\n",
              "DL TP > 1 Mbps (%)                  754\n",
              "UL TP < 10 Kbps (%)                 792\n",
              "10 Kbps < UL TP < 50 Kbps (%)       792\n",
              "50 Kbps < UL TP < 300 Kbps (%)      792\n",
              "UL TP > 300 Kbps (%)                792\n",
              "Activity Duration DL (ms)             1\n",
              "Activity Duration UL (ms)             1\n",
              "Dur. (ms).1                           1\n",
              "Handset Manufacturer                572\n",
              "Handset Type                        572\n",
              "Nb of sec with Vol DL < 6250B       755\n",
              "Nb of sec with Vol UL < 1250B       793\n",
              "Social Media DL (Bytes)               0\n",
              "Social Media UL (Bytes)               0\n",
              "Google DL (Bytes)                     0\n",
              "Google UL (Bytes)                     0\n",
              "Email DL (Bytes)                      0\n",
              "Email UL (Bytes)                      0\n",
              "Youtube DL (Bytes)                    0\n",
              "Youtube UL (Bytes)                    0\n",
              "Netflix DL (Bytes)                    0\n",
              "Netflix UL (Bytes)                    0\n",
              "Gaming DL (Bytes)                     0\n",
              "Gaming UL (Bytes)                     0\n",
              "Other DL (Bytes)                      0\n",
              "Other UL (Bytes)                      0\n",
              "Total UL (Bytes)                      1\n",
              "Total DL (Bytes)                      1\n",
              "dtype: int64"
            ]
          },
          "metadata": {
            "tags": []
          },
          "execution_count": 14
        }
      ]
    },
    {
      "cell_type": "code",
      "metadata": {
        "colab": {
          "base_uri": "https://localhost:8080/"
        },
        "id": "RYF8lJAaq6Q2",
        "outputId": "39662904-4301-426c-fe2a-3bef35df2f9d"
      },
      "source": [
        "df_clean.columns.tolist()"
      ],
      "execution_count": 15,
      "outputs": [
        {
          "output_type": "execute_result",
          "data": {
            "text/plain": [
              "['Bearer Id',\n",
              " 'Start',\n",
              " 'Start ms',\n",
              " 'End',\n",
              " 'End ms',\n",
              " 'Dur. (ms)',\n",
              " 'IMSI',\n",
              " 'MSISDN/Number',\n",
              " 'IMEI',\n",
              " 'Last Location Name',\n",
              " 'Avg RTT DL (ms)',\n",
              " 'Avg RTT UL (ms)',\n",
              " 'Avg Bearer TP DL (kbps)',\n",
              " 'Avg Bearer TP UL (kbps)',\n",
              " 'DL TP < 50 Kbps (%)',\n",
              " '50 Kbps < DL TP < 250 Kbps (%)',\n",
              " '250 Kbps < DL TP < 1 Mbps (%)',\n",
              " 'DL TP > 1 Mbps (%)',\n",
              " 'UL TP < 10 Kbps (%)',\n",
              " '10 Kbps < UL TP < 50 Kbps (%)',\n",
              " '50 Kbps < UL TP < 300 Kbps (%)',\n",
              " 'UL TP > 300 Kbps (%)',\n",
              " 'Activity Duration DL (ms)',\n",
              " 'Activity Duration UL (ms)',\n",
              " 'Dur. (ms).1',\n",
              " 'Handset Manufacturer',\n",
              " 'Handset Type',\n",
              " 'Nb of sec with Vol DL < 6250B',\n",
              " 'Nb of sec with Vol UL < 1250B',\n",
              " 'Social Media DL (Bytes)',\n",
              " 'Social Media UL (Bytes)',\n",
              " 'Google DL (Bytes)',\n",
              " 'Google UL (Bytes)',\n",
              " 'Email DL (Bytes)',\n",
              " 'Email UL (Bytes)',\n",
              " 'Youtube DL (Bytes)',\n",
              " 'Youtube UL (Bytes)',\n",
              " 'Netflix DL (Bytes)',\n",
              " 'Netflix UL (Bytes)',\n",
              " 'Gaming DL (Bytes)',\n",
              " 'Gaming UL (Bytes)',\n",
              " 'Other DL (Bytes)',\n",
              " 'Other UL (Bytes)',\n",
              " 'Total UL (Bytes)',\n",
              " 'Total DL (Bytes)']"
            ]
          },
          "metadata": {
            "tags": []
          },
          "execution_count": 15
        }
      ]
    },
    {
      "cell_type": "code",
      "metadata": {
        "colab": {
          "base_uri": "https://localhost:8080/"
        },
        "id": "ReX1czIfrBUo",
        "outputId": "da2434da-62d6-45d1-b61d-e59f6370896c"
      },
      "source": [
        "# how many missing values exist on the new cleaned dataset on percentage ?\n",
        "\n",
        "percent_missing(df_clean)"
      ],
      "execution_count": 16,
      "outputs": [
        {
          "output_type": "stream",
          "text": [
            "The Week1 challenge data source(CSV).csv dataset contains 1.02 % missing values.\n"
          ],
          "name": "stdout"
        }
      ]
    },
    {
      "cell_type": "code",
      "metadata": {
        "colab": {
          "base_uri": "https://localhost:8080/"
        },
        "id": "NRfO0LRvrI6Z",
        "outputId": "cd084ee0-07bf-4417-d630-aba88271ec80"
      },
      "source": [
        "every_column_percent_missing(df_clean)"
      ],
      "execution_count": 17,
      "outputs": [
        {
          "output_type": "stream",
          "text": [
            "                                                   column_name  percent_missing\n",
            "Youtube DL (Bytes)                          Youtube DL (Bytes)         0.000000\n",
            "Other UL (Bytes)                              Other UL (Bytes)         0.000000\n",
            "Other DL (Bytes)                              Other DL (Bytes)         0.000000\n",
            "Gaming UL (Bytes)                            Gaming UL (Bytes)         0.000000\n",
            "Gaming DL (Bytes)                            Gaming DL (Bytes)         0.000000\n",
            "Netflix UL (Bytes)                          Netflix UL (Bytes)         0.000000\n",
            "Netflix DL (Bytes)                          Netflix DL (Bytes)         0.000000\n",
            "Youtube UL (Bytes)                          Youtube UL (Bytes)         0.000000\n",
            "Email UL (Bytes)                              Email UL (Bytes)         0.000000\n",
            "Email DL (Bytes)                              Email DL (Bytes)         0.000000\n",
            "Google UL (Bytes)                            Google UL (Bytes)         0.000000\n",
            "Google DL (Bytes)                            Google DL (Bytes)         0.000000\n",
            "Social Media UL (Bytes)                Social Media UL (Bytes)         0.000000\n",
            "Social Media DL (Bytes)                Social Media DL (Bytes)         0.000000\n",
            "Dur. (ms).1                                        Dur. (ms).1         0.000667\n",
            "Activity Duration DL (ms)            Activity Duration DL (ms)         0.000667\n",
            "Activity Duration UL (ms)            Activity Duration UL (ms)         0.000667\n",
            "Total UL (Bytes)                              Total UL (Bytes)         0.000667\n",
            "Total DL (Bytes)                              Total DL (Bytes)         0.000667\n",
            "Avg Bearer TP DL (kbps)                Avg Bearer TP DL (kbps)         0.000667\n",
            "Start                                                    Start         0.000667\n",
            "Start ms                                              Start ms         0.000667\n",
            "End                                                        End         0.000667\n",
            "Avg Bearer TP UL (kbps)                Avg Bearer TP UL (kbps)         0.000667\n",
            "End ms                                                  End ms         0.000667\n",
            "Dur. (ms)                                            Dur. (ms)         0.000667\n",
            "IMSI                                                      IMSI         0.379997\n",
            "Handset Manufacturer                      Handset Manufacturer         0.381331\n",
            "Handset Type                                      Handset Type         0.381331\n",
            "IMEI                                                      IMEI         0.381331\n",
            "DL TP > 1 Mbps (%)                          DL TP > 1 Mbps (%)         0.502663\n",
            "250 Kbps < DL TP < 1 Mbps (%)    250 Kbps < DL TP < 1 Mbps (%)         0.502663\n",
            "50 Kbps < DL TP < 250 Kbps (%)  50 Kbps < DL TP < 250 Kbps (%)         0.502663\n",
            "DL TP < 50 Kbps (%)                        DL TP < 50 Kbps (%)         0.502663\n",
            "Nb of sec with Vol DL < 6250B    Nb of sec with Vol DL < 6250B         0.503330\n",
            "10 Kbps < UL TP < 50 Kbps (%)    10 Kbps < UL TP < 50 Kbps (%)         0.527996\n",
            "UL TP < 10 Kbps (%)                        UL TP < 10 Kbps (%)         0.527996\n",
            "UL TP > 300 Kbps (%)                      UL TP > 300 Kbps (%)         0.527996\n",
            "50 Kbps < UL TP < 300 Kbps (%)  50 Kbps < UL TP < 300 Kbps (%)         0.527996\n",
            "Nb of sec with Vol UL < 1250B    Nb of sec with Vol UL < 1250B         0.528663\n",
            "Bearer Id                                            Bearer Id         0.660662\n",
            "MSISDN/Number                                    MSISDN/Number         0.710662\n",
            "Last Location Name                          Last Location Name         0.768662\n",
            "Avg RTT UL (ms)                                Avg RTT UL (ms)        18.541210\n",
            "Avg RTT DL (ms)                                Avg RTT DL (ms)        18.552543\n"
          ],
          "name": "stdout"
        }
      ]
    },
    {
      "cell_type": "code",
      "metadata": {
        "colab": {
          "base_uri": "https://localhost:8080/",
          "height": 384
        },
        "id": "jzRGjPgrrUd4",
        "outputId": "521d1bc0-426f-49f3-da45-05ea48f2d28a"
      },
      "source": [
        "# Distribution plot to check for skewness\n",
        "\n",
        "sns.boxplot(df['Avg RTT UL (ms)'])\n",
        "\n",
        "sns.distplot(df['Avg RTT UL (ms)'])"
      ],
      "execution_count": 18,
      "outputs": [
        {
          "output_type": "stream",
          "text": [
            "/usr/local/lib/python3.7/dist-packages/seaborn/_decorators.py:43: FutureWarning: Pass the following variable as a keyword arg: x. From version 0.12, the only valid positional argument will be `data`, and passing other arguments without an explicit keyword will result in an error or misinterpretation.\n",
            "  FutureWarning\n",
            "/usr/local/lib/python3.7/dist-packages/seaborn/distributions.py:2557: FutureWarning: `distplot` is a deprecated function and will be removed in a future version. Please adapt your code to use either `displot` (a figure-level function with similar flexibility) or `histplot` (an axes-level function for histograms).\n",
            "  warnings.warn(msg, FutureWarning)\n"
          ],
          "name": "stderr"
        },
        {
          "output_type": "execute_result",
          "data": {
            "text/plain": [
              "<matplotlib.axes._subplots.AxesSubplot at 0x7fb7f7f0a050>"
            ]
          },
          "metadata": {
            "tags": []
          },
          "execution_count": 18
        },
        {
          "output_type": "display_data",
          "data": {
            "image/png": "[encoded data removed]",
            "text/plain": [
              "<Figure size 432x288 with 1 Axes>"
            ]
          },
          "metadata": {
            "tags": [],
            "needs_background": "light"
          }
        }
      ]
    },
    {
      "cell_type": "code",
      "metadata": {
        "colab": {
          "base_uri": "https://localhost:8080/",
          "height": 459
        },
        "id": "S4IFfEv5sLW5",
        "outputId": "d98b001a-8736-4589-84cb-9f79cce3e3a1"
      },
      "source": [
        "fig, ax = plt.subplots(figsize=(10,6))\n",
        "sns.boxplot(df['Avg RTT UL (ms)'])"
      ],
      "execution_count": 19,
      "outputs": [
        {
          "output_type": "stream",
          "text": [
            "/usr/local/lib/python3.7/dist-packages/seaborn/_decorators.py:43: FutureWarning: Pass the following variable as a keyword arg: x. From version 0.12, the only valid positional argument will be `data`, and passing other arguments without an explicit keyword will result in an error or misinterpretation.\n",
            "  FutureWarning\n"
          ],
          "name": "stderr"
        },
        {
          "output_type": "execute_result",
          "data": {
            "text/plain": [
              "<matplotlib.axes._subplots.AxesSubplot at 0x7fb7f7db9550>"
            ]
          },
          "metadata": {
            "tags": []
          },
          "execution_count": 19
        },
        {
          "output_type": "display_data",
          "data": {
            "image/png": "[encoded data removed]",
            "text/plain": [
              "<Figure size 720x432 with 1 Axes>"
            ]
          },
          "metadata": {
            "tags": [],
            "needs_background": "light"
          }
        }
      ]
    },
    {
      "cell_type": "code",
      "metadata": {
        "colab": {
          "base_uri": "https://localhost:8080/",
          "height": 568
        },
        "id": "KkQMBzRqsseO",
        "outputId": "b4e67dda-497f-476c-c41b-3af094640587"
      },
      "source": [
        "fig, ax = plt.subplots(figsize=(10,8))\n",
        "sns.distplot(df['Avg RTT UL (ms)'])"
      ],
      "execution_count": 20,
      "outputs": [
        {
          "output_type": "stream",
          "text": [
            "/usr/local/lib/python3.7/dist-packages/seaborn/distributions.py:2557: FutureWarning: `distplot` is a deprecated function and will be removed in a future version. Please adapt your code to use either `displot` (a figure-level function with similar flexibility) or `histplot` (an axes-level function for histograms).\n",
            "  warnings.warn(msg, FutureWarning)\n"
          ],
          "name": "stderr"
        },
        {
          "output_type": "execute_result",
          "data": {
            "text/plain": [
              "<matplotlib.axes._subplots.AxesSubplot at 0x7fb7f8000f90>"
            ]
          },
          "metadata": {
            "tags": []
          },
          "execution_count": 20
        },
        {
          "output_type": "display_data",
          "data": {
            "image/png": "[encoded data removed]",
            "text/plain": [
              "<Figure size 720x576 with 1 Axes>"
            ]
          },
          "metadata": {
            "tags": [],
            "needs_background": "light"
          }
        }
      ]
    },
    {
      "cell_type": "code",
      "metadata": {
        "id": "JiRlk9dXs1Xl"
      },
      "source": [
        "#df_clean['# fill missing with ffill method for columns ()\n",
        "\n",
        "def fix_missing_ffill(df, col):\n",
        "    df[col] = df[col].fillna(method='ffill')\n",
        "    return df[col]\n",
        "\n",
        "\n",
        "def fix_missing_bfill(df, col):\n",
        "    df[col] = df[col].fillna(method='bfill')\n",
        "    return df[col]\n",
        "\n",
        "df_clean['Dur. (ms).1'] = fix_missing_ffill(df_clean, 'Dur. (ms).1')\n",
        "df_clean['Activity Duration DL (ms)'] = fix_missing_ffill(df_clean, 'Activity Duration DL (ms)')\n",
        "df_clean['Activity Duration UL (ms)'] = fix_missing_ffill(df_clean, 'Activity Duration UL (ms)')\n",
        "df_clean['Total UL (Bytes)'] = fix_missing_ffill(df_clean, 'Total UL (Bytes)')\n",
        "df_clean['Total DL (Bytes)'] = fix_missing_ffill(df_clean, 'Total DL (Bytes)')\n",
        "df_clean['Avg Bearer TP DL (kbps)'] = fix_missing_ffill(df_clean, 'Avg Bearer TP DL (kbps)')\n",
        "df_clean['Start'] = fix_missing_ffill(df_clean, 'Start')\n",
        "df_clean['Start ms'] = fix_missing_ffill(df_clean, 'Start ms')\n",
        "df_clean['End'] = fix_missing_ffill(df_clean, 'End')\n",
        "df_clean['Avg Bearer TP UL (kbps)'] = fix_missing_ffill(df_clean, 'Avg Bearer TP UL (kbps)')\n",
        "df_clean['End ms'] = fix_missing_ffill(df_clean, 'End ms')\n",
        "df_clean['Dur. (ms)'] = fix_missing_ffill(df_clean, 'Dur. (ms)')\n",
        "df_clean['IMSI'] = fix_missing_ffill(df_clean, 'IMSI')\n",
        "df_clean['DL TP > 1 Mbps (%)'] = fix_missing_ffill(df_clean, 'DL TP > 1 Mbps (%)')\n",
        "df_clean['250 Kbps < DL TP < 1 Mbps (%)'] = fix_missing_ffill(df_clean, '250 Kbps < DL TP < 1 Mbps (%)')\n",
        "df_clean['50 Kbps < DL TP < 250 Kbps (%)'] = fix_missing_ffill(df_clean, '50 Kbps < DL TP < 250 Kbps (%)')\n",
        "df_clean['DL TP < 50 Kbps (%)'] = fix_missing_ffill(df_clean, 'DL TP < 50 Kbps (%)')\n",
        "df_clean['Nb of sec with Vol DL < 6250B'] = fix_missing_ffill(df_clean, 'Nb of sec with Vol DL < 6250B')\n",
        "df_clean['10 Kbps < UL TP < 50 Kbps (%)'] = fix_missing_ffill(df_clean, '10 Kbps < UL TP < 50 Kbps (%)')\n",
        "df_clean['UL TP < 10 Kbps (%)'] = fix_missing_ffill(df_clean, 'UL TP < 10 Kbps (%)')\n",
        "df_clean['UL TP > 300 Kbps (%)'] = fix_missing_ffill(df_clean, 'UL TP > 300 Kbps (%)')\n",
        "df_clean['50 Kbps < UL TP < 300 Kbps (%)'] = fix_missing_ffill(df_clean, '50 Kbps < UL TP < 300 Kbps (%)')\n",
        "df_clean['Nb of sec with Vol UL < 1250B'] = fix_missing_ffill(df_clean, 'Nb of sec with Vol UL < 1250B')\n",
        "df_clean['Bearer Id'] = fix_missing_ffill(df_clean, 'Bearer Id')\n",
        "df_clean['Last Location Name'] = fix_missing_ffill(df_clean, 'Last Location Name')\n",
        "\n",
        "# fill 'Handset Type, Handset Manufacturer, IMEI & MSISDN/Number' column with mode \n",
        "df_clean['Handset Manufacturer'] = df_clean['Handset Manufacturer'].fillna(df_clean['Handset Manufacturer'].mode()[0])\n",
        "df_clean['Handset Type'] = df_clean['Handset Type'].fillna(df_clean['Handset Type'].mode()[0])\n",
        "df_clean['IMEI'] = df_clean['IMEI'].fillna(df_clean['IMEI'].mode()[0])\n",
        "df_clean['MSISDN/Number'] = df_clean['MSISDN/Number'].fillna(df_clean['MSISDN/Number'].mode()[0])"
      ],
      "execution_count": 21,
      "outputs": []
    },
    {
      "cell_type": "code",
      "metadata": {
        "id": "tDqmSBrvxOlE",
        "colab": {
          "base_uri": "https://localhost:8080/"
        },
        "outputId": "2d741fc2-c496-4dfe-8e49-a95526ee42b4"
      },
      "source": [
        "percent_missing(df_clean)\n",
        "every_column_percent_missing(df_clean)"
      ],
      "execution_count": 22,
      "outputs": [
        {
          "output_type": "stream",
          "text": [
            "The Week1 challenge data source(CSV).csv dataset contains 0.82 % missing values.\n",
            "                                                   column_name  percent_missing\n",
            "Bearer Id                                            Bearer Id         0.000000\n",
            "Dur. (ms).1                                        Dur. (ms).1         0.000000\n",
            "Handset Manufacturer                      Handset Manufacturer         0.000000\n",
            "Handset Type                                      Handset Type         0.000000\n",
            "Nb of sec with Vol DL < 6250B    Nb of sec with Vol DL < 6250B         0.000000\n",
            "Nb of sec with Vol UL < 1250B    Nb of sec with Vol UL < 1250B         0.000000\n",
            "Social Media DL (Bytes)                Social Media DL (Bytes)         0.000000\n",
            "Social Media UL (Bytes)                Social Media UL (Bytes)         0.000000\n",
            "Google DL (Bytes)                            Google DL (Bytes)         0.000000\n",
            "Google UL (Bytes)                            Google UL (Bytes)         0.000000\n",
            "Email DL (Bytes)                              Email DL (Bytes)         0.000000\n",
            "Email UL (Bytes)                              Email UL (Bytes)         0.000000\n",
            "Youtube DL (Bytes)                          Youtube DL (Bytes)         0.000000\n",
            "Youtube UL (Bytes)                          Youtube UL (Bytes)         0.000000\n",
            "Netflix DL (Bytes)                          Netflix DL (Bytes)         0.000000\n",
            "Netflix UL (Bytes)                          Netflix UL (Bytes)         0.000000\n",
            "Gaming DL (Bytes)                            Gaming DL (Bytes)         0.000000\n",
            "Gaming UL (Bytes)                            Gaming UL (Bytes)         0.000000\n",
            "Other DL (Bytes)                              Other DL (Bytes)         0.000000\n",
            "Other UL (Bytes)                              Other UL (Bytes)         0.000000\n",
            "Activity Duration UL (ms)            Activity Duration UL (ms)         0.000000\n",
            "Total UL (Bytes)                              Total UL (Bytes)         0.000000\n",
            "Activity Duration DL (ms)            Activity Duration DL (ms)         0.000000\n",
            "50 Kbps < UL TP < 300 Kbps (%)  50 Kbps < UL TP < 300 Kbps (%)         0.000000\n",
            "Start                                                    Start         0.000000\n",
            "Start ms                                              Start ms         0.000000\n",
            "End                                                        End         0.000000\n",
            "End ms                                                  End ms         0.000000\n",
            "Dur. (ms)                                            Dur. (ms)         0.000000\n",
            "IMSI                                                      IMSI         0.000000\n",
            "MSISDN/Number                                    MSISDN/Number         0.000000\n",
            "IMEI                                                      IMEI         0.000000\n",
            "Last Location Name                          Last Location Name         0.000000\n",
            "Total DL (Bytes)                              Total DL (Bytes)         0.000000\n",
            "Avg Bearer TP DL (kbps)                Avg Bearer TP DL (kbps)         0.000000\n",
            "Avg Bearer TP UL (kbps)                Avg Bearer TP UL (kbps)         0.000000\n",
            "DL TP < 50 Kbps (%)                        DL TP < 50 Kbps (%)         0.000000\n",
            "50 Kbps < DL TP < 250 Kbps (%)  50 Kbps < DL TP < 250 Kbps (%)         0.000000\n",
            "250 Kbps < DL TP < 1 Mbps (%)    250 Kbps < DL TP < 1 Mbps (%)         0.000000\n",
            "DL TP > 1 Mbps (%)                          DL TP > 1 Mbps (%)         0.000000\n",
            "UL TP < 10 Kbps (%)                        UL TP < 10 Kbps (%)         0.000000\n",
            "10 Kbps < UL TP < 50 Kbps (%)    10 Kbps < UL TP < 50 Kbps (%)         0.000000\n",
            "UL TP > 300 Kbps (%)                      UL TP > 300 Kbps (%)         0.000000\n",
            "Avg RTT UL (ms)                                Avg RTT UL (ms)        18.541210\n",
            "Avg RTT DL (ms)                                Avg RTT DL (ms)        18.552543\n"
          ],
          "name": "stdout"
        }
      ]
    },
    {
      "cell_type": "code",
      "metadata": {
        "colab": {
          "base_uri": "https://localhost:8080/",
          "height": 204
        },
        "id": "tD9tT8dCxg63",
        "outputId": "8defc594-498f-431b-c452-33deb802df5c"
      },
      "source": [
        "from sklearn.preprocessing import MinMaxScaler\n",
        "\n",
        "minmax_scaler = MinMaxScaler()\n",
        "\n",
        "# generate 1000 data points randomly drawn from an exponential distribution\n",
        "original_data = pd.DataFrame(np.random.exponential(200, size=2000))\n",
        "\n",
        "original_data.sample(5)"
      ],
      "execution_count": 23,
      "outputs": [
        {
          "output_type": "execute_result",
          "data": {
            "text/html": [
              "<div>\n",
              "<style scoped>\n",
              "    .dataframe tbody tr th:only-of-type {\n",
              "        vertical-align: middle;\n",
              "    }\n",
              "\n",
              "    .dataframe tbody tr th {\n",
              "        vertical-align: top;\n",
              "    }\n",
              "\n",
              "    .dataframe thead th {\n",
              "        text-align: right;\n",
              "    }\n",
              "</style>\n",
              "<table border=\"1\" class=\"dataframe\">\n",
              "  <thead>\n",
              "    <tr style=\"text-align: right;\">\n",
              "      <th></th>\n",
              "      <th>0</th>\n",
              "    </tr>\n",
              "  </thead>\n",
              "  <tbody>\n",
              "    <tr>\n",
              "      <th>591</th>\n",
              "      <td>156.536144</td>\n",
              "    </tr>\n",
              "    <tr>\n",
              "      <th>352</th>\n",
              "      <td>32.108297</td>\n",
              "    </tr>\n",
              "    <tr>\n",
              "      <th>536</th>\n",
              "      <td>322.238575</td>\n",
              "    </tr>\n",
              "    <tr>\n",
              "      <th>205</th>\n",
              "      <td>80.728353</td>\n",
              "    </tr>\n",
              "    <tr>\n",
              "      <th>832</th>\n",
              "      <td>269.994229</td>\n",
              "    </tr>\n",
              "  </tbody>\n",
              "</table>\n",
              "</div>"
            ],
            "text/plain": [
              "              0\n",
              "591  156.536144\n",
              "352   32.108297\n",
              "536  322.238575\n",
              "205   80.728353\n",
              "832  269.994229"
            ]
          },
          "metadata": {
            "tags": []
          },
          "execution_count": 23
        }
      ]
    },
    {
      "cell_type": "code",
      "metadata": {
        "colab": {
          "base_uri": "https://localhost:8080/"
        },
        "id": "cWiNxlCyxqry",
        "outputId": "9d1c21ec-a1f9-4e08-aec3-26b27005649b"
      },
      "source": [
        "original_data[0].min(), original_data[0].max()"
      ],
      "execution_count": 24,
      "outputs": [
        {
          "output_type": "execute_result",
          "data": {
            "text/plain": [
              "(0.08309253622952206, 1974.7838550418646)"
            ]
          },
          "metadata": {
            "tags": []
          },
          "execution_count": 24
        }
      ]
    },
    {
      "cell_type": "code",
      "metadata": {
        "colab": {
          "base_uri": "https://localhost:8080/",
          "height": 265
        },
        "id": "jxfoRBJtxwih",
        "outputId": "d354fcb8-6d23-4bd6-b800-1d504133d9f5"
      },
      "source": [
        "count, bins, ignored = plt.hist(original_data, 14)\n",
        "plt.show()"
      ],
      "execution_count": 25,
      "outputs": [
        {
          "output_type": "display_data",
          "data": {
            "image/png": "[encoded data removed]",
            "text/plain": [
              "<Figure size 432x288 with 1 Axes>"
            ]
          },
          "metadata": {
            "tags": [],
            "needs_background": "light"
          }
        }
      ]
    },
    {
      "cell_type": "code",
      "metadata": {
        "id": "GNdBgWK-nf8Z"
      },
      "source": [
        "%matplotlib inline\n",
        "import numpy as np\n",
        "import matplotlib.pyplot as plt\n",
        "plt.style.use('seaborn-white')\n",
        "\n",
        "data = np.random.randn(1000)"
      ],
      "execution_count": 26,
      "outputs": []
    },
    {
      "cell_type": "code",
      "metadata": {
        "id": "JPMayCxLnaZV",
        "colab": {
          "base_uri": "https://localhost:8080/",
          "height": 262
        },
        "outputId": "15a9c791-b395-4920-d9db-29e1743b0495"
      },
      "source": [
        "plt.hist(data);"
      ],
      "execution_count": 27,
      "outputs": [
        {
          "output_type": "display_data",
          "data": {
            "image/png": "[encoded data removed]",
            "text/plain": [
              "<Figure size 432x288 with 1 Axes>"
            ]
          },
          "metadata": {
            "tags": []
          }
        }
      ]
    },
    {
      "cell_type": "code",
      "metadata": {
        "colab": {
          "base_uri": "https://localhost:8080/",
          "height": 339
        },
        "id": "sb4mU_MSueHG",
        "outputId": "721fd7a4-52ca-419b-a8fb-dcd0e9117301"
      },
      "source": [
        "import pandas as pd\n",
        "import numpy as np\n",
        "import sklearn\n",
        "from scipy import stats\n",
        "import matplotlib.pyplot as plt\n",
        "import os\n",
        "import seaborn as sns\n",
        "\n",
        "\n",
        "sns.set(); np.random.seed(0)\n",
        "x = np.random.randn(100)\n",
        "\n",
        "sns.distplot(x)"
      ],
      "execution_count": 28,
      "outputs": [
        {
          "output_type": "stream",
          "text": [
            "/usr/local/lib/python3.7/dist-packages/seaborn/distributions.py:2557: FutureWarning: `distplot` is a deprecated function and will be removed in a future version. Please adapt your code to use either `displot` (a figure-level function with similar flexibility) or `histplot` (an axes-level function for histograms).\n",
            "  warnings.warn(msg, FutureWarning)\n"
          ],
          "name": "stderr"
        },
        {
          "output_type": "execute_result",
          "data": {
            "text/plain": [
              "<matplotlib.axes._subplots.AxesSubplot at 0x7fb7e446fe90>"
            ]
          },
          "metadata": {
            "tags": []
          },
          "execution_count": 28
        },
        {
          "output_type": "display_data",
          "data": {
            "image/png": "[encoded data removed]",
            "text/plain": [
              "<Figure size 432x288 with 1 Axes>"
            ]
          },
          "metadata": {
            "tags": []
          }
        }
      ]
    },
    {
      "cell_type": "code",
      "metadata": {
        "colab": {
          "base_uri": "https://localhost:8080/",
          "height": 393
        },
        "id": "DxQb7XkUsdCe",
        "outputId": "ca6d742a-93fb-4b6a-e257-8bcf80ba22a6"
      },
      "source": [
        "# mix-max scale the data between 0 and 1\n",
        "def scaler(df):\n",
        "    scaled_data = minmax_scaler.fit_transform(df)\n",
        "\n",
        "    # plot both together to compare\n",
        "    fig, ax = plt.subplots(1,2, figsize=(10, 6))\n",
        "    sns.histplot(original_data, ax=ax[0])\n",
        "    ax[0].set_title(\"Original Data\")\n",
        "    sns.histplot(scaled_data, ax=ax[1])\n",
        "    ax[1].set_title(\"Scaled_data\")\n",
        "    \n",
        "scaler(original_data)"
      ],
      "execution_count": 29,
      "outputs": [
        {
          "output_type": "display_data",
          "data": {
            "image/png": "[encoded data removed]",
            "text/plain": [
              "<Figure size 720x432 with 2 Axes>"
            ]
          },
          "metadata": {
            "tags": []
          }
        }
      ]
    },
    {
      "cell_type": "code",
      "metadata": {
        "colab": {
          "base_uri": "https://localhost:8080/",
          "height": 393
        },
        "id": "JKvcHluLuv4w",
        "outputId": "003fac12-bd1b-4343-e53b-35557f092ec5"
      },
      "source": [
        "from sklearn.preprocessing import Normalizer\n",
        "\n",
        "def normalizer(df):\n",
        "    norm = Normalizer()\n",
        "    # normalize the exponential data with boxcox\n",
        "    normalized_data = norm.fit_transform(df)\n",
        "\n",
        "    # plot both together to compare\n",
        "    fig, ax=plt.subplots(1,2, figsize=(10, 6))\n",
        "    sns.histplot(df, ax=ax[0])\n",
        "    ax[0].set_title(\"Original Data\")\n",
        "    sns.histplot(normalized_data[0], ax=ax[1])\n",
        "    ax[1].set_title(\"Normalized data\")\n",
        "\n",
        "normalizer(original_data)"
      ],
      "execution_count": 30,
      "outputs": [
        {
          "output_type": "display_data",
          "data": {
            "image/png": "[encoded data removed]",
            "text/plain": [
              "<Figure size 720x432 with 2 Axes>"
            ]
          },
          "metadata": {
            "tags": []
          }
        }
      ]
    },
    {
      "cell_type": "code",
      "metadata": {
        "colab": {
          "base_uri": "https://localhost:8080/"
        },
        "id": "LAPwvcRdyqLT",
        "outputId": "7076f1b6-0bb9-4e59-87f2-a644c5e71ad6"
      },
      "source": [
        "df_clean.info()"
      ],
      "execution_count": 31,
      "outputs": [
        {
          "output_type": "stream",
          "text": [
            "<class 'pandas.core.frame.DataFrame'>\n",
            "RangeIndex: 150001 entries, 0 to 150000\n",
            "Data columns (total 45 columns):\n",
            " #   Column                          Non-Null Count   Dtype  \n",
            "---  ------                          --------------   -----  \n",
            " 0   Bearer Id                       150001 non-null  float64\n",
            " 1   Start                           150001 non-null  object \n",
            " 2   Start ms                        150001 non-null  float64\n",
            " 3   End                             150001 non-null  object \n",
            " 4   End ms                          150001 non-null  float64\n",
            " 5   Dur. (ms)                       150001 non-null  float64\n",
            " 6   IMSI                            150001 non-null  float64\n",
            " 7   MSISDN/Number                   150001 non-null  float64\n",
            " 8   IMEI                            150001 non-null  float64\n",
            " 9   Last Location Name              150001 non-null  object \n",
            " 10  Avg RTT DL (ms)                 122172 non-null  float64\n",
            " 11  Avg RTT UL (ms)                 122189 non-null  float64\n",
            " 12  Avg Bearer TP DL (kbps)         150001 non-null  float64\n",
            " 13  Avg Bearer TP UL (kbps)         150001 non-null  float64\n",
            " 14  DL TP < 50 Kbps (%)             150001 non-null  float64\n",
            " 15  50 Kbps < DL TP < 250 Kbps (%)  150001 non-null  float64\n",
            " 16  250 Kbps < DL TP < 1 Mbps (%)   150001 non-null  float64\n",
            " 17  DL TP > 1 Mbps (%)              150001 non-null  float64\n",
            " 18  UL TP < 10 Kbps (%)             150001 non-null  float64\n",
            " 19  10 Kbps < UL TP < 50 Kbps (%)   150001 non-null  float64\n",
            " 20  50 Kbps < UL TP < 300 Kbps (%)  150001 non-null  float64\n",
            " 21  UL TP > 300 Kbps (%)            150001 non-null  float64\n",
            " 22  Activity Duration DL (ms)       150001 non-null  float64\n",
            " 23  Activity Duration UL (ms)       150001 non-null  float64\n",
            " 24  Dur. (ms).1                     150001 non-null  float64\n",
            " 25  Handset Manufacturer            150001 non-null  object \n",
            " 26  Handset Type                    150001 non-null  object \n",
            " 27  Nb of sec with Vol DL < 6250B   150001 non-null  float64\n",
            " 28  Nb of sec with Vol UL < 1250B   150001 non-null  float64\n",
            " 29  Social Media DL (Bytes)         150001 non-null  float64\n",
            " 30  Social Media UL (Bytes)         150001 non-null  float64\n",
            " 31  Google DL (Bytes)               150001 non-null  float64\n",
            " 32  Google UL (Bytes)               150001 non-null  float64\n",
            " 33  Email DL (Bytes)                150001 non-null  float64\n",
            " 34  Email UL (Bytes)                150001 non-null  float64\n",
            " 35  Youtube DL (Bytes)              150001 non-null  float64\n",
            " 36  Youtube UL (Bytes)              150001 non-null  float64\n",
            " 37  Netflix DL (Bytes)              150001 non-null  float64\n",
            " 38  Netflix UL (Bytes)              150001 non-null  float64\n",
            " 39  Gaming DL (Bytes)               150001 non-null  float64\n",
            " 40  Gaming UL (Bytes)               150001 non-null  float64\n",
            " 41  Other DL (Bytes)                150001 non-null  float64\n",
            " 42  Other UL (Bytes)                150001 non-null  float64\n",
            " 43  Total UL (Bytes)                150001 non-null  float64\n",
            " 44  Total DL (Bytes)                150001 non-null  float64\n",
            "dtypes: float64(40), object(5)\n",
            "memory usage: 51.5+ MB\n"
          ],
          "name": "stdout"
        }
      ]
    },
    {
      "cell_type": "code",
      "metadata": {
        "id": "QH4JlUFGqq5W",
        "outputId": "c3260912-6e1c-4eaa-ebe3-6667e1ac591b",
        "colab": {
          "base_uri": "https://localhost:8080/"
        }
      },
      "source": [
        "df_clean[\"Handset Type\"].value_counts().head(10)"
      ],
      "execution_count": 37,
      "outputs": [
        {
          "output_type": "execute_result",
          "data": {
            "text/plain": [
              "Huawei B528S-23A                20324\n",
              "Apple iPhone 6S (A1688)          9419\n",
              "Apple iPhone 6 (A1586)           9023\n",
              "undefined                        8987\n",
              "Apple iPhone 7 (A1778)           6326\n",
              "Apple iPhone Se (A1723)          5187\n",
              "Apple iPhone 8 (A1905)           4993\n",
              "Apple iPhone Xr (A2105)          4568\n",
              "Samsung Galaxy S8 (Sm-G950F)     4520\n",
              "Apple iPhone X (A1901)           3813\n",
              "Name: Handset Type, dtype: int64"
            ]
          },
          "metadata": {
            "tags": []
          },
          "execution_count": 37
        }
      ]
    },
    {
      "cell_type": "code",
      "metadata": {
        "id": "WGTt-msYrbWP",
        "outputId": "cc94cb71-a72e-43d4-f330-6faea2ffd237",
        "colab": {
          "base_uri": "https://localhost:8080/"
        }
      },
      "source": [
        "df_clean[\"Handset Manufacturer\"].value_counts().head(3)"
      ],
      "execution_count": 38,
      "outputs": [
        {
          "output_type": "execute_result",
          "data": {
            "text/plain": [
              "Apple      60137\n",
              "Samsung    40839\n",
              "Huawei     34423\n",
              "Name: Handset Manufacturer, dtype: int64"
            ]
          },
          "metadata": {
            "tags": []
          },
          "execution_count": 38
        }
      ]
    },
    {
      "cell_type": "code",
      "metadata": {
        "id": "v4u4CySGrjm8",
        "outputId": "9d1c95eb-de71-48f6-c309-f30f6289504b",
        "colab": {
          "base_uri": "https://localhost:8080/"
        }
      },
      "source": [
        "apple_handsets = df_clean[df_clean[\"Handset Manufacturer\"] == \"Apple\"]\n",
        "apple_handsets[\"Handset Type\"].value_counts().head(5)"
      ],
      "execution_count": 39,
      "outputs": [
        {
          "output_type": "execute_result",
          "data": {
            "text/plain": [
              "Apple iPhone 6S (A1688)    9419\n",
              "Apple iPhone 6 (A1586)     9023\n",
              "Apple iPhone 7 (A1778)     6326\n",
              "Apple iPhone Se (A1723)    5187\n",
              "Apple iPhone 8 (A1905)     4993\n",
              "Name: Handset Type, dtype: int64"
            ]
          },
          "metadata": {
            "tags": []
          },
          "execution_count": 39
        }
      ]
    },
    {
      "cell_type": "code",
      "metadata": {
        "id": "VpS9kwQMrw8l",
        "outputId": "2c11cf5c-7198-4429-f9e2-5156bf2d5bb5",
        "colab": {
          "base_uri": "https://localhost:8080/"
        }
      },
      "source": [
        "Samsung_handsets = df_clean[df_clean[\"Handset Manufacturer\"] == \"Samsung\"]\n",
        "Samsung_handsets[\"Handset Type\"].value_counts().head(5)"
      ],
      "execution_count": 40,
      "outputs": [
        {
          "output_type": "execute_result",
          "data": {
            "text/plain": [
              "Samsung Galaxy S8 (Sm-G950F)    4520\n",
              "Samsung Galaxy A5 Sm-A520F      3724\n",
              "Samsung Galaxy J5 (Sm-J530)     3696\n",
              "Samsung Galaxy J3 (Sm-J330)     3484\n",
              "Samsung Galaxy S7 (Sm-G930X)    3199\n",
              "Name: Handset Type, dtype: int64"
            ]
          },
          "metadata": {
            "tags": []
          },
          "execution_count": 40
        }
      ]
    },
    {
      "cell_type": "code",
      "metadata": {
        "id": "qr2NU6mIr8pG",
        "outputId": "3633859b-2f03-4e3b-f823-30018cbbf59c",
        "colab": {
          "base_uri": "https://localhost:8080/"
        }
      },
      "source": [
        "huawei_handsets = df_clean[df_clean[\"Handset Manufacturer\"] == \"Huawei\"]\n",
        "huawei_handsets[\"Handset Type\"].value_counts().head(5)"
      ],
      "execution_count": 41,
      "outputs": [
        {
          "output_type": "execute_result",
          "data": {
            "text/plain": [
              "Huawei B528S-23A                  19752\n",
              "Huawei E5180                       2079\n",
              "Huawei P20 Lite Huawei Nova 3E     2021\n",
              "Huawei P20                         1480\n",
              "Huawei Y6 2018                      997\n",
              "Name: Handset Type, dtype: int64"
            ]
          },
          "metadata": {
            "tags": []
          },
          "execution_count": 41
        }
      ]
    },
    {
      "cell_type": "code",
      "metadata": {
        "id": "hm1gG_DgsDFM",
        "outputId": "7d233ce4-a21b-4bf6-bd8b-2e22792a66c1",
        "colab": {
          "base_uri": "https://localhost:8080/",
          "height": 450
        }
      },
      "source": [
        "data_usage = df_clean[[\"MSISDN/Number\",\"Dur. (ms).1\", \"Total DL (Bytes)\", \"Total UL (Bytes)\"]]\n",
        "data_usage.groupby([\"MSISDN/Number\"]).agg('sum')\n",
        "\n"
      ],
      "execution_count": 42,
      "outputs": [
        {
          "output_type": "execute_result",
          "data": {
            "text/html": [
              "<div>\n",
              "<style scoped>\n",
              "    .dataframe tbody tr th:only-of-type {\n",
              "        vertical-align: middle;\n",
              "    }\n",
              "\n",
              "    .dataframe tbody tr th {\n",
              "        vertical-align: top;\n",
              "    }\n",
              "\n",
              "    .dataframe thead th {\n",
              "        text-align: right;\n",
              "    }\n",
              "</style>\n",
              "<table border=\"1\" class=\"dataframe\">\n",
              "  <thead>\n",
              "    <tr style=\"text-align: right;\">\n",
              "      <th></th>\n",
              "      <th>Dur. (ms).1</th>\n",
              "      <th>Total DL (Bytes)</th>\n",
              "      <th>Total UL (Bytes)</th>\n",
              "    </tr>\n",
              "    <tr>\n",
              "      <th>MSISDN/Number</th>\n",
              "      <th></th>\n",
              "      <th></th>\n",
              "      <th></th>\n",
              "    </tr>\n",
              "  </thead>\n",
              "  <tbody>\n",
              "    <tr>\n",
              "      <th>33,601,001,722.00</th>\n",
              "      <td>116,720,140.00</td>\n",
              "      <td>842,637,466.00</td>\n",
              "      <td>36,053,108.00</td>\n",
              "    </tr>\n",
              "    <tr>\n",
              "      <th>33,601,001,754.00</th>\n",
              "      <td>181,230,963.00</td>\n",
              "      <td>120,755,184.00</td>\n",
              "      <td>36,104,459.00</td>\n",
              "    </tr>\n",
              "    <tr>\n",
              "      <th>33,601,002,511.00</th>\n",
              "      <td>134,969,374.00</td>\n",
              "      <td>556,659,663.00</td>\n",
              "      <td>39,306,820.00</td>\n",
              "    </tr>\n",
              "    <tr>\n",
              "      <th>33,601,007,832.00</th>\n",
              "      <td>49,878,024.00</td>\n",
              "      <td>401,993,172.00</td>\n",
              "      <td>20,327,526.00</td>\n",
              "    </tr>\n",
              "    <tr>\n",
              "      <th>33,601,008,617.00</th>\n",
              "      <td>37,104,453.00</td>\n",
              "      <td>1,363,130,417.00</td>\n",
              "      <td>94,280,527.00</td>\n",
              "    </tr>\n",
              "    <tr>\n",
              "      <th>...</th>\n",
              "      <td>...</td>\n",
              "      <td>...</td>\n",
              "      <td>...</td>\n",
              "    </tr>\n",
              "    <tr>\n",
              "      <th>33,789,996,170.00</th>\n",
              "      <td>8,810,688.00</td>\n",
              "      <td>687,925,212.00</td>\n",
              "      <td>26,716,429.00</td>\n",
              "    </tr>\n",
              "    <tr>\n",
              "      <th>33,789,997,247.00</th>\n",
              "      <td>140,988,659.00</td>\n",
              "      <td>444,575,092.00</td>\n",
              "      <td>35,732,243.00</td>\n",
              "    </tr>\n",
              "    <tr>\n",
              "      <th>3,197,020,876,596.00</th>\n",
              "      <td>877,385,325.00</td>\n",
              "      <td>194,828,056.00</td>\n",
              "      <td>37,295,915.00</td>\n",
              "    </tr>\n",
              "    <tr>\n",
              "      <th>337,000,037,000,919.00</th>\n",
              "      <td>253,030,201.00</td>\n",
              "      <td>539,634,985.00</td>\n",
              "      <td>56,652,839.00</td>\n",
              "    </tr>\n",
              "    <tr>\n",
              "      <th>882,397,108,489,451.00</th>\n",
              "      <td>869,844,200.00</td>\n",
              "      <td>78,697,597.00</td>\n",
              "      <td>60,456,049.00</td>\n",
              "    </tr>\n",
              "  </tbody>\n",
              "</table>\n",
              "<p>106856 rows × 3 columns</p>\n",
              "</div>"
            ],
            "text/plain": [
              "                          Dur. (ms).1  Total DL (Bytes)  Total UL (Bytes)\n",
              "MSISDN/Number                                                            \n",
              "33,601,001,722.00      116,720,140.00    842,637,466.00     36,053,108.00\n",
              "33,601,001,754.00      181,230,963.00    120,755,184.00     36,104,459.00\n",
              "33,601,002,511.00      134,969,374.00    556,659,663.00     39,306,820.00\n",
              "33,601,007,832.00       49,878,024.00    401,993,172.00     20,327,526.00\n",
              "33,601,008,617.00       37,104,453.00  1,363,130,417.00     94,280,527.00\n",
              "...                               ...               ...               ...\n",
              "33,789,996,170.00        8,810,688.00    687,925,212.00     26,716,429.00\n",
              "33,789,997,247.00      140,988,659.00    444,575,092.00     35,732,243.00\n",
              "3,197,020,876,596.00   877,385,325.00    194,828,056.00     37,295,915.00\n",
              "337,000,037,000,919.00 253,030,201.00    539,634,985.00     56,652,839.00\n",
              "882,397,108,489,451.00 869,844,200.00     78,697,597.00     60,456,049.00\n",
              "\n",
              "[106856 rows x 3 columns]"
            ]
          },
          "metadata": {
            "tags": []
          },
          "execution_count": 42
        }
      ]
    },
    {
      "cell_type": "code",
      "metadata": {
        "id": "Y48cvwaYsMC1",
        "outputId": "cff235e9-52d0-4d3f-93f3-f3ea725876bc",
        "colab": {
          "base_uri": "https://localhost:8080/",
          "height": 390
        }
      },
      "source": [
        "# task 1.1 A\n",
        "df_clean.groupby('MSISDN/Number').agg({'Bearer Id': 'count'}).head(10)"
      ],
      "execution_count": 43,
      "outputs": [
        {
          "output_type": "execute_result",
          "data": {
            "text/html": [
              "<div>\n",
              "<style scoped>\n",
              "    .dataframe tbody tr th:only-of-type {\n",
              "        vertical-align: middle;\n",
              "    }\n",
              "\n",
              "    .dataframe tbody tr th {\n",
              "        vertical-align: top;\n",
              "    }\n",
              "\n",
              "    .dataframe thead th {\n",
              "        text-align: right;\n",
              "    }\n",
              "</style>\n",
              "<table border=\"1\" class=\"dataframe\">\n",
              "  <thead>\n",
              "    <tr style=\"text-align: right;\">\n",
              "      <th></th>\n",
              "      <th>Bearer Id</th>\n",
              "    </tr>\n",
              "    <tr>\n",
              "      <th>MSISDN/Number</th>\n",
              "      <th></th>\n",
              "    </tr>\n",
              "  </thead>\n",
              "  <tbody>\n",
              "    <tr>\n",
              "      <th>33,601,001,722.00</th>\n",
              "      <td>1</td>\n",
              "    </tr>\n",
              "    <tr>\n",
              "      <th>33,601,001,754.00</th>\n",
              "      <td>1</td>\n",
              "    </tr>\n",
              "    <tr>\n",
              "      <th>33,601,002,511.00</th>\n",
              "      <td>1</td>\n",
              "    </tr>\n",
              "    <tr>\n",
              "      <th>33,601,007,832.00</th>\n",
              "      <td>1</td>\n",
              "    </tr>\n",
              "    <tr>\n",
              "      <th>33,601,008,617.00</th>\n",
              "      <td>2</td>\n",
              "    </tr>\n",
              "    <tr>\n",
              "      <th>33,601,010,682.00</th>\n",
              "      <td>2</td>\n",
              "    </tr>\n",
              "    <tr>\n",
              "      <th>33,601,011,634.00</th>\n",
              "      <td>2</td>\n",
              "    </tr>\n",
              "    <tr>\n",
              "      <th>33,601,011,959.00</th>\n",
              "      <td>1</td>\n",
              "    </tr>\n",
              "    <tr>\n",
              "      <th>33,601,014,694.00</th>\n",
              "      <td>2</td>\n",
              "    </tr>\n",
              "    <tr>\n",
              "      <th>33,601,020,306.00</th>\n",
              "      <td>1</td>\n",
              "    </tr>\n",
              "  </tbody>\n",
              "</table>\n",
              "</div>"
            ],
            "text/plain": [
              "                   Bearer Id\n",
              "MSISDN/Number               \n",
              "33,601,001,722.00          1\n",
              "33,601,001,754.00          1\n",
              "33,601,002,511.00          1\n",
              "33,601,007,832.00          1\n",
              "33,601,008,617.00          2\n",
              "33,601,010,682.00          2\n",
              "33,601,011,634.00          2\n",
              "33,601,011,959.00          1\n",
              "33,601,014,694.00          2\n",
              "33,601,020,306.00          1"
            ]
          },
          "metadata": {
            "tags": []
          },
          "execution_count": 43
        }
      ]
    },
    {
      "cell_type": "code",
      "metadata": {
        "id": "eqS8NN9osUff"
      },
      "source": [
        "#the total data volume (in Bytes) during this session for each application\n",
        "df_clean['Youtube_total_data_volume'] = df_clean['Youtube DL (Bytes)'] + df_clean['Youtube UL (Bytes)']\n",
        "df_clean['Google_total_data_volume'] = df_clean['Google DL (Bytes)'] + df_clean['Google UL (Bytes)']\n",
        "df_clean['Email_total_data_volume'] = df_clean['Email DL (Bytes)'] + df_clean['Email UL (Bytes)']\n",
        "\n",
        "df_clean['Netflix_total_data_volume'] = df_clean['Netflix DL (Bytes)'] + df_clean['Netflix UL (Bytes)']\n",
        "df_clean['Gaming_total_data_volume'] = df_clean['Gaming DL (Bytes)'] + df_clean['Gaming UL (Bytes)']\n",
        "df_clean['Other_total_data_volume'] = df_clean['Other DL (Bytes)'] + df_clean['Other UL (Bytes)']\n",
        "df_clean['SocialMedia_total_data_volume'] = df_clean['Social Media DL (Bytes)'] + df_clean['Social Media UL (Bytes)']\n",
        "\n",
        "df_clean['All_total_data_volume'] = df_clean['Total DL (Bytes)'] + df_clean['Total UL (Bytes)']"
      ],
      "execution_count": 44,
      "outputs": []
    },
    {
      "cell_type": "code",
      "metadata": {
        "id": "6fJOzREasw-H",
        "outputId": "513eb8d1-234d-439d-bbaa-0071d6a46692",
        "colab": {
          "base_uri": "https://localhost:8080/",
          "height": 410
        }
      },
      "source": [
        "#the total data volume (in Bytes) during this session for each application\n",
        "df_clean.groupby('MSISDN/Number').agg({'Youtube_total_data_volume': 'sum','Google_total_data_volume': 'sum','Email_total_data_volume': 'sum','Netflix_total_data_volume': 'sum','Gaming_total_data_volume': 'sum','Other_total_data_volume': 'sum','SocialMedia_total_data_volume': 'sum','All_total_data_volume':'sum' }).head(10)"
      ],
      "execution_count": 45,
      "outputs": [
        {
          "output_type": "execute_result",
          "data": {
            "text/html": [
              "<div>\n",
              "<style scoped>\n",
              "    .dataframe tbody tr th:only-of-type {\n",
              "        vertical-align: middle;\n",
              "    }\n",
              "\n",
              "    .dataframe tbody tr th {\n",
              "        vertical-align: top;\n",
              "    }\n",
              "\n",
              "    .dataframe thead th {\n",
              "        text-align: right;\n",
              "    }\n",
              "</style>\n",
              "<table border=\"1\" class=\"dataframe\">\n",
              "  <thead>\n",
              "    <tr style=\"text-align: right;\">\n",
              "      <th></th>\n",
              "      <th>Youtube_total_data_volume</th>\n",
              "      <th>Google_total_data_volume</th>\n",
              "      <th>Email_total_data_volume</th>\n",
              "      <th>Netflix_total_data_volume</th>\n",
              "      <th>Gaming_total_data_volume</th>\n",
              "      <th>Other_total_data_volume</th>\n",
              "      <th>SocialMedia_total_data_volume</th>\n",
              "      <th>All_total_data_volume</th>\n",
              "    </tr>\n",
              "    <tr>\n",
              "      <th>MSISDN/Number</th>\n",
              "      <th></th>\n",
              "      <th></th>\n",
              "      <th></th>\n",
              "      <th></th>\n",
              "      <th></th>\n",
              "      <th></th>\n",
              "      <th></th>\n",
              "      <th></th>\n",
              "    </tr>\n",
              "  </thead>\n",
              "  <tbody>\n",
              "    <tr>\n",
              "      <th>33,601,001,722.00</th>\n",
              "      <td>21,624,548.00</td>\n",
              "      <td>4,389,005.00</td>\n",
              "      <td>1,331,362.00</td>\n",
              "      <td>27,180,981.00</td>\n",
              "      <td>812,458,661.00</td>\n",
              "      <td>386,570,872.00</td>\n",
              "      <td>2,232,135.00</td>\n",
              "      <td>878,690,574.00</td>\n",
              "    </tr>\n",
              "    <tr>\n",
              "      <th>33,601,001,754.00</th>\n",
              "      <td>12,432,223.00</td>\n",
              "      <td>5,334,863.00</td>\n",
              "      <td>3,307,781.00</td>\n",
              "      <td>11,221,763.00</td>\n",
              "      <td>119,750,078.00</td>\n",
              "      <td>281,710,071.00</td>\n",
              "      <td>2,660,565.00</td>\n",
              "      <td>156,859,643.00</td>\n",
              "    </tr>\n",
              "    <tr>\n",
              "      <th>33,601,002,511.00</th>\n",
              "      <td>21,333,570.00</td>\n",
              "      <td>3,443,126.00</td>\n",
              "      <td>3,205,380.00</td>\n",
              "      <td>19,353,900.00</td>\n",
              "      <td>538,827,713.00</td>\n",
              "      <td>501,693,672.00</td>\n",
              "      <td>3,195,623.00</td>\n",
              "      <td>595,966,483.00</td>\n",
              "    </tr>\n",
              "    <tr>\n",
              "      <th>33,601,007,832.00</th>\n",
              "      <td>6,977,321.00</td>\n",
              "      <td>9,678,493.00</td>\n",
              "      <td>2,284,670.00</td>\n",
              "      <td>1,942,092.00</td>\n",
              "      <td>391,126,127.00</td>\n",
              "      <td>35,279,702.00</td>\n",
              "      <td>280,294.00</td>\n",
              "      <td>422,320,698.00</td>\n",
              "    </tr>\n",
              "    <tr>\n",
              "      <th>33,601,008,617.00</th>\n",
              "      <td>41,533,002.00</td>\n",
              "      <td>18,499,616.00</td>\n",
              "      <td>3,305,469.00</td>\n",
              "      <td>49,201,724.00</td>\n",
              "      <td>1,314,797,820.00</td>\n",
              "      <td>804,804,484.00</td>\n",
              "      <td>2,912,542.00</td>\n",
              "      <td>1,457,410,944.00</td>\n",
              "    </tr>\n",
              "    <tr>\n",
              "      <th>33,601,010,682.00</th>\n",
              "      <td>34,347,122.00</td>\n",
              "      <td>15,263,134.00</td>\n",
              "      <td>7,848,596.00</td>\n",
              "      <td>30,315,501.00</td>\n",
              "      <td>511,635,787.00</td>\n",
              "      <td>492,372,777.00</td>\n",
              "      <td>3,792,912.00</td>\n",
              "      <td>615,217,221.00</td>\n",
              "    </tr>\n",
              "    <tr>\n",
              "      <th>33,601,011,634.00</th>\n",
              "      <td>26,431,335.00</td>\n",
              "      <td>10,196,403.00</td>\n",
              "      <td>1,358,959.00</td>\n",
              "      <td>45,812,397.00</td>\n",
              "      <td>548,461,057.00</td>\n",
              "      <td>224,888,713.00</td>\n",
              "      <td>2,769,627.00</td>\n",
              "      <td>654,723,066.00</td>\n",
              "    </tr>\n",
              "    <tr>\n",
              "      <th>33,601,011,959.00</th>\n",
              "      <td>18,892,740.00</td>\n",
              "      <td>12,023,614.00</td>\n",
              "      <td>2,215,563.00</td>\n",
              "      <td>15,292,840.00</td>\n",
              "      <td>282,364,397.00</td>\n",
              "      <td>178,201,537.00</td>\n",
              "      <td>1,782,692.00</td>\n",
              "      <td>332,660,357.00</td>\n",
              "    </tr>\n",
              "    <tr>\n",
              "      <th>33,601,014,694.00</th>\n",
              "      <td>63,443,802.00</td>\n",
              "      <td>14,134,211.00</td>\n",
              "      <td>4,599,825.00</td>\n",
              "      <td>54,216,117.00</td>\n",
              "      <td>833,087,952.00</td>\n",
              "      <td>1,041,882,992.00</td>\n",
              "      <td>5,288,685.00</td>\n",
              "      <td>990,132,189.00</td>\n",
              "    </tr>\n",
              "    <tr>\n",
              "      <th>33,601,020,306.00</th>\n",
              "      <td>28,569,712.00</td>\n",
              "      <td>12,935,169.00</td>\n",
              "      <td>2,783,280.00</td>\n",
              "      <td>35,525,071.00</td>\n",
              "      <td>647,095,674.00</td>\n",
              "      <td>138,339,248.00</td>\n",
              "      <td>956,775.00</td>\n",
              "      <td>732,463,761.00</td>\n",
              "    </tr>\n",
              "  </tbody>\n",
              "</table>\n",
              "</div>"
            ],
            "text/plain": [
              "                   Youtube_total_data_volume  Google_total_data_volume  \\\n",
              "MSISDN/Number                                                            \n",
              "33,601,001,722.00              21,624,548.00              4,389,005.00   \n",
              "33,601,001,754.00              12,432,223.00              5,334,863.00   \n",
              "33,601,002,511.00              21,333,570.00              3,443,126.00   \n",
              "33,601,007,832.00               6,977,321.00              9,678,493.00   \n",
              "33,601,008,617.00              41,533,002.00             18,499,616.00   \n",
              "33,601,010,682.00              34,347,122.00             15,263,134.00   \n",
              "33,601,011,634.00              26,431,335.00             10,196,403.00   \n",
              "33,601,011,959.00              18,892,740.00             12,023,614.00   \n",
              "33,601,014,694.00              63,443,802.00             14,134,211.00   \n",
              "33,601,020,306.00              28,569,712.00             12,935,169.00   \n",
              "\n",
              "                   Email_total_data_volume  Netflix_total_data_volume  \\\n",
              "MSISDN/Number                                                           \n",
              "33,601,001,722.00             1,331,362.00              27,180,981.00   \n",
              "33,601,001,754.00             3,307,781.00              11,221,763.00   \n",
              "33,601,002,511.00             3,205,380.00              19,353,900.00   \n",
              "33,601,007,832.00             2,284,670.00               1,942,092.00   \n",
              "33,601,008,617.00             3,305,469.00              49,201,724.00   \n",
              "33,601,010,682.00             7,848,596.00              30,315,501.00   \n",
              "33,601,011,634.00             1,358,959.00              45,812,397.00   \n",
              "33,601,011,959.00             2,215,563.00              15,292,840.00   \n",
              "33,601,014,694.00             4,599,825.00              54,216,117.00   \n",
              "33,601,020,306.00             2,783,280.00              35,525,071.00   \n",
              "\n",
              "                   Gaming_total_data_volume  Other_total_data_volume  \\\n",
              "MSISDN/Number                                                          \n",
              "33,601,001,722.00            812,458,661.00           386,570,872.00   \n",
              "33,601,001,754.00            119,750,078.00           281,710,071.00   \n",
              "33,601,002,511.00            538,827,713.00           501,693,672.00   \n",
              "33,601,007,832.00            391,126,127.00            35,279,702.00   \n",
              "33,601,008,617.00          1,314,797,820.00           804,804,484.00   \n",
              "33,601,010,682.00            511,635,787.00           492,372,777.00   \n",
              "33,601,011,634.00            548,461,057.00           224,888,713.00   \n",
              "33,601,011,959.00            282,364,397.00           178,201,537.00   \n",
              "33,601,014,694.00            833,087,952.00         1,041,882,992.00   \n",
              "33,601,020,306.00            647,095,674.00           138,339,248.00   \n",
              "\n",
              "                   SocialMedia_total_data_volume  All_total_data_volume  \n",
              "MSISDN/Number                                                            \n",
              "33,601,001,722.00                   2,232,135.00         878,690,574.00  \n",
              "33,601,001,754.00                   2,660,565.00         156,859,643.00  \n",
              "33,601,002,511.00                   3,195,623.00         595,966,483.00  \n",
              "33,601,007,832.00                     280,294.00         422,320,698.00  \n",
              "33,601,008,617.00                   2,912,542.00       1,457,410,944.00  \n",
              "33,601,010,682.00                   3,792,912.00         615,217,221.00  \n",
              "33,601,011,634.00                   2,769,627.00         654,723,066.00  \n",
              "33,601,011,959.00                   1,782,692.00         332,660,357.00  \n",
              "33,601,014,694.00                   5,288,685.00         990,132,189.00  \n",
              "33,601,020,306.00                     956,775.00         732,463,761.00  "
            ]
          },
          "metadata": {
            "tags": []
          },
          "execution_count": 45
        }
      ]
    },
    {
      "cell_type": "code",
      "metadata": {
        "id": "E0x8ZLJ3s5pd",
        "outputId": "8163869c-1267-488d-9806-a8af48a7a545",
        "colab": {
          "base_uri": "https://localhost:8080/",
          "height": 334
        }
      },
      "source": [
        "df_clean[[\"Dur. (ms).1\", \"Total DL (Bytes)\",\"Total UL (Bytes)\", \"SocialMedia_total_data_volume\", \"Google_total_data_volume\", \"Email_total_data_volume\", \"Youtube_total_data_volume\", \"Netflix_total_data_volume\", \"Gaming_total_data_volume\", \"Total DL (Bytes)\", \"Total UL (Bytes)\"]].describe()"
      ],
      "execution_count": 46,
      "outputs": [
        {
          "output_type": "execute_result",
          "data": {
            "text/html": [
              "<div>\n",
              "<style scoped>\n",
              "    .dataframe tbody tr th:only-of-type {\n",
              "        vertical-align: middle;\n",
              "    }\n",
              "\n",
              "    .dataframe tbody tr th {\n",
              "        vertical-align: top;\n",
              "    }\n",
              "\n",
              "    .dataframe thead th {\n",
              "        text-align: right;\n",
              "    }\n",
              "</style>\n",
              "<table border=\"1\" class=\"dataframe\">\n",
              "  <thead>\n",
              "    <tr style=\"text-align: right;\">\n",
              "      <th></th>\n",
              "      <th>Dur. (ms).1</th>\n",
              "      <th>Total DL (Bytes)</th>\n",
              "      <th>Total UL (Bytes)</th>\n",
              "      <th>SocialMedia_total_data_volume</th>\n",
              "      <th>Google_total_data_volume</th>\n",
              "      <th>Email_total_data_volume</th>\n",
              "      <th>Youtube_total_data_volume</th>\n",
              "      <th>Netflix_total_data_volume</th>\n",
              "      <th>Gaming_total_data_volume</th>\n",
              "      <th>Total DL (Bytes)</th>\n",
              "      <th>Total UL (Bytes)</th>\n",
              "    </tr>\n",
              "  </thead>\n",
              "  <tbody>\n",
              "    <tr>\n",
              "      <th>count</th>\n",
              "      <td>150,001.00</td>\n",
              "      <td>150,001.00</td>\n",
              "      <td>150,001.00</td>\n",
              "      <td>150,001.00</td>\n",
              "      <td>150,001.00</td>\n",
              "      <td>150,001.00</td>\n",
              "      <td>150,001.00</td>\n",
              "      <td>150,001.00</td>\n",
              "      <td>150,001.00</td>\n",
              "      <td>150,001.00</td>\n",
              "      <td>150,001.00</td>\n",
              "    </tr>\n",
              "    <tr>\n",
              "      <th>mean</th>\n",
              "      <td>104,609,060.89</td>\n",
              "      <td>454,642,878.43</td>\n",
              "      <td>41,121,129.66</td>\n",
              "      <td>1,828,250.21</td>\n",
              "      <td>7,807,294.55</td>\n",
              "      <td>2,259,102.31</td>\n",
              "      <td>22,643,482.64</td>\n",
              "      <td>22,628,606.54</td>\n",
              "      <td>430,333,100.71</td>\n",
              "      <td>454,642,878.43</td>\n",
              "      <td>41,121,129.66</td>\n",
              "    </tr>\n",
              "    <tr>\n",
              "      <th>std</th>\n",
              "      <td>81,037,343.30</td>\n",
              "      <td>244,142,154.05</td>\n",
              "      <td>11,276,387.99</td>\n",
              "      <td>1,035,646.14</td>\n",
              "      <td>3,516,420.24</td>\n",
              "      <td>1,071,109.06</td>\n",
              "      <td>9,246,800.31</td>\n",
              "      <td>9,260,820.09</td>\n",
              "      <td>244,019,924.02</td>\n",
              "      <td>244,142,154.05</td>\n",
              "      <td>11,276,387.99</td>\n",
              "    </tr>\n",
              "    <tr>\n",
              "      <th>min</th>\n",
              "      <td>7,142,988.00</td>\n",
              "      <td>7,114,041.00</td>\n",
              "      <td>2,866,892.00</td>\n",
              "      <td>1,563.00</td>\n",
              "      <td>40,330.00</td>\n",
              "      <td>8,359.00</td>\n",
              "      <td>78,903.00</td>\n",
              "      <td>98,432.00</td>\n",
              "      <td>306,358.00</td>\n",
              "      <td>7,114,041.00</td>\n",
              "      <td>2,866,892.00</td>\n",
              "    </tr>\n",
              "    <tr>\n",
              "      <th>25%</th>\n",
              "      <td>57,442,058.00</td>\n",
              "      <td>243,107,173.00</td>\n",
              "      <td>33,221,955.00</td>\n",
              "      <td>932,218.00</td>\n",
              "      <td>4,943,599.00</td>\n",
              "      <td>1,359,344.00</td>\n",
              "      <td>15,998,463.00</td>\n",
              "      <td>15,979,455.00</td>\n",
              "      <td>218,727,939.00</td>\n",
              "      <td>243,107,173.00</td>\n",
              "      <td>33,221,955.00</td>\n",
              "    </tr>\n",
              "    <tr>\n",
              "      <th>50%</th>\n",
              "      <td>86,399,983.00</td>\n",
              "      <td>455,840,911.00</td>\n",
              "      <td>41,143,242.00</td>\n",
              "      <td>1,826,471.00</td>\n",
              "      <td>7,812,835.00</td>\n",
              "      <td>2,263,567.00</td>\n",
              "      <td>22,661,770.00</td>\n",
              "      <td>22,635,545.00</td>\n",
              "      <td>431,614,977.00</td>\n",
              "      <td>455,840,911.00</td>\n",
              "      <td>41,143,242.00</td>\n",
              "    </tr>\n",
              "    <tr>\n",
              "      <th>75%</th>\n",
              "      <td>132,430,686.00</td>\n",
              "      <td>665,705,138.00</td>\n",
              "      <td>49,034,238.00</td>\n",
              "      <td>2,727,487.00</td>\n",
              "      <td>10,682,796.00</td>\n",
              "      <td>3,159,818.00</td>\n",
              "      <td>29,292,604.00</td>\n",
              "      <td>29,290,445.00</td>\n",
              "      <td>641,415,878.00</td>\n",
              "      <td>665,705,138.00</td>\n",
              "      <td>49,034,238.00</td>\n",
              "    </tr>\n",
              "    <tr>\n",
              "      <th>max</th>\n",
              "      <td>1,859,336,442.00</td>\n",
              "      <td>902,969,616.00</td>\n",
              "      <td>78,331,311.00</td>\n",
              "      <td>3,650,861.00</td>\n",
              "      <td>15,528,782.00</td>\n",
              "      <td>4,518,036.00</td>\n",
              "      <td>45,190,078.00</td>\n",
              "      <td>45,198,153.00</td>\n",
              "      <td>859,202,784.00</td>\n",
              "      <td>902,969,616.00</td>\n",
              "      <td>78,331,311.00</td>\n",
              "    </tr>\n",
              "  </tbody>\n",
              "</table>\n",
              "</div>"
            ],
            "text/plain": [
              "           Dur. (ms).1  Total DL (Bytes)  Total UL (Bytes)  \\\n",
              "count       150,001.00        150,001.00        150,001.00   \n",
              "mean    104,609,060.89    454,642,878.43     41,121,129.66   \n",
              "std      81,037,343.30    244,142,154.05     11,276,387.99   \n",
              "min       7,142,988.00      7,114,041.00      2,866,892.00   \n",
              "25%      57,442,058.00    243,107,173.00     33,221,955.00   \n",
              "50%      86,399,983.00    455,840,911.00     41,143,242.00   \n",
              "75%     132,430,686.00    665,705,138.00     49,034,238.00   \n",
              "max   1,859,336,442.00    902,969,616.00     78,331,311.00   \n",
              "\n",
              "       SocialMedia_total_data_volume  Google_total_data_volume  \\\n",
              "count                     150,001.00                150,001.00   \n",
              "mean                    1,828,250.21              7,807,294.55   \n",
              "std                     1,035,646.14              3,516,420.24   \n",
              "min                         1,563.00                 40,330.00   \n",
              "25%                       932,218.00              4,943,599.00   \n",
              "50%                     1,826,471.00              7,812,835.00   \n",
              "75%                     2,727,487.00             10,682,796.00   \n",
              "max                     3,650,861.00             15,528,782.00   \n",
              "\n",
              "       Email_total_data_volume  Youtube_total_data_volume  \\\n",
              "count               150,001.00                 150,001.00   \n",
              "mean              2,259,102.31              22,643,482.64   \n",
              "std               1,071,109.06               9,246,800.31   \n",
              "min                   8,359.00                  78,903.00   \n",
              "25%               1,359,344.00              15,998,463.00   \n",
              "50%               2,263,567.00              22,661,770.00   \n",
              "75%               3,159,818.00              29,292,604.00   \n",
              "max               4,518,036.00              45,190,078.00   \n",
              "\n",
              "       Netflix_total_data_volume  Gaming_total_data_volume  Total DL (Bytes)  \\\n",
              "count                 150,001.00                150,001.00        150,001.00   \n",
              "mean               22,628,606.54            430,333,100.71    454,642,878.43   \n",
              "std                 9,260,820.09            244,019,924.02    244,142,154.05   \n",
              "min                    98,432.00                306,358.00      7,114,041.00   \n",
              "25%                15,979,455.00            218,727,939.00    243,107,173.00   \n",
              "50%                22,635,545.00            431,614,977.00    455,840,911.00   \n",
              "75%                29,290,445.00            641,415,878.00    665,705,138.00   \n",
              "max                45,198,153.00            859,202,784.00    902,969,616.00   \n",
              "\n",
              "       Total UL (Bytes)  \n",
              "count        150,001.00  \n",
              "mean      41,121,129.66  \n",
              "std       11,276,387.99  \n",
              "min        2,866,892.00  \n",
              "25%       33,221,955.00  \n",
              "50%       41,143,242.00  \n",
              "75%       49,034,238.00  \n",
              "max       78,331,311.00  "
            ]
          },
          "metadata": {
            "tags": []
          },
          "execution_count": 46
        }
      ]
    },
    {
      "cell_type": "code",
      "metadata": {
        "id": "Q80khZlitXJG",
        "outputId": "d1650854-91e7-40e2-ba1e-a371c6059cbe",
        "colab": {
          "base_uri": "https://localhost:8080/",
          "height": 314
        }
      },
      "source": [
        "df_clean[\"Dur. (ms).1\"].hist(bins = 50)\n",
        "plt.title(\"Duration Histogram\")"
      ],
      "execution_count": 47,
      "outputs": [
        {
          "output_type": "execute_result",
          "data": {
            "text/plain": [
              "Text(0.5, 1.0, 'Duration Histogram')"
            ]
          },
          "metadata": {
            "tags": []
          },
          "execution_count": 47
        },
        {
          "output_type": "display_data",
          "data": {
            "image/png": "[encoded data removed]",
            "text/plain": [
              "<Figure size 432x288 with 1 Axes>"
            ]
          },
          "metadata": {
            "tags": [],
            "needs_background": "light"
          }
        }
      ]
    },
    {
      "cell_type": "code",
      "metadata": {
        "id": "GNiz_pWguVRF",
        "outputId": "2519efbf-9b93-4764-8658-8ccc77043fe8",
        "colab": {
          "base_uri": "https://localhost:8080/",
          "height": 314
        }
      },
      "source": [
        "df_clean[\"Total DL (Bytes)\"].hist(bins = 50)\n",
        "plt.title(\"Total Download Histogram\")"
      ],
      "execution_count": 48,
      "outputs": [
        {
          "output_type": "execute_result",
          "data": {
            "text/plain": [
              "Text(0.5, 1.0, 'Total Download Histogram')"
            ]
          },
          "metadata": {
            "tags": []
          },
          "execution_count": 48
        },
        {
          "output_type": "display_data",
          "data": {
            "image/png": "[encoded data removed]",
            "text/plain": [
              "<Figure size 432x288 with 1 Axes>"
            ]
          },
          "metadata": {
            "tags": [],
            "needs_background": "light"
          }
        }
      ]
    },
    {
      "cell_type": "code",
      "metadata": {
        "id": "8NaLySfaufFu",
        "outputId": "671fdf67-1964-44cf-d98e-d0fe41984670",
        "colab": {
          "base_uri": "https://localhost:8080/",
          "height": 314
        }
      },
      "source": [
        "df_clean[\"Total UL (Bytes)\"].hist(bins = 50)\n",
        "plt.title(\"Total Upload Histogram\")"
      ],
      "execution_count": 49,
      "outputs": [
        {
          "output_type": "execute_result",
          "data": {
            "text/plain": [
              "Text(0.5, 1.0, 'Total Upload Histogram')"
            ]
          },
          "metadata": {
            "tags": []
          },
          "execution_count": 49
        },
        {
          "output_type": "display_data",
          "data": {
            "image/png": "[encoded data removed]",
            "text/plain": [
              "<Figure size 432x288 with 1 Axes>"
            ]
          },
          "metadata": {
            "tags": [],
            "needs_background": "light"
          }
        }
      ]
    },
    {
      "cell_type": "code",
      "metadata": {
        "id": "gom5R6WeuleE",
        "outputId": "72d638d2-aeea-4259-c622-e76fc330aaaf",
        "colab": {
          "base_uri": "https://localhost:8080/",
          "height": 314
        }
      },
      "source": [
        "df_clean[\"SocialMedia_total_data_volume\"].hist(bins = 50)\n",
        "plt.title(\"Total Social Media Data Histogram\")"
      ],
      "execution_count": 50,
      "outputs": [
        {
          "output_type": "execute_result",
          "data": {
            "text/plain": [
              "Text(0.5, 1.0, 'Total Social Media Data Histogram')"
            ]
          },
          "metadata": {
            "tags": []
          },
          "execution_count": 50
        },
        {
          "output_type": "display_data",
          "data": {
            "image/png": "[encoded data removed]",
            "text/plain": [
              "<Figure size 432x288 with 1 Axes>"
            ]
          },
          "metadata": {
            "tags": [],
            "needs_background": "light"
          }
        }
      ]
    },
    {
      "cell_type": "code",
      "metadata": {
        "id": "cJm9eTWcu0j3",
        "outputId": "4e6af6c7-48d9-40a5-8a40-f22d1dd72c8a",
        "colab": {
          "base_uri": "https://localhost:8080/",
          "height": 314
        }
      },
      "source": [
        "df_clean[\"Google_total_data_volume\"].hist(bins = 50)\n",
        "plt.title(\"Total Google Data Histogram\")"
      ],
      "execution_count": 51,
      "outputs": [
        {
          "output_type": "execute_result",
          "data": {
            "text/plain": [
              "Text(0.5, 1.0, 'Total Google Data Histogram')"
            ]
          },
          "metadata": {
            "tags": []
          },
          "execution_count": 51
        },
        {
          "output_type": "display_data",
          "data": {
            "image/png": "[encoded data removed]",
            "text/plain": [
              "<Figure size 432x288 with 1 Axes>"
            ]
          },
          "metadata": {
            "tags": [],
            "needs_background": "light"
          }
        }
      ]
    },
    {
      "cell_type": "code",
      "metadata": {
        "id": "EYCn7qhAu63l",
        "outputId": "f2312502-b47e-46ed-8b28-dec4e684de55",
        "colab": {
          "base_uri": "https://localhost:8080/",
          "height": 314
        }
      },
      "source": [
        "df_clean[\"Email_total_data_volume\"].hist(bins = 50)\n",
        "plt.title(\"Total Email Data Histogram\")"
      ],
      "execution_count": 52,
      "outputs": [
        {
          "output_type": "execute_result",
          "data": {
            "text/plain": [
              "Text(0.5, 1.0, 'Total Email Data Histogram')"
            ]
          },
          "metadata": {
            "tags": []
          },
          "execution_count": 52
        },
        {
          "output_type": "display_data",
          "data": {
            "image/png": "[encoded data removed]",
            "text/plain": [
              "<Figure size 432x288 with 1 Axes>"
            ]
          },
          "metadata": {
            "tags": [],
            "needs_background": "light"
          }
        }
      ]
    },
    {
      "cell_type": "code",
      "metadata": {
        "id": "pa53ETmhu-2l",
        "outputId": "03fc7376-1906-451f-c9a5-1c34ea7359cf",
        "colab": {
          "base_uri": "https://localhost:8080/",
          "height": 314
        }
      },
      "source": [
        "df_clean[\"Youtube_total_data_volume\"].hist(bins = 50)\n",
        "plt.title(\"Total Youtube Data Histogram\")"
      ],
      "execution_count": 53,
      "outputs": [
        {
          "output_type": "execute_result",
          "data": {
            "text/plain": [
              "Text(0.5, 1.0, 'Total Youtube Data Histogram')"
            ]
          },
          "metadata": {
            "tags": []
          },
          "execution_count": 53
        },
        {
          "output_type": "display_data",
          "data": {
            "image/png": "[encoded data removed]",
            "text/plain": [
              "<Figure size 432x288 with 1 Axes>"
            ]
          },
          "metadata": {
            "tags": [],
            "needs_background": "light"
          }
        }
      ]
    },
    {
      "cell_type": "code",
      "metadata": {
        "id": "jrLcw5sdvFil",
        "outputId": "7c1cc290-3a23-40e1-92b6-8a9257f3f15a",
        "colab": {
          "base_uri": "https://localhost:8080/",
          "height": 314
        }
      },
      "source": [
        "df_clean[\"Netflix_total_data_volume\"].hist(bins = 50)\n",
        "plt.title(\"Total Netflix Data Histogram\")"
      ],
      "execution_count": 54,
      "outputs": [
        {
          "output_type": "execute_result",
          "data": {
            "text/plain": [
              "Text(0.5, 1.0, 'Total Netflix Data Histogram')"
            ]
          },
          "metadata": {
            "tags": []
          },
          "execution_count": 54
        },
        {
          "output_type": "display_data",
          "data": {
            "image/png": "[encoded data removed]",
            "text/plain": [
              "<Figure size 432x288 with 1 Axes>"
            ]
          },
          "metadata": {
            "tags": [],
            "needs_background": "light"
          }
        }
      ]
    },
    {
      "cell_type": "code",
      "metadata": {
        "id": "UKCb8XrGvQUP",
        "outputId": "11cd7ad1-cbe3-4e65-ecee-3498985b6749",
        "colab": {
          "base_uri": "https://localhost:8080/",
          "height": 314
        }
      },
      "source": [
        "df_clean[\"Gaming_total_data_volume\"].hist(bins = 50)\n",
        "plt.title(\"Total Gaming Data Histogram\")"
      ],
      "execution_count": 55,
      "outputs": [
        {
          "output_type": "execute_result",
          "data": {
            "text/plain": [
              "Text(0.5, 1.0, 'Total Gaming Data Histogram')"
            ]
          },
          "metadata": {
            "tags": []
          },
          "execution_count": 55
        },
        {
          "output_type": "display_data",
          "data": {
            "image/png": "[encoded data removed]",
            "text/plain": [
              "<Figure size 432x288 with 1 Axes>"
            ]
          },
          "metadata": {
            "tags": [],
            "needs_background": "light"
          }
        }
      ]
    },
    {
      "cell_type": "code",
      "metadata": {
        "id": "NI8pzijNvU2O",
        "outputId": "2dbb01f8-2a5c-4a89-9ffa-4e3fbe977e85",
        "colab": {
          "base_uri": "https://localhost:8080/",
          "height": 301
        }
      },
      "source": [
        "total_usage = df_clean[[\"Google_total_data_volume\", \"Youtube_total_data_volume\", \"Netflix_total_data_volume\", \"Email_total_data_volume\", \"Gaming_total_data_volume\", \"SocialMedia_total_data_volume\", \"Other_total_data_volume\"]]\n",
        "ind = np.arange(7)\n",
        "width =0.8\n",
        "\n",
        "plt.xticks(ind , (\"Google\", \"Youtube\", \"Netflix\", \"Email\", \"Gaming\", \"Social\", \"Other\"))\n",
        "plt.bar(ind, total_usage.sum(), width, label = \"Total Usage\")\n",
        "plt.title(\"App Data usage\")"
      ],
      "execution_count": 56,
      "outputs": [
        {
          "output_type": "execute_result",
          "data": {
            "text/plain": [
              "Text(0.5, 1.0, 'App Data usage')"
            ]
          },
          "metadata": {
            "tags": []
          },
          "execution_count": 56
        },
        {
          "output_type": "display_data",
          "data": {
            "image/png": "[encoded data removed]",
            "text/plain": [
              "<Figure size 432x288 with 1 Axes>"
            ]
          },
          "metadata": {
            "tags": [],
            "needs_background": "light"
          }
        }
      ]
    },
    {
      "cell_type": "code",
      "metadata": {
        "id": "EZoaPJdp4rKD"
      },
      "source": [
        "import pandas as pd                     \n",
        "import matplotlib.pyplot as plt          # plotting\n",
        "import numpy as np                       # dense matrices\n",
        "from scipy.sparse import csr_matrix      # sparse matrices\n",
        "%matplotlib inline"
      ],
      "execution_count": 32,
      "outputs": []
    },
    {
      "cell_type": "code",
      "metadata": {
        "id": "A-w4LRDPr7id"
      },
      "source": [
        ""
      ],
      "execution_count": null,
      "outputs": []
    },
    {
      "cell_type": "code",
      "metadata": {
        "id": "JtXqYElb4Blc"
      },
      "source": [
        "# Function to calculate missing values by column\n",
        "def missing_values_table(df):\n",
        "    # Total missing values\n",
        "    mis_val = df.isnull().sum()\n",
        "\n",
        "    # Percentage of missing values\n",
        "    mis_val_percent = 100 * df.isnull().sum() / len(df)\n",
        "\n",
        "    # dtype of missing values\n",
        "    mis_val_dtype = df.dtypes\n",
        "\n",
        "    # Make a table with the results\n",
        "    mis_val_table = pd.concat([mis_val, mis_val_percent, mis_val_dtype], axis=1)\n",
        "\n",
        "    # Rename the columns\n",
        "    mis_val_table_ren_columns = mis_val_table.rename(\n",
        "    columns = {0 : 'Missing Values', 1 : '% of Total Values', 2: 'Dtype'})\n",
        "\n",
        "    # Sort the table by percentage of missing descending\n",
        "    mis_val_table_ren_columns = mis_val_table_ren_columns[\n",
        "        mis_val_table_ren_columns.iloc[:,1] != 0].sort_values(\n",
        "    '% of Total Values', ascending=False).round(1)\n",
        "\n",
        "    # Print some summary information\n",
        "    print (\"Your selected dataframe has \" + str(df.shape[1]) + \" columns.\\n\"      \n",
        "        \"There are \" + str(mis_val_table_ren_columns.shape[0]) +\n",
        "          \" columns that have missing values.\")\n",
        "\n",
        "    # Return the dataframe with missing information\n",
        "    return mis_val_table_ren_columns\n",
        "\n",
        "def format_float(value):\n",
        "    return f'{value:,.2f}'\n",
        "\n",
        "def find_agg(df:pd.DataFrame, agg_column:str, agg_metric:str, col_name:str, top:int, order=False )->pd.DataFrame:\n",
        "    \n",
        "    new_df = df.groupby(agg_column)[agg_column].agg(agg_metric).reset_index(name=col_name).\\\n",
        "                        sort_values(by=col_name, ascending=order)[:top]\n",
        "    \n",
        "    return new_df\n",
        "\n",
        "def convert_bytes_to_megabytes(df, bytes_data):\n",
        "    \"\"\"\n",
        "        This function takes the dataframe and the column which has the bytes values\n",
        "        returns the megabytesof that value\n",
        "        \n",
        "        Args:\n",
        "        -----\n",
        "        df: dataframe\n",
        "        bytes_data: column with bytes values\n",
        "        \n",
        "        Returns:\n",
        "        --------\n",
        "        A series\n",
        "    \"\"\"\n",
        "    \n",
        "    megabyte = 1*10e+5\n",
        "    df[bytes_data] = df[bytes_data] / megabyte\n",
        "    \n",
        "    return df[bytes_data]\n",
        "\n",
        "pd.options.display.float_format = format_float"
      ],
      "execution_count": 33,
      "outputs": []
    },
    {
      "cell_type": "code",
      "metadata": {
        "id": "nS-5bRdQ0U9m",
        "outputId": "c35189e1-0888-4767-865a-1489442ecfbb",
        "colab": {
          "base_uri": "https://localhost:8080/",
          "height": 513
        }
      },
      "source": [
        "pd.set_option('max_column', None)\n",
        "df=pd.read_csv('drive/MyDrive/Week1_challenge_data_source(CSV).csv')\n",
        "df.head()"
      ],
      "execution_count": 34,
      "outputs": [
        {
          "output_type": "execute_result",
          "data": {
            "text/html": [
              "<div>\n",
              "<style scoped>\n",
              "    .dataframe tbody tr th:only-of-type {\n",
              "        vertical-align: middle;\n",
              "    }\n",
              "\n",
              "    .dataframe tbody tr th {\n",
              "        vertical-align: top;\n",
              "    }\n",
              "\n",
              "    .dataframe thead th {\n",
              "        text-align: right;\n",
              "    }\n",
              "</style>\n",
              "<table border=\"1\" class=\"dataframe\">\n",
              "  <thead>\n",
              "    <tr style=\"text-align: right;\">\n",
              "      <th></th>\n",
              "      <th>Bearer Id</th>\n",
              "      <th>Start</th>\n",
              "      <th>Start ms</th>\n",
              "      <th>End</th>\n",
              "      <th>End ms</th>\n",
              "      <th>Dur. (ms)</th>\n",
              "      <th>IMSI</th>\n",
              "      <th>MSISDN/Number</th>\n",
              "      <th>IMEI</th>\n",
              "      <th>Last Location Name</th>\n",
              "      <th>Avg RTT DL (ms)</th>\n",
              "      <th>Avg RTT UL (ms)</th>\n",
              "      <th>Avg Bearer TP DL (kbps)</th>\n",
              "      <th>Avg Bearer TP UL (kbps)</th>\n",
              "      <th>TCP DL Retrans. Vol (Bytes)</th>\n",
              "      <th>TCP UL Retrans. Vol (Bytes)</th>\n",
              "      <th>DL TP &lt; 50 Kbps (%)</th>\n",
              "      <th>50 Kbps &lt; DL TP &lt; 250 Kbps (%)</th>\n",
              "      <th>250 Kbps &lt; DL TP &lt; 1 Mbps (%)</th>\n",
              "      <th>DL TP &gt; 1 Mbps (%)</th>\n",
              "      <th>UL TP &lt; 10 Kbps (%)</th>\n",
              "      <th>10 Kbps &lt; UL TP &lt; 50 Kbps (%)</th>\n",
              "      <th>50 Kbps &lt; UL TP &lt; 300 Kbps (%)</th>\n",
              "      <th>UL TP &gt; 300 Kbps (%)</th>\n",
              "      <th>HTTP DL (Bytes)</th>\n",
              "      <th>HTTP UL (Bytes)</th>\n",
              "      <th>Activity Duration DL (ms)</th>\n",
              "      <th>Activity Duration UL (ms)</th>\n",
              "      <th>Dur. (ms).1</th>\n",
              "      <th>Handset Manufacturer</th>\n",
              "      <th>Handset Type</th>\n",
              "      <th>Nb of sec with 125000B &lt; Vol DL</th>\n",
              "      <th>Nb of sec with 1250B &lt; Vol UL &lt; 6250B</th>\n",
              "      <th>Nb of sec with 31250B &lt; Vol DL &lt; 125000B</th>\n",
              "      <th>Nb of sec with 37500B &lt; Vol UL</th>\n",
              "      <th>Nb of sec with 6250B &lt; Vol DL &lt; 31250B</th>\n",
              "      <th>Nb of sec with 6250B &lt; Vol UL &lt; 37500B</th>\n",
              "      <th>Nb of sec with Vol DL &lt; 6250B</th>\n",
              "      <th>Nb of sec with Vol UL &lt; 1250B</th>\n",
              "      <th>Social Media DL (Bytes)</th>\n",
              "      <th>Social Media UL (Bytes)</th>\n",
              "      <th>Google DL (Bytes)</th>\n",
              "      <th>Google UL (Bytes)</th>\n",
              "      <th>Email DL (Bytes)</th>\n",
              "      <th>Email UL (Bytes)</th>\n",
              "      <th>Youtube DL (Bytes)</th>\n",
              "      <th>Youtube UL (Bytes)</th>\n",
              "      <th>Netflix DL (Bytes)</th>\n",
              "      <th>Netflix UL (Bytes)</th>\n",
              "      <th>Gaming DL (Bytes)</th>\n",
              "      <th>Gaming UL (Bytes)</th>\n",
              "      <th>Other DL (Bytes)</th>\n",
              "      <th>Other UL (Bytes)</th>\n",
              "      <th>Total UL (Bytes)</th>\n",
              "      <th>Total DL (Bytes)</th>\n",
              "    </tr>\n",
              "  </thead>\n",
              "  <tbody>\n",
              "    <tr>\n",
              "      <th>0</th>\n",
              "      <td>13,114,483,460,844,900,352.00</td>\n",
              "      <td>4/4/2019 12:01</td>\n",
              "      <td>770.00</td>\n",
              "      <td>4/25/2019 14:35</td>\n",
              "      <td>662.00</td>\n",
              "      <td>1,823,652.00</td>\n",
              "      <td>208,201,448,079,117.00</td>\n",
              "      <td>33,664,962,239.00</td>\n",
              "      <td>35,521,209,507,511.00</td>\n",
              "      <td>9.16456699548519E+015</td>\n",
              "      <td>42.00</td>\n",
              "      <td>5.00</td>\n",
              "      <td>23.00</td>\n",
              "      <td>44.00</td>\n",
              "      <td>nan</td>\n",
              "      <td>nan</td>\n",
              "      <td>100.00</td>\n",
              "      <td>0.00</td>\n",
              "      <td>0.00</td>\n",
              "      <td>0.00</td>\n",
              "      <td>100.00</td>\n",
              "      <td>0.00</td>\n",
              "      <td>0.00</td>\n",
              "      <td>0.00</td>\n",
              "      <td>nan</td>\n",
              "      <td>nan</td>\n",
              "      <td>37,624.00</td>\n",
              "      <td>38,787.00</td>\n",
              "      <td>1,823,652,892.00</td>\n",
              "      <td>Samsung</td>\n",
              "      <td>Samsung Galaxy A5 Sm-A520F</td>\n",
              "      <td>nan</td>\n",
              "      <td>nan</td>\n",
              "      <td>nan</td>\n",
              "      <td>nan</td>\n",
              "      <td>nan</td>\n",
              "      <td>nan</td>\n",
              "      <td>213.00</td>\n",
              "      <td>214.00</td>\n",
              "      <td>1,545,765.00</td>\n",
              "      <td>24,420.00</td>\n",
              "      <td>1,634,479.00</td>\n",
              "      <td>1,271,433.00</td>\n",
              "      <td>3,563,542.00</td>\n",
              "      <td>137,762.00</td>\n",
              "      <td>15,854,611.00</td>\n",
              "      <td>2,501,332.00</td>\n",
              "      <td>8,198,936.00</td>\n",
              "      <td>9,656,251.00</td>\n",
              "      <td>278,082,303.00</td>\n",
              "      <td>14,344,150.00</td>\n",
              "      <td>171,744,450.00</td>\n",
              "      <td>8,814,393.00</td>\n",
              "      <td>36,749,741.00</td>\n",
              "      <td>308,879,636.00</td>\n",
              "    </tr>\n",
              "    <tr>\n",
              "      <th>1</th>\n",
              "      <td>13,114,483,482,878,900,224.00</td>\n",
              "      <td>4/9/2019 13:04</td>\n",
              "      <td>235.00</td>\n",
              "      <td>4/25/2019 8:15</td>\n",
              "      <td>606.00</td>\n",
              "      <td>1,365,104.00</td>\n",
              "      <td>208,201,909,211,140.00</td>\n",
              "      <td>33,681,854,413.00</td>\n",
              "      <td>35,794,009,006,359.00</td>\n",
              "      <td>L77566A</td>\n",
              "      <td>65.00</td>\n",
              "      <td>5.00</td>\n",
              "      <td>16.00</td>\n",
              "      <td>26.00</td>\n",
              "      <td>nan</td>\n",
              "      <td>nan</td>\n",
              "      <td>100.00</td>\n",
              "      <td>0.00</td>\n",
              "      <td>0.00</td>\n",
              "      <td>0.00</td>\n",
              "      <td>100.00</td>\n",
              "      <td>0.00</td>\n",
              "      <td>0.00</td>\n",
              "      <td>0.00</td>\n",
              "      <td>nan</td>\n",
              "      <td>nan</td>\n",
              "      <td>168.00</td>\n",
              "      <td>3,560.00</td>\n",
              "      <td>1,365,104,371.00</td>\n",
              "      <td>Samsung</td>\n",
              "      <td>Samsung Galaxy J5 (Sm-J530)</td>\n",
              "      <td>nan</td>\n",
              "      <td>nan</td>\n",
              "      <td>nan</td>\n",
              "      <td>nan</td>\n",
              "      <td>nan</td>\n",
              "      <td>nan</td>\n",
              "      <td>971.00</td>\n",
              "      <td>1,022.00</td>\n",
              "      <td>1,926,113.00</td>\n",
              "      <td>7,165.00</td>\n",
              "      <td>3,493,924.00</td>\n",
              "      <td>920,172.00</td>\n",
              "      <td>629,046.00</td>\n",
              "      <td>308,339.00</td>\n",
              "      <td>20,247,395.00</td>\n",
              "      <td>19,111,729.00</td>\n",
              "      <td>18,338,413.00</td>\n",
              "      <td>17,227,132.00</td>\n",
              "      <td>608,750,074.00</td>\n",
              "      <td>1,170,709.00</td>\n",
              "      <td>526,904,238.00</td>\n",
              "      <td>15,055,145.00</td>\n",
              "      <td>53,800,391.00</td>\n",
              "      <td>653,384,965.00</td>\n",
              "    </tr>\n",
              "    <tr>\n",
              "      <th>2</th>\n",
              "      <td>13,114,483,484,080,500,736.00</td>\n",
              "      <td>4/9/2019 17:42</td>\n",
              "      <td>1.00</td>\n",
              "      <td>4/25/2019 11:58</td>\n",
              "      <td>652.00</td>\n",
              "      <td>1,361,762.00</td>\n",
              "      <td>208,200,314,458,056.00</td>\n",
              "      <td>33,760,627,129.00</td>\n",
              "      <td>35,281,510,359,387.00</td>\n",
              "      <td>D42335A</td>\n",
              "      <td>nan</td>\n",
              "      <td>nan</td>\n",
              "      <td>6.00</td>\n",
              "      <td>9.00</td>\n",
              "      <td>nan</td>\n",
              "      <td>nan</td>\n",
              "      <td>100.00</td>\n",
              "      <td>0.00</td>\n",
              "      <td>0.00</td>\n",
              "      <td>0.00</td>\n",
              "      <td>100.00</td>\n",
              "      <td>0.00</td>\n",
              "      <td>0.00</td>\n",
              "      <td>0.00</td>\n",
              "      <td>nan</td>\n",
              "      <td>nan</td>\n",
              "      <td>0.00</td>\n",
              "      <td>0.00</td>\n",
              "      <td>1,361,762,651.00</td>\n",
              "      <td>Samsung</td>\n",
              "      <td>Samsung Galaxy A8 (2018)</td>\n",
              "      <td>nan</td>\n",
              "      <td>nan</td>\n",
              "      <td>nan</td>\n",
              "      <td>nan</td>\n",
              "      <td>nan</td>\n",
              "      <td>nan</td>\n",
              "      <td>751.00</td>\n",
              "      <td>695.00</td>\n",
              "      <td>1,684,053.00</td>\n",
              "      <td>42,224.00</td>\n",
              "      <td>8,535,055.00</td>\n",
              "      <td>1,694,064.00</td>\n",
              "      <td>2,690,151.00</td>\n",
              "      <td>672,973.00</td>\n",
              "      <td>19,725,661.00</td>\n",
              "      <td>14,699,576.00</td>\n",
              "      <td>17,587,794.00</td>\n",
              "      <td>6,163,408.00</td>\n",
              "      <td>229,584,621.00</td>\n",
              "      <td>395,630.00</td>\n",
              "      <td>410,692,588.00</td>\n",
              "      <td>4,215,763.00</td>\n",
              "      <td>27,883,638.00</td>\n",
              "      <td>279,807,335.00</td>\n",
              "    </tr>\n",
              "    <tr>\n",
              "      <th>3</th>\n",
              "      <td>13,114,483,485,442,799,616.00</td>\n",
              "      <td>4/10/2019 0:31</td>\n",
              "      <td>486.00</td>\n",
              "      <td>4/25/2019 7:36</td>\n",
              "      <td>171.00</td>\n",
              "      <td>1,321,509.00</td>\n",
              "      <td>208,201,402,342,131.00</td>\n",
              "      <td>33,750,343,200.00</td>\n",
              "      <td>35,356,610,164,913.00</td>\n",
              "      <td>T21824A</td>\n",
              "      <td>nan</td>\n",
              "      <td>nan</td>\n",
              "      <td>44.00</td>\n",
              "      <td>44.00</td>\n",
              "      <td>nan</td>\n",
              "      <td>nan</td>\n",
              "      <td>100.00</td>\n",
              "      <td>0.00</td>\n",
              "      <td>0.00</td>\n",
              "      <td>0.00</td>\n",
              "      <td>100.00</td>\n",
              "      <td>0.00</td>\n",
              "      <td>0.00</td>\n",
              "      <td>0.00</td>\n",
              "      <td>nan</td>\n",
              "      <td>nan</td>\n",
              "      <td>3,330.00</td>\n",
              "      <td>37,882.00</td>\n",
              "      <td>1,321,509,685.00</td>\n",
              "      <td>undefined</td>\n",
              "      <td>undefined</td>\n",
              "      <td>nan</td>\n",
              "      <td>nan</td>\n",
              "      <td>nan</td>\n",
              "      <td>nan</td>\n",
              "      <td>nan</td>\n",
              "      <td>nan</td>\n",
              "      <td>17.00</td>\n",
              "      <td>207.00</td>\n",
              "      <td>644,121.00</td>\n",
              "      <td>13,372.00</td>\n",
              "      <td>9,023,734.00</td>\n",
              "      <td>2,788,027.00</td>\n",
              "      <td>1,439,754.00</td>\n",
              "      <td>631,229.00</td>\n",
              "      <td>21,388,122.00</td>\n",
              "      <td>15,146,643.00</td>\n",
              "      <td>13,994,646.00</td>\n",
              "      <td>1,097,942.00</td>\n",
              "      <td>799,538,153.00</td>\n",
              "      <td>10,849,722.00</td>\n",
              "      <td>749,039,933.00</td>\n",
              "      <td>12,797,283.00</td>\n",
              "      <td>43,324,218.00</td>\n",
              "      <td>846,028,530.00</td>\n",
              "    </tr>\n",
              "    <tr>\n",
              "      <th>4</th>\n",
              "      <td>13,114,483,499,480,700,928.00</td>\n",
              "      <td>4/12/2019 20:10</td>\n",
              "      <td>565.00</td>\n",
              "      <td>4/25/2019 10:40</td>\n",
              "      <td>954.00</td>\n",
              "      <td>1,089,009.00</td>\n",
              "      <td>208,201,401,415,120.00</td>\n",
              "      <td>33,699,795,932.00</td>\n",
              "      <td>35,407,009,745,539.00</td>\n",
              "      <td>D88865A</td>\n",
              "      <td>nan</td>\n",
              "      <td>nan</td>\n",
              "      <td>6.00</td>\n",
              "      <td>9.00</td>\n",
              "      <td>nan</td>\n",
              "      <td>nan</td>\n",
              "      <td>100.00</td>\n",
              "      <td>0.00</td>\n",
              "      <td>0.00</td>\n",
              "      <td>0.00</td>\n",
              "      <td>100.00</td>\n",
              "      <td>0.00</td>\n",
              "      <td>0.00</td>\n",
              "      <td>0.00</td>\n",
              "      <td>nan</td>\n",
              "      <td>nan</td>\n",
              "      <td>0.00</td>\n",
              "      <td>0.00</td>\n",
              "      <td>1,089,009,389.00</td>\n",
              "      <td>Samsung</td>\n",
              "      <td>Samsung Sm-G390F</td>\n",
              "      <td>nan</td>\n",
              "      <td>nan</td>\n",
              "      <td>nan</td>\n",
              "      <td>nan</td>\n",
              "      <td>nan</td>\n",
              "      <td>nan</td>\n",
              "      <td>607.00</td>\n",
              "      <td>604.00</td>\n",
              "      <td>862,600.00</td>\n",
              "      <td>50,188.00</td>\n",
              "      <td>6,248,284.00</td>\n",
              "      <td>1,500,559.00</td>\n",
              "      <td>1,936,496.00</td>\n",
              "      <td>173,853.00</td>\n",
              "      <td>15,259,380.00</td>\n",
              "      <td>18,962,873.00</td>\n",
              "      <td>17,124,581.00</td>\n",
              "      <td>415,218.00</td>\n",
              "      <td>527,707,248.00</td>\n",
              "      <td>3,529,801.00</td>\n",
              "      <td>550,709,500.00</td>\n",
              "      <td>13,910,322.00</td>\n",
              "      <td>38,542,814.00</td>\n",
              "      <td>569,138,589.00</td>\n",
              "    </tr>\n",
              "  </tbody>\n",
              "</table>\n",
              "</div>"
            ],
            "text/plain": [
              "                      Bearer Id            Start  Start ms              End  \\\n",
              "0 13,114,483,460,844,900,352.00   4/4/2019 12:01    770.00  4/25/2019 14:35   \n",
              "1 13,114,483,482,878,900,224.00   4/9/2019 13:04    235.00   4/25/2019 8:15   \n",
              "2 13,114,483,484,080,500,736.00   4/9/2019 17:42      1.00  4/25/2019 11:58   \n",
              "3 13,114,483,485,442,799,616.00   4/10/2019 0:31    486.00   4/25/2019 7:36   \n",
              "4 13,114,483,499,480,700,928.00  4/12/2019 20:10    565.00  4/25/2019 10:40   \n",
              "\n",
              "   End ms    Dur. (ms)                   IMSI     MSISDN/Number  \\\n",
              "0  662.00 1,823,652.00 208,201,448,079,117.00 33,664,962,239.00   \n",
              "1  606.00 1,365,104.00 208,201,909,211,140.00 33,681,854,413.00   \n",
              "2  652.00 1,361,762.00 208,200,314,458,056.00 33,760,627,129.00   \n",
              "3  171.00 1,321,509.00 208,201,402,342,131.00 33,750,343,200.00   \n",
              "4  954.00 1,089,009.00 208,201,401,415,120.00 33,699,795,932.00   \n",
              "\n",
              "                   IMEI     Last Location Name  Avg RTT DL (ms)  \\\n",
              "0 35,521,209,507,511.00  9.16456699548519E+015            42.00   \n",
              "1 35,794,009,006,359.00                L77566A            65.00   \n",
              "2 35,281,510,359,387.00                D42335A              nan   \n",
              "3 35,356,610,164,913.00                T21824A              nan   \n",
              "4 35,407,009,745,539.00                D88865A              nan   \n",
              "\n",
              "   Avg RTT UL (ms)  Avg Bearer TP DL (kbps)  Avg Bearer TP UL (kbps)  \\\n",
              "0             5.00                    23.00                    44.00   \n",
              "1             5.00                    16.00                    26.00   \n",
              "2              nan                     6.00                     9.00   \n",
              "3              nan                    44.00                    44.00   \n",
              "4              nan                     6.00                     9.00   \n",
              "\n",
              "   TCP DL Retrans. Vol (Bytes)  TCP UL Retrans. Vol (Bytes)  \\\n",
              "0                          nan                          nan   \n",
              "1                          nan                          nan   \n",
              "2                          nan                          nan   \n",
              "3                          nan                          nan   \n",
              "4                          nan                          nan   \n",
              "\n",
              "   DL TP < 50 Kbps (%)  50 Kbps < DL TP < 250 Kbps (%)  \\\n",
              "0               100.00                            0.00   \n",
              "1               100.00                            0.00   \n",
              "2               100.00                            0.00   \n",
              "3               100.00                            0.00   \n",
              "4               100.00                            0.00   \n",
              "\n",
              "   250 Kbps < DL TP < 1 Mbps (%)  DL TP > 1 Mbps (%)  UL TP < 10 Kbps (%)  \\\n",
              "0                           0.00                0.00               100.00   \n",
              "1                           0.00                0.00               100.00   \n",
              "2                           0.00                0.00               100.00   \n",
              "3                           0.00                0.00               100.00   \n",
              "4                           0.00                0.00               100.00   \n",
              "\n",
              "   10 Kbps < UL TP < 50 Kbps (%)  50 Kbps < UL TP < 300 Kbps (%)  \\\n",
              "0                           0.00                            0.00   \n",
              "1                           0.00                            0.00   \n",
              "2                           0.00                            0.00   \n",
              "3                           0.00                            0.00   \n",
              "4                           0.00                            0.00   \n",
              "\n",
              "   UL TP > 300 Kbps (%)  HTTP DL (Bytes)  HTTP UL (Bytes)  \\\n",
              "0                  0.00              nan              nan   \n",
              "1                  0.00              nan              nan   \n",
              "2                  0.00              nan              nan   \n",
              "3                  0.00              nan              nan   \n",
              "4                  0.00              nan              nan   \n",
              "\n",
              "   Activity Duration DL (ms)  Activity Duration UL (ms)      Dur. (ms).1  \\\n",
              "0                  37,624.00                  38,787.00 1,823,652,892.00   \n",
              "1                     168.00                   3,560.00 1,365,104,371.00   \n",
              "2                       0.00                       0.00 1,361,762,651.00   \n",
              "3                   3,330.00                  37,882.00 1,321,509,685.00   \n",
              "4                       0.00                       0.00 1,089,009,389.00   \n",
              "\n",
              "  Handset Manufacturer                 Handset Type  \\\n",
              "0              Samsung   Samsung Galaxy A5 Sm-A520F   \n",
              "1              Samsung  Samsung Galaxy J5 (Sm-J530)   \n",
              "2              Samsung     Samsung Galaxy A8 (2018)   \n",
              "3            undefined                    undefined   \n",
              "4              Samsung             Samsung Sm-G390F   \n",
              "\n",
              "   Nb of sec with 125000B < Vol DL  Nb of sec with 1250B < Vol UL < 6250B  \\\n",
              "0                              nan                                    nan   \n",
              "1                              nan                                    nan   \n",
              "2                              nan                                    nan   \n",
              "3                              nan                                    nan   \n",
              "4                              nan                                    nan   \n",
              "\n",
              "   Nb of sec with 31250B < Vol DL < 125000B  Nb of sec with 37500B < Vol UL  \\\n",
              "0                                       nan                             nan   \n",
              "1                                       nan                             nan   \n",
              "2                                       nan                             nan   \n",
              "3                                       nan                             nan   \n",
              "4                                       nan                             nan   \n",
              "\n",
              "   Nb of sec with 6250B < Vol DL < 31250B  \\\n",
              "0                                     nan   \n",
              "1                                     nan   \n",
              "2                                     nan   \n",
              "3                                     nan   \n",
              "4                                     nan   \n",
              "\n",
              "   Nb of sec with 6250B < Vol UL < 37500B  Nb of sec with Vol DL < 6250B  \\\n",
              "0                                     nan                         213.00   \n",
              "1                                     nan                         971.00   \n",
              "2                                     nan                         751.00   \n",
              "3                                     nan                          17.00   \n",
              "4                                     nan                         607.00   \n",
              "\n",
              "   Nb of sec with Vol UL < 1250B  Social Media DL (Bytes)  \\\n",
              "0                         214.00             1,545,765.00   \n",
              "1                       1,022.00             1,926,113.00   \n",
              "2                         695.00             1,684,053.00   \n",
              "3                         207.00               644,121.00   \n",
              "4                         604.00               862,600.00   \n",
              "\n",
              "   Social Media UL (Bytes)  Google DL (Bytes)  Google UL (Bytes)  \\\n",
              "0                24,420.00       1,634,479.00       1,271,433.00   \n",
              "1                 7,165.00       3,493,924.00         920,172.00   \n",
              "2                42,224.00       8,535,055.00       1,694,064.00   \n",
              "3                13,372.00       9,023,734.00       2,788,027.00   \n",
              "4                50,188.00       6,248,284.00       1,500,559.00   \n",
              "\n",
              "   Email DL (Bytes)  Email UL (Bytes)  Youtube DL (Bytes)  Youtube UL (Bytes)  \\\n",
              "0      3,563,542.00        137,762.00       15,854,611.00        2,501,332.00   \n",
              "1        629,046.00        308,339.00       20,247,395.00       19,111,729.00   \n",
              "2      2,690,151.00        672,973.00       19,725,661.00       14,699,576.00   \n",
              "3      1,439,754.00        631,229.00       21,388,122.00       15,146,643.00   \n",
              "4      1,936,496.00        173,853.00       15,259,380.00       18,962,873.00   \n",
              "\n",
              "   Netflix DL (Bytes)  Netflix UL (Bytes)  Gaming DL (Bytes)  \\\n",
              "0        8,198,936.00        9,656,251.00     278,082,303.00   \n",
              "1       18,338,413.00       17,227,132.00     608,750,074.00   \n",
              "2       17,587,794.00        6,163,408.00     229,584,621.00   \n",
              "3       13,994,646.00        1,097,942.00     799,538,153.00   \n",
              "4       17,124,581.00          415,218.00     527,707,248.00   \n",
              "\n",
              "   Gaming UL (Bytes)  Other DL (Bytes)  Other UL (Bytes)  Total UL (Bytes)  \\\n",
              "0      14,344,150.00    171,744,450.00      8,814,393.00     36,749,741.00   \n",
              "1       1,170,709.00    526,904,238.00     15,055,145.00     53,800,391.00   \n",
              "2         395,630.00    410,692,588.00      4,215,763.00     27,883,638.00   \n",
              "3      10,849,722.00    749,039,933.00     12,797,283.00     43,324,218.00   \n",
              "4       3,529,801.00    550,709,500.00     13,910,322.00     38,542,814.00   \n",
              "\n",
              "   Total DL (Bytes)  \n",
              "0    308,879,636.00  \n",
              "1    653,384,965.00  \n",
              "2    279,807,335.00  \n",
              "3    846,028,530.00  \n",
              "4    569,138,589.00  "
            ]
          },
          "metadata": {
            "tags": []
          },
          "execution_count": 34
        }
      ]
    }
  ]
}