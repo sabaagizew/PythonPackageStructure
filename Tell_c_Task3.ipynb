{
  "nbformat": 4,
  "nbformat_minor": 0,
  "metadata": {
    "colab": {
      "name": "Tell c. Task3.ipynb",
      "provenance": [],
      "collapsed_sections": [],
      "mount_file_id": "1c77fTN6zSnIqpcwX_ib8EdBisNuGKukz",
      "authorship_tag": "ABX9TyM/+jL0IGCN/LF7W8+1HBcy",
      "include_colab_link": true
    },
    "kernelspec": {
      "name": "python3",
      "display_name": "Python 3"
    },
    "language_info": {
      "name": "python"
    }
  },
  "cells": [
    {
      "cell_type": "markdown",
      "metadata": {
        "id": "view-in-github",
        "colab_type": "text"
      },
      "source": [
        "<a href=\"https://colab.research.google.com/github/sabaagizew/PythonPackageStructure/blob/main/Tell_c_Task3.ipynb\" target=\"_parent\"><img src=\"https://colab.research.google.com/assets/colab-badge.svg\" alt=\"Open In Colab\"/></a>"
      ]
    },
    {
      "cell_type": "code",
      "metadata": {
        "id": "SxdXU8l_YrlC"
      },
      "source": [
        "import pandas as pd\n",
        "import numpy as np"
      ],
      "execution_count": 1,
      "outputs": []
    },
    {
      "cell_type": "code",
      "metadata": {
        "colab": {
          "base_uri": "https://localhost:8080/",
          "height": 513
        },
        "id": "9r7kYQlUhpnS",
        "outputId": "a2a3f55c-d97b-4e76-dcfc-1a1ed016148d"
      },
      "source": [
        "df=pd.read_csv('drive/MyDrive/Week1_challenge_data_source(CSV).csv')\n",
        "df.head()"
      ],
      "execution_count": 2,
      "outputs": [
        {
          "output_type": "execute_result",
          "data": {
            "text/html": [
              "<div>\n",
              "<style scoped>\n",
              "    .dataframe tbody tr th:only-of-type {\n",
              "        vertical-align: middle;\n",
              "    }\n",
              "\n",
              "    .dataframe tbody tr th {\n",
              "        vertical-align: top;\n",
              "    }\n",
              "\n",
              "    .dataframe thead th {\n",
              "        text-align: right;\n",
              "    }\n",
              "</style>\n",
              "<table border=\"1\" class=\"dataframe\">\n",
              "  <thead>\n",
              "    <tr style=\"text-align: right;\">\n",
              "      <th></th>\n",
              "      <th>Bearer Id</th>\n",
              "      <th>Start</th>\n",
              "      <th>Start ms</th>\n",
              "      <th>End</th>\n",
              "      <th>End ms</th>\n",
              "      <th>Dur. (ms)</th>\n",
              "      <th>IMSI</th>\n",
              "      <th>MSISDN/Number</th>\n",
              "      <th>IMEI</th>\n",
              "      <th>Last Location Name</th>\n",
              "      <th>Avg RTT DL (ms)</th>\n",
              "      <th>Avg RTT UL (ms)</th>\n",
              "      <th>Avg Bearer TP DL (kbps)</th>\n",
              "      <th>Avg Bearer TP UL (kbps)</th>\n",
              "      <th>TCP DL Retrans. Vol (Bytes)</th>\n",
              "      <th>TCP UL Retrans. Vol (Bytes)</th>\n",
              "      <th>DL TP &lt; 50 Kbps (%)</th>\n",
              "      <th>50 Kbps &lt; DL TP &lt; 250 Kbps (%)</th>\n",
              "      <th>250 Kbps &lt; DL TP &lt; 1 Mbps (%)</th>\n",
              "      <th>DL TP &gt; 1 Mbps (%)</th>\n",
              "      <th>UL TP &lt; 10 Kbps (%)</th>\n",
              "      <th>10 Kbps &lt; UL TP &lt; 50 Kbps (%)</th>\n",
              "      <th>50 Kbps &lt; UL TP &lt; 300 Kbps (%)</th>\n",
              "      <th>UL TP &gt; 300 Kbps (%)</th>\n",
              "      <th>HTTP DL (Bytes)</th>\n",
              "      <th>HTTP UL (Bytes)</th>\n",
              "      <th>Activity Duration DL (ms)</th>\n",
              "      <th>Activity Duration UL (ms)</th>\n",
              "      <th>Dur. (ms).1</th>\n",
              "      <th>Handset Manufacturer</th>\n",
              "      <th>Handset Type</th>\n",
              "      <th>Nb of sec with 125000B &lt; Vol DL</th>\n",
              "      <th>Nb of sec with 1250B &lt; Vol UL &lt; 6250B</th>\n",
              "      <th>Nb of sec with 31250B &lt; Vol DL &lt; 125000B</th>\n",
              "      <th>Nb of sec with 37500B &lt; Vol UL</th>\n",
              "      <th>Nb of sec with 6250B &lt; Vol DL &lt; 31250B</th>\n",
              "      <th>Nb of sec with 6250B &lt; Vol UL &lt; 37500B</th>\n",
              "      <th>Nb of sec with Vol DL &lt; 6250B</th>\n",
              "      <th>Nb of sec with Vol UL &lt; 1250B</th>\n",
              "      <th>Social Media DL (Bytes)</th>\n",
              "      <th>Social Media UL (Bytes)</th>\n",
              "      <th>Google DL (Bytes)</th>\n",
              "      <th>Google UL (Bytes)</th>\n",
              "      <th>Email DL (Bytes)</th>\n",
              "      <th>Email UL (Bytes)</th>\n",
              "      <th>Youtube DL (Bytes)</th>\n",
              "      <th>Youtube UL (Bytes)</th>\n",
              "      <th>Netflix DL (Bytes)</th>\n",
              "      <th>Netflix UL (Bytes)</th>\n",
              "      <th>Gaming DL (Bytes)</th>\n",
              "      <th>Gaming UL (Bytes)</th>\n",
              "      <th>Other DL (Bytes)</th>\n",
              "      <th>Other UL (Bytes)</th>\n",
              "      <th>Total UL (Bytes)</th>\n",
              "      <th>Total DL (Bytes)</th>\n",
              "    </tr>\n",
              "  </thead>\n",
              "  <tbody>\n",
              "    <tr>\n",
              "      <th>0</th>\n",
              "      <td>1.311448e+19</td>\n",
              "      <td>4/4/2019 12:01</td>\n",
              "      <td>770.0</td>\n",
              "      <td>4/25/2019 14:35</td>\n",
              "      <td>662.0</td>\n",
              "      <td>1823652.0</td>\n",
              "      <td>2.082014e+14</td>\n",
              "      <td>3.366496e+10</td>\n",
              "      <td>3.552121e+13</td>\n",
              "      <td>9.16456699548519E+015</td>\n",
              "      <td>42.0</td>\n",
              "      <td>5.0</td>\n",
              "      <td>23.0</td>\n",
              "      <td>44.0</td>\n",
              "      <td>NaN</td>\n",
              "      <td>NaN</td>\n",
              "      <td>100.0</td>\n",
              "      <td>0.0</td>\n",
              "      <td>0.0</td>\n",
              "      <td>0.0</td>\n",
              "      <td>100.0</td>\n",
              "      <td>0.0</td>\n",
              "      <td>0.0</td>\n",
              "      <td>0.0</td>\n",
              "      <td>NaN</td>\n",
              "      <td>NaN</td>\n",
              "      <td>37624.0</td>\n",
              "      <td>38787.0</td>\n",
              "      <td>1.823653e+09</td>\n",
              "      <td>Samsung</td>\n",
              "      <td>Samsung Galaxy A5 Sm-A520F</td>\n",
              "      <td>NaN</td>\n",
              "      <td>NaN</td>\n",
              "      <td>NaN</td>\n",
              "      <td>NaN</td>\n",
              "      <td>NaN</td>\n",
              "      <td>NaN</td>\n",
              "      <td>213.0</td>\n",
              "      <td>214.0</td>\n",
              "      <td>1545765.0</td>\n",
              "      <td>24420.0</td>\n",
              "      <td>1634479.0</td>\n",
              "      <td>1271433.0</td>\n",
              "      <td>3563542.0</td>\n",
              "      <td>137762.0</td>\n",
              "      <td>15854611.0</td>\n",
              "      <td>2501332.0</td>\n",
              "      <td>8198936.0</td>\n",
              "      <td>9656251.0</td>\n",
              "      <td>278082303.0</td>\n",
              "      <td>14344150.0</td>\n",
              "      <td>171744450.0</td>\n",
              "      <td>8814393.0</td>\n",
              "      <td>36749741.0</td>\n",
              "      <td>308879636.0</td>\n",
              "    </tr>\n",
              "    <tr>\n",
              "      <th>1</th>\n",
              "      <td>1.311448e+19</td>\n",
              "      <td>4/9/2019 13:04</td>\n",
              "      <td>235.0</td>\n",
              "      <td>4/25/2019 8:15</td>\n",
              "      <td>606.0</td>\n",
              "      <td>1365104.0</td>\n",
              "      <td>2.082019e+14</td>\n",
              "      <td>3.368185e+10</td>\n",
              "      <td>3.579401e+13</td>\n",
              "      <td>L77566A</td>\n",
              "      <td>65.0</td>\n",
              "      <td>5.0</td>\n",
              "      <td>16.0</td>\n",
              "      <td>26.0</td>\n",
              "      <td>NaN</td>\n",
              "      <td>NaN</td>\n",
              "      <td>100.0</td>\n",
              "      <td>0.0</td>\n",
              "      <td>0.0</td>\n",
              "      <td>0.0</td>\n",
              "      <td>100.0</td>\n",
              "      <td>0.0</td>\n",
              "      <td>0.0</td>\n",
              "      <td>0.0</td>\n",
              "      <td>NaN</td>\n",
              "      <td>NaN</td>\n",
              "      <td>168.0</td>\n",
              "      <td>3560.0</td>\n",
              "      <td>1.365104e+09</td>\n",
              "      <td>Samsung</td>\n",
              "      <td>Samsung Galaxy J5 (Sm-J530)</td>\n",
              "      <td>NaN</td>\n",
              "      <td>NaN</td>\n",
              "      <td>NaN</td>\n",
              "      <td>NaN</td>\n",
              "      <td>NaN</td>\n",
              "      <td>NaN</td>\n",
              "      <td>971.0</td>\n",
              "      <td>1022.0</td>\n",
              "      <td>1926113.0</td>\n",
              "      <td>7165.0</td>\n",
              "      <td>3493924.0</td>\n",
              "      <td>920172.0</td>\n",
              "      <td>629046.0</td>\n",
              "      <td>308339.0</td>\n",
              "      <td>20247395.0</td>\n",
              "      <td>19111729.0</td>\n",
              "      <td>18338413.0</td>\n",
              "      <td>17227132.0</td>\n",
              "      <td>608750074.0</td>\n",
              "      <td>1170709.0</td>\n",
              "      <td>526904238.0</td>\n",
              "      <td>15055145.0</td>\n",
              "      <td>53800391.0</td>\n",
              "      <td>653384965.0</td>\n",
              "    </tr>\n",
              "    <tr>\n",
              "      <th>2</th>\n",
              "      <td>1.311448e+19</td>\n",
              "      <td>4/9/2019 17:42</td>\n",
              "      <td>1.0</td>\n",
              "      <td>4/25/2019 11:58</td>\n",
              "      <td>652.0</td>\n",
              "      <td>1361762.0</td>\n",
              "      <td>2.082003e+14</td>\n",
              "      <td>3.376063e+10</td>\n",
              "      <td>3.528151e+13</td>\n",
              "      <td>D42335A</td>\n",
              "      <td>NaN</td>\n",
              "      <td>NaN</td>\n",
              "      <td>6.0</td>\n",
              "      <td>9.0</td>\n",
              "      <td>NaN</td>\n",
              "      <td>NaN</td>\n",
              "      <td>100.0</td>\n",
              "      <td>0.0</td>\n",
              "      <td>0.0</td>\n",
              "      <td>0.0</td>\n",
              "      <td>100.0</td>\n",
              "      <td>0.0</td>\n",
              "      <td>0.0</td>\n",
              "      <td>0.0</td>\n",
              "      <td>NaN</td>\n",
              "      <td>NaN</td>\n",
              "      <td>0.0</td>\n",
              "      <td>0.0</td>\n",
              "      <td>1.361763e+09</td>\n",
              "      <td>Samsung</td>\n",
              "      <td>Samsung Galaxy A8 (2018)</td>\n",
              "      <td>NaN</td>\n",
              "      <td>NaN</td>\n",
              "      <td>NaN</td>\n",
              "      <td>NaN</td>\n",
              "      <td>NaN</td>\n",
              "      <td>NaN</td>\n",
              "      <td>751.0</td>\n",
              "      <td>695.0</td>\n",
              "      <td>1684053.0</td>\n",
              "      <td>42224.0</td>\n",
              "      <td>8535055.0</td>\n",
              "      <td>1694064.0</td>\n",
              "      <td>2690151.0</td>\n",
              "      <td>672973.0</td>\n",
              "      <td>19725661.0</td>\n",
              "      <td>14699576.0</td>\n",
              "      <td>17587794.0</td>\n",
              "      <td>6163408.0</td>\n",
              "      <td>229584621.0</td>\n",
              "      <td>395630.0</td>\n",
              "      <td>410692588.0</td>\n",
              "      <td>4215763.0</td>\n",
              "      <td>27883638.0</td>\n",
              "      <td>279807335.0</td>\n",
              "    </tr>\n",
              "    <tr>\n",
              "      <th>3</th>\n",
              "      <td>1.311448e+19</td>\n",
              "      <td>4/10/2019 0:31</td>\n",
              "      <td>486.0</td>\n",
              "      <td>4/25/2019 7:36</td>\n",
              "      <td>171.0</td>\n",
              "      <td>1321509.0</td>\n",
              "      <td>2.082014e+14</td>\n",
              "      <td>3.375034e+10</td>\n",
              "      <td>3.535661e+13</td>\n",
              "      <td>T21824A</td>\n",
              "      <td>NaN</td>\n",
              "      <td>NaN</td>\n",
              "      <td>44.0</td>\n",
              "      <td>44.0</td>\n",
              "      <td>NaN</td>\n",
              "      <td>NaN</td>\n",
              "      <td>100.0</td>\n",
              "      <td>0.0</td>\n",
              "      <td>0.0</td>\n",
              "      <td>0.0</td>\n",
              "      <td>100.0</td>\n",
              "      <td>0.0</td>\n",
              "      <td>0.0</td>\n",
              "      <td>0.0</td>\n",
              "      <td>NaN</td>\n",
              "      <td>NaN</td>\n",
              "      <td>3330.0</td>\n",
              "      <td>37882.0</td>\n",
              "      <td>1.321510e+09</td>\n",
              "      <td>undefined</td>\n",
              "      <td>undefined</td>\n",
              "      <td>NaN</td>\n",
              "      <td>NaN</td>\n",
              "      <td>NaN</td>\n",
              "      <td>NaN</td>\n",
              "      <td>NaN</td>\n",
              "      <td>NaN</td>\n",
              "      <td>17.0</td>\n",
              "      <td>207.0</td>\n",
              "      <td>644121.0</td>\n",
              "      <td>13372.0</td>\n",
              "      <td>9023734.0</td>\n",
              "      <td>2788027.0</td>\n",
              "      <td>1439754.0</td>\n",
              "      <td>631229.0</td>\n",
              "      <td>21388122.0</td>\n",
              "      <td>15146643.0</td>\n",
              "      <td>13994646.0</td>\n",
              "      <td>1097942.0</td>\n",
              "      <td>799538153.0</td>\n",
              "      <td>10849722.0</td>\n",
              "      <td>749039933.0</td>\n",
              "      <td>12797283.0</td>\n",
              "      <td>43324218.0</td>\n",
              "      <td>846028530.0</td>\n",
              "    </tr>\n",
              "    <tr>\n",
              "      <th>4</th>\n",
              "      <td>1.311448e+19</td>\n",
              "      <td>4/12/2019 20:10</td>\n",
              "      <td>565.0</td>\n",
              "      <td>4/25/2019 10:40</td>\n",
              "      <td>954.0</td>\n",
              "      <td>1089009.0</td>\n",
              "      <td>2.082014e+14</td>\n",
              "      <td>3.369980e+10</td>\n",
              "      <td>3.540701e+13</td>\n",
              "      <td>D88865A</td>\n",
              "      <td>NaN</td>\n",
              "      <td>NaN</td>\n",
              "      <td>6.0</td>\n",
              "      <td>9.0</td>\n",
              "      <td>NaN</td>\n",
              "      <td>NaN</td>\n",
              "      <td>100.0</td>\n",
              "      <td>0.0</td>\n",
              "      <td>0.0</td>\n",
              "      <td>0.0</td>\n",
              "      <td>100.0</td>\n",
              "      <td>0.0</td>\n",
              "      <td>0.0</td>\n",
              "      <td>0.0</td>\n",
              "      <td>NaN</td>\n",
              "      <td>NaN</td>\n",
              "      <td>0.0</td>\n",
              "      <td>0.0</td>\n",
              "      <td>1.089009e+09</td>\n",
              "      <td>Samsung</td>\n",
              "      <td>Samsung Sm-G390F</td>\n",
              "      <td>NaN</td>\n",
              "      <td>NaN</td>\n",
              "      <td>NaN</td>\n",
              "      <td>NaN</td>\n",
              "      <td>NaN</td>\n",
              "      <td>NaN</td>\n",
              "      <td>607.0</td>\n",
              "      <td>604.0</td>\n",
              "      <td>862600.0</td>\n",
              "      <td>50188.0</td>\n",
              "      <td>6248284.0</td>\n",
              "      <td>1500559.0</td>\n",
              "      <td>1936496.0</td>\n",
              "      <td>173853.0</td>\n",
              "      <td>15259380.0</td>\n",
              "      <td>18962873.0</td>\n",
              "      <td>17124581.0</td>\n",
              "      <td>415218.0</td>\n",
              "      <td>527707248.0</td>\n",
              "      <td>3529801.0</td>\n",
              "      <td>550709500.0</td>\n",
              "      <td>13910322.0</td>\n",
              "      <td>38542814.0</td>\n",
              "      <td>569138589.0</td>\n",
              "    </tr>\n",
              "  </tbody>\n",
              "</table>\n",
              "</div>"
            ],
            "text/plain": [
              "      Bearer Id            Start  ...  Total UL (Bytes) Total DL (Bytes)\n",
              "0  1.311448e+19   4/4/2019 12:01  ...        36749741.0      308879636.0\n",
              "1  1.311448e+19   4/9/2019 13:04  ...        53800391.0      653384965.0\n",
              "2  1.311448e+19   4/9/2019 17:42  ...        27883638.0      279807335.0\n",
              "3  1.311448e+19   4/10/2019 0:31  ...        43324218.0      846028530.0\n",
              "4  1.311448e+19  4/12/2019 20:10  ...        38542814.0      569138589.0\n",
              "\n",
              "[5 rows x 55 columns]"
            ]
          },
          "metadata": {
            "tags": []
          },
          "execution_count": 2
        }
      ]
    },
    {
      "cell_type": "code",
      "metadata": {
        "colab": {
          "base_uri": "https://localhost:8080/"
        },
        "id": "EvM0kKFWjy5T",
        "outputId": "b7e1d1bf-7217-463f-e583-600fb5edb8af"
      },
      "source": [
        "df.shape"
      ],
      "execution_count": 3,
      "outputs": [
        {
          "output_type": "execute_result",
          "data": {
            "text/plain": [
              "(150001, 55)"
            ]
          },
          "metadata": {
            "tags": []
          },
          "execution_count": 3
        }
      ]
    },
    {
      "cell_type": "code",
      "metadata": {
        "colab": {
          "base_uri": "https://localhost:8080/"
        },
        "id": "lfbWkSuxk_uu",
        "outputId": "f738e592-2b84-4ad5-995e-570bf3727a10"
      },
      "source": [
        "# column names\n",
        "df.columns.tolist()"
      ],
      "execution_count": 4,
      "outputs": [
        {
          "output_type": "execute_result",
          "data": {
            "text/plain": [
              "['Bearer Id',\n",
              " 'Start',\n",
              " 'Start ms',\n",
              " 'End',\n",
              " 'End ms',\n",
              " 'Dur. (ms)',\n",
              " 'IMSI',\n",
              " 'MSISDN/Number',\n",
              " 'IMEI',\n",
              " 'Last Location Name',\n",
              " 'Avg RTT DL (ms)',\n",
              " 'Avg RTT UL (ms)',\n",
              " 'Avg Bearer TP DL (kbps)',\n",
              " 'Avg Bearer TP UL (kbps)',\n",
              " 'TCP DL Retrans. Vol (Bytes)',\n",
              " 'TCP UL Retrans. Vol (Bytes)',\n",
              " 'DL TP < 50 Kbps (%)',\n",
              " '50 Kbps < DL TP < 250 Kbps (%)',\n",
              " '250 Kbps < DL TP < 1 Mbps (%)',\n",
              " 'DL TP > 1 Mbps (%)',\n",
              " 'UL TP < 10 Kbps (%)',\n",
              " '10 Kbps < UL TP < 50 Kbps (%)',\n",
              " '50 Kbps < UL TP < 300 Kbps (%)',\n",
              " 'UL TP > 300 Kbps (%)',\n",
              " 'HTTP DL (Bytes)',\n",
              " 'HTTP UL (Bytes)',\n",
              " 'Activity Duration DL (ms)',\n",
              " 'Activity Duration UL (ms)',\n",
              " 'Dur. (ms).1',\n",
              " 'Handset Manufacturer',\n",
              " 'Handset Type',\n",
              " 'Nb of sec with 125000B < Vol DL',\n",
              " 'Nb of sec with 1250B < Vol UL < 6250B',\n",
              " 'Nb of sec with 31250B < Vol DL < 125000B',\n",
              " 'Nb of sec with 37500B < Vol UL',\n",
              " 'Nb of sec with 6250B < Vol DL < 31250B',\n",
              " 'Nb of sec with 6250B < Vol UL < 37500B',\n",
              " 'Nb of sec with Vol DL < 6250B',\n",
              " 'Nb of sec with Vol UL < 1250B',\n",
              " 'Social Media DL (Bytes)',\n",
              " 'Social Media UL (Bytes)',\n",
              " 'Google DL (Bytes)',\n",
              " 'Google UL (Bytes)',\n",
              " 'Email DL (Bytes)',\n",
              " 'Email UL (Bytes)',\n",
              " 'Youtube DL (Bytes)',\n",
              " 'Youtube UL (Bytes)',\n",
              " 'Netflix DL (Bytes)',\n",
              " 'Netflix UL (Bytes)',\n",
              " 'Gaming DL (Bytes)',\n",
              " 'Gaming UL (Bytes)',\n",
              " 'Other DL (Bytes)',\n",
              " 'Other UL (Bytes)',\n",
              " 'Total UL (Bytes)',\n",
              " 'Total DL (Bytes)']"
            ]
          },
          "metadata": {
            "tags": []
          },
          "execution_count": 4
        }
      ]
    },
    {
      "cell_type": "code",
      "metadata": {
        "colab": {
          "base_uri": "https://localhost:8080/"
        },
        "id": "eOHgux8mrOeE",
        "outputId": "5da023ca-10cd-4aed-9980-83e10180a1e9"
      },
      "source": [
        "# number of data points\n",
        "print(f\" There are {df.shape[0]} rows and {df.shape[1]} columns\")"
      ],
      "execution_count": 5,
      "outputs": [
        {
          "output_type": "stream",
          "text": [
            " There are 150001 rows and 55 columns\n"
          ],
          "name": "stdout"
        }
      ]
    },
    {
      "cell_type": "code",
      "metadata": {
        "colab": {
          "base_uri": "https://localhost:8080/"
        },
        "id": "xS6imnnIsUlL",
        "outputId": "50a0be05-7d54-4be3-dad2-6a967b70c232"
      },
      "source": [
        "# how many missing values exist or better still what is the % of missing values in the dataset?\n",
        "def percent_missing(df):\n",
        "\n",
        "    # Calculate total number of cells in dataframe\n",
        "    totalCells = np.product(df.shape)\n",
        "\n",
        "    # Count number of missing values per column\n",
        "    missingCount = df.isnull().sum()\n",
        "\n",
        "    # Calculate total number of missing values\n",
        "    totalMissing = missingCount.sum()\n",
        "\n",
        "    # Calculate percentage of missing values\n",
        "    print(\"The Week1 challenge data source(CSV).csv dataset contains\", round(((totalMissing/totalCells) * 100), 2), \"%\", \"missing values.\")\n",
        "\n",
        "percent_missing(df)"
      ],
      "execution_count": 6,
      "outputs": [
        {
          "output_type": "stream",
          "text": [
            "The Week1 challenge data source(CSV).csv dataset contains 12.5 % missing values.\n"
          ],
          "name": "stdout"
        }
      ]
    },
    {
      "cell_type": "code",
      "metadata": {
        "colab": {
          "base_uri": "https://localhost:8080/"
        },
        "id": "l0x-IRfr4IaI",
        "outputId": "5d8f8031-7f83-4eb5-a640-3dca12390f33"
      },
      "source": [
        "# Now which column(s) has missing values\n",
        "df.isna().sum()"
      ],
      "execution_count": 7,
      "outputs": [
        {
          "output_type": "execute_result",
          "data": {
            "text/plain": [
              "Bearer Id                                      991\n",
              "Start                                            1\n",
              "Start ms                                         1\n",
              "End                                              1\n",
              "End ms                                           1\n",
              "Dur. (ms)                                        1\n",
              "IMSI                                           570\n",
              "MSISDN/Number                                 1066\n",
              "IMEI                                           572\n",
              "Last Location Name                            1153\n",
              "Avg RTT DL (ms)                              27829\n",
              "Avg RTT UL (ms)                              27812\n",
              "Avg Bearer TP DL (kbps)                          1\n",
              "Avg Bearer TP UL (kbps)                          1\n",
              "TCP DL Retrans. Vol (Bytes)                  88146\n",
              "TCP UL Retrans. Vol (Bytes)                  96649\n",
              "DL TP < 50 Kbps (%)                            754\n",
              "50 Kbps < DL TP < 250 Kbps (%)                 754\n",
              "250 Kbps < DL TP < 1 Mbps (%)                  754\n",
              "DL TP > 1 Mbps (%)                             754\n",
              "UL TP < 10 Kbps (%)                            792\n",
              "10 Kbps < UL TP < 50 Kbps (%)                  792\n",
              "50 Kbps < UL TP < 300 Kbps (%)                 792\n",
              "UL TP > 300 Kbps (%)                           792\n",
              "HTTP DL (Bytes)                              81474\n",
              "HTTP UL (Bytes)                              81810\n",
              "Activity Duration DL (ms)                        1\n",
              "Activity Duration UL (ms)                        1\n",
              "Dur. (ms).1                                      1\n",
              "Handset Manufacturer                           572\n",
              "Handset Type                                   572\n",
              "Nb of sec with 125000B < Vol DL              97538\n",
              "Nb of sec with 1250B < Vol UL < 6250B        92894\n",
              "Nb of sec with 31250B < Vol DL < 125000B     93586\n",
              "Nb of sec with 37500B < Vol UL              130254\n",
              "Nb of sec with 6250B < Vol DL < 31250B       88317\n",
              "Nb of sec with 6250B < Vol UL < 37500B      111843\n",
              "Nb of sec with Vol DL < 6250B                  755\n",
              "Nb of sec with Vol UL < 1250B                  793\n",
              "Social Media DL (Bytes)                          0\n",
              "Social Media UL (Bytes)                          0\n",
              "Google DL (Bytes)                                0\n",
              "Google UL (Bytes)                                0\n",
              "Email DL (Bytes)                                 0\n",
              "Email UL (Bytes)                                 0\n",
              "Youtube DL (Bytes)                               0\n",
              "Youtube UL (Bytes)                               0\n",
              "Netflix DL (Bytes)                               0\n",
              "Netflix UL (Bytes)                               0\n",
              "Gaming DL (Bytes)                                0\n",
              "Gaming UL (Bytes)                                0\n",
              "Other DL (Bytes)                                 0\n",
              "Other UL (Bytes)                                 0\n",
              "Total UL (Bytes)                                 1\n",
              "Total DL (Bytes)                                 1\n",
              "dtype: int64"
            ]
          },
          "metadata": {
            "tags": []
          },
          "execution_count": 7
        }
      ]
    },
    {
      "cell_type": "code",
      "metadata": {
        "colab": {
          "base_uri": "https://localhost:8080/",
          "height": 384
        },
        "id": "qUyIwNIAoXB2",
        "outputId": "f946ac45-97ca-402b-e333-03b7c74c2164"
      },
      "source": [
        "# Checking for skewness on one of the column specifically on the \"IMSI\"\n",
        "import seaborn as sns\n",
        "#\n",
        "# Box plot\n",
        "#\n",
        "sns.boxplot(df.IMSI)\n",
        "#\n",
        "# Distribution plot\n",
        "#\n",
        "sns.distplot(df.IMSI)"
      ],
      "execution_count": 8,
      "outputs": [
        {
          "output_type": "stream",
          "text": [
            "/usr/local/lib/python3.7/dist-packages/seaborn/_decorators.py:43: FutureWarning: Pass the following variable as a keyword arg: x. From version 0.12, the only valid positional argument will be `data`, and passing other arguments without an explicit keyword will result in an error or misinterpretation.\n",
            "  FutureWarning\n",
            "/usr/local/lib/python3.7/dist-packages/seaborn/distributions.py:2557: FutureWarning: `distplot` is a deprecated function and will be removed in a future version. Please adapt your code to use either `displot` (a figure-level function with similar flexibility) or `histplot` (an axes-level function for histograms).\n",
            "  warnings.warn(msg, FutureWarning)\n"
          ],
          "name": "stderr"
        },
        {
          "output_type": "execute_result",
          "data": {
            "text/plain": [
              "<matplotlib.axes._subplots.AxesSubplot at 0x7faabebea250>"
            ]
          },
          "metadata": {
            "tags": []
          },
          "execution_count": 8
        },
        {
          "output_type": "display_data",
          "data": {
            "image/png": "[encoded data removed]",
            "text/plain": [
              "<Figure size 432x288 with 1 Axes>"
            ]
          },
          "metadata": {
            "tags": [],
            "needs_background": "light"
          }
        }
      ]
    },
    {
      "cell_type": "code",
      "metadata": {
        "colab": {
          "base_uri": "https://localhost:8080/",
          "height": 459
        },
        "id": "Ou5qZBFbowg5",
        "outputId": "41c16cdb-5299-4f2b-e1a0-f93f51a9f77a"
      },
      "source": [
        "from matplotlib import pyplot as plt\n",
        "fig, ax = plt.subplots(figsize=(10,6))\n",
        "sns.boxplot(df.IMSI)"
      ],
      "execution_count": 9,
      "outputs": [
        {
          "output_type": "stream",
          "text": [
            "/usr/local/lib/python3.7/dist-packages/seaborn/_decorators.py:43: FutureWarning: Pass the following variable as a keyword arg: x. From version 0.12, the only valid positional argument will be `data`, and passing other arguments without an explicit keyword will result in an error or misinterpretation.\n",
            "  FutureWarning\n"
          ],
          "name": "stderr"
        },
        {
          "output_type": "execute_result",
          "data": {
            "text/plain": [
              "<matplotlib.axes._subplots.AxesSubplot at 0x7faabe375a90>"
            ]
          },
          "metadata": {
            "tags": []
          },
          "execution_count": 9
        },
        {
          "output_type": "display_data",
          "data": {
            "image/png": "[encoded data removed]",
            "text/plain": [
              "<Figure size 720x432 with 1 Axes>"
            ]
          },
          "metadata": {
            "tags": [],
            "needs_background": "light"
          }
        }
      ]
    },
    {
      "cell_type": "code",
      "metadata": {
        "colab": {
          "base_uri": "https://localhost:8080/",
          "height": 579
        },
        "id": "3T8--_Veo45V",
        "outputId": "8c9d5a00-9431-4345-a52b-41f4163b35d6"
      },
      "source": [
        "fig, ax = plt.subplots(figsize=(10,8))\n",
        "sns.distplot(df.IMSI)"
      ],
      "execution_count": 10,
      "outputs": [
        {
          "output_type": "stream",
          "text": [
            "/usr/local/lib/python3.7/dist-packages/seaborn/distributions.py:2557: FutureWarning: `distplot` is a deprecated function and will be removed in a future version. Please adapt your code to use either `displot` (a figure-level function with similar flexibility) or `histplot` (an axes-level function for histograms).\n",
            "  warnings.warn(msg, FutureWarning)\n"
          ],
          "name": "stderr"
        },
        {
          "output_type": "execute_result",
          "data": {
            "text/plain": [
              "<matplotlib.axes._subplots.AxesSubplot at 0x7faab2b0db10>"
            ]
          },
          "metadata": {
            "tags": []
          },
          "execution_count": 10
        },
        {
          "output_type": "display_data",
          "data": {
            "image/png": "[encoded data removed]",
            "text/plain": [
              "<Figure size 720x576 with 1 Axes>"
            ]
          },
          "metadata": {
            "tags": [],
            "needs_background": "light"
          }
        }
      ]
    },
    {
      "cell_type": "code",
      "metadata": {
        "colab": {
          "base_uri": "https://localhost:8080/"
        },
        "id": "Vpk1CdV4qK9G",
        "outputId": "b26fb9a7-03b6-42c9-95e9-c43ccf2c8c66"
      },
      "source": [
        "df.IMSI.mode()"
      ],
      "execution_count": 11,
      "outputs": [
        {
          "output_type": "execute_result",
          "data": {
            "text/plain": [
              "0    2.082014e+14\n",
              "dtype: float64"
            ]
          },
          "metadata": {
            "tags": []
          },
          "execution_count": 11
        }
      ]
    },
    {
      "cell_type": "code",
      "metadata": {
        "colab": {
          "base_uri": "https://localhost:8080/"
        },
        "id": "UyN2SLTIqYwe",
        "outputId": "4ec7fba1-36c3-462c-e0a1-e4c60550a9b6"
      },
      "source": [
        "# To see the percentage of missing values of every columns\n",
        "def every_column_percent_missing(df):\n",
        "    percent_missing = df.isnull().sum() * 100 / len(df)\n",
        "    missing_value_df = pd.DataFrame({'column_name': df.columns,\n",
        "                                     'percent_missing': percent_missing})\n",
        "\n",
        "    missing_value_df.sort_values('percent_missing', inplace=True)\n",
        "\n",
        "    print(missing_value_df)\n",
        "\n",
        "\n",
        "every_column_percent_missing(df)"
      ],
      "execution_count": 12,
      "outputs": [
        {
          "output_type": "stream",
          "text": [
            "                                                                       column_name  percent_missing\n",
            "Youtube DL (Bytes)                                              Youtube DL (Bytes)         0.000000\n",
            "Other UL (Bytes)                                                  Other UL (Bytes)         0.000000\n",
            "Other DL (Bytes)                                                  Other DL (Bytes)         0.000000\n",
            "Gaming UL (Bytes)                                                Gaming UL (Bytes)         0.000000\n",
            "Gaming DL (Bytes)                                                Gaming DL (Bytes)         0.000000\n",
            "Netflix UL (Bytes)                                              Netflix UL (Bytes)         0.000000\n",
            "Netflix DL (Bytes)                                              Netflix DL (Bytes)         0.000000\n",
            "Youtube UL (Bytes)                                              Youtube UL (Bytes)         0.000000\n",
            "Email UL (Bytes)                                                  Email UL (Bytes)         0.000000\n",
            "Email DL (Bytes)                                                  Email DL (Bytes)         0.000000\n",
            "Google UL (Bytes)                                                Google UL (Bytes)         0.000000\n",
            "Google DL (Bytes)                                                Google DL (Bytes)         0.000000\n",
            "Social Media UL (Bytes)                                    Social Media UL (Bytes)         0.000000\n",
            "Social Media DL (Bytes)                                    Social Media DL (Bytes)         0.000000\n",
            "Dur. (ms).1                                                            Dur. (ms).1         0.000667\n",
            "Activity Duration UL (ms)                                Activity Duration UL (ms)         0.000667\n",
            "Total UL (Bytes)                                                  Total UL (Bytes)         0.000667\n",
            "Activity Duration DL (ms)                                Activity Duration DL (ms)         0.000667\n",
            "Total DL (Bytes)                                                  Total DL (Bytes)         0.000667\n",
            "Avg Bearer TP UL (kbps)                                    Avg Bearer TP UL (kbps)         0.000667\n",
            "Avg Bearer TP DL (kbps)                                    Avg Bearer TP DL (kbps)         0.000667\n",
            "Dur. (ms)                                                                Dur. (ms)         0.000667\n",
            "Start                                                                        Start         0.000667\n",
            "Start ms                                                                  Start ms         0.000667\n",
            "End ms                                                                      End ms         0.000667\n",
            "End                                                                            End         0.000667\n",
            "IMSI                                                                          IMSI         0.379997\n",
            "IMEI                                                                          IMEI         0.381331\n",
            "Handset Type                                                          Handset Type         0.381331\n",
            "Handset Manufacturer                                          Handset Manufacturer         0.381331\n",
            "DL TP < 50 Kbps (%)                                            DL TP < 50 Kbps (%)         0.502663\n",
            "50 Kbps < DL TP < 250 Kbps (%)                      50 Kbps < DL TP < 250 Kbps (%)         0.502663\n",
            "250 Kbps < DL TP < 1 Mbps (%)                        250 Kbps < DL TP < 1 Mbps (%)         0.502663\n",
            "DL TP > 1 Mbps (%)                                              DL TP > 1 Mbps (%)         0.502663\n",
            "Nb of sec with Vol DL < 6250B                        Nb of sec with Vol DL < 6250B         0.503330\n",
            "UL TP > 300 Kbps (%)                                          UL TP > 300 Kbps (%)         0.527996\n",
            "50 Kbps < UL TP < 300 Kbps (%)                      50 Kbps < UL TP < 300 Kbps (%)         0.527996\n",
            "10 Kbps < UL TP < 50 Kbps (%)                        10 Kbps < UL TP < 50 Kbps (%)         0.527996\n",
            "UL TP < 10 Kbps (%)                                            UL TP < 10 Kbps (%)         0.527996\n",
            "Nb of sec with Vol UL < 1250B                        Nb of sec with Vol UL < 1250B         0.528663\n",
            "Bearer Id                                                                Bearer Id         0.660662\n",
            "MSISDN/Number                                                        MSISDN/Number         0.710662\n",
            "Last Location Name                                              Last Location Name         0.768662\n",
            "Avg RTT UL (ms)                                                    Avg RTT UL (ms)        18.541210\n",
            "Avg RTT DL (ms)                                                    Avg RTT DL (ms)        18.552543\n",
            "HTTP DL (Bytes)                                                    HTTP DL (Bytes)        54.315638\n",
            "HTTP UL (Bytes)                                                    HTTP UL (Bytes)        54.539636\n",
            "TCP DL Retrans. Vol (Bytes)                            TCP DL Retrans. Vol (Bytes)        58.763608\n",
            "Nb of sec with 6250B < Vol DL < 31250B      Nb of sec with 6250B < Vol DL < 31250B        58.877607\n",
            "Nb of sec with 1250B < Vol UL < 6250B        Nb of sec with 1250B < Vol UL < 6250B        61.928920\n",
            "Nb of sec with 31250B < Vol DL < 125000B  Nb of sec with 31250B < Vol DL < 125000B        62.390251\n",
            "TCP UL Retrans. Vol (Bytes)                            TCP UL Retrans. Vol (Bytes)        64.432237\n",
            "Nb of sec with 125000B < Vol DL                    Nb of sec with 125000B < Vol DL        65.024900\n",
            "Nb of sec with 6250B < Vol UL < 37500B      Nb of sec with 6250B < Vol UL < 37500B        74.561503\n",
            "Nb of sec with 37500B < Vol UL                      Nb of sec with 37500B < Vol UL        86.835421\n"
          ],
          "name": "stdout"
        }
      ]
    },
    {
      "cell_type": "code",
      "metadata": {
        "colab": {
          "base_uri": "https://localhost:8080/"
        },
        "id": "HNDMRuD2qlPO",
        "outputId": "5d493d0d-7204-4286-a18a-adc2f3d69b2a"
      },
      "source": [
        "# drop columns with more than 50% missing values\n",
        "df_clean = df.drop(['HTTP DL (Bytes)', 'HTTP UL (Bytes)', 'TCP DL Retrans. Vol (Bytes)', 'Nb of sec with 6250B < Vol DL < 31250B', 'Nb of sec with 1250B < Vol UL < 6250B', 'Nb of sec with 31250B < Vol DL < 125000B', 'TCP UL Retrans. Vol (Bytes)', 'Nb of sec with 125000B < Vol DL', 'Nb of sec with 6250B < Vol UL < 37500B', 'Nb of sec with 37500B < Vol UL'], axis=1)\n",
        "\n",
        "df_clean.shape"
      ],
      "execution_count": 13,
      "outputs": [
        {
          "output_type": "execute_result",
          "data": {
            "text/plain": [
              "(150001, 45)"
            ]
          },
          "metadata": {
            "tags": []
          },
          "execution_count": 13
        }
      ]
    },
    {
      "cell_type": "code",
      "metadata": {
        "colab": {
          "base_uri": "https://localhost:8080/"
        },
        "id": "6LjJ6B8EqydP",
        "outputId": "3867e357-b11c-445b-ad3f-d8a69149c45a"
      },
      "source": [
        "df_clean.isna().sum()"
      ],
      "execution_count": 14,
      "outputs": [
        {
          "output_type": "execute_result",
          "data": {
            "text/plain": [
              "Bearer Id                           991\n",
              "Start                                 1\n",
              "Start ms                              1\n",
              "End                                   1\n",
              "End ms                                1\n",
              "Dur. (ms)                             1\n",
              "IMSI                                570\n",
              "MSISDN/Number                      1066\n",
              "IMEI                                572\n",
              "Last Location Name                 1153\n",
              "Avg RTT DL (ms)                   27829\n",
              "Avg RTT UL (ms)                   27812\n",
              "Avg Bearer TP DL (kbps)               1\n",
              "Avg Bearer TP UL (kbps)               1\n",
              "DL TP < 50 Kbps (%)                 754\n",
              "50 Kbps < DL TP < 250 Kbps (%)      754\n",
              "250 Kbps < DL TP < 1 Mbps (%)       754\n",
              "DL TP > 1 Mbps (%)                  754\n",
              "UL TP < 10 Kbps (%)                 792\n",
              "10 Kbps < UL TP < 50 Kbps (%)       792\n",
              "50 Kbps < UL TP < 300 Kbps (%)      792\n",
              "UL TP > 300 Kbps (%)                792\n",
              "Activity Duration DL (ms)             1\n",
              "Activity Duration UL (ms)             1\n",
              "Dur. (ms).1                           1\n",
              "Handset Manufacturer                572\n",
              "Handset Type                        572\n",
              "Nb of sec with Vol DL < 6250B       755\n",
              "Nb of sec with Vol UL < 1250B       793\n",
              "Social Media DL (Bytes)               0\n",
              "Social Media UL (Bytes)               0\n",
              "Google DL (Bytes)                     0\n",
              "Google UL (Bytes)                     0\n",
              "Email DL (Bytes)                      0\n",
              "Email UL (Bytes)                      0\n",
              "Youtube DL (Bytes)                    0\n",
              "Youtube UL (Bytes)                    0\n",
              "Netflix DL (Bytes)                    0\n",
              "Netflix UL (Bytes)                    0\n",
              "Gaming DL (Bytes)                     0\n",
              "Gaming UL (Bytes)                     0\n",
              "Other DL (Bytes)                      0\n",
              "Other UL (Bytes)                      0\n",
              "Total UL (Bytes)                      1\n",
              "Total DL (Bytes)                      1\n",
              "dtype: int64"
            ]
          },
          "metadata": {
            "tags": []
          },
          "execution_count": 14
        }
      ]
    },
    {
      "cell_type": "code",
      "metadata": {
        "colab": {
          "base_uri": "https://localhost:8080/"
        },
        "id": "RYF8lJAaq6Q2",
        "outputId": "61dcf9c7-280d-41b8-ea25-81e02f329f90"
      },
      "source": [
        "df_clean.columns.tolist()"
      ],
      "execution_count": 15,
      "outputs": [
        {
          "output_type": "execute_result",
          "data": {
            "text/plain": [
              "['Bearer Id',\n",
              " 'Start',\n",
              " 'Start ms',\n",
              " 'End',\n",
              " 'End ms',\n",
              " 'Dur. (ms)',\n",
              " 'IMSI',\n",
              " 'MSISDN/Number',\n",
              " 'IMEI',\n",
              " 'Last Location Name',\n",
              " 'Avg RTT DL (ms)',\n",
              " 'Avg RTT UL (ms)',\n",
              " 'Avg Bearer TP DL (kbps)',\n",
              " 'Avg Bearer TP UL (kbps)',\n",
              " 'DL TP < 50 Kbps (%)',\n",
              " '50 Kbps < DL TP < 250 Kbps (%)',\n",
              " '250 Kbps < DL TP < 1 Mbps (%)',\n",
              " 'DL TP > 1 Mbps (%)',\n",
              " 'UL TP < 10 Kbps (%)',\n",
              " '10 Kbps < UL TP < 50 Kbps (%)',\n",
              " '50 Kbps < UL TP < 300 Kbps (%)',\n",
              " 'UL TP > 300 Kbps (%)',\n",
              " 'Activity Duration DL (ms)',\n",
              " 'Activity Duration UL (ms)',\n",
              " 'Dur. (ms).1',\n",
              " 'Handset Manufacturer',\n",
              " 'Handset Type',\n",
              " 'Nb of sec with Vol DL < 6250B',\n",
              " 'Nb of sec with Vol UL < 1250B',\n",
              " 'Social Media DL (Bytes)',\n",
              " 'Social Media UL (Bytes)',\n",
              " 'Google DL (Bytes)',\n",
              " 'Google UL (Bytes)',\n",
              " 'Email DL (Bytes)',\n",
              " 'Email UL (Bytes)',\n",
              " 'Youtube DL (Bytes)',\n",
              " 'Youtube UL (Bytes)',\n",
              " 'Netflix DL (Bytes)',\n",
              " 'Netflix UL (Bytes)',\n",
              " 'Gaming DL (Bytes)',\n",
              " 'Gaming UL (Bytes)',\n",
              " 'Other DL (Bytes)',\n",
              " 'Other UL (Bytes)',\n",
              " 'Total UL (Bytes)',\n",
              " 'Total DL (Bytes)']"
            ]
          },
          "metadata": {
            "tags": []
          },
          "execution_count": 15
        }
      ]
    },
    {
      "cell_type": "code",
      "metadata": {
        "colab": {
          "base_uri": "https://localhost:8080/"
        },
        "id": "ReX1czIfrBUo",
        "outputId": "74588f72-e936-4bc4-b68a-eec02a73093a"
      },
      "source": [
        "# how many missing values exist on the new cleaned dataset on percentage ?\n",
        "\n",
        "percent_missing(df_clean)"
      ],
      "execution_count": 16,
      "outputs": [
        {
          "output_type": "stream",
          "text": [
            "The Week1 challenge data source(CSV).csv dataset contains 1.02 % missing values.\n"
          ],
          "name": "stdout"
        }
      ]
    },
    {
      "cell_type": "code",
      "metadata": {
        "colab": {
          "base_uri": "https://localhost:8080/"
        },
        "id": "NRfO0LRvrI6Z",
        "outputId": "90a3aa13-2049-4b66-8e2a-5589aab496f3"
      },
      "source": [
        "every_column_percent_missing(df_clean)"
      ],
      "execution_count": 17,
      "outputs": [
        {
          "output_type": "stream",
          "text": [
            "                                                   column_name  percent_missing\n",
            "Youtube DL (Bytes)                          Youtube DL (Bytes)         0.000000\n",
            "Other UL (Bytes)                              Other UL (Bytes)         0.000000\n",
            "Other DL (Bytes)                              Other DL (Bytes)         0.000000\n",
            "Gaming UL (Bytes)                            Gaming UL (Bytes)         0.000000\n",
            "Gaming DL (Bytes)                            Gaming DL (Bytes)         0.000000\n",
            "Netflix UL (Bytes)                          Netflix UL (Bytes)         0.000000\n",
            "Netflix DL (Bytes)                          Netflix DL (Bytes)         0.000000\n",
            "Youtube UL (Bytes)                          Youtube UL (Bytes)         0.000000\n",
            "Email UL (Bytes)                              Email UL (Bytes)         0.000000\n",
            "Email DL (Bytes)                              Email DL (Bytes)         0.000000\n",
            "Google UL (Bytes)                            Google UL (Bytes)         0.000000\n",
            "Google DL (Bytes)                            Google DL (Bytes)         0.000000\n",
            "Social Media UL (Bytes)                Social Media UL (Bytes)         0.000000\n",
            "Social Media DL (Bytes)                Social Media DL (Bytes)         0.000000\n",
            "Dur. (ms).1                                        Dur. (ms).1         0.000667\n",
            "Activity Duration DL (ms)            Activity Duration DL (ms)         0.000667\n",
            "Activity Duration UL (ms)            Activity Duration UL (ms)         0.000667\n",
            "Total UL (Bytes)                              Total UL (Bytes)         0.000667\n",
            "Total DL (Bytes)                              Total DL (Bytes)         0.000667\n",
            "Avg Bearer TP DL (kbps)                Avg Bearer TP DL (kbps)         0.000667\n",
            "Start                                                    Start         0.000667\n",
            "Start ms                                              Start ms         0.000667\n",
            "End                                                        End         0.000667\n",
            "Avg Bearer TP UL (kbps)                Avg Bearer TP UL (kbps)         0.000667\n",
            "End ms                                                  End ms         0.000667\n",
            "Dur. (ms)                                            Dur. (ms)         0.000667\n",
            "IMSI                                                      IMSI         0.379997\n",
            "Handset Manufacturer                      Handset Manufacturer         0.381331\n",
            "Handset Type                                      Handset Type         0.381331\n",
            "IMEI                                                      IMEI         0.381331\n",
            "DL TP > 1 Mbps (%)                          DL TP > 1 Mbps (%)         0.502663\n",
            "250 Kbps < DL TP < 1 Mbps (%)    250 Kbps < DL TP < 1 Mbps (%)         0.502663\n",
            "50 Kbps < DL TP < 250 Kbps (%)  50 Kbps < DL TP < 250 Kbps (%)         0.502663\n",
            "DL TP < 50 Kbps (%)                        DL TP < 50 Kbps (%)         0.502663\n",
            "Nb of sec with Vol DL < 6250B    Nb of sec with Vol DL < 6250B         0.503330\n",
            "10 Kbps < UL TP < 50 Kbps (%)    10 Kbps < UL TP < 50 Kbps (%)         0.527996\n",
            "UL TP < 10 Kbps (%)                        UL TP < 10 Kbps (%)         0.527996\n",
            "UL TP > 300 Kbps (%)                      UL TP > 300 Kbps (%)         0.527996\n",
            "50 Kbps < UL TP < 300 Kbps (%)  50 Kbps < UL TP < 300 Kbps (%)         0.527996\n",
            "Nb of sec with Vol UL < 1250B    Nb of sec with Vol UL < 1250B         0.528663\n",
            "Bearer Id                                            Bearer Id         0.660662\n",
            "MSISDN/Number                                    MSISDN/Number         0.710662\n",
            "Last Location Name                          Last Location Name         0.768662\n",
            "Avg RTT UL (ms)                                Avg RTT UL (ms)        18.541210\n",
            "Avg RTT DL (ms)                                Avg RTT DL (ms)        18.552543\n"
          ],
          "name": "stdout"
        }
      ]
    },
    {
      "cell_type": "code",
      "metadata": {
        "colab": {
          "base_uri": "https://localhost:8080/",
          "height": 384
        },
        "id": "jzRGjPgrrUd4",
        "outputId": "c07fb4c1-8b77-4685-f41c-a2cac683e3d9"
      },
      "source": [
        "# Distribution plot to check for skewness\n",
        "\n",
        "sns.boxplot(df['Avg RTT UL (ms)'])\n",
        "\n",
        "sns.distplot(df['Avg RTT UL (ms)'])"
      ],
      "execution_count": 18,
      "outputs": [
        {
          "output_type": "stream",
          "text": [
            "/usr/local/lib/python3.7/dist-packages/seaborn/_decorators.py:43: FutureWarning: Pass the following variable as a keyword arg: x. From version 0.12, the only valid positional argument will be `data`, and passing other arguments without an explicit keyword will result in an error or misinterpretation.\n",
            "  FutureWarning\n",
            "/usr/local/lib/python3.7/dist-packages/seaborn/distributions.py:2557: FutureWarning: `distplot` is a deprecated function and will be removed in a future version. Please adapt your code to use either `displot` (a figure-level function with similar flexibility) or `histplot` (an axes-level function for histograms).\n",
            "  warnings.warn(msg, FutureWarning)\n"
          ],
          "name": "stderr"
        },
        {
          "output_type": "execute_result",
          "data": {
            "text/plain": [
              "<matplotlib.axes._subplots.AxesSubplot at 0x7faacc6154d0>"
            ]
          },
          "metadata": {
            "tags": []
          },
          "execution_count": 18
        },
        {
          "output_type": "display_data",
          "data": {
            "image/png": "[encoded data removed]",
            "text/plain": [
              "<Figure size 432x288 with 1 Axes>"
            ]
          },
          "metadata": {
            "tags": [],
            "needs_background": "light"
          }
        }
      ]
    },
    {
      "cell_type": "code",
      "metadata": {
        "colab": {
          "base_uri": "https://localhost:8080/",
          "height": 459
        },
        "id": "S4IFfEv5sLW5",
        "outputId": "037777c3-e2e4-417c-a47f-c7d6209e09d1"
      },
      "source": [
        "fig, ax = plt.subplots(figsize=(10,6))\n",
        "sns.boxplot(df['Avg RTT UL (ms)'])"
      ],
      "execution_count": 19,
      "outputs": [
        {
          "output_type": "stream",
          "text": [
            "/usr/local/lib/python3.7/dist-packages/seaborn/_decorators.py:43: FutureWarning: Pass the following variable as a keyword arg: x. From version 0.12, the only valid positional argument will be `data`, and passing other arguments without an explicit keyword will result in an error or misinterpretation.\n",
            "  FutureWarning\n"
          ],
          "name": "stderr"
        },
        {
          "output_type": "execute_result",
          "data": {
            "text/plain": [
              "<matplotlib.axes._subplots.AxesSubplot at 0x7faab28d7690>"
            ]
          },
          "metadata": {
            "tags": []
          },
          "execution_count": 19
        },
        {
          "output_type": "display_data",
          "data": {
            "image/png": "[encoded data removed]",
            "text/plain": [
              "<Figure size 720x432 with 1 Axes>"
            ]
          },
          "metadata": {
            "tags": [],
            "needs_background": "light"
          }
        }
      ]
    },
    {
      "cell_type": "code",
      "metadata": {
        "colab": {
          "base_uri": "https://localhost:8080/",
          "height": 568
        },
        "id": "KkQMBzRqsseO",
        "outputId": "cda02ffd-80c6-4401-908a-569d60f1c88b"
      },
      "source": [
        "fig, ax = plt.subplots(figsize=(10,8))\n",
        "sns.distplot(df['Avg RTT UL (ms)'])"
      ],
      "execution_count": 20,
      "outputs": [
        {
          "output_type": "stream",
          "text": [
            "/usr/local/lib/python3.7/dist-packages/seaborn/distributions.py:2557: FutureWarning: `distplot` is a deprecated function and will be removed in a future version. Please adapt your code to use either `displot` (a figure-level function with similar flexibility) or `histplot` (an axes-level function for histograms).\n",
            "  warnings.warn(msg, FutureWarning)\n"
          ],
          "name": "stderr"
        },
        {
          "output_type": "execute_result",
          "data": {
            "text/plain": [
              "<matplotlib.axes._subplots.AxesSubplot at 0x7faab2ff5e50>"
            ]
          },
          "metadata": {
            "tags": []
          },
          "execution_count": 20
        },
        {
          "output_type": "display_data",
          "data": {
            "image/png": "[encoded data removed]",
            "text/plain": [
              "<Figure size 720x576 with 1 Axes>"
            ]
          },
          "metadata": {
            "tags": [],
            "needs_background": "light"
          }
        }
      ]
    },
    {
      "cell_type": "code",
      "metadata": {
        "id": "JiRlk9dXs1Xl"
      },
      "source": [
        "#df_clean['# fill missing with ffill method for columns ()\n",
        "\n",
        "def fix_missing_ffill(df, col):\n",
        "    df[col] = df[col].fillna(method='ffill')\n",
        "    return df[col]\n",
        "\n",
        "\n",
        "def fix_missing_bfill(df, col):\n",
        "    df[col] = df[col].fillna(method='bfill')\n",
        "    return df[col]\n",
        "\n",
        "df_clean['Dur. (ms).1'] = fix_missing_ffill(df_clean, 'Dur. (ms).1')\n",
        "df_clean['Activity Duration DL (ms)'] = fix_missing_ffill(df_clean, 'Activity Duration DL (ms)')\n",
        "df_clean['Activity Duration UL (ms)'] = fix_missing_ffill(df_clean, 'Activity Duration UL (ms)')\n",
        "df_clean['Total UL (Bytes)'] = fix_missing_ffill(df_clean, 'Total UL (Bytes)')\n",
        "df_clean['Total DL (Bytes)'] = fix_missing_ffill(df_clean, 'Total DL (Bytes)')\n",
        "df_clean['Avg Bearer TP DL (kbps)'] = fix_missing_ffill(df_clean, 'Avg Bearer TP DL (kbps)')\n",
        "df_clean['Start'] = fix_missing_ffill(df_clean, 'Start')\n",
        "df_clean['Start ms'] = fix_missing_ffill(df_clean, 'Start ms')\n",
        "df_clean['End'] = fix_missing_ffill(df_clean, 'End')\n",
        "df_clean['Avg Bearer TP UL (kbps)'] = fix_missing_ffill(df_clean, 'Avg Bearer TP UL (kbps)')\n",
        "df_clean['End ms'] = fix_missing_ffill(df_clean, 'End ms')\n",
        "df_clean['Dur. (ms)'] = fix_missing_ffill(df_clean, 'Dur. (ms)')\n",
        "df_clean['IMSI'] = fix_missing_ffill(df_clean, 'IMSI')\n",
        "df_clean['DL TP > 1 Mbps (%)'] = fix_missing_ffill(df_clean, 'DL TP > 1 Mbps (%)')\n",
        "df_clean['250 Kbps < DL TP < 1 Mbps (%)'] = fix_missing_ffill(df_clean, '250 Kbps < DL TP < 1 Mbps (%)')\n",
        "df_clean['50 Kbps < DL TP < 250 Kbps (%)'] = fix_missing_ffill(df_clean, '50 Kbps < DL TP < 250 Kbps (%)')\n",
        "df_clean['DL TP < 50 Kbps (%)'] = fix_missing_ffill(df_clean, 'DL TP < 50 Kbps (%)')\n",
        "df_clean['Nb of sec with Vol DL < 6250B'] = fix_missing_ffill(df_clean, 'Nb of sec with Vol DL < 6250B')\n",
        "df_clean['10 Kbps < UL TP < 50 Kbps (%)'] = fix_missing_ffill(df_clean, '10 Kbps < UL TP < 50 Kbps (%)')\n",
        "df_clean['UL TP < 10 Kbps (%)'] = fix_missing_ffill(df_clean, 'UL TP < 10 Kbps (%)')\n",
        "df_clean['UL TP > 300 Kbps (%)'] = fix_missing_ffill(df_clean, 'UL TP > 300 Kbps (%)')\n",
        "df_clean['50 Kbps < UL TP < 300 Kbps (%)'] = fix_missing_ffill(df_clean, '50 Kbps < UL TP < 300 Kbps (%)')\n",
        "df_clean['Nb of sec with Vol UL < 1250B'] = fix_missing_ffill(df_clean, 'Nb of sec with Vol UL < 1250B')\n",
        "df_clean['Bearer Id'] = fix_missing_ffill(df_clean, 'Bearer Id')\n",
        "df_clean['Last Location Name'] = fix_missing_ffill(df_clean, 'Last Location Name')\n",
        "\n",
        "# fill 'Handset Type, Handset Manufacturer, IMEI & MSISDN/Number' column with mode \n",
        "df_clean['Handset Manufacturer'] = df_clean['Handset Manufacturer'].fillna(df_clean['Handset Manufacturer'].mode()[0])\n",
        "df_clean['Handset Type'] = df_clean['Handset Type'].fillna(df_clean['Handset Type'].mode()[0])\n",
        "df_clean['IMEI'] = df_clean['IMEI'].fillna(df_clean['IMEI'].mode()[0])\n",
        "df_clean['MSISDN/Number'] = df_clean['MSISDN/Number'].fillna(df_clean['MSISDN/Number'].mode()[0])"
      ],
      "execution_count": 21,
      "outputs": []
    },
    {
      "cell_type": "code",
      "metadata": {
        "id": "tDqmSBrvxOlE",
        "colab": {
          "base_uri": "https://localhost:8080/"
        },
        "outputId": "7d66f5d3-5ecf-4f7b-dcad-476f41eea855"
      },
      "source": [
        "percent_missing(df_clean)\n",
        "every_column_percent_missing(df_clean)"
      ],
      "execution_count": 22,
      "outputs": [
        {
          "output_type": "stream",
          "text": [
            "The Week1 challenge data source(CSV).csv dataset contains 0.82 % missing values.\n",
            "                                                   column_name  percent_missing\n",
            "Bearer Id                                            Bearer Id         0.000000\n",
            "Dur. (ms).1                                        Dur. (ms).1         0.000000\n",
            "Handset Manufacturer                      Handset Manufacturer         0.000000\n",
            "Handset Type                                      Handset Type         0.000000\n",
            "Nb of sec with Vol DL < 6250B    Nb of sec with Vol DL < 6250B         0.000000\n",
            "Nb of sec with Vol UL < 1250B    Nb of sec with Vol UL < 1250B         0.000000\n",
            "Social Media DL (Bytes)                Social Media DL (Bytes)         0.000000\n",
            "Social Media UL (Bytes)                Social Media UL (Bytes)         0.000000\n",
            "Google DL (Bytes)                            Google DL (Bytes)         0.000000\n",
            "Google UL (Bytes)                            Google UL (Bytes)         0.000000\n",
            "Email DL (Bytes)                              Email DL (Bytes)         0.000000\n",
            "Email UL (Bytes)                              Email UL (Bytes)         0.000000\n",
            "Youtube DL (Bytes)                          Youtube DL (Bytes)         0.000000\n",
            "Youtube UL (Bytes)                          Youtube UL (Bytes)         0.000000\n",
            "Netflix DL (Bytes)                          Netflix DL (Bytes)         0.000000\n",
            "Netflix UL (Bytes)                          Netflix UL (Bytes)         0.000000\n",
            "Gaming DL (Bytes)                            Gaming DL (Bytes)         0.000000\n",
            "Gaming UL (Bytes)                            Gaming UL (Bytes)         0.000000\n",
            "Other DL (Bytes)                              Other DL (Bytes)         0.000000\n",
            "Other UL (Bytes)                              Other UL (Bytes)         0.000000\n",
            "Activity Duration UL (ms)            Activity Duration UL (ms)         0.000000\n",
            "Total UL (Bytes)                              Total UL (Bytes)         0.000000\n",
            "Activity Duration DL (ms)            Activity Duration DL (ms)         0.000000\n",
            "50 Kbps < UL TP < 300 Kbps (%)  50 Kbps < UL TP < 300 Kbps (%)         0.000000\n",
            "Start                                                    Start         0.000000\n",
            "Start ms                                              Start ms         0.000000\n",
            "End                                                        End         0.000000\n",
            "End ms                                                  End ms         0.000000\n",
            "Dur. (ms)                                            Dur. (ms)         0.000000\n",
            "IMSI                                                      IMSI         0.000000\n",
            "MSISDN/Number                                    MSISDN/Number         0.000000\n",
            "IMEI                                                      IMEI         0.000000\n",
            "Last Location Name                          Last Location Name         0.000000\n",
            "Total DL (Bytes)                              Total DL (Bytes)         0.000000\n",
            "Avg Bearer TP DL (kbps)                Avg Bearer TP DL (kbps)         0.000000\n",
            "Avg Bearer TP UL (kbps)                Avg Bearer TP UL (kbps)         0.000000\n",
            "DL TP < 50 Kbps (%)                        DL TP < 50 Kbps (%)         0.000000\n",
            "50 Kbps < DL TP < 250 Kbps (%)  50 Kbps < DL TP < 250 Kbps (%)         0.000000\n",
            "250 Kbps < DL TP < 1 Mbps (%)    250 Kbps < DL TP < 1 Mbps (%)         0.000000\n",
            "DL TP > 1 Mbps (%)                          DL TP > 1 Mbps (%)         0.000000\n",
            "UL TP < 10 Kbps (%)                        UL TP < 10 Kbps (%)         0.000000\n",
            "10 Kbps < UL TP < 50 Kbps (%)    10 Kbps < UL TP < 50 Kbps (%)         0.000000\n",
            "UL TP > 300 Kbps (%)                      UL TP > 300 Kbps (%)         0.000000\n",
            "Avg RTT UL (ms)                                Avg RTT UL (ms)        18.541210\n",
            "Avg RTT DL (ms)                                Avg RTT DL (ms)        18.552543\n"
          ],
          "name": "stdout"
        }
      ]
    },
    {
      "cell_type": "code",
      "metadata": {
        "colab": {
          "base_uri": "https://localhost:8080/"
        },
        "id": "egaxjZEMcZlp",
        "outputId": "ab961cd6-c846-4afd-f4f5-626b13beeb25"
      },
      "source": [
        "df_clean.info()\n"
      ],
      "execution_count": 23,
      "outputs": [
        {
          "output_type": "stream",
          "text": [
            "<class 'pandas.core.frame.DataFrame'>\n",
            "RangeIndex: 150001 entries, 0 to 150000\n",
            "Data columns (total 45 columns):\n",
            " #   Column                          Non-Null Count   Dtype  \n",
            "---  ------                          --------------   -----  \n",
            " 0   Bearer Id                       150001 non-null  float64\n",
            " 1   Start                           150001 non-null  object \n",
            " 2   Start ms                        150001 non-null  float64\n",
            " 3   End                             150001 non-null  object \n",
            " 4   End ms                          150001 non-null  float64\n",
            " 5   Dur. (ms)                       150001 non-null  float64\n",
            " 6   IMSI                            150001 non-null  float64\n",
            " 7   MSISDN/Number                   150001 non-null  float64\n",
            " 8   IMEI                            150001 non-null  float64\n",
            " 9   Last Location Name              150001 non-null  object \n",
            " 10  Avg RTT DL (ms)                 122172 non-null  float64\n",
            " 11  Avg RTT UL (ms)                 122189 non-null  float64\n",
            " 12  Avg Bearer TP DL (kbps)         150001 non-null  float64\n",
            " 13  Avg Bearer TP UL (kbps)         150001 non-null  float64\n",
            " 14  DL TP < 50 Kbps (%)             150001 non-null  float64\n",
            " 15  50 Kbps < DL TP < 250 Kbps (%)  150001 non-null  float64\n",
            " 16  250 Kbps < DL TP < 1 Mbps (%)   150001 non-null  float64\n",
            " 17  DL TP > 1 Mbps (%)              150001 non-null  float64\n",
            " 18  UL TP < 10 Kbps (%)             150001 non-null  float64\n",
            " 19  10 Kbps < UL TP < 50 Kbps (%)   150001 non-null  float64\n",
            " 20  50 Kbps < UL TP < 300 Kbps (%)  150001 non-null  float64\n",
            " 21  UL TP > 300 Kbps (%)            150001 non-null  float64\n",
            " 22  Activity Duration DL (ms)       150001 non-null  float64\n",
            " 23  Activity Duration UL (ms)       150001 non-null  float64\n",
            " 24  Dur. (ms).1                     150001 non-null  float64\n",
            " 25  Handset Manufacturer            150001 non-null  object \n",
            " 26  Handset Type                    150001 non-null  object \n",
            " 27  Nb of sec with Vol DL < 6250B   150001 non-null  float64\n",
            " 28  Nb of sec with Vol UL < 1250B   150001 non-null  float64\n",
            " 29  Social Media DL (Bytes)         150001 non-null  float64\n",
            " 30  Social Media UL (Bytes)         150001 non-null  float64\n",
            " 31  Google DL (Bytes)               150001 non-null  float64\n",
            " 32  Google UL (Bytes)               150001 non-null  float64\n",
            " 33  Email DL (Bytes)                150001 non-null  float64\n",
            " 34  Email UL (Bytes)                150001 non-null  float64\n",
            " 35  Youtube DL (Bytes)              150001 non-null  float64\n",
            " 36  Youtube UL (Bytes)              150001 non-null  float64\n",
            " 37  Netflix DL (Bytes)              150001 non-null  float64\n",
            " 38  Netflix UL (Bytes)              150001 non-null  float64\n",
            " 39  Gaming DL (Bytes)               150001 non-null  float64\n",
            " 40  Gaming UL (Bytes)               150001 non-null  float64\n",
            " 41  Other DL (Bytes)                150001 non-null  float64\n",
            " 42  Other UL (Bytes)                150001 non-null  float64\n",
            " 43  Total UL (Bytes)                150001 non-null  float64\n",
            " 44  Total DL (Bytes)                150001 non-null  float64\n",
            "dtypes: float64(40), object(5)\n",
            "memory usage: 51.5+ MB\n"
          ],
          "name": "stdout"
        }
      ]
    },
    {
      "cell_type": "code",
      "metadata": {
        "id": "OhpjwSRHcsvP"
      },
      "source": [
        "#top 10 customers per engagement metric \n"
      ],
      "execution_count": null,
      "outputs": []
    },
    {
      "cell_type": "code",
      "metadata": {
        "colab": {
          "base_uri": "https://localhost:8080/",
          "height": 359
        },
        "id": "4dDlP8bYctqF",
        "outputId": "3dd6bc14-3f80-49c1-f4c0-aa80a67a6531"
      },
      "source": [
        "# The top 10 handsets used by the customers\n",
        "\n",
        "top10_handsets_customers = df_clean[['Handset Type','IMSI']].groupby(['Handset Type'])\n",
        "#top10 = data.sort_values(['Handset Type','IMSI'], ascending=False).groupby('Handset Type')\n",
        "top10_handsets_customers = top10_handsets_customers['IMSI'].nunique()\n",
        "top10_handsets_customers = top10_handsets_customers.reset_index(name='Total')\n",
        "top10_handsets_customers = top10_handsets_customers.sort_values(['Total'], ascending=False)\n",
        "top10_handsets_customers.head(10)"
      ],
      "execution_count": 25,
      "outputs": [
        {
          "output_type": "execute_result",
          "data": {
            "text/html": [
              "<div>\n",
              "<style scoped>\n",
              "    .dataframe tbody tr th:only-of-type {\n",
              "        vertical-align: middle;\n",
              "    }\n",
              "\n",
              "    .dataframe tbody tr th {\n",
              "        vertical-align: top;\n",
              "    }\n",
              "\n",
              "    .dataframe thead th {\n",
              "        text-align: right;\n",
              "    }\n",
              "</style>\n",
              "<table border=\"1\" class=\"dataframe\">\n",
              "  <thead>\n",
              "    <tr style=\"text-align: right;\">\n",
              "      <th></th>\n",
              "      <th>Handset Type</th>\n",
              "      <th>Total</th>\n",
              "    </tr>\n",
              "  </thead>\n",
              "  <tbody>\n",
              "    <tr>\n",
              "      <th>316</th>\n",
              "      <td>Huawei B528S-23A</td>\n",
              "      <td>11170</td>\n",
              "    </tr>\n",
              "    <tr>\n",
              "      <th>53</th>\n",
              "      <td>Apple iPhone 6S (A1688)</td>\n",
              "      <td>6765</td>\n",
              "    </tr>\n",
              "    <tr>\n",
              "      <th>1395</th>\n",
              "      <td>undefined</td>\n",
              "      <td>6716</td>\n",
              "    </tr>\n",
              "    <tr>\n",
              "      <th>49</th>\n",
              "      <td>Apple iPhone 6 (A1586)</td>\n",
              "      <td>6271</td>\n",
              "    </tr>\n",
              "    <tr>\n",
              "      <th>59</th>\n",
              "      <td>Apple iPhone 7 (A1778)</td>\n",
              "      <td>4721</td>\n",
              "    </tr>\n",
              "    <tr>\n",
              "      <th>73</th>\n",
              "      <td>Apple iPhone Se (A1723)</td>\n",
              "      <td>3764</td>\n",
              "    </tr>\n",
              "    <tr>\n",
              "      <th>66</th>\n",
              "      <td>Apple iPhone 8 (A1905)</td>\n",
              "      <td>3550</td>\n",
              "    </tr>\n",
              "    <tr>\n",
              "      <th>955</th>\n",
              "      <td>Samsung Galaxy S8 (Sm-G950F)</td>\n",
              "      <td>3275</td>\n",
              "    </tr>\n",
              "    <tr>\n",
              "      <th>78</th>\n",
              "      <td>Apple iPhone Xr (A2105)</td>\n",
              "      <td>3077</td>\n",
              "    </tr>\n",
              "    <tr>\n",
              "      <th>888</th>\n",
              "      <td>Samsung Galaxy J5 (Sm-J530)</td>\n",
              "      <td>2760</td>\n",
              "    </tr>\n",
              "  </tbody>\n",
              "</table>\n",
              "</div>"
            ],
            "text/plain": [
              "                      Handset Type  Total\n",
              "316               Huawei B528S-23A  11170\n",
              "53         Apple iPhone 6S (A1688)   6765\n",
              "1395                     undefined   6716\n",
              "49          Apple iPhone 6 (A1586)   6271\n",
              "59          Apple iPhone 7 (A1778)   4721\n",
              "73         Apple iPhone Se (A1723)   3764\n",
              "66          Apple iPhone 8 (A1905)   3550\n",
              "955   Samsung Galaxy S8 (Sm-G950F)   3275\n",
              "78         Apple iPhone Xr (A2105)   3077\n",
              "888    Samsung Galaxy J5 (Sm-J530)   2760"
            ]
          },
          "metadata": {
            "tags": []
          },
          "execution_count": 25
        }
      ]
    },
    {
      "cell_type": "code",
      "metadata": {
        "colab": {
          "base_uri": "https://localhost:8080/",
          "height": 142
        },
        "id": "10VS_03GcojR",
        "outputId": "a2516a77-be20-4185-c2d1-5658677bd4a8"
      },
      "source": [
        "# top 3 handset manufacturers\n",
        "top3_handset_manufacturers = df_clean[['Handset Manufacturer','IMSI']].groupby(['Handset Manufacturer'])\n",
        "top3_handset_manufacturers = top3_handset_manufacturers['IMSI'].nunique().nlargest(3).reset_index()\n",
        "top3_handset_manufacturers"
      ],
      "execution_count": 26,
      "outputs": [
        {
          "output_type": "execute_result",
          "data": {
            "text/html": [
              "<div>\n",
              "<style scoped>\n",
              "    .dataframe tbody tr th:only-of-type {\n",
              "        vertical-align: middle;\n",
              "    }\n",
              "\n",
              "    .dataframe tbody tr th {\n",
              "        vertical-align: top;\n",
              "    }\n",
              "\n",
              "    .dataframe thead th {\n",
              "        text-align: right;\n",
              "    }\n",
              "</style>\n",
              "<table border=\"1\" class=\"dataframe\">\n",
              "  <thead>\n",
              "    <tr style=\"text-align: right;\">\n",
              "      <th></th>\n",
              "      <th>Handset Manufacturer</th>\n",
              "      <th>IMSI</th>\n",
              "    </tr>\n",
              "  </thead>\n",
              "  <tbody>\n",
              "    <tr>\n",
              "      <th>0</th>\n",
              "      <td>Apple</td>\n",
              "      <td>42993</td>\n",
              "    </tr>\n",
              "    <tr>\n",
              "      <th>1</th>\n",
              "      <td>Samsung</td>\n",
              "      <td>30980</td>\n",
              "    </tr>\n",
              "    <tr>\n",
              "      <th>2</th>\n",
              "      <td>Huawei</td>\n",
              "      <td>21742</td>\n",
              "    </tr>\n",
              "  </tbody>\n",
              "</table>\n",
              "</div>"
            ],
            "text/plain": [
              "  Handset Manufacturer   IMSI\n",
              "0                Apple  42993\n",
              "1              Samsung  30980\n",
              "2               Huawei  21742"
            ]
          },
          "metadata": {
            "tags": []
          },
          "execution_count": 26
        }
      ]
    },
    {
      "cell_type": "code",
      "metadata": {
        "colab": {
          "base_uri": "https://localhost:8080/",
          "height": 204
        },
        "id": "usIePktadCwL",
        "outputId": "bafad01c-e0b3-4b9b-c376-62bb109c9d5b"
      },
      "source": [
        "# top 5 handset manfacturer for Apple\n",
        "Apple_handsets = df_clean[df_clean['Handset Manufacturer']=='Apple']\n",
        "Apple_handsets = Apple_handsets.groupby(['Handset Type'])['IMSI']\n",
        "Apple_handsets = Apple_handsets.nunique().nlargest(5).reset_index()\n",
        "Apple_handsets"
      ],
      "execution_count": 27,
      "outputs": [
        {
          "output_type": "execute_result",
          "data": {
            "text/html": [
              "<div>\n",
              "<style scoped>\n",
              "    .dataframe tbody tr th:only-of-type {\n",
              "        vertical-align: middle;\n",
              "    }\n",
              "\n",
              "    .dataframe tbody tr th {\n",
              "        vertical-align: top;\n",
              "    }\n",
              "\n",
              "    .dataframe thead th {\n",
              "        text-align: right;\n",
              "    }\n",
              "</style>\n",
              "<table border=\"1\" class=\"dataframe\">\n",
              "  <thead>\n",
              "    <tr style=\"text-align: right;\">\n",
              "      <th></th>\n",
              "      <th>Handset Type</th>\n",
              "      <th>IMSI</th>\n",
              "    </tr>\n",
              "  </thead>\n",
              "  <tbody>\n",
              "    <tr>\n",
              "      <th>0</th>\n",
              "      <td>Apple iPhone 6S (A1688)</td>\n",
              "      <td>6765</td>\n",
              "    </tr>\n",
              "    <tr>\n",
              "      <th>1</th>\n",
              "      <td>Apple iPhone 6 (A1586)</td>\n",
              "      <td>6271</td>\n",
              "    </tr>\n",
              "    <tr>\n",
              "      <th>2</th>\n",
              "      <td>Apple iPhone 7 (A1778)</td>\n",
              "      <td>4721</td>\n",
              "    </tr>\n",
              "    <tr>\n",
              "      <th>3</th>\n",
              "      <td>Apple iPhone Se (A1723)</td>\n",
              "      <td>3764</td>\n",
              "    </tr>\n",
              "    <tr>\n",
              "      <th>4</th>\n",
              "      <td>Apple iPhone 8 (A1905)</td>\n",
              "      <td>3550</td>\n",
              "    </tr>\n",
              "  </tbody>\n",
              "</table>\n",
              "</div>"
            ],
            "text/plain": [
              "              Handset Type  IMSI\n",
              "0  Apple iPhone 6S (A1688)  6765\n",
              "1   Apple iPhone 6 (A1586)  6271\n",
              "2   Apple iPhone 7 (A1778)  4721\n",
              "3  Apple iPhone Se (A1723)  3764\n",
              "4   Apple iPhone 8 (A1905)  3550"
            ]
          },
          "metadata": {
            "tags": []
          },
          "execution_count": 27
        }
      ]
    },
    {
      "cell_type": "code",
      "metadata": {
        "colab": {
          "base_uri": "https://localhost:8080/",
          "height": 204
        },
        "id": "vvtJ_lRDdC8d",
        "outputId": "073f21b7-9bd2-496b-fed6-573df0e5bfbd"
      },
      "source": [
        "#top 5 handset manfacturer for Huawei\n",
        "Huawei_handsets = df_clean[df_clean['Handset Manufacturer']=='Huawei']\n",
        "Huawei_handsets = Huawei_handsets.groupby(['Handset Type'])['IMSI']\n",
        "Huawei_handsets = Huawei_handsets.nunique().nlargest(5).reset_index()\n",
        "Huawei_handsets"
      ],
      "execution_count": 28,
      "outputs": [
        {
          "output_type": "execute_result",
          "data": {
            "text/html": [
              "<div>\n",
              "<style scoped>\n",
              "    .dataframe tbody tr th:only-of-type {\n",
              "        vertical-align: middle;\n",
              "    }\n",
              "\n",
              "    .dataframe tbody tr th {\n",
              "        vertical-align: top;\n",
              "    }\n",
              "\n",
              "    .dataframe thead th {\n",
              "        text-align: right;\n",
              "    }\n",
              "</style>\n",
              "<table border=\"1\" class=\"dataframe\">\n",
              "  <thead>\n",
              "    <tr style=\"text-align: right;\">\n",
              "      <th></th>\n",
              "      <th>Handset Type</th>\n",
              "      <th>IMSI</th>\n",
              "    </tr>\n",
              "  </thead>\n",
              "  <tbody>\n",
              "    <tr>\n",
              "      <th>0</th>\n",
              "      <td>Huawei B528S-23A</td>\n",
              "      <td>10638</td>\n",
              "    </tr>\n",
              "    <tr>\n",
              "      <th>1</th>\n",
              "      <td>Huawei P20 Lite Huawei Nova 3E</td>\n",
              "      <td>1534</td>\n",
              "    </tr>\n",
              "    <tr>\n",
              "      <th>2</th>\n",
              "      <td>Huawei E5180</td>\n",
              "      <td>1185</td>\n",
              "    </tr>\n",
              "    <tr>\n",
              "      <th>3</th>\n",
              "      <td>Huawei P20</td>\n",
              "      <td>1110</td>\n",
              "    </tr>\n",
              "    <tr>\n",
              "      <th>4</th>\n",
              "      <td>Huawei Y6 2018</td>\n",
              "      <td>757</td>\n",
              "    </tr>\n",
              "  </tbody>\n",
              "</table>\n",
              "</div>"
            ],
            "text/plain": [
              "                     Handset Type   IMSI\n",
              "0                Huawei B528S-23A  10638\n",
              "1  Huawei P20 Lite Huawei Nova 3E   1534\n",
              "2                    Huawei E5180   1185\n",
              "3                      Huawei P20   1110\n",
              "4                  Huawei Y6 2018    757"
            ]
          },
          "metadata": {
            "tags": []
          },
          "execution_count": 28
        }
      ]
    },
    {
      "cell_type": "code",
      "metadata": {
        "colab": {
          "base_uri": "https://localhost:8080/",
          "height": 204
        },
        "id": "aWk3BQJxenG6",
        "outputId": "d8af07c3-4a6c-4f88-f7d7-b8382f7eb295"
      },
      "source": [
        "#top 5 handset manfacturer for Samsung\n",
        "Samsung_handset = df_clean[df_clean['Handset Manufacturer']=='Samsung']\n",
        "Samsung_handset = Samsung_handset.groupby(['Handset Type'])['IMSI']\n",
        "Samsung_handset = Samsung_handset.nunique().nlargest(5).reset_index()\n",
        "Samsung_handset"
      ],
      "execution_count": 29,
      "outputs": [
        {
          "output_type": "execute_result",
          "data": {
            "text/html": [
              "<div>\n",
              "<style scoped>\n",
              "    .dataframe tbody tr th:only-of-type {\n",
              "        vertical-align: middle;\n",
              "    }\n",
              "\n",
              "    .dataframe tbody tr th {\n",
              "        vertical-align: top;\n",
              "    }\n",
              "\n",
              "    .dataframe thead th {\n",
              "        text-align: right;\n",
              "    }\n",
              "</style>\n",
              "<table border=\"1\" class=\"dataframe\">\n",
              "  <thead>\n",
              "    <tr style=\"text-align: right;\">\n",
              "      <th></th>\n",
              "      <th>Handset Type</th>\n",
              "      <th>IMSI</th>\n",
              "    </tr>\n",
              "  </thead>\n",
              "  <tbody>\n",
              "    <tr>\n",
              "      <th>0</th>\n",
              "      <td>Samsung Galaxy S8 (Sm-G950F)</td>\n",
              "      <td>3275</td>\n",
              "    </tr>\n",
              "    <tr>\n",
              "      <th>1</th>\n",
              "      <td>Samsung Galaxy J5 (Sm-J530)</td>\n",
              "      <td>2760</td>\n",
              "    </tr>\n",
              "    <tr>\n",
              "      <th>2</th>\n",
              "      <td>Samsung Galaxy A5 Sm-A520F</td>\n",
              "      <td>2721</td>\n",
              "    </tr>\n",
              "    <tr>\n",
              "      <th>3</th>\n",
              "      <td>Samsung Galaxy J3 (Sm-J330)</td>\n",
              "      <td>2606</td>\n",
              "    </tr>\n",
              "    <tr>\n",
              "      <th>4</th>\n",
              "      <td>Samsung Galaxy S7 (Sm-G930X)</td>\n",
              "      <td>2310</td>\n",
              "    </tr>\n",
              "  </tbody>\n",
              "</table>\n",
              "</div>"
            ],
            "text/plain": [
              "                   Handset Type  IMSI\n",
              "0  Samsung Galaxy S8 (Sm-G950F)  3275\n",
              "1   Samsung Galaxy J5 (Sm-J530)  2760\n",
              "2    Samsung Galaxy A5 Sm-A520F  2721\n",
              "3   Samsung Galaxy J3 (Sm-J330)  2606\n",
              "4  Samsung Galaxy S7 (Sm-G930X)  2310"
            ]
          },
          "metadata": {
            "tags": []
          },
          "execution_count": 29
        }
      ]
    },
    {
      "cell_type": "code",
      "metadata": {
        "colab": {
          "base_uri": "https://localhost:8080/",
          "height": 450
        },
        "id": "SzFeFCDVznWW",
        "outputId": "f9d1b31b-f3e5-451f-8c9f-79602833e307"
      },
      "source": [
        "data_usage = df_clean[[\"IMSI\",\"Avg RTT DL (ms)\", \"Avg RTT UL (ms)\"]]\n",
        "data_usage.groupby([\"IMSI\"]).agg('sum')"
      ],
      "execution_count": 32,
      "outputs": [
        {
          "output_type": "execute_result",
          "data": {
            "text/html": [
              "<div>\n",
              "<style scoped>\n",
              "    .dataframe tbody tr th:only-of-type {\n",
              "        vertical-align: middle;\n",
              "    }\n",
              "\n",
              "    .dataframe tbody tr th {\n",
              "        vertical-align: top;\n",
              "    }\n",
              "\n",
              "    .dataframe thead th {\n",
              "        text-align: right;\n",
              "    }\n",
              "</style>\n",
              "<table border=\"1\" class=\"dataframe\">\n",
              "  <thead>\n",
              "    <tr style=\"text-align: right;\">\n",
              "      <th></th>\n",
              "      <th>Avg RTT DL (ms)</th>\n",
              "      <th>Avg RTT UL (ms)</th>\n",
              "    </tr>\n",
              "    <tr>\n",
              "      <th>IMSI</th>\n",
              "      <th></th>\n",
              "      <th></th>\n",
              "    </tr>\n",
              "  </thead>\n",
              "  <tbody>\n",
              "    <tr>\n",
              "      <th>2.040471e+14</th>\n",
              "      <td>0.0</td>\n",
              "      <td>0.0</td>\n",
              "    </tr>\n",
              "    <tr>\n",
              "      <th>2.040808e+14</th>\n",
              "      <td>0.0</td>\n",
              "      <td>0.0</td>\n",
              "    </tr>\n",
              "    <tr>\n",
              "      <th>2.082001e+14</th>\n",
              "      <td>287.0</td>\n",
              "      <td>16.0</td>\n",
              "    </tr>\n",
              "    <tr>\n",
              "      <th>2.082001e+14</th>\n",
              "      <td>82.0</td>\n",
              "      <td>2.0</td>\n",
              "    </tr>\n",
              "    <tr>\n",
              "      <th>2.082001e+14</th>\n",
              "      <td>174.0</td>\n",
              "      <td>10.0</td>\n",
              "    </tr>\n",
              "    <tr>\n",
              "      <th>...</th>\n",
              "      <td>...</td>\n",
              "      <td>...</td>\n",
              "    </tr>\n",
              "    <tr>\n",
              "      <th>2.082099e+14</th>\n",
              "      <td>0.0</td>\n",
              "      <td>0.0</td>\n",
              "    </tr>\n",
              "    <tr>\n",
              "      <th>2.082099e+14</th>\n",
              "      <td>0.0</td>\n",
              "      <td>0.0</td>\n",
              "    </tr>\n",
              "    <tr>\n",
              "      <th>2.082099e+14</th>\n",
              "      <td>40.0</td>\n",
              "      <td>7.0</td>\n",
              "    </tr>\n",
              "    <tr>\n",
              "      <th>2.082522e+14</th>\n",
              "      <td>0.0</td>\n",
              "      <td>0.0</td>\n",
              "    </tr>\n",
              "    <tr>\n",
              "      <th>2.140743e+14</th>\n",
              "      <td>57.0</td>\n",
              "      <td>1.0</td>\n",
              "    </tr>\n",
              "  </tbody>\n",
              "</table>\n",
              "<p>107265 rows × 2 columns</p>\n",
              "</div>"
            ],
            "text/plain": [
              "              Avg RTT DL (ms)  Avg RTT UL (ms)\n",
              "IMSI                                          \n",
              "2.040471e+14              0.0              0.0\n",
              "2.040808e+14              0.0              0.0\n",
              "2.082001e+14            287.0             16.0\n",
              "2.082001e+14             82.0              2.0\n",
              "2.082001e+14            174.0             10.0\n",
              "...                       ...              ...\n",
              "2.082099e+14              0.0              0.0\n",
              "2.082099e+14              0.0              0.0\n",
              "2.082099e+14             40.0              7.0\n",
              "2.082522e+14              0.0              0.0\n",
              "2.140743e+14             57.0              1.0\n",
              "\n",
              "[107265 rows x 2 columns]"
            ]
          },
          "metadata": {
            "tags": []
          },
          "execution_count": 32
        }
      ]
    },
    {
      "cell_type": "code",
      "metadata": {
        "colab": {
          "base_uri": "https://localhost:8080/",
          "height": 390
        },
        "id": "tS857Nhd05EB",
        "outputId": "5df3cf24-a18f-4f2d-83b0-2fc2a2c77d30"
      },
      "source": [
        "df_clean.groupby('IMSI').agg({'Bearer Id': 'count'}).head(10)"
      ],
      "execution_count": 33,
      "outputs": [
        {
          "output_type": "execute_result",
          "data": {
            "text/html": [
              "<div>\n",
              "<style scoped>\n",
              "    .dataframe tbody tr th:only-of-type {\n",
              "        vertical-align: middle;\n",
              "    }\n",
              "\n",
              "    .dataframe tbody tr th {\n",
              "        vertical-align: top;\n",
              "    }\n",
              "\n",
              "    .dataframe thead th {\n",
              "        text-align: right;\n",
              "    }\n",
              "</style>\n",
              "<table border=\"1\" class=\"dataframe\">\n",
              "  <thead>\n",
              "    <tr style=\"text-align: right;\">\n",
              "      <th></th>\n",
              "      <th>Bearer Id</th>\n",
              "    </tr>\n",
              "    <tr>\n",
              "      <th>IMSI</th>\n",
              "      <th></th>\n",
              "    </tr>\n",
              "  </thead>\n",
              "  <tbody>\n",
              "    <tr>\n",
              "      <th>2.040471e+14</th>\n",
              "      <td>1</td>\n",
              "    </tr>\n",
              "    <tr>\n",
              "      <th>2.040808e+14</th>\n",
              "      <td>1</td>\n",
              "    </tr>\n",
              "    <tr>\n",
              "      <th>2.082001e+14</th>\n",
              "      <td>1</td>\n",
              "    </tr>\n",
              "    <tr>\n",
              "      <th>2.082001e+14</th>\n",
              "      <td>1</td>\n",
              "    </tr>\n",
              "    <tr>\n",
              "      <th>2.082001e+14</th>\n",
              "      <td>2</td>\n",
              "    </tr>\n",
              "    <tr>\n",
              "      <th>2.082001e+14</th>\n",
              "      <td>2</td>\n",
              "    </tr>\n",
              "    <tr>\n",
              "      <th>2.082001e+14</th>\n",
              "      <td>2</td>\n",
              "    </tr>\n",
              "    <tr>\n",
              "      <th>2.082001e+14</th>\n",
              "      <td>2</td>\n",
              "    </tr>\n",
              "    <tr>\n",
              "      <th>2.082001e+14</th>\n",
              "      <td>1</td>\n",
              "    </tr>\n",
              "    <tr>\n",
              "      <th>2.082001e+14</th>\n",
              "      <td>1</td>\n",
              "    </tr>\n",
              "  </tbody>\n",
              "</table>\n",
              "</div>"
            ],
            "text/plain": [
              "              Bearer Id\n",
              "IMSI                   \n",
              "2.040471e+14          1\n",
              "2.040808e+14          1\n",
              "2.082001e+14          1\n",
              "2.082001e+14          1\n",
              "2.082001e+14          2\n",
              "2.082001e+14          2\n",
              "2.082001e+14          2\n",
              "2.082001e+14          2\n",
              "2.082001e+14          1\n",
              "2.082001e+14          1"
            ]
          },
          "metadata": {
            "tags": []
          },
          "execution_count": 33
        }
      ]
    },
    {
      "cell_type": "code",
      "metadata": {
        "colab": {
          "base_uri": "https://localhost:8080/"
        },
        "id": "zh1_e_5W8Mr1",
        "outputId": "386bb728-9df0-4fd9-d6d5-deb81386aa9e"
      },
      "source": [
        "rng = np.random.RandomState(42)\n",
        "ser = pd.Series(rng.rand(5))\n",
        "ser"
      ],
      "execution_count": 40,
      "outputs": [
        {
          "output_type": "execute_result",
          "data": {
            "text/plain": [
              "0    0.374540\n",
              "1    0.950714\n",
              "2    0.731994\n",
              "3    0.598658\n",
              "4    0.156019\n",
              "dtype: float64"
            ]
          },
          "metadata": {
            "tags": []
          },
          "execution_count": 40
        }
      ]
    },
    {
      "cell_type": "code",
      "metadata": {
        "colab": {
          "base_uri": "https://localhost:8080/"
        },
        "id": "QcCermMS706e",
        "outputId": "d9838604-5123-494d-b558-63b0043c44c3"
      },
      "source": [
        "ser.sum()"
      ],
      "execution_count": 41,
      "outputs": [
        {
          "output_type": "execute_result",
          "data": {
            "text/plain": [
              "2.811925491708157"
            ]
          },
          "metadata": {
            "tags": []
          },
          "execution_count": 41
        }
      ]
    },
    {
      "cell_type": "code",
      "metadata": {
        "colab": {
          "base_uri": "https://localhost:8080/",
          "height": 450
        },
        "id": "eaNYylqg2R4W",
        "outputId": "8f94157b-3928-4ffe-f154-693e1711a8df"
      },
      "source": [
        "data_usage = df_clean[[\"IMSI\",\"Avg Bearer TP DL (kbps)\",\"Avg Bearer TP UL (kbps)\" ]]\n",
        "data_usage.groupby([\"IMSI\"]).agg('sum')"
      ],
      "execution_count": 37,
      "outputs": [
        {
          "output_type": "execute_result",
          "data": {
            "text/html": [
              "<div>\n",
              "<style scoped>\n",
              "    .dataframe tbody tr th:only-of-type {\n",
              "        vertical-align: middle;\n",
              "    }\n",
              "\n",
              "    .dataframe tbody tr th {\n",
              "        vertical-align: top;\n",
              "    }\n",
              "\n",
              "    .dataframe thead th {\n",
              "        text-align: right;\n",
              "    }\n",
              "</style>\n",
              "<table border=\"1\" class=\"dataframe\">\n",
              "  <thead>\n",
              "    <tr style=\"text-align: right;\">\n",
              "      <th></th>\n",
              "      <th>Avg Bearer TP DL (kbps)</th>\n",
              "      <th>Avg Bearer TP UL (kbps)</th>\n",
              "    </tr>\n",
              "    <tr>\n",
              "      <th>IMSI</th>\n",
              "      <th></th>\n",
              "      <th></th>\n",
              "    </tr>\n",
              "  </thead>\n",
              "  <tbody>\n",
              "    <tr>\n",
              "      <th>2.040471e+14</th>\n",
              "      <td>2.0</td>\n",
              "      <td>0.0</td>\n",
              "    </tr>\n",
              "    <tr>\n",
              "      <th>2.040808e+14</th>\n",
              "      <td>1.0</td>\n",
              "      <td>0.0</td>\n",
              "    </tr>\n",
              "    <tr>\n",
              "      <th>2.082001e+14</th>\n",
              "      <td>87.0</td>\n",
              "      <td>22.0</td>\n",
              "    </tr>\n",
              "    <tr>\n",
              "      <th>2.082001e+14</th>\n",
              "      <td>627.0</td>\n",
              "      <td>127.0</td>\n",
              "    </tr>\n",
              "    <tr>\n",
              "      <th>2.082001e+14</th>\n",
              "      <td>76.0</td>\n",
              "      <td>85.0</td>\n",
              "    </tr>\n",
              "    <tr>\n",
              "      <th>...</th>\n",
              "      <td>...</td>\n",
              "      <td>...</td>\n",
              "    </tr>\n",
              "    <tr>\n",
              "      <th>2.082099e+14</th>\n",
              "      <td>6.0</td>\n",
              "      <td>9.0</td>\n",
              "    </tr>\n",
              "    <tr>\n",
              "      <th>2.082099e+14</th>\n",
              "      <td>6.0</td>\n",
              "      <td>9.0</td>\n",
              "    </tr>\n",
              "    <tr>\n",
              "      <th>2.082099e+14</th>\n",
              "      <td>643.0</td>\n",
              "      <td>235.0</td>\n",
              "    </tr>\n",
              "    <tr>\n",
              "      <th>2.082522e+14</th>\n",
              "      <td>0.0</td>\n",
              "      <td>2.0</td>\n",
              "    </tr>\n",
              "    <tr>\n",
              "      <th>2.140743e+14</th>\n",
              "      <td>3.0</td>\n",
              "      <td>4.0</td>\n",
              "    </tr>\n",
              "  </tbody>\n",
              "</table>\n",
              "<p>107265 rows × 2 columns</p>\n",
              "</div>"
            ],
            "text/plain": [
              "              Avg Bearer TP DL (kbps)  Avg Bearer TP UL (kbps)\n",
              "IMSI                                                          \n",
              "2.040471e+14                      2.0                      0.0\n",
              "2.040808e+14                      1.0                      0.0\n",
              "2.082001e+14                     87.0                     22.0\n",
              "2.082001e+14                    627.0                    127.0\n",
              "2.082001e+14                     76.0                     85.0\n",
              "...                               ...                      ...\n",
              "2.082099e+14                      6.0                      9.0\n",
              "2.082099e+14                      6.0                      9.0\n",
              "2.082099e+14                    643.0                    235.0\n",
              "2.082522e+14                      0.0                      2.0\n",
              "2.140743e+14                      3.0                      4.0\n",
              "\n",
              "[107265 rows x 2 columns]"
            ]
          },
          "metadata": {
            "tags": []
          },
          "execution_count": 37
        }
      ]
    },
    {
      "cell_type": "code",
      "metadata": {
        "colab": {
          "base_uri": "https://localhost:8080/",
          "height": 390
        },
        "id": "34_XCXsb3Lt8",
        "outputId": "4caa2344-3048-4793-b603-53c44c0e9439"
      },
      "source": [
        "df_clean.groupby('IMSI').agg({'Bearer Id': 'count'}).head(10)"
      ],
      "execution_count": 35,
      "outputs": [
        {
          "output_type": "execute_result",
          "data": {
            "text/html": [
              "<div>\n",
              "<style scoped>\n",
              "    .dataframe tbody tr th:only-of-type {\n",
              "        vertical-align: middle;\n",
              "    }\n",
              "\n",
              "    .dataframe tbody tr th {\n",
              "        vertical-align: top;\n",
              "    }\n",
              "\n",
              "    .dataframe thead th {\n",
              "        text-align: right;\n",
              "    }\n",
              "</style>\n",
              "<table border=\"1\" class=\"dataframe\">\n",
              "  <thead>\n",
              "    <tr style=\"text-align: right;\">\n",
              "      <th></th>\n",
              "      <th>Bearer Id</th>\n",
              "    </tr>\n",
              "    <tr>\n",
              "      <th>IMSI</th>\n",
              "      <th></th>\n",
              "    </tr>\n",
              "  </thead>\n",
              "  <tbody>\n",
              "    <tr>\n",
              "      <th>2.040471e+14</th>\n",
              "      <td>1</td>\n",
              "    </tr>\n",
              "    <tr>\n",
              "      <th>2.040808e+14</th>\n",
              "      <td>1</td>\n",
              "    </tr>\n",
              "    <tr>\n",
              "      <th>2.082001e+14</th>\n",
              "      <td>1</td>\n",
              "    </tr>\n",
              "    <tr>\n",
              "      <th>2.082001e+14</th>\n",
              "      <td>1</td>\n",
              "    </tr>\n",
              "    <tr>\n",
              "      <th>2.082001e+14</th>\n",
              "      <td>2</td>\n",
              "    </tr>\n",
              "    <tr>\n",
              "      <th>2.082001e+14</th>\n",
              "      <td>2</td>\n",
              "    </tr>\n",
              "    <tr>\n",
              "      <th>2.082001e+14</th>\n",
              "      <td>2</td>\n",
              "    </tr>\n",
              "    <tr>\n",
              "      <th>2.082001e+14</th>\n",
              "      <td>2</td>\n",
              "    </tr>\n",
              "    <tr>\n",
              "      <th>2.082001e+14</th>\n",
              "      <td>1</td>\n",
              "    </tr>\n",
              "    <tr>\n",
              "      <th>2.082001e+14</th>\n",
              "      <td>1</td>\n",
              "    </tr>\n",
              "  </tbody>\n",
              "</table>\n",
              "</div>"
            ],
            "text/plain": [
              "              Bearer Id\n",
              "IMSI                   \n",
              "2.040471e+14          1\n",
              "2.040808e+14          1\n",
              "2.082001e+14          1\n",
              "2.082001e+14          1\n",
              "2.082001e+14          2\n",
              "2.082001e+14          2\n",
              "2.082001e+14          2\n",
              "2.082001e+14          2\n",
              "2.082001e+14          1\n",
              "2.082001e+14          1"
            ]
          },
          "metadata": {
            "tags": []
          },
          "execution_count": 35
        }
      ]
    },
    {
      "cell_type": "code",
      "metadata": {
        "colab": {
          "base_uri": "https://localhost:8080/",
          "height": 450
        },
        "id": "OlFjPDZ73da8",
        "outputId": "fce50798-9125-4881-a780-21adcd61a3e7"
      },
      "source": [
        "data_usage = df_clean[[\"IMSI\",\"Handset Type\" ]]\n",
        "data_usage.groupby([\"IMSI\"]).agg('sum')"
      ],
      "execution_count": 38,
      "outputs": [
        {
          "output_type": "execute_result",
          "data": {
            "text/html": [
              "<div>\n",
              "<style scoped>\n",
              "    .dataframe tbody tr th:only-of-type {\n",
              "        vertical-align: middle;\n",
              "    }\n",
              "\n",
              "    .dataframe tbody tr th {\n",
              "        vertical-align: top;\n",
              "    }\n",
              "\n",
              "    .dataframe thead th {\n",
              "        text-align: right;\n",
              "    }\n",
              "</style>\n",
              "<table border=\"1\" class=\"dataframe\">\n",
              "  <thead>\n",
              "    <tr style=\"text-align: right;\">\n",
              "      <th></th>\n",
              "      <th>Handset Type</th>\n",
              "    </tr>\n",
              "    <tr>\n",
              "      <th>IMSI</th>\n",
              "      <th></th>\n",
              "    </tr>\n",
              "  </thead>\n",
              "  <tbody>\n",
              "    <tr>\n",
              "      <th>2.040471e+14</th>\n",
              "      <td>Quectel Wireless. Quectel Ec21-E</td>\n",
              "    </tr>\n",
              "    <tr>\n",
              "      <th>2.040808e+14</th>\n",
              "      <td>Quectel Wireless. Quectel Ec25-E</td>\n",
              "    </tr>\n",
              "    <tr>\n",
              "      <th>2.082001e+14</th>\n",
              "      <td>Dn Electronics Danew Konnect 350</td>\n",
              "    </tr>\n",
              "    <tr>\n",
              "      <th>2.082001e+14</th>\n",
              "      <td>Samsung Galaxy Grand (Gt-I9060X)</td>\n",
              "    </tr>\n",
              "    <tr>\n",
              "      <th>2.082001e+14</th>\n",
              "      <td>Apple iPhone 6S (A1688)Apple iPhone 6S (A1688)</td>\n",
              "    </tr>\n",
              "    <tr>\n",
              "      <th>...</th>\n",
              "      <td>...</td>\n",
              "    </tr>\n",
              "    <tr>\n",
              "      <th>2.082099e+14</th>\n",
              "      <td>Samsung Galaxy J3 (Sm-J330)</td>\n",
              "    </tr>\n",
              "    <tr>\n",
              "      <th>2.082099e+14</th>\n",
              "      <td>Samsung Sm-G390F</td>\n",
              "    </tr>\n",
              "    <tr>\n",
              "      <th>2.082099e+14</th>\n",
              "      <td>Samsung Sm-G390F</td>\n",
              "    </tr>\n",
              "    <tr>\n",
              "      <th>2.082522e+14</th>\n",
              "      <td>Asustek Zenfone Max Pro(M1)</td>\n",
              "    </tr>\n",
              "    <tr>\n",
              "      <th>2.140743e+14</th>\n",
              "      <td>Huawei Me909S-120</td>\n",
              "    </tr>\n",
              "  </tbody>\n",
              "</table>\n",
              "<p>107265 rows × 1 columns</p>\n",
              "</div>"
            ],
            "text/plain": [
              "                                                Handset Type\n",
              "IMSI                                                        \n",
              "2.040471e+14                Quectel Wireless. Quectel Ec21-E\n",
              "2.040808e+14                Quectel Wireless. Quectel Ec25-E\n",
              "2.082001e+14                Dn Electronics Danew Konnect 350\n",
              "2.082001e+14                Samsung Galaxy Grand (Gt-I9060X)\n",
              "2.082001e+14  Apple iPhone 6S (A1688)Apple iPhone 6S (A1688)\n",
              "...                                                      ...\n",
              "2.082099e+14                     Samsung Galaxy J3 (Sm-J330)\n",
              "2.082099e+14                                Samsung Sm-G390F\n",
              "2.082099e+14                                Samsung Sm-G390F\n",
              "2.082522e+14                     Asustek Zenfone Max Pro(M1)\n",
              "2.140743e+14                               Huawei Me909S-120\n",
              "\n",
              "[107265 rows x 1 columns]"
            ]
          },
          "metadata": {
            "tags": []
          },
          "execution_count": 38
        }
      ]
    },
    {
      "cell_type": "code",
      "metadata": {
        "colab": {
          "base_uri": "https://localhost:8080/",
          "height": 481
        },
        "id": "QPphZ_mY9BY_",
        "outputId": "2ce77911-99ff-4a30-f2b3-816b503dda64"
      },
      "source": [
        "df_clean.groupby('IMSI').agg({'Avg RTT DL (ms)': ['min', 'max'],'Avg RTT UL (ms)':['min','max']})"
      ],
      "execution_count": 47,
      "outputs": [
        {
          "output_type": "execute_result",
          "data": {
            "text/html": [
              "<div>\n",
              "<style scoped>\n",
              "    .dataframe tbody tr th:only-of-type {\n",
              "        vertical-align: middle;\n",
              "    }\n",
              "\n",
              "    .dataframe tbody tr th {\n",
              "        vertical-align: top;\n",
              "    }\n",
              "\n",
              "    .dataframe thead tr th {\n",
              "        text-align: left;\n",
              "    }\n",
              "\n",
              "    .dataframe thead tr:last-of-type th {\n",
              "        text-align: right;\n",
              "    }\n",
              "</style>\n",
              "<table border=\"1\" class=\"dataframe\">\n",
              "  <thead>\n",
              "    <tr>\n",
              "      <th></th>\n",
              "      <th colspan=\"2\" halign=\"left\">Avg RTT DL (ms)</th>\n",
              "      <th colspan=\"2\" halign=\"left\">Avg RTT UL (ms)</th>\n",
              "    </tr>\n",
              "    <tr>\n",
              "      <th></th>\n",
              "      <th>min</th>\n",
              "      <th>max</th>\n",
              "      <th>min</th>\n",
              "      <th>max</th>\n",
              "    </tr>\n",
              "    <tr>\n",
              "      <th>IMSI</th>\n",
              "      <th></th>\n",
              "      <th></th>\n",
              "      <th></th>\n",
              "      <th></th>\n",
              "    </tr>\n",
              "  </thead>\n",
              "  <tbody>\n",
              "    <tr>\n",
              "      <th>2.040471e+14</th>\n",
              "      <td>NaN</td>\n",
              "      <td>NaN</td>\n",
              "      <td>NaN</td>\n",
              "      <td>NaN</td>\n",
              "    </tr>\n",
              "    <tr>\n",
              "      <th>2.040808e+14</th>\n",
              "      <td>NaN</td>\n",
              "      <td>NaN</td>\n",
              "      <td>NaN</td>\n",
              "      <td>NaN</td>\n",
              "    </tr>\n",
              "    <tr>\n",
              "      <th>2.082001e+14</th>\n",
              "      <td>287.0</td>\n",
              "      <td>287.0</td>\n",
              "      <td>16.0</td>\n",
              "      <td>16.0</td>\n",
              "    </tr>\n",
              "    <tr>\n",
              "      <th>2.082001e+14</th>\n",
              "      <td>82.0</td>\n",
              "      <td>82.0</td>\n",
              "      <td>2.0</td>\n",
              "      <td>2.0</td>\n",
              "    </tr>\n",
              "    <tr>\n",
              "      <th>2.082001e+14</th>\n",
              "      <td>83.0</td>\n",
              "      <td>91.0</td>\n",
              "      <td>5.0</td>\n",
              "      <td>5.0</td>\n",
              "    </tr>\n",
              "    <tr>\n",
              "      <th>...</th>\n",
              "      <td>...</td>\n",
              "      <td>...</td>\n",
              "      <td>...</td>\n",
              "      <td>...</td>\n",
              "    </tr>\n",
              "    <tr>\n",
              "      <th>2.082099e+14</th>\n",
              "      <td>NaN</td>\n",
              "      <td>NaN</td>\n",
              "      <td>NaN</td>\n",
              "      <td>NaN</td>\n",
              "    </tr>\n",
              "    <tr>\n",
              "      <th>2.082099e+14</th>\n",
              "      <td>NaN</td>\n",
              "      <td>NaN</td>\n",
              "      <td>NaN</td>\n",
              "      <td>NaN</td>\n",
              "    </tr>\n",
              "    <tr>\n",
              "      <th>2.082099e+14</th>\n",
              "      <td>40.0</td>\n",
              "      <td>40.0</td>\n",
              "      <td>7.0</td>\n",
              "      <td>7.0</td>\n",
              "    </tr>\n",
              "    <tr>\n",
              "      <th>2.082522e+14</th>\n",
              "      <td>NaN</td>\n",
              "      <td>NaN</td>\n",
              "      <td>NaN</td>\n",
              "      <td>NaN</td>\n",
              "    </tr>\n",
              "    <tr>\n",
              "      <th>2.140743e+14</th>\n",
              "      <td>57.0</td>\n",
              "      <td>57.0</td>\n",
              "      <td>1.0</td>\n",
              "      <td>1.0</td>\n",
              "    </tr>\n",
              "  </tbody>\n",
              "</table>\n",
              "<p>107265 rows × 4 columns</p>\n",
              "</div>"
            ],
            "text/plain": [
              "             Avg RTT DL (ms)        Avg RTT UL (ms)      \n",
              "                         min    max             min   max\n",
              "IMSI                                                     \n",
              "2.040471e+14             NaN    NaN             NaN   NaN\n",
              "2.040808e+14             NaN    NaN             NaN   NaN\n",
              "2.082001e+14           287.0  287.0            16.0  16.0\n",
              "2.082001e+14            82.0   82.0             2.0   2.0\n",
              "2.082001e+14            83.0   91.0             5.0   5.0\n",
              "...                      ...    ...             ...   ...\n",
              "2.082099e+14             NaN    NaN             NaN   NaN\n",
              "2.082099e+14             NaN    NaN             NaN   NaN\n",
              "2.082099e+14            40.0   40.0             7.0   7.0\n",
              "2.082522e+14             NaN    NaN             NaN   NaN\n",
              "2.140743e+14            57.0   57.0             1.0   1.0\n",
              "\n",
              "[107265 rows x 4 columns]"
            ]
          },
          "metadata": {
            "tags": []
          },
          "execution_count": 47
        }
      ]
    },
    {
      "cell_type": "code",
      "metadata": {
        "id": "twn8X1G7IUud"
      },
      "source": [
        ""
      ],
      "execution_count": null,
      "outputs": []
    },
    {
      "cell_type": "code",
      "metadata": {
        "colab": {
          "base_uri": "https://localhost:8080/",
          "height": 450
        },
        "id": "6lgqszWO9CVL",
        "outputId": "3384285b-8d3e-4691-8deb-677f04b23a37"
      },
      "source": [
        "data_usage = df_clean[[\"Handset Type\",\"Avg Bearer Tp Dl (Kbps),\"Avg Bearer TP UL (kbps)\" ]]\n",
        "data_usage.groupby([\"Handset Type\"]).agg('sum')"
      ],
      "execution_count": 48,
      "outputs": [
        {
          "output_type": "execute_result",
          "data": {
            "text/html": [
              "<div>\n",
              "<style scoped>\n",
              "    .dataframe tbody tr th:only-of-type {\n",
              "        vertical-align: middle;\n",
              "    }\n",
              "\n",
              "    .dataframe tbody tr th {\n",
              "        vertical-align: top;\n",
              "    }\n",
              "\n",
              "    .dataframe thead th {\n",
              "        text-align: right;\n",
              "    }\n",
              "</style>\n",
              "<table border=\"1\" class=\"dataframe\">\n",
              "  <thead>\n",
              "    <tr style=\"text-align: right;\">\n",
              "      <th></th>\n",
              "      <th>Avg Bearer TP DL (kbps)</th>\n",
              "      <th>Avg Bearer TP UL (kbps)</th>\n",
              "    </tr>\n",
              "    <tr>\n",
              "      <th>Handset Type</th>\n",
              "      <th></th>\n",
              "      <th></th>\n",
              "    </tr>\n",
              "  </thead>\n",
              "  <tbody>\n",
              "    <tr>\n",
              "      <th>A-Link Telecom I. Cubot A5</th>\n",
              "      <td>23184.0</td>\n",
              "      <td>326.0</td>\n",
              "    </tr>\n",
              "    <tr>\n",
              "      <th>A-Link Telecom I. Cubot Note Plus</th>\n",
              "      <td>6527.0</td>\n",
              "      <td>172.0</td>\n",
              "    </tr>\n",
              "    <tr>\n",
              "      <th>A-Link Telecom I. Cubot Note S</th>\n",
              "      <td>8515.0</td>\n",
              "      <td>422.0</td>\n",
              "    </tr>\n",
              "    <tr>\n",
              "      <th>A-Link Telecom I. Cubot Nova</th>\n",
              "      <td>55667.0</td>\n",
              "      <td>550.0</td>\n",
              "    </tr>\n",
              "    <tr>\n",
              "      <th>A-Link Telecom I. Cubot Power</th>\n",
              "      <td>69126.0</td>\n",
              "      <td>342.0</td>\n",
              "    </tr>\n",
              "    <tr>\n",
              "      <th>...</th>\n",
              "      <td>...</td>\n",
              "      <td>...</td>\n",
              "    </tr>\n",
              "    <tr>\n",
              "      <th>Zte Zte Blade C2 Smartphone Android By Sfr Startrail 4 Zte Blade Flex T809 Zte T809</th>\n",
              "      <td>89.0</td>\n",
              "      <td>27.0</td>\n",
              "    </tr>\n",
              "    <tr>\n",
              "      <th>Zyxel Communicat. Lte7460</th>\n",
              "      <td>39741.0</td>\n",
              "      <td>22215.0</td>\n",
              "    </tr>\n",
              "    <tr>\n",
              "      <th>Zyxel Communicat. Sbg3600</th>\n",
              "      <td>82818.0</td>\n",
              "      <td>14533.0</td>\n",
              "    </tr>\n",
              "    <tr>\n",
              "      <th>Zyxel Communicat. Zyxel Wah7706</th>\n",
              "      <td>1263.0</td>\n",
              "      <td>910.0</td>\n",
              "    </tr>\n",
              "    <tr>\n",
              "      <th>undefined</th>\n",
              "      <td>82553695.0</td>\n",
              "      <td>7861038.0</td>\n",
              "    </tr>\n",
              "  </tbody>\n",
              "</table>\n",
              "<p>1396 rows × 2 columns</p>\n",
              "</div>"
            ],
            "text/plain": [
              "                                                    Avg Bearer TP DL (kbps)  Avg Bearer TP UL (kbps)\n",
              "Handset Type                                                                                        \n",
              "A-Link Telecom I. Cubot A5                                          23184.0                    326.0\n",
              "A-Link Telecom I. Cubot Note Plus                                    6527.0                    172.0\n",
              "A-Link Telecom I. Cubot Note S                                       8515.0                    422.0\n",
              "A-Link Telecom I. Cubot Nova                                        55667.0                    550.0\n",
              "A-Link Telecom I. Cubot Power                                       69126.0                    342.0\n",
              "...                                                                     ...                      ...\n",
              "Zte Zte Blade C2 Smartphone Android By Sfr Star...                     89.0                     27.0\n",
              "Zyxel Communicat. Lte7460                                           39741.0                  22215.0\n",
              "Zyxel Communicat. Sbg3600                                           82818.0                  14533.0\n",
              "Zyxel Communicat. Zyxel Wah7706                                      1263.0                    910.0\n",
              "undefined                                                        82553695.0                7861038.0\n",
              "\n",
              "[1396 rows x 2 columns]"
            ]
          },
          "metadata": {
            "tags": []
          },
          "execution_count": 48
        }
      ]
    },
    {
      "cell_type": "code",
      "metadata": {
        "colab": {
          "base_uri": "https://localhost:8080/",
          "height": 204
        },
        "id": "sj4delRXQUjP",
        "outputId": "fadb27ed-0966-4faa-d936-392981830455"
      },
      "source": [
        "appdata = df_clean[['Avg RTT DL (ms)','Avg RTT UL (ms)', 'Avg Bearer TP DL (kbps)','Avg Bearer TP UL (kbps)','Handset Type']]\n",
        "appdata.head(5)"
      ],
      "execution_count": 53,
      "outputs": [
        {
          "output_type": "execute_result",
          "data": {
            "text/html": [
              "<div>\n",
              "<style scoped>\n",
              "    .dataframe tbody tr th:only-of-type {\n",
              "        vertical-align: middle;\n",
              "    }\n",
              "\n",
              "    .dataframe tbody tr th {\n",
              "        vertical-align: top;\n",
              "    }\n",
              "\n",
              "    .dataframe thead th {\n",
              "        text-align: right;\n",
              "    }\n",
              "</style>\n",
              "<table border=\"1\" class=\"dataframe\">\n",
              "  <thead>\n",
              "    <tr style=\"text-align: right;\">\n",
              "      <th></th>\n",
              "      <th>Avg RTT DL (ms)</th>\n",
              "      <th>Avg RTT UL (ms)</th>\n",
              "      <th>Avg Bearer TP DL (kbps)</th>\n",
              "      <th>Avg Bearer TP UL (kbps)</th>\n",
              "      <th>Handset Type</th>\n",
              "    </tr>\n",
              "  </thead>\n",
              "  <tbody>\n",
              "    <tr>\n",
              "      <th>0</th>\n",
              "      <td>42.0</td>\n",
              "      <td>5.0</td>\n",
              "      <td>23.0</td>\n",
              "      <td>44.0</td>\n",
              "      <td>Samsung Galaxy A5 Sm-A520F</td>\n",
              "    </tr>\n",
              "    <tr>\n",
              "      <th>1</th>\n",
              "      <td>65.0</td>\n",
              "      <td>5.0</td>\n",
              "      <td>16.0</td>\n",
              "      <td>26.0</td>\n",
              "      <td>Samsung Galaxy J5 (Sm-J530)</td>\n",
              "    </tr>\n",
              "    <tr>\n",
              "      <th>2</th>\n",
              "      <td>NaN</td>\n",
              "      <td>NaN</td>\n",
              "      <td>6.0</td>\n",
              "      <td>9.0</td>\n",
              "      <td>Samsung Galaxy A8 (2018)</td>\n",
              "    </tr>\n",
              "    <tr>\n",
              "      <th>3</th>\n",
              "      <td>NaN</td>\n",
              "      <td>NaN</td>\n",
              "      <td>44.0</td>\n",
              "      <td>44.0</td>\n",
              "      <td>undefined</td>\n",
              "    </tr>\n",
              "    <tr>\n",
              "      <th>4</th>\n",
              "      <td>NaN</td>\n",
              "      <td>NaN</td>\n",
              "      <td>6.0</td>\n",
              "      <td>9.0</td>\n",
              "      <td>Samsung Sm-G390F</td>\n",
              "    </tr>\n",
              "  </tbody>\n",
              "</table>\n",
              "</div>"
            ],
            "text/plain": [
              "   Avg RTT DL (ms)  ...                 Handset Type\n",
              "0             42.0  ...   Samsung Galaxy A5 Sm-A520F\n",
              "1             65.0  ...  Samsung Galaxy J5 (Sm-J530)\n",
              "2              NaN  ...     Samsung Galaxy A8 (2018)\n",
              "3              NaN  ...                    undefined\n",
              "4              NaN  ...             Samsung Sm-G390F\n",
              "\n",
              "[5 rows x 5 columns]"
            ]
          },
          "metadata": {
            "tags": []
          },
          "execution_count": 53
        }
      ]
    },
    {
      "cell_type": "code",
      "metadata": {
        "colab": {
          "base_uri": "https://localhost:8080/",
          "height": 1000
        },
        "id": "CnvcD5-iDJ7U",
        "outputId": "8bb48839-287b-4fd7-c5da-b076d7eef17e"
      },
      "source": [
        "sns.pairplot(appdata.sample(5000), diag_kind = 'kde', \n",
        "             plot_kws = {'alpha': 0.6, 's': 80, 'edgecolor': 'k'},height=4)"
      ],
      "execution_count": 54,
      "outputs": [
        {
          "output_type": "execute_result",
          "data": {
            "text/plain": [
              "<seaborn.axisgrid.PairGrid at 0x7faaad210a50>"
            ]
          },
          "metadata": {
            "tags": []
          },
          "execution_count": 54
        },
        {
          "output_type": "display_data",
          "data": {
            "image/png": "[encoded data removed]",
            "text/plain": [
              "<Figure size 1152x1152 with 20 Axes>"
            ]
          },
          "metadata": {
            "tags": [],
            "needs_background": "light"
          }
        }
      ]
    },
    {
      "cell_type": "code",
      "metadata": {
        "id": "0mII0dwYGOkF"
      },
      "source": [
        ""
      ],
      "execution_count": null,
      "outputs": []
    },
    {
      "cell_type": "code",
      "metadata": {
        "id": "yfOeM2Ep5hs3"
      },
      "source": [
        ""
      ],
      "execution_count": null,
      "outputs": []
    },
    {
      "cell_type": "code",
      "metadata": {
        "id": "dAgn5z-a5hyt"
      },
      "source": [
        ""
      ],
      "execution_count": null,
      "outputs": []
    },
    {
      "cell_type": "markdown",
      "metadata": {
        "id": "8KVNXfVYD6PQ"
      },
      "source": [
        ""
      ]
    }
  ]
}